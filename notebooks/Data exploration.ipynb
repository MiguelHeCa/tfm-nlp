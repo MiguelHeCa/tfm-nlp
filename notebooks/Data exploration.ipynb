{
 "cells": [
  {
   "cell_type": "code",
   "execution_count": 1,
   "id": "42b5e110",
   "metadata": {
    "tags": []
   },
   "outputs": [],
   "source": [
    "import email\n",
    "import re\n",
    "\n",
    "from collections import Counter\n",
    "from dateutil.parser import parse\n",
    "from pathlib import Path"
   ]
  },
  {
   "cell_type": "code",
   "execution_count": 2,
   "id": "0605e30e-3bf0-4c74-9f12-6102999845d4",
   "metadata": {},
   "outputs": [],
   "source": [
    "def parse_emails(path):\n",
    "    with open(path, 'r', encoding='windows-1252') as f:\n",
    "        parsed_email = email.message_from_file(f)\n",
    "    return parsed_email\n",
    "\n",
    "\n",
    "def get_parsed_emails(paths):\n",
    "    emails = []\n",
    "    for i, path in enumerate(paths):\n",
    "        eml = parse_emails(path)\n",
    "        tms = int(parse(eml['Date']).timestamp())\n",
    "        emails.append((i, eml, tms))\n",
    "    return emails\n",
    "\n",
    "#check to see if an email is part of chain by looking for the '-----Original Message-----' tag\n",
    "#addtionally count the number of times the tag appears to get the depth of the chain\n",
    "def is_chain(payload):\n",
    "    chain_count = 0\n",
    "    is_chain = False\n",
    "    check_value = '-----Original Message-----'\n",
    "    if check_value in payload:\n",
    "        chain_count = payload.count(check_value)\n",
    "        is_chain = True\n",
    "    return (chain_count, is_chain)\n",
    "\n",
    "\n",
    "#check to see if an email is forwarded by looking for 'fw' and 'fwd' tags\n",
    "def is_forwarded(email):\n",
    "    is_forwarded = False\n",
    "    check_values = ['fw:', 'fwd:']\n",
    "    for value in check_values:\n",
    "        if value in email.get_payload().lower() or value in email['Subject'].lower():\n",
    "            is_forwarded = True\n",
    "    return is_forwarded\n",
    "\n",
    "\n",
    "#get only the names from the x-headers in the e-mail\n",
    "def parseXHeaders(header):\n",
    "    if header is not None:\n",
    "        return re.sub(r'(<.*?>,|<.*?>)', '|', header)[:-1]\n",
    "    else:\n",
    "        return header \n",
    "\n",
    "\n",
    "def get_emails_list(dir_path):\n",
    "    clean_emails = []\n",
    "    for path in dir_path.rglob('*.'):\n",
    "        if 'all_documents' not in str(path.parent) and 'discussion_threads' not in str(path.parent):\n",
    "            clean_emails.append(path)\n",
    "    return clean_emails\n",
    "\n",
    "\n",
    "def parse_emails(path):\n",
    "    with open(path, 'r', encoding='windows-1252') as f:\n",
    "        parsed_email = email.message_from_file(f)\n",
    "    return parsed_email\n",
    "\n",
    "\n",
    "def load_emails(dir_path):\n",
    "    parsed_emails = []\n",
    "    clean_emails = get_emails_list(dir_path)\n",
    "    for i, path in enumerate(clean_emails):\n",
    "        parsed_emails.append((i,parse_emails(path)))\n",
    "    return parsed_emails\n",
    "\n",
    "\n",
    "def preprocess_message(text):\n",
    "    msg_end_pattern = re.compile('_{4,}.*|\\n{3,}|<[^>]*>|-{4,}(.*)(\\d{2}:\\d{2}:\\d{2})\\s*(PM|AM)', re.MULTILINE)\n",
    "    try:\n",
    "        msg_end_iter = msg_end_pattern.search(text).start()\n",
    "        # print('end of line:', msg_end_iter)\n",
    "        message = text[:msg_end_iter]\n",
    "    except AttributeError: # not a reply\n",
    "        message = text\n",
    "    return message\n",
    "\n",
    "\n",
    "def remove_spaces(string):\n",
    "    if string is not None:        \n",
    "        string = re.sub('\\s+', ' ', string)\n",
    "        string = string.split(', ')\n",
    "    return string\n",
    "\n",
    "\n",
    "#\n",
    "# Function: get_or_allocated_uid\n",
    "# Arguments: name - string of a user email\n",
    "# Returns: unique integer id\n",
    "#\n",
    "def get_or_allocate_uid(name):\n",
    "     if name not in users:\n",
    "         users[name] = len(users)\n",
    "     return users[name]\n",
    "\n",
    "#\n",
    "# Function: get_or_allocate_tid\n",
    "# Arguments: name - string of email subject line\n",
    "# Returns: unique integer id\n",
    "#\n",
    "def get_or_allocate_tid(name):\n",
    "    parsed_name = re.sub(\"(RE|Re|FWD|Fwd): \", \"\", name)\n",
    "    if parsed_name not in threads:\n",
    "        threads[parsed_name] = len(threads)\n",
    "    return threads[parsed_name]"
   ]
  },
  {
   "cell_type": "code",
   "execution_count": 3,
   "id": "4922e05d",
   "metadata": {},
   "outputs": [],
   "source": [
    "email_dir = Path(Path.cwd().parent, Path('data/raw/maildir'))\n",
    "\n",
    "clean_emails = []\n",
    "for path in email_dir.rglob('*.'):\n",
    "    if 'all_documents' not in str(path.parent) and 'discussion_threads' not in str(path.parent):\n",
    "        clean_emails.append(path)\n",
    "\n",
    "emails = get_parsed_emails(clean_emails) "
   ]
  },
  {
   "cell_type": "markdown",
   "id": "7aa7c836-cbd9-4cf2-9579-b4e6aac3b283",
   "metadata": {},
   "source": [
    "## Test sender assumption\n",
    "\n",
    "See if name of directory, v.g. `lay-k`, coincides with the sender of the emails from the `sent_items` or `_sent`, `sent`."
   ]
  },
  {
   "cell_type": "code",
   "execution_count": 10,
   "id": "9c5bdfb4-5228-44f9-a273-7bd009b640b7",
   "metadata": {},
   "outputs": [],
   "source": [
    "members = sorted([m.name for m in email_dir.glob('*')])"
   ]
  },
  {
   "cell_type": "code",
   "execution_count": 14,
   "id": "a873c737-38b4-4173-b55b-5b3aa407c6b4",
   "metadata": {},
   "outputs": [
    {
     "data": {
      "text/plain": [
       "True"
      ]
     },
     "execution_count": 14,
     "metadata": {},
     "output_type": "execute_result"
    }
   ],
   "source": [
    "for path in email_dir.rglob('*.'):\n",
    "    if 'lay-k' not in str(path.parent) and 'discussion_threads' not in str(path.parent):\n",
    "        clean_emails.append(path)"
   ]
  },
  {
   "cell_type": "code",
   "execution_count": 24,
   "id": "43b31d30-272a-4d08-b2c1-988eb983c28e",
   "metadata": {},
   "outputs": [
    {
     "data": {
      "text/plain": [
       "'rogers-b'"
      ]
     },
     "execution_count": 24,
     "metadata": {},
     "output_type": "execute_result"
    }
   ],
   "source": [
    "str(path.parents[1]).split('/')[-1]"
   ]
  },
  {
   "cell_type": "code",
   "execution_count": null,
   "id": "2854dc9c-4963-4988-9290-2e444d91a56f",
   "metadata": {},
   "outputs": [],
   "source": []
  }
 ],
 "metadata": {
  "kernelspec": {
   "display_name": "Python 3 (ipykernel)",
   "language": "python",
   "name": "python3"
  },
  "language_info": {
   "codemirror_mode": {
    "name": "ipython",
    "version": 3
   },
   "file_extension": ".py",
   "mimetype": "text/x-python",
   "name": "python",
   "nbconvert_exporter": "python",
   "pygments_lexer": "ipython3",
   "version": "3.9.12"
  }
 },
 "nbformat": 4,
 "nbformat_minor": 5
}
