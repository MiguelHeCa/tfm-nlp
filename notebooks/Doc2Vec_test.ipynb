{
 "cells": [
  {
   "cell_type": "code",
   "execution_count": 1,
   "id": "fcd3cc91-e24c-40de-b215-335312e6f7cd",
   "metadata": {},
   "outputs": [
    {
     "name": "stderr",
     "output_type": "stream",
     "text": [
      "[nltk_data] Downloading package punkt to /home/miguel/nltk_data...\n",
      "[nltk_data]   Package punkt is already up-to-date!\n"
     ]
    },
    {
     "data": {
      "text/plain": [
       "True"
      ]
     },
     "execution_count": 1,
     "metadata": {},
     "output_type": "execute_result"
    }
   ],
   "source": [
    "import pandas as pd\n",
    "import re\n",
    "import io\n",
    "import numpy as np\n",
    "import math\n",
    "from gensim.models.doc2vec import Doc2Vec, TaggedDocument\n",
    "import nltk\n",
    "from sklearn.neighbors import NearestNeighbors\n",
    "from sklearn.cluster import DBSCAN, KMeans\n",
    "from sklearn.decomposition import TruncatedSVD \n",
    "from sklearn import metrics\n",
    "from sklearn.metrics import pairwise_distances\n",
    "\n",
    "import matplotlib.pyplot as plt\n",
    "import matplotlib\n",
    "\n",
    "nltk.download('punkt')"
   ]
  },
  {
   "cell_type": "code",
   "execution_count": 2,
   "id": "aeb75f8c-c6d9-467b-8e55-b939a8b2ffb5",
   "metadata": {},
   "outputs": [],
   "source": [
    "data = pd.read_csv('../data/raw/Unique2.csv', encoding='ISO-8859-1')"
   ]
  },
  {
   "cell_type": "code",
   "execution_count": 3,
   "id": "3f4e51e2-e0f2-4d07-a161-9e9c157dc6b3",
   "metadata": {},
   "outputs": [
    {
     "data": {
      "text/html": [
       "<div>\n",
       "<style scoped>\n",
       "    .dataframe tbody tr th:only-of-type {\n",
       "        vertical-align: middle;\n",
       "    }\n",
       "\n",
       "    .dataframe tbody tr th {\n",
       "        vertical-align: top;\n",
       "    }\n",
       "\n",
       "    .dataframe thead th {\n",
       "        text-align: right;\n",
       "    }\n",
       "</style>\n",
       "<table border=\"1\" class=\"dataframe\">\n",
       "  <thead>\n",
       "    <tr style=\"text-align: right;\">\n",
       "      <th></th>\n",
       "      <th>Person_Name</th>\n",
       "      <th>Type</th>\n",
       "      <th>Email</th>\n",
       "      <th>Time_Working</th>\n",
       "      <th>Time_Night</th>\n",
       "      <th>Deleted_Email</th>\n",
       "      <th>Number_Sent</th>\n",
       "      <th>Subject</th>\n",
       "      <th>Forward</th>\n",
       "      <th>Reply</th>\n",
       "      <th>...</th>\n",
       "      <th>n_nonasciis</th>\n",
       "      <th>n_puncts</th>\n",
       "      <th>n_capsp</th>\n",
       "      <th>n_charsperword</th>\n",
       "      <th>sent_afinn</th>\n",
       "      <th>sent_bing</th>\n",
       "      <th>sent_syuzhet</th>\n",
       "      <th>sent_vader</th>\n",
       "      <th>n_polite</th>\n",
       "      <th>n_first_person</th>\n",
       "    </tr>\n",
       "  </thead>\n",
       "  <tbody>\n",
       "    <tr>\n",
       "      <th>0</th>\n",
       "      <td>allen-p</td>\n",
       "      <td>1</td>\n",
       "      <td>Message-ID: &lt;23575828.1075855684609.JavaMail.e...</td>\n",
       "      <td>0</td>\n",
       "      <td>0</td>\n",
       "      <td>0</td>\n",
       "      <td>1</td>\n",
       "      <td>Subject: Re: #30\\r</td>\n",
       "      <td>0</td>\n",
       "      <td>1</td>\n",
       "      <td>...</td>\n",
       "      <td>0</td>\n",
       "      <td>0</td>\n",
       "      <td>1.000000</td>\n",
       "      <td>0.500000</td>\n",
       "      <td>0</td>\n",
       "      <td>0</td>\n",
       "      <td>0.00</td>\n",
       "      <td>0.0</td>\n",
       "      <td>0.000000</td>\n",
       "      <td>0</td>\n",
       "    </tr>\n",
       "    <tr>\n",
       "      <th>1</th>\n",
       "      <td>allen-p</td>\n",
       "      <td>1</td>\n",
       "      <td>Message-ID: &lt;32509083.1075855684990.JavaMail.e...</td>\n",
       "      <td>0</td>\n",
       "      <td>0</td>\n",
       "      <td>0</td>\n",
       "      <td>1</td>\n",
       "      <td>Subject: \\r</td>\n",
       "      <td>0</td>\n",
       "      <td>0</td>\n",
       "      <td>...</td>\n",
       "      <td>0</td>\n",
       "      <td>0</td>\n",
       "      <td>0.016393</td>\n",
       "      <td>6.100000</td>\n",
       "      <td>0</td>\n",
       "      <td>0</td>\n",
       "      <td>0.00</td>\n",
       "      <td>0.0</td>\n",
       "      <td>0.000000</td>\n",
       "      <td>0</td>\n",
       "    </tr>\n",
       "    <tr>\n",
       "      <th>2</th>\n",
       "      <td>grigsby-m</td>\n",
       "      <td>1</td>\n",
       "      <td>Message-ID: &lt;1544302.1075855616699.JavaMail.ev...</td>\n",
       "      <td>0</td>\n",
       "      <td>0</td>\n",
       "      <td>0</td>\n",
       "      <td>1</td>\n",
       "      <td>Subject: http://ecthou-webcl1.nt.ect.enron.com...</td>\n",
       "      <td>0</td>\n",
       "      <td>0</td>\n",
       "      <td>...</td>\n",
       "      <td>0</td>\n",
       "      <td>0</td>\n",
       "      <td>0.018868</td>\n",
       "      <td>6.625000</td>\n",
       "      <td>0</td>\n",
       "      <td>0</td>\n",
       "      <td>0.00</td>\n",
       "      <td>0.0</td>\n",
       "      <td>0.000000</td>\n",
       "      <td>0</td>\n",
       "    </tr>\n",
       "    <tr>\n",
       "      <th>3</th>\n",
       "      <td>wolfe-j</td>\n",
       "      <td>0</td>\n",
       "      <td>Message-ID: &lt;1706809.1075852553716.JavaMail.ev...</td>\n",
       "      <td>0</td>\n",
       "      <td>0</td>\n",
       "      <td>0</td>\n",
       "      <td>3</td>\n",
       "      <td>\\tmisty.robinson@enform.com, lindner@enron.com...</td>\n",
       "      <td>0</td>\n",
       "      <td>0</td>\n",
       "      <td>...</td>\n",
       "      <td>0</td>\n",
       "      <td>0</td>\n",
       "      <td>0.040000</td>\n",
       "      <td>8.333333</td>\n",
       "      <td>0</td>\n",
       "      <td>0</td>\n",
       "      <td>0.00</td>\n",
       "      <td>0.0</td>\n",
       "      <td>0.000000</td>\n",
       "      <td>0</td>\n",
       "    </tr>\n",
       "    <tr>\n",
       "      <th>4</th>\n",
       "      <td>dorland-c</td>\n",
       "      <td>2</td>\n",
       "      <td>Message-ID: &lt;9883920.1075840404558.JavaMail.ev...</td>\n",
       "      <td>0</td>\n",
       "      <td>1</td>\n",
       "      <td>1</td>\n",
       "      <td>1</td>\n",
       "      <td>Subject: c4s\\r</td>\n",
       "      <td>0</td>\n",
       "      <td>0</td>\n",
       "      <td>...</td>\n",
       "      <td>0</td>\n",
       "      <td>0</td>\n",
       "      <td>0.025641</td>\n",
       "      <td>4.875000</td>\n",
       "      <td>0</td>\n",
       "      <td>0</td>\n",
       "      <td>0.00</td>\n",
       "      <td>0.0</td>\n",
       "      <td>0.000000</td>\n",
       "      <td>0</td>\n",
       "    </tr>\n",
       "    <tr>\n",
       "      <th>...</th>\n",
       "      <td>...</td>\n",
       "      <td>...</td>\n",
       "      <td>...</td>\n",
       "      <td>...</td>\n",
       "      <td>...</td>\n",
       "      <td>...</td>\n",
       "      <td>...</td>\n",
       "      <td>...</td>\n",
       "      <td>...</td>\n",
       "      <td>...</td>\n",
       "      <td>...</td>\n",
       "      <td>...</td>\n",
       "      <td>...</td>\n",
       "      <td>...</td>\n",
       "      <td>...</td>\n",
       "      <td>...</td>\n",
       "      <td>...</td>\n",
       "      <td>...</td>\n",
       "      <td>...</td>\n",
       "      <td>...</td>\n",
       "      <td>...</td>\n",
       "    </tr>\n",
       "    <tr>\n",
       "      <th>55970</th>\n",
       "      <td>zipper-a</td>\n",
       "      <td>2</td>\n",
       "      <td>Message-ID: &lt;20615901.1075845413238.JavaMail.e...</td>\n",
       "      <td>1</td>\n",
       "      <td>0</td>\n",
       "      <td>1</td>\n",
       "      <td>1</td>\n",
       "      <td>Subject: Mid-Year 2001 Performance Feedback\\r</td>\n",
       "      <td>0</td>\n",
       "      <td>0</td>\n",
       "      <td>...</td>\n",
       "      <td>0</td>\n",
       "      <td>0</td>\n",
       "      <td>0.001880</td>\n",
       "      <td>5.782609</td>\n",
       "      <td>4</td>\n",
       "      <td>4</td>\n",
       "      <td>1.70</td>\n",
       "      <td>6.2</td>\n",
       "      <td>0.138889</td>\n",
       "      <td>0</td>\n",
       "    </tr>\n",
       "    <tr>\n",
       "      <th>55971</th>\n",
       "      <td>zipper-a</td>\n",
       "      <td>2</td>\n",
       "      <td>Message-ID: &lt;12785528.1075845413191.JavaMail.e...</td>\n",
       "      <td>1</td>\n",
       "      <td>0</td>\n",
       "      <td>1</td>\n",
       "      <td>1</td>\n",
       "      <td>Subject: Mid-Year 2001 Performance Feedback\\r</td>\n",
       "      <td>0</td>\n",
       "      <td>0</td>\n",
       "      <td>...</td>\n",
       "      <td>0</td>\n",
       "      <td>0</td>\n",
       "      <td>0.001876</td>\n",
       "      <td>5.670213</td>\n",
       "      <td>4</td>\n",
       "      <td>4</td>\n",
       "      <td>1.70</td>\n",
       "      <td>6.2</td>\n",
       "      <td>0.138889</td>\n",
       "      <td>0</td>\n",
       "    </tr>\n",
       "    <tr>\n",
       "      <th>55972</th>\n",
       "      <td>lucci-p</td>\n",
       "      <td>2</td>\n",
       "      <td>Message-ID: &lt;27793565.1075855033802.JavaMail.e...</td>\n",
       "      <td>1</td>\n",
       "      <td>0</td>\n",
       "      <td>1</td>\n",
       "      <td>1</td>\n",
       "      <td>Subject: RE: Denver Travel Profiles/Arrangers\\r</td>\n",
       "      <td>0</td>\n",
       "      <td>1</td>\n",
       "      <td>...</td>\n",
       "      <td>0</td>\n",
       "      <td>0</td>\n",
       "      <td>0.003322</td>\n",
       "      <td>5.016667</td>\n",
       "      <td>9</td>\n",
       "      <td>3</td>\n",
       "      <td>3.65</td>\n",
       "      <td>6.8</td>\n",
       "      <td>-0.375000</td>\n",
       "      <td>0</td>\n",
       "    </tr>\n",
       "    <tr>\n",
       "      <th>55973</th>\n",
       "      <td>corman-s</td>\n",
       "      <td>0</td>\n",
       "      <td>Message-ID: &lt;11921647.1075861087999.JavaMail.e...</td>\n",
       "      <td>1</td>\n",
       "      <td>0</td>\n",
       "      <td>0</td>\n",
       "      <td>1</td>\n",
       "      <td>Subject: Rebates, Reductions And More On HP PC...</td>\n",
       "      <td>0</td>\n",
       "      <td>0</td>\n",
       "      <td>...</td>\n",
       "      <td>0</td>\n",
       "      <td>0</td>\n",
       "      <td>0.000599</td>\n",
       "      <td>4.952522</td>\n",
       "      <td>22</td>\n",
       "      <td>12</td>\n",
       "      <td>15.20</td>\n",
       "      <td>25.0</td>\n",
       "      <td>-2.182540</td>\n",
       "      <td>0</td>\n",
       "    </tr>\n",
       "    <tr>\n",
       "      <th>55974</th>\n",
       "      <td>scott-s</td>\n",
       "      <td>0</td>\n",
       "      <td>Message-ID: &lt;32259946.1075858933329.JavaMail.e...</td>\n",
       "      <td>0</td>\n",
       "      <td>0</td>\n",
       "      <td>0</td>\n",
       "      <td>1</td>\n",
       "      <td>Subject: A.Word.A.Day--zugzwang\\r</td>\n",
       "      <td>0</td>\n",
       "      <td>0</td>\n",
       "      <td>...</td>\n",
       "      <td>0</td>\n",
       "      <td>0</td>\n",
       "      <td>0.001304</td>\n",
       "      <td>5.478571</td>\n",
       "      <td>5</td>\n",
       "      <td>-1</td>\n",
       "      <td>0.65</td>\n",
       "      <td>5.1</td>\n",
       "      <td>-0.212500</td>\n",
       "      <td>0</td>\n",
       "    </tr>\n",
       "  </tbody>\n",
       "</table>\n",
       "<p>55975 rows × 42 columns</p>\n",
       "</div>"
      ],
      "text/plain": [
       "      Person_Name  Type                                              Email  \\\n",
       "0         allen-p     1  Message-ID: <23575828.1075855684609.JavaMail.e...   \n",
       "1         allen-p     1  Message-ID: <32509083.1075855684990.JavaMail.e...   \n",
       "2       grigsby-m     1  Message-ID: <1544302.1075855616699.JavaMail.ev...   \n",
       "3         wolfe-j     0  Message-ID: <1706809.1075852553716.JavaMail.ev...   \n",
       "4       dorland-c     2  Message-ID: <9883920.1075840404558.JavaMail.ev...   \n",
       "...           ...   ...                                                ...   \n",
       "55970    zipper-a     2  Message-ID: <20615901.1075845413238.JavaMail.e...   \n",
       "55971    zipper-a     2  Message-ID: <12785528.1075845413191.JavaMail.e...   \n",
       "55972     lucci-p     2  Message-ID: <27793565.1075855033802.JavaMail.e...   \n",
       "55973    corman-s     0  Message-ID: <11921647.1075861087999.JavaMail.e...   \n",
       "55974     scott-s     0  Message-ID: <32259946.1075858933329.JavaMail.e...   \n",
       "\n",
       "       Time_Working  Time_Night  Deleted_Email  Number_Sent  \\\n",
       "0                 0           0              0            1   \n",
       "1                 0           0              0            1   \n",
       "2                 0           0              0            1   \n",
       "3                 0           0              0            3   \n",
       "4                 0           1              1            1   \n",
       "...             ...         ...            ...          ...   \n",
       "55970             1           0              1            1   \n",
       "55971             1           0              1            1   \n",
       "55972             1           0              1            1   \n",
       "55973             1           0              0            1   \n",
       "55974             0           0              0            1   \n",
       "\n",
       "                                                 Subject  Forward  Reply  ...  \\\n",
       "0                                     Subject: Re: #30\\r        0      1  ...   \n",
       "1                                            Subject: \\r        0      0  ...   \n",
       "2      Subject: http://ecthou-webcl1.nt.ect.enron.com...        0      0  ...   \n",
       "3      \\tmisty.robinson@enform.com, lindner@enron.com...        0      0  ...   \n",
       "4                                         Subject: c4s\\r        0      0  ...   \n",
       "...                                                  ...      ...    ...  ...   \n",
       "55970      Subject: Mid-Year 2001 Performance Feedback\\r        0      0  ...   \n",
       "55971      Subject: Mid-Year 2001 Performance Feedback\\r        0      0  ...   \n",
       "55972    Subject: RE: Denver Travel Profiles/Arrangers\\r        0      1  ...   \n",
       "55973  Subject: Rebates, Reductions And More On HP PC...        0      0  ...   \n",
       "55974                  Subject: A.Word.A.Day--zugzwang\\r        0      0  ...   \n",
       "\n",
       "      n_nonasciis n_puncts   n_capsp n_charsperword  sent_afinn  sent_bing  \\\n",
       "0               0        0  1.000000       0.500000           0          0   \n",
       "1               0        0  0.016393       6.100000           0          0   \n",
       "2               0        0  0.018868       6.625000           0          0   \n",
       "3               0        0  0.040000       8.333333           0          0   \n",
       "4               0        0  0.025641       4.875000           0          0   \n",
       "...           ...      ...       ...            ...         ...        ...   \n",
       "55970           0        0  0.001880       5.782609           4          4   \n",
       "55971           0        0  0.001876       5.670213           4          4   \n",
       "55972           0        0  0.003322       5.016667           9          3   \n",
       "55973           0        0  0.000599       4.952522          22         12   \n",
       "55974           0        0  0.001304       5.478571           5         -1   \n",
       "\n",
       "       sent_syuzhet  sent_vader  n_polite  n_first_person  \n",
       "0              0.00         0.0  0.000000               0  \n",
       "1              0.00         0.0  0.000000               0  \n",
       "2              0.00         0.0  0.000000               0  \n",
       "3              0.00         0.0  0.000000               0  \n",
       "4              0.00         0.0  0.000000               0  \n",
       "...             ...         ...       ...             ...  \n",
       "55970          1.70         6.2  0.138889               0  \n",
       "55971          1.70         6.2  0.138889               0  \n",
       "55972          3.65         6.8 -0.375000               0  \n",
       "55973         15.20        25.0 -2.182540               0  \n",
       "55974          0.65         5.1 -0.212500               0  \n",
       "\n",
       "[55975 rows x 42 columns]"
      ]
     },
     "execution_count": 3,
     "metadata": {},
     "output_type": "execute_result"
    }
   ],
   "source": [
    "data"
   ]
  },
  {
   "cell_type": "code",
   "execution_count": 4,
   "id": "ffb72338-c971-4404-91fb-d7139ba84169",
   "metadata": {},
   "outputs": [],
   "source": [
    "# Reading dataset and extracting features and emails\n",
    "# data = pd.ExcelFile(\"Unique2.xlsx\")\n",
    "# df = data.parse(\"Sheet 1\")\n",
    "df = data.dropna()\n",
    "number_rows = 40000\n",
    "df = df.iloc[list(range(0, number_rows)), :]"
   ]
  },
  {
   "cell_type": "code",
   "execution_count": 5,
   "id": "732fc6e2-c718-4244-9c4a-e5ec0cd6e865",
   "metadata": {},
   "outputs": [
    {
     "data": {
      "text/html": [
       "<div>\n",
       "<style scoped>\n",
       "    .dataframe tbody tr th:only-of-type {\n",
       "        vertical-align: middle;\n",
       "    }\n",
       "\n",
       "    .dataframe tbody tr th {\n",
       "        vertical-align: top;\n",
       "    }\n",
       "\n",
       "    .dataframe thead th {\n",
       "        text-align: right;\n",
       "    }\n",
       "</style>\n",
       "<table border=\"1\" class=\"dataframe\">\n",
       "  <thead>\n",
       "    <tr style=\"text-align: right;\">\n",
       "      <th></th>\n",
       "      <th>Person_Name</th>\n",
       "      <th>Type</th>\n",
       "      <th>Email</th>\n",
       "      <th>Time_Working</th>\n",
       "      <th>Time_Night</th>\n",
       "      <th>Deleted_Email</th>\n",
       "      <th>Number_Sent</th>\n",
       "      <th>Subject</th>\n",
       "      <th>Forward</th>\n",
       "      <th>Reply</th>\n",
       "      <th>...</th>\n",
       "      <th>n_nonasciis</th>\n",
       "      <th>n_puncts</th>\n",
       "      <th>n_capsp</th>\n",
       "      <th>n_charsperword</th>\n",
       "      <th>sent_afinn</th>\n",
       "      <th>sent_bing</th>\n",
       "      <th>sent_syuzhet</th>\n",
       "      <th>sent_vader</th>\n",
       "      <th>n_polite</th>\n",
       "      <th>n_first_person</th>\n",
       "    </tr>\n",
       "  </thead>\n",
       "  <tbody>\n",
       "    <tr>\n",
       "      <th>2</th>\n",
       "      <td>grigsby-m</td>\n",
       "      <td>1</td>\n",
       "      <td>Message-ID: &lt;1544302.1075855616699.JavaMail.ev...</td>\n",
       "      <td>0</td>\n",
       "      <td>0</td>\n",
       "      <td>0</td>\n",
       "      <td>1</td>\n",
       "      <td>Subject: http://ecthou-webcl1.nt.ect.enron.com...</td>\n",
       "      <td>0</td>\n",
       "      <td>0</td>\n",
       "      <td>...</td>\n",
       "      <td>0</td>\n",
       "      <td>0</td>\n",
       "      <td>0.018868</td>\n",
       "      <td>6.625000</td>\n",
       "      <td>0</td>\n",
       "      <td>0</td>\n",
       "      <td>0.00</td>\n",
       "      <td>0.0</td>\n",
       "      <td>0.000</td>\n",
       "      <td>0</td>\n",
       "    </tr>\n",
       "    <tr>\n",
       "      <th>4</th>\n",
       "      <td>dorland-c</td>\n",
       "      <td>2</td>\n",
       "      <td>Message-ID: &lt;9883920.1075840404558.JavaMail.ev...</td>\n",
       "      <td>0</td>\n",
       "      <td>1</td>\n",
       "      <td>1</td>\n",
       "      <td>1</td>\n",
       "      <td>Subject: c4s\\r</td>\n",
       "      <td>0</td>\n",
       "      <td>0</td>\n",
       "      <td>...</td>\n",
       "      <td>0</td>\n",
       "      <td>0</td>\n",
       "      <td>0.025641</td>\n",
       "      <td>4.875000</td>\n",
       "      <td>0</td>\n",
       "      <td>0</td>\n",
       "      <td>0.00</td>\n",
       "      <td>0.0</td>\n",
       "      <td>0.000</td>\n",
       "      <td>0</td>\n",
       "    </tr>\n",
       "    <tr>\n",
       "      <th>9</th>\n",
       "      <td>crandell-s</td>\n",
       "      <td>0</td>\n",
       "      <td>Message-ID: &lt;4758594.1075840060179.JavaMail.ev...</td>\n",
       "      <td>1</td>\n",
       "      <td>0</td>\n",
       "      <td>0</td>\n",
       "      <td>1</td>\n",
       "      <td>Subject: Holnam (Holcim)\\r</td>\n",
       "      <td>0</td>\n",
       "      <td>0</td>\n",
       "      <td>...</td>\n",
       "      <td>0</td>\n",
       "      <td>0</td>\n",
       "      <td>0.010417</td>\n",
       "      <td>4.571429</td>\n",
       "      <td>5</td>\n",
       "      <td>2</td>\n",
       "      <td>1.50</td>\n",
       "      <td>5.2</td>\n",
       "      <td>0.500</td>\n",
       "      <td>0</td>\n",
       "    </tr>\n",
       "    <tr>\n",
       "      <th>10</th>\n",
       "      <td>schoolcraft-d</td>\n",
       "      <td>2</td>\n",
       "      <td>Message-ID: &lt;10392304.1075852181625.JavaMail.e...</td>\n",
       "      <td>1</td>\n",
       "      <td>0</td>\n",
       "      <td>1</td>\n",
       "      <td>1</td>\n",
       "      <td>Subject: GALLUP STATION\\r</td>\n",
       "      <td>0</td>\n",
       "      <td>0</td>\n",
       "      <td>...</td>\n",
       "      <td>0</td>\n",
       "      <td>0</td>\n",
       "      <td>0.004878</td>\n",
       "      <td>4.456522</td>\n",
       "      <td>4</td>\n",
       "      <td>1</td>\n",
       "      <td>0.55</td>\n",
       "      <td>1.2</td>\n",
       "      <td>-0.700</td>\n",
       "      <td>0</td>\n",
       "    </tr>\n",
       "    <tr>\n",
       "      <th>11</th>\n",
       "      <td>hayslett-r</td>\n",
       "      <td>2</td>\n",
       "      <td>Message-ID: &lt;13461511.1075862272642.JavaMail.e...</td>\n",
       "      <td>1</td>\n",
       "      <td>0</td>\n",
       "      <td>1</td>\n",
       "      <td>3</td>\n",
       "      <td>Subject: RE: CAPEX\\r</td>\n",
       "      <td>0</td>\n",
       "      <td>1</td>\n",
       "      <td>...</td>\n",
       "      <td>0</td>\n",
       "      <td>0</td>\n",
       "      <td>0.028571</td>\n",
       "      <td>4.375000</td>\n",
       "      <td>0</td>\n",
       "      <td>0</td>\n",
       "      <td>0.40</td>\n",
       "      <td>0.0</td>\n",
       "      <td>0.525</td>\n",
       "      <td>0</td>\n",
       "    </tr>\n",
       "    <tr>\n",
       "      <th>...</th>\n",
       "      <td>...</td>\n",
       "      <td>...</td>\n",
       "      <td>...</td>\n",
       "      <td>...</td>\n",
       "      <td>...</td>\n",
       "      <td>...</td>\n",
       "      <td>...</td>\n",
       "      <td>...</td>\n",
       "      <td>...</td>\n",
       "      <td>...</td>\n",
       "      <td>...</td>\n",
       "      <td>...</td>\n",
       "      <td>...</td>\n",
       "      <td>...</td>\n",
       "      <td>...</td>\n",
       "      <td>...</td>\n",
       "      <td>...</td>\n",
       "      <td>...</td>\n",
       "      <td>...</td>\n",
       "      <td>...</td>\n",
       "      <td>...</td>\n",
       "    </tr>\n",
       "    <tr>\n",
       "      <th>48586</th>\n",
       "      <td>richey-c</td>\n",
       "      <td>0</td>\n",
       "      <td>Message-ID: &lt;19890272.1075841468665.JavaMail.e...</td>\n",
       "      <td>0</td>\n",
       "      <td>0</td>\n",
       "      <td>0</td>\n",
       "      <td>1</td>\n",
       "      <td>Subject: FW: Excess Furniture\\r</td>\n",
       "      <td>1</td>\n",
       "      <td>0</td>\n",
       "      <td>...</td>\n",
       "      <td>0</td>\n",
       "      <td>0</td>\n",
       "      <td>0.027027</td>\n",
       "      <td>4.625000</td>\n",
       "      <td>2</td>\n",
       "      <td>1</td>\n",
       "      <td>0.75</td>\n",
       "      <td>2.0</td>\n",
       "      <td>0.000</td>\n",
       "      <td>0</td>\n",
       "    </tr>\n",
       "    <tr>\n",
       "      <th>48587</th>\n",
       "      <td>tholt-j</td>\n",
       "      <td>1</td>\n",
       "      <td>Message-ID: &lt;25625609.1075857497670.JavaMail.e...</td>\n",
       "      <td>0</td>\n",
       "      <td>0</td>\n",
       "      <td>0</td>\n",
       "      <td>1</td>\n",
       "      <td>Subject: Re: San Diego - Deal 341242\\r</td>\n",
       "      <td>0</td>\n",
       "      <td>1</td>\n",
       "      <td>...</td>\n",
       "      <td>0</td>\n",
       "      <td>0</td>\n",
       "      <td>0.029412</td>\n",
       "      <td>4.250000</td>\n",
       "      <td>0</td>\n",
       "      <td>0</td>\n",
       "      <td>0.50</td>\n",
       "      <td>0.6</td>\n",
       "      <td>-0.500</td>\n",
       "      <td>0</td>\n",
       "    </tr>\n",
       "    <tr>\n",
       "      <th>48588</th>\n",
       "      <td>tholt-j</td>\n",
       "      <td>1</td>\n",
       "      <td>Message-ID: &lt;18490912.1075857497691.JavaMail.e...</td>\n",
       "      <td>0</td>\n",
       "      <td>0</td>\n",
       "      <td>0</td>\n",
       "      <td>1</td>\n",
       "      <td>Subject: Re: San Diego - Deal 341242\\r</td>\n",
       "      <td>0</td>\n",
       "      <td>1</td>\n",
       "      <td>...</td>\n",
       "      <td>0</td>\n",
       "      <td>0</td>\n",
       "      <td>0.038462</td>\n",
       "      <td>4.333333</td>\n",
       "      <td>0</td>\n",
       "      <td>0</td>\n",
       "      <td>0.25</td>\n",
       "      <td>0.0</td>\n",
       "      <td>0.000</td>\n",
       "      <td>0</td>\n",
       "    </tr>\n",
       "    <tr>\n",
       "      <th>48590</th>\n",
       "      <td>mims-thurston-p</td>\n",
       "      <td>0</td>\n",
       "      <td>Message-ID: &lt;9845207.1075862119896.JavaMail.ev...</td>\n",
       "      <td>0</td>\n",
       "      <td>0</td>\n",
       "      <td>0</td>\n",
       "      <td>1</td>\n",
       "      <td>Subject: FW: Nicor Hub contracts\\r</td>\n",
       "      <td>1</td>\n",
       "      <td>0</td>\n",
       "      <td>...</td>\n",
       "      <td>0</td>\n",
       "      <td>0</td>\n",
       "      <td>0.001610</td>\n",
       "      <td>5.645455</td>\n",
       "      <td>3</td>\n",
       "      <td>-2</td>\n",
       "      <td>3.65</td>\n",
       "      <td>3.7</td>\n",
       "      <td>-0.700</td>\n",
       "      <td>0</td>\n",
       "    </tr>\n",
       "    <tr>\n",
       "      <th>48591</th>\n",
       "      <td>hodge-j</td>\n",
       "      <td>0</td>\n",
       "      <td>Message-ID: &lt;25340630.1075855226892.JavaMail.e...</td>\n",
       "      <td>0</td>\n",
       "      <td>0</td>\n",
       "      <td>0</td>\n",
       "      <td>2</td>\n",
       "      <td>Subject: Qualitech Steel\\r</td>\n",
       "      <td>0</td>\n",
       "      <td>0</td>\n",
       "      <td>...</td>\n",
       "      <td>0</td>\n",
       "      <td>0</td>\n",
       "      <td>0.027027</td>\n",
       "      <td>5.285714</td>\n",
       "      <td>0</td>\n",
       "      <td>0</td>\n",
       "      <td>0.00</td>\n",
       "      <td>0.0</td>\n",
       "      <td>0.000</td>\n",
       "      <td>0</td>\n",
       "    </tr>\n",
       "  </tbody>\n",
       "</table>\n",
       "<p>40000 rows × 42 columns</p>\n",
       "</div>"
      ],
      "text/plain": [
       "           Person_Name  Type  \\\n",
       "2            grigsby-m     1   \n",
       "4            dorland-c     2   \n",
       "9           crandell-s     0   \n",
       "10       schoolcraft-d     2   \n",
       "11          hayslett-r     2   \n",
       "...                ...   ...   \n",
       "48586         richey-c     0   \n",
       "48587          tholt-j     1   \n",
       "48588          tholt-j     1   \n",
       "48590  mims-thurston-p     0   \n",
       "48591          hodge-j     0   \n",
       "\n",
       "                                                   Email  Time_Working  \\\n",
       "2      Message-ID: <1544302.1075855616699.JavaMail.ev...             0   \n",
       "4      Message-ID: <9883920.1075840404558.JavaMail.ev...             0   \n",
       "9      Message-ID: <4758594.1075840060179.JavaMail.ev...             1   \n",
       "10     Message-ID: <10392304.1075852181625.JavaMail.e...             1   \n",
       "11     Message-ID: <13461511.1075862272642.JavaMail.e...             1   \n",
       "...                                                  ...           ...   \n",
       "48586  Message-ID: <19890272.1075841468665.JavaMail.e...             0   \n",
       "48587  Message-ID: <25625609.1075857497670.JavaMail.e...             0   \n",
       "48588  Message-ID: <18490912.1075857497691.JavaMail.e...             0   \n",
       "48590  Message-ID: <9845207.1075862119896.JavaMail.ev...             0   \n",
       "48591  Message-ID: <25340630.1075855226892.JavaMail.e...             0   \n",
       "\n",
       "       Time_Night  Deleted_Email  Number_Sent  \\\n",
       "2               0              0            1   \n",
       "4               1              1            1   \n",
       "9               0              0            1   \n",
       "10              0              1            1   \n",
       "11              0              1            3   \n",
       "...           ...            ...          ...   \n",
       "48586           0              0            1   \n",
       "48587           0              0            1   \n",
       "48588           0              0            1   \n",
       "48590           0              0            1   \n",
       "48591           0              0            2   \n",
       "\n",
       "                                                 Subject  Forward  Reply  ...  \\\n",
       "2      Subject: http://ecthou-webcl1.nt.ect.enron.com...        0      0  ...   \n",
       "4                                         Subject: c4s\\r        0      0  ...   \n",
       "9                             Subject: Holnam (Holcim)\\r        0      0  ...   \n",
       "10                             Subject: GALLUP STATION\\r        0      0  ...   \n",
       "11                                  Subject: RE: CAPEX\\r        0      1  ...   \n",
       "...                                                  ...      ...    ...  ...   \n",
       "48586                    Subject: FW: Excess Furniture\\r        1      0  ...   \n",
       "48587             Subject: Re: San Diego - Deal 341242\\r        0      1  ...   \n",
       "48588             Subject: Re: San Diego - Deal 341242\\r        0      1  ...   \n",
       "48590                 Subject: FW: Nicor Hub contracts\\r        1      0  ...   \n",
       "48591                         Subject: Qualitech Steel\\r        0      0  ...   \n",
       "\n",
       "      n_nonasciis n_puncts   n_capsp n_charsperword  sent_afinn  sent_bing  \\\n",
       "2               0        0  0.018868       6.625000           0          0   \n",
       "4               0        0  0.025641       4.875000           0          0   \n",
       "9               0        0  0.010417       4.571429           5          2   \n",
       "10              0        0  0.004878       4.456522           4          1   \n",
       "11              0        0  0.028571       4.375000           0          0   \n",
       "...           ...      ...       ...            ...         ...        ...   \n",
       "48586           0        0  0.027027       4.625000           2          1   \n",
       "48587           0        0  0.029412       4.250000           0          0   \n",
       "48588           0        0  0.038462       4.333333           0          0   \n",
       "48590           0        0  0.001610       5.645455           3         -2   \n",
       "48591           0        0  0.027027       5.285714           0          0   \n",
       "\n",
       "       sent_syuzhet  sent_vader  n_polite  n_first_person  \n",
       "2              0.00         0.0     0.000               0  \n",
       "4              0.00         0.0     0.000               0  \n",
       "9              1.50         5.2     0.500               0  \n",
       "10             0.55         1.2    -0.700               0  \n",
       "11             0.40         0.0     0.525               0  \n",
       "...             ...         ...       ...             ...  \n",
       "48586          0.75         2.0     0.000               0  \n",
       "48587          0.50         0.6    -0.500               0  \n",
       "48588          0.25         0.0     0.000               0  \n",
       "48590          3.65         3.7    -0.700               0  \n",
       "48591          0.00         0.0     0.000               0  \n",
       "\n",
       "[40000 rows x 42 columns]"
      ]
     },
     "execution_count": 5,
     "metadata": {},
     "output_type": "execute_result"
    }
   ],
   "source": [
    "df"
   ]
  },
  {
   "cell_type": "code",
   "execution_count": 6,
   "id": "4382b89d-e145-4c33-ab94-1263b8ebcde3",
   "metadata": {},
   "outputs": [],
   "source": [
    "# Converting each document to array\n",
    "\n",
    "documents = df['Cleaned_Email'].tolist()\n",
    "tokenized_documents = []\n",
    "\n",
    "for i in range(len(documents)):\n",
    "  tokenized_documents.append(nltk.word_tokenize(documents[i]))"
   ]
  },
  {
   "cell_type": "code",
   "execution_count": 7,
   "id": "67e1157a-5ab0-4eed-b171-c6b8525e1444",
   "metadata": {},
   "outputs": [
    {
     "data": {
      "text/plain": [
       "['ctathamnavsetupindexhtm', 'pallen', 'westgasx', 'ect', 'research', 'page']"
      ]
     },
     "execution_count": 7,
     "metadata": {},
     "output_type": "execute_result"
    }
   ],
   "source": [
    "tokenized_documents[0]"
   ]
  },
  {
   "cell_type": "code",
   "execution_count": 8,
   "id": "5d475e61-afef-4f17-b10b-dba4f8456a6c",
   "metadata": {},
   "outputs": [
    {
     "name": "stdout",
     "output_type": "stream",
     "text": [
      "iteration 0\n",
      "iteration 1\n",
      "iteration 2\n",
      "iteration 3\n",
      "iteration 4\n",
      "iteration 5\n",
      "iteration 6\n",
      "iteration 7\n",
      "iteration 8\n",
      "iteration 9\n"
     ]
    }
   ],
   "source": [
    "# Training (loading) doc2vec\n",
    "\n",
    "documents = [TaggedDocument(doc, [i]) for i, doc in enumerate(tokenized_documents)]\n",
    "\n",
    "max_epochs = 10\n",
    "vec_size = 20\n",
    "alpha = 0.025\n",
    "\n",
    "model = Doc2Vec(vector_size=vec_size,\n",
    "                alpha=alpha, \n",
    "                min_alpha=0.00025,\n",
    "                min_count=1,\n",
    "                dm =0)\n",
    "  \n",
    "model.build_vocab(documents)\n",
    "\n",
    "for epoch in range(max_epochs):\n",
    "    print('iteration {0}'.format(epoch))\n",
    "    model.train(documents,\n",
    "                total_examples=model.corpus_count,\n",
    "                epochs=model.epochs)\n",
    "    # decrease the learning rate\n",
    "    model.alpha -= 0.0002\n",
    "    # fix the learning rate, no decay\n",
    "    model.min_alpha = model.alpha\n",
    "\n",
    "# model.save(\"dv.model_1\")\n",
    "# print(\"Model Saved\")\n",
    "# model= Doc2Vec.load(\"dv.model_1\")"
   ]
  },
  {
   "cell_type": "code",
   "execution_count": 9,
   "id": "873dd041-3d5e-477f-bafc-a1f6381a899c",
   "metadata": {},
   "outputs": [],
   "source": [
    "# Converting documents to vector representation\n",
    "X=[]\n",
    "for doc in tokenized_documents:\n",
    "    X.append(model.infer_vector(doc))"
   ]
  },
  {
   "cell_type": "code",
   "execution_count": 10,
   "id": "9b2f712d-2b6c-4ebe-8d04-af954804143c",
   "metadata": {},
   "outputs": [
    {
     "data": {
      "text/plain": [
       "[<matplotlib.lines.Line2D at 0x7f38a41198b0>]"
      ]
     },
     "execution_count": 10,
     "metadata": {},
     "output_type": "execute_result"
    },
    {
     "data": {
      "image/png": "[encoded data removed]",
      "text/plain": [
       "<Figure size 432x288 with 1 Axes>"
      ]
     },
     "metadata": {
      "needs_background": "light"
     },
     "output_type": "display_data"
    }
   ],
   "source": [
    "# Approach 1 - DB Scan on entire data\n",
    "# DBScan parameter estimation\n",
    "\n",
    "# Min_samples set to ln(number of points)\n",
    "min_samples_set = int(math.ceil(math.log(number_rows)))\n",
    "nbrs = NearestNeighbors(n_neighbors=min_samples_set).fit(X)\n",
    "distances, indices = nbrs.kneighbors(X)\n",
    "distanceDec = sorted(distances[:,min_samples_set-1], reverse=True)\n",
    "plt.plot(list(range(1,number_rows + 1)), distanceDec)"
   ]
  },
  {
   "cell_type": "code",
   "execution_count": 11,
   "id": "f9fe9be9-b66d-430a-9623-ca98fdac2f0a",
   "metadata": {},
   "outputs": [
    {
     "name": "stdout",
     "output_type": "stream",
     "text": [
      "[-1  0  1  2  3  4  5  6  7  8  9 10 11 12 13]\n"
     ]
    }
   ],
   "source": [
    "# Performing DBScan\n",
    "\n",
    "min_samples_set = int(math.ceil(math.log(number_rows)))\n",
    "db = DBSCAN(eps=1.85, min_samples= min_samples_set).fit(X)\n",
    "labels = db.labels_\n",
    "print(np.unique(labels))\n",
    "svd = TruncatedSVD(n_components = 2)\n",
    "reduced_data = svd.fit_transform(X)"
   ]
  },
  {
   "cell_type": "code",
   "execution_count": 12,
   "id": "5cf33ea6-11b0-48ca-8d42-14493f1a319d",
   "metadata": {},
   "outputs": [],
   "source": [
    "n_clusters_ = len(set(labels)) - (1 if -1 in labels else 0)"
   ]
  },
  {
   "cell_type": "code",
   "execution_count": 13,
   "id": "3d56231e-a6fa-4cad-bc93-fc1b2a78e1bb",
   "metadata": {
    "tags": []
   },
   "outputs": [],
   "source": [
    "def get_cluster_colors(labs):\n",
    "    colors = []\n",
    "    for i in labs:\n",
    "        if i == -1:\n",
    "            colors.append((0, 0, 0, 1))\n",
    "        else:\n",
    "            colors.append(plt.cm.Set1(float(i)/10))\n",
    "    return colors"
   ]
  },
  {
   "cell_type": "code",
   "execution_count": 14,
   "id": "b31c139e-131d-40f3-9676-3bb9377b6e85",
   "metadata": {},
   "outputs": [
    {
     "data": {
      "image/png": "[encoded data removed]",
      "text/plain": [
       "<Figure size 432x288 with 1 Axes>"
      ]
     },
     "metadata": {
      "needs_background": "light"
     },
     "output_type": "display_data"
    }
   ],
   "source": [
    "colors = get_cluster_colors(labels)\n",
    "plt.scatter(reduced_data[:,0], reduced_data[:,1], c=colors, alpha=0.3)\n",
    "plt.title(\"Estimated number of clusters: %d\" % n_clusters_)\n",
    "plt.show()"
   ]
  },
  {
   "cell_type": "code",
   "execution_count": 15,
   "id": "d48569e3-2458-4434-bd10-730e4c2e27c2",
   "metadata": {},
   "outputs": [
    {
     "name": "stdout",
     "output_type": "stream",
     "text": [
      "Clusters: 3 Score: 0.07769087\n",
      "Clusters: 4 Score: 0.06096132\n",
      "Clusters: 5 Score: 0.07516634\n",
      "Clusters: 6 Score: 0.062435254\n"
     ]
    }
   ],
   "source": [
    "for i in range(3,11):\n",
    "  km = KMeans(n_clusters= i)\n",
    "  km.fit(X)\n",
    "  clusters = km.labels_.tolist()\n",
    "  print(\"Clusters: \" + str(i) + \" Score: \" + str(metrics.silhouette_score(X, clusters, metric='euclidean')))\n",
    "\n",
    "# Max for 5 clusters\n",
    "km = KMeans(n_clusters= 5)\n",
    "km.fit(X)\n",
    "clusters = km.labels_.tolist()"
   ]
  },
  {
   "cell_type": "code",
   "execution_count": 16,
   "id": "7e3b9b58-724b-4b7d-93cd-9d5bd2568867",
   "metadata": {},
   "outputs": [
    {
     "data": {
      "image/png": "[encoded data removed]",
      "text/plain": [
       "<Figure size 432x288 with 1 Axes>"
      ]
     },
     "metadata": {
      "needs_background": "light"
     },
     "output_type": "display_data"
    }
   ],
   "source": [
    "# Plotting KMeans\n",
    "n_clusters_ = len(set(clusters)) - (1 if -1 in clusters else 0)\n",
    "plt.scatter(reduced_data[:,0], reduced_data[:,1], c=[plt.cm.Set1(float(i) /10) for i in clusters])\n",
    "plt.title(\"Estimated number of clusters: %d\" % n_clusters_)\n",
    "plt.show()"
   ]
  },
  {
   "cell_type": "code",
   "execution_count": 20,
   "id": "38523cd2-001d-425b-9f77-6254ca1a1a4c",
   "metadata": {},
   "outputs": [
    {
     "data": {
      "text/plain": [
       "40000"
      ]
     },
     "execution_count": 20,
     "metadata": {},
     "output_type": "execute_result"
    }
   ],
   "source": [
    "len(clusters)"
   ]
  },
  {
   "cell_type": "code",
   "execution_count": 21,
   "id": "1cf6376a-3b60-4ab3-8752-1e9367e75caa",
   "metadata": {},
   "outputs": [],
   "source": [
    "# Dividing based on Kmeans Clusters\n",
    "df['KMeans_Labels'] = clusters\n",
    "\n",
    "# Short work emails. Internal work emails.\n",
    "df_0 = df[df.KMeans_Labels == 0]\n",
    "temp_0 = pd.DataFrame(pd.Series(' '.join(df_0['Cleaned_Email']).split()).value_counts()[:200].sort_values())\n",
    "\n",
    "# Fantasy Football\n",
    "df_1 = df[df.KMeans_Labels == 1]\n",
    "temp_1 = pd.DataFrame(pd.Series(' '.join(df_1['Cleaned_Email']).split()).value_counts()[:200].sort_values())\n",
    "\n",
    "# Talking about gas market. Maybe these are the business emails. COntract deal price.\n",
    "df_2 = df[df.KMeans_Labels == 2]\n",
    "temp_2 = pd.DataFrame(pd.Series(' '.join(df_2['Cleaned_Email']).split()).value_counts()[:200].sort_values())\n",
    "\n",
    "# Mostly spam offers services lots of images. This stayed when size was increased also\n",
    "df_3 = df[df.KMeans_Labels == 3]\n",
    "temp_3 = pd.DataFrame(pd.Series(' '.join(df_3['Cleaned_Email']).split()).value_counts()[:200].sort_values())\n",
    "\n",
    "# Personal Emails \n",
    "df_4 = df[df.KMeans_Labels == 4]\n",
    "temp_4 = pd.DataFrame(pd.Series(' '.join(df_4['Cleaned_Email']).split()).value_counts()[:200].sort_values())\n",
    "\n"
   ]
  },
  {
   "cell_type": "code",
   "execution_count": 22,
   "id": "341c86ba-aa15-4aa4-a03e-ca686e5fae75",
   "metadata": {},
   "outputs": [],
   "source": [
    "index_label_0 = df.index[df['KMeans_Labels'] == 0].tolist()"
   ]
  },
  {
   "cell_type": "code",
   "execution_count": 40,
   "id": "8054b93e-95de-41ea-ab72-47e5ae2a5289",
   "metadata": {},
   "outputs": [
    {
     "data": {
      "text/plain": [
       "Int64Index([  232,  2458,  4032,  5826,  5988,  6282,  6459,  6490,  6496,\n",
       "             6497,\n",
       "            ...\n",
       "            47727, 47731, 48426, 48438, 48468, 48477, 48478, 48489, 48525,\n",
       "            48533],\n",
       "           dtype='int64', length=327)"
      ]
     },
     "execution_count": 40,
     "metadata": {},
     "output_type": "execute_result"
    }
   ],
   "source": [
    "df.index[df['KMeans_Labels'] == 0]"
   ]
  },
  {
   "cell_type": "code",
   "execution_count": 41,
   "id": "5a33a809-d1b2-4d08-af16-49586473e827",
   "metadata": {},
   "outputs": [
    {
     "data": {
      "text/plain": [
       "Person_Name                                                dorland-c\n",
       "Type                                                               1\n",
       "Email              Message-ID: <13968243.1075857316575.JavaMail.e...\n",
       "Time_Working                                                       0\n",
       "Time_Night                                                         0\n",
       "Deleted_Email                                                      0\n",
       "Number_Sent                                                        1\n",
       "Subject                                            Subject: Part 2\\r\n",
       "Forward                                                            0\n",
       "Reply                                                              0\n",
       "Subject_Cleaned                                                 part\n",
       "Message            X-FileName: cdorlan.nsf  ---------------------...\n",
       "Images                                                           0.0\n",
       "Cleaned_Email       cdorlannsf forward chris dorlandcalect pm kat...\n",
       "n_urls                                                             0\n",
       "n_uq_urls                                                          0\n",
       "n_hashtags                                                         0\n",
       "n_uq_hashtags                                                      0\n",
       "n_mentions                                                         0\n",
       "n_uq_mentions                                                      0\n",
       "n_chars                                                         1885\n",
       "n_uq_chars                                                        25\n",
       "n_commas                                                           0\n",
       "n_digits                                                           0\n",
       "n_exclaims                                                         0\n",
       "n_extraspaces                                                      0\n",
       "n_lowers                                                        1885\n",
       "n_lowersp                                                        1.0\n",
       "n_periods                                                          0\n",
       "n_words                                                          351\n",
       "n_uq_words                                                       155\n",
       "n_caps                                                             0\n",
       "n_nonasciis                                                        0\n",
       "n_puncts                                                           0\n",
       "n_capsp                                                      0.00053\n",
       "n_charsperword                                              5.357955\n",
       "sent_afinn                                                        -2\n",
       "sent_bing                                                          5\n",
       "sent_syuzhet                                                     6.0\n",
       "sent_vader                                                      -1.4\n",
       "n_polite                                                   -1.532143\n",
       "n_first_person                                                     0\n",
       "KMeans_Labels                                                      3\n",
       "Name: 318, dtype: object"
      ]
     },
     "execution_count": 41,
     "metadata": {},
     "output_type": "execute_result"
    }
   ],
   "source": [
    "df.iloc[232,:]"
   ]
  },
  {
   "cell_type": "code",
   "execution_count": 42,
   "id": "def43220-9917-40b5-8bc0-fe2ceca55cae",
   "metadata": {},
   "outputs": [
    {
     "data": {
      "text/plain": [
       "Int64Index([  158,  1895,  3187,  4706,  4848,  5086,  5263,  5290,  5296,\n",
       "             5297,\n",
       "            ...\n",
       "            39449, 39453, 39840, 39851, 39881, 39890, 39891, 39902, 39938,\n",
       "            39945],\n",
       "           dtype='int64', length=327)"
      ]
     },
     "execution_count": 42,
     "metadata": {},
     "output_type": "execute_result"
    }
   ],
   "source": [
    "df.reset_index(drop=True).index[df['KMeans_Labels'] == 0]"
   ]
  },
  {
   "cell_type": "code",
   "execution_count": 43,
   "id": "ae841bd8-fc98-4b3b-be40-e71d44f6b76a",
   "metadata": {},
   "outputs": [],
   "source": [
    "index_label_0 = df.reset_index(drop=True).index[df['KMeans_Labels'] == 0]"
   ]
  },
  {
   "cell_type": "code",
   "execution_count": 46,
   "id": "8d608d0d-40df-4404-b0c6-9c03f0be4196",
   "metadata": {},
   "outputs": [],
   "source": [
    "X0 = [X[x] for x in index_label_0]"
   ]
  },
  {
   "cell_type": "code",
   "execution_count": 47,
   "id": "43b980b7-2d15-4145-aa9c-e6a3ab627ae6",
   "metadata": {},
   "outputs": [
    {
     "data": {
      "text/plain": [
       "327"
      ]
     },
     "execution_count": 47,
     "metadata": {},
     "output_type": "execute_result"
    }
   ],
   "source": [
    "len(X0)\n",
    "# plt.bar(temp_4.index.values, pd.Series(' '.join(df_4['Cleaned_Email']).split()).value_counts()[:20].sort_values(), align='center', alpha=0.5)\n",
    "# plt.xticks(rotation='vertical')"
   ]
  },
  {
   "cell_type": "code",
   "execution_count": 76,
   "id": "98755dc1-feb7-4f43-8c1b-303fb6aa4448",
   "metadata": {},
   "outputs": [],
   "source": [
    "# Filtering KMeans Labels \n",
    "index_label_0 = df.reset_index(drop=True).index[df['KMeans_Labels'] == 0]\n",
    "X0 = [X[x] for x in index_label_0]\n",
    "\n",
    "index_label_1 = df.reset_index(drop=True).index[df['KMeans_Labels'] == 1]\n",
    "X1 = [X[x] for x in index_label_1]\n",
    "\n",
    "index_label_2 = df.reset_index(drop=True).index[df['KMeans_Labels'] == 2]\n",
    "X2 = [X[x] for x in index_label_2]\n",
    "\n",
    "index_label_3 = df.reset_index(drop=True).index[df['KMeans_Labels'] == 3]\n",
    "X3 = [X[x] for x in index_label_3]\n",
    "\n",
    "index_label_4 = df.reset_index(drop=True).index[df['KMeans_Labels'] == 4]\n",
    "X4 = [X[x] for x in index_label_4]"
   ]
  },
  {
   "cell_type": "code",
   "execution_count": 49,
   "id": "33e159e3-8af8-4dae-ba9c-4bda105709d5",
   "metadata": {},
   "outputs": [],
   "source": [
    "# # Filtering KMeans Labels \n",
    "# index_label_0 = df.index[df['KMeans_Labels'] == 0].tolist()\n",
    "# X0 = [X[x-1] for x in index_label_0[:-1]]\n",
    "\n",
    "# index_label_1 = df.index[df['KMeans_Labels'] == 1].tolist()\n",
    "# X1 = [X[x-1] for x in index_label_1[:-1]]\n",
    "\n",
    "# index_label_2 = df.index[df['KMeans_Labels'] == 2].tolist()\n",
    "# X2 = [X[x-1] for x in index_label_2[:-1]]\n",
    "\n",
    "# index_label_3 = df.index[df['KMeans_Labels'] == 3].tolist()\n",
    "# X3 = [X[x-1] for x in index_label_3[:-1]]\n",
    "\n",
    "# index_label_4 = df.index[df['KMeans_Labels'] == 4].tolist()\n",
    "# X4 = [X[x-1] for x in index_label_4[:-1]]"
   ]
  },
  {
   "cell_type": "code",
   "execution_count": 77,
   "id": "1b2b77e5-272d-41b2-b481-8bb04b065432",
   "metadata": {},
   "outputs": [
    {
     "data": {
      "text/plain": [
       "[<matplotlib.lines.Line2D at 0x7f385ff73b50>]"
      ]
     },
     "execution_count": 77,
     "metadata": {},
     "output_type": "execute_result"
    },
    {
     "data": {
      "image/png": "[encoded data removed]",
      "text/plain": [
       "<Figure size 432x288 with 1 Axes>"
      ]
     },
     "metadata": {
      "needs_background": "light"
     },
     "output_type": "display_data"
    }
   ],
   "source": [
    "# Determining optimal value of eps Label 3\n",
    "# Min_samples set to ln(number of points)\n",
    "min_samples_set = int(math.ceil(math.log(len(X3))))\n",
    "nbrs = NearestNeighbors(n_neighbors=min_samples_set).fit(X3)\n",
    "distances, indices = nbrs.kneighbors(X3)\n",
    "distanceDec = sorted(distances[:,min_samples_set-1], reverse=True)\n",
    "plt.plot(list(range(1,len(X3) + 1)), distanceDec)"
   ]
  },
  {
   "cell_type": "code",
   "execution_count": 82,
   "id": "114d1c0c-c53a-4414-819f-67352da014d4",
   "metadata": {},
   "outputs": [
    {
     "name": "stdout",
     "output_type": "stream",
     "text": [
      "[-1  0]\n"
     ]
    },
    {
     "data": {
      "text/plain": [
       "<matplotlib.collections.PathCollection at 0x7f3871d85a00>"
      ]
     },
     "execution_count": 82,
     "metadata": {},
     "output_type": "execute_result"
    },
    {
     "data": {
      "image/png": "[encoded data removed]",
      "text/plain": [
       "<Figure size 432x288 with 1 Axes>"
      ]
     },
     "metadata": {
      "needs_background": "light"
     },
     "output_type": "display_data"
    }
   ],
   "source": [
    "min_samples_set = int(math.ceil(math.log(len(X0))))\n",
    "db = DBSCAN(eps=1.83, min_samples=min_samples_set).fit(X0)\n",
    "labels = db.labels_\n",
    "svd = TruncatedSVD(n_components = 2)\n",
    "reduced_data_0 = svd.fit_transform(X0)\n",
    "print(np.unique(labels))\n",
    "colors = get_cluster_colors(labels)\n",
    "plt.scatter(reduced_data_0[:,0], reduced_data_0[:,1], c=colors, alpha=0.3)"
   ]
  },
  {
   "cell_type": "code",
   "execution_count": 84,
   "id": "6438515e-4b6f-4666-b545-40f0fea3654d",
   "metadata": {},
   "outputs": [
    {
     "ename": "ValueError",
     "evalue": "Length of values (327) does not match length of index (322)",
     "output_type": "error",
     "traceback": [
      "\u001b[0;31m---------------------------------------------------------------------------\u001b[0m",
      "\u001b[0;31mValueError\u001b[0m                                Traceback (most recent call last)",
      "Input \u001b[0;32mIn [84]\u001b[0m, in \u001b[0;36m<cell line: 3>\u001b[0;34m()\u001b[0m\n\u001b[1;32m      1\u001b[0m \u001b[38;5;66;03m# Dividing based on DB Scan\u001b[39;00m\n\u001b[1;32m      2\u001b[0m df_0 \u001b[38;5;241m=\u001b[39m  df_0[:\u001b[38;5;241m-\u001b[39m\u001b[38;5;241m1\u001b[39m]\n\u001b[0;32m----> 3\u001b[0m \u001b[43mdf_0\u001b[49m\u001b[43m[\u001b[49m\u001b[38;5;124;43m'\u001b[39;49m\u001b[38;5;124;43mDBScan_Labels\u001b[39;49m\u001b[38;5;124;43m'\u001b[39;49m\u001b[43m]\u001b[49m \u001b[38;5;241m=\u001b[39m labels\n\u001b[1;32m      5\u001b[0m df_0_0 \u001b[38;5;241m=\u001b[39m df_0[df_0\u001b[38;5;241m.\u001b[39mDBScan_Labels \u001b[38;5;241m==\u001b[39m \u001b[38;5;241m0\u001b[39m]\n\u001b[1;32m      6\u001b[0m temp_0_0 \u001b[38;5;241m=\u001b[39m pd\u001b[38;5;241m.\u001b[39mDataFrame(pd\u001b[38;5;241m.\u001b[39mSeries(\u001b[38;5;124m'\u001b[39m\u001b[38;5;124m \u001b[39m\u001b[38;5;124m'\u001b[39m\u001b[38;5;241m.\u001b[39mjoin(df_0_0[\u001b[38;5;124m'\u001b[39m\u001b[38;5;124mCleaned_Email\u001b[39m\u001b[38;5;124m'\u001b[39m])\u001b[38;5;241m.\u001b[39msplit())\u001b[38;5;241m.\u001b[39mvalue_counts()[:\u001b[38;5;241m20\u001b[39m]\u001b[38;5;241m.\u001b[39msort_values())\n",
      "File \u001b[0;32m~/anaconda3/envs/miri/lib/python3.9/site-packages/pandas/core/frame.py:3655\u001b[0m, in \u001b[0;36mDataFrame.__setitem__\u001b[0;34m(self, key, value)\u001b[0m\n\u001b[1;32m   3652\u001b[0m     \u001b[38;5;28mself\u001b[39m\u001b[38;5;241m.\u001b[39m_setitem_array([key], value)\n\u001b[1;32m   3653\u001b[0m \u001b[38;5;28;01melse\u001b[39;00m:\n\u001b[1;32m   3654\u001b[0m     \u001b[38;5;66;03m# set column\u001b[39;00m\n\u001b[0;32m-> 3655\u001b[0m     \u001b[38;5;28;43mself\u001b[39;49m\u001b[38;5;241;43m.\u001b[39;49m\u001b[43m_set_item\u001b[49m\u001b[43m(\u001b[49m\u001b[43mkey\u001b[49m\u001b[43m,\u001b[49m\u001b[43m \u001b[49m\u001b[43mvalue\u001b[49m\u001b[43m)\u001b[49m\n",
      "File \u001b[0;32m~/anaconda3/envs/miri/lib/python3.9/site-packages/pandas/core/frame.py:3832\u001b[0m, in \u001b[0;36mDataFrame._set_item\u001b[0;34m(self, key, value)\u001b[0m\n\u001b[1;32m   3822\u001b[0m \u001b[38;5;28;01mdef\u001b[39;00m \u001b[38;5;21m_set_item\u001b[39m(\u001b[38;5;28mself\u001b[39m, key, value) \u001b[38;5;241m-\u001b[39m\u001b[38;5;241m>\u001b[39m \u001b[38;5;28;01mNone\u001b[39;00m:\n\u001b[1;32m   3823\u001b[0m     \u001b[38;5;124;03m\"\"\"\u001b[39;00m\n\u001b[1;32m   3824\u001b[0m \u001b[38;5;124;03m    Add series to DataFrame in specified column.\u001b[39;00m\n\u001b[1;32m   3825\u001b[0m \n\u001b[0;32m   (...)\u001b[0m\n\u001b[1;32m   3830\u001b[0m \u001b[38;5;124;03m    ensure homogeneity.\u001b[39;00m\n\u001b[1;32m   3831\u001b[0m \u001b[38;5;124;03m    \"\"\"\u001b[39;00m\n\u001b[0;32m-> 3832\u001b[0m     value \u001b[38;5;241m=\u001b[39m \u001b[38;5;28;43mself\u001b[39;49m\u001b[38;5;241;43m.\u001b[39;49m\u001b[43m_sanitize_column\u001b[49m\u001b[43m(\u001b[49m\u001b[43mvalue\u001b[49m\u001b[43m)\u001b[49m\n\u001b[1;32m   3834\u001b[0m     \u001b[38;5;28;01mif\u001b[39;00m (\n\u001b[1;32m   3835\u001b[0m         key \u001b[38;5;129;01min\u001b[39;00m \u001b[38;5;28mself\u001b[39m\u001b[38;5;241m.\u001b[39mcolumns\n\u001b[1;32m   3836\u001b[0m         \u001b[38;5;129;01mand\u001b[39;00m value\u001b[38;5;241m.\u001b[39mndim \u001b[38;5;241m==\u001b[39m \u001b[38;5;241m1\u001b[39m\n\u001b[1;32m   3837\u001b[0m         \u001b[38;5;129;01mand\u001b[39;00m \u001b[38;5;129;01mnot\u001b[39;00m is_extension_array_dtype(value)\n\u001b[1;32m   3838\u001b[0m     ):\n\u001b[1;32m   3839\u001b[0m         \u001b[38;5;66;03m# broadcast across multiple columns if necessary\u001b[39;00m\n\u001b[1;32m   3840\u001b[0m         \u001b[38;5;28;01mif\u001b[39;00m \u001b[38;5;129;01mnot\u001b[39;00m \u001b[38;5;28mself\u001b[39m\u001b[38;5;241m.\u001b[39mcolumns\u001b[38;5;241m.\u001b[39mis_unique \u001b[38;5;129;01mor\u001b[39;00m \u001b[38;5;28misinstance\u001b[39m(\u001b[38;5;28mself\u001b[39m\u001b[38;5;241m.\u001b[39mcolumns, MultiIndex):\n",
      "File \u001b[0;32m~/anaconda3/envs/miri/lib/python3.9/site-packages/pandas/core/frame.py:4535\u001b[0m, in \u001b[0;36mDataFrame._sanitize_column\u001b[0;34m(self, value)\u001b[0m\n\u001b[1;32m   4532\u001b[0m     \u001b[38;5;28;01mreturn\u001b[39;00m _reindex_for_setitem(value, \u001b[38;5;28mself\u001b[39m\u001b[38;5;241m.\u001b[39mindex)\n\u001b[1;32m   4534\u001b[0m \u001b[38;5;28;01mif\u001b[39;00m is_list_like(value):\n\u001b[0;32m-> 4535\u001b[0m     \u001b[43mcom\u001b[49m\u001b[38;5;241;43m.\u001b[39;49m\u001b[43mrequire_length_match\u001b[49m\u001b[43m(\u001b[49m\u001b[43mvalue\u001b[49m\u001b[43m,\u001b[49m\u001b[43m \u001b[49m\u001b[38;5;28;43mself\u001b[39;49m\u001b[38;5;241;43m.\u001b[39;49m\u001b[43mindex\u001b[49m\u001b[43m)\u001b[49m\n\u001b[1;32m   4536\u001b[0m \u001b[38;5;28;01mreturn\u001b[39;00m sanitize_array(value, \u001b[38;5;28mself\u001b[39m\u001b[38;5;241m.\u001b[39mindex, copy\u001b[38;5;241m=\u001b[39m\u001b[38;5;28;01mTrue\u001b[39;00m, allow_2d\u001b[38;5;241m=\u001b[39m\u001b[38;5;28;01mTrue\u001b[39;00m)\n",
      "File \u001b[0;32m~/anaconda3/envs/miri/lib/python3.9/site-packages/pandas/core/common.py:557\u001b[0m, in \u001b[0;36mrequire_length_match\u001b[0;34m(data, index)\u001b[0m\n\u001b[1;32m    553\u001b[0m \u001b[38;5;124;03m\"\"\"\u001b[39;00m\n\u001b[1;32m    554\u001b[0m \u001b[38;5;124;03mCheck the length of data matches the length of the index.\u001b[39;00m\n\u001b[1;32m    555\u001b[0m \u001b[38;5;124;03m\"\"\"\u001b[39;00m\n\u001b[1;32m    556\u001b[0m \u001b[38;5;28;01mif\u001b[39;00m \u001b[38;5;28mlen\u001b[39m(data) \u001b[38;5;241m!=\u001b[39m \u001b[38;5;28mlen\u001b[39m(index):\n\u001b[0;32m--> 557\u001b[0m     \u001b[38;5;28;01mraise\u001b[39;00m \u001b[38;5;167;01mValueError\u001b[39;00m(\n\u001b[1;32m    558\u001b[0m         \u001b[38;5;124m\"\u001b[39m\u001b[38;5;124mLength of values \u001b[39m\u001b[38;5;124m\"\u001b[39m\n\u001b[1;32m    559\u001b[0m         \u001b[38;5;124mf\u001b[39m\u001b[38;5;124m\"\u001b[39m\u001b[38;5;124m(\u001b[39m\u001b[38;5;132;01m{\u001b[39;00m\u001b[38;5;28mlen\u001b[39m(data)\u001b[38;5;132;01m}\u001b[39;00m\u001b[38;5;124m) \u001b[39m\u001b[38;5;124m\"\u001b[39m\n\u001b[1;32m    560\u001b[0m         \u001b[38;5;124m\"\u001b[39m\u001b[38;5;124mdoes not match length of index \u001b[39m\u001b[38;5;124m\"\u001b[39m\n\u001b[1;32m    561\u001b[0m         \u001b[38;5;124mf\u001b[39m\u001b[38;5;124m\"\u001b[39m\u001b[38;5;124m(\u001b[39m\u001b[38;5;132;01m{\u001b[39;00m\u001b[38;5;28mlen\u001b[39m(index)\u001b[38;5;132;01m}\u001b[39;00m\u001b[38;5;124m)\u001b[39m\u001b[38;5;124m\"\u001b[39m\n\u001b[1;32m    562\u001b[0m     )\n",
      "\u001b[0;31mValueError\u001b[0m: Length of values (327) does not match length of index (322)"
     ]
    }
   ],
   "source": [
    "# Dividing based on DB Scan\n",
    "df_0 =  df_0[:-1]\n",
    "df_0['DBScan_Labels'] = labels\n",
    "\n",
    "df_0_0 = df_0[df_0.DBScan_Labels == 0]\n",
    "temp_0_0 = pd.DataFrame(pd.Series(' '.join(df_0_0['Cleaned_Email']).split()).value_counts()[:20].sort_values())\n",
    "\n",
    "df_0_1 = df_0[df_0.DBScan_Labels == 1]\n",
    "temp_0_1 = pd.DataFrame(pd.Series(' '.join(df_0_1['Cleaned_Email']).split()).value_counts()[:20].sort_values())\n",
    "\n",
    "df_0_2 = df_0[df_0.DBScan_Labels == 2]\n",
    "temp_0_2 = pd.DataFrame(pd.Series(' '.join(df_0_2['Cleaned_Email']).split()).value_counts()[:20].sort_values())\n",
    "\n",
    "df_0_3 = df_0[df_0.DBScan_Labels == 3]\n",
    "temp_0_3 = pd.DataFrame(pd.Series(' '.join(df_0_3['Cleaned_Email']).split()).value_counts()[:20].sort_values())\n",
    "\n",
    "df_0_4 = df_0[df_0.DBScan_Labels == 4]\n",
    "temp_0_4 = pd.DataFrame(pd.Series(' '.join(df_0_4['Cleaned_Email']).split()).value_counts()[:20].sort_values())"
   ]
  },
  {
   "cell_type": "code",
   "execution_count": 70,
   "id": "130074b2-ae25-4af1-9db5-eaf6d414bf20",
   "metadata": {},
   "outputs": [
    {
     "data": {
      "text/plain": [
       "[<matplotlib.lines.Line2D at 0x7f3870257190>]"
      ]
     },
     "execution_count": 70,
     "metadata": {},
     "output_type": "execute_result"
    },
    {
     "data": {
      "image/png": "[encoded data removed]",
      "text/plain": [
       "<Figure size 432x288 with 1 Axes>"
      ]
     },
     "metadata": {
      "needs_background": "light"
     },
     "output_type": "display_data"
    }
   ],
   "source": [
    "# Determining optimal value of eps Label 1\n",
    "\n",
    "# Min_samples set to ln(number of points)\n",
    "min_samples_set = int(math.ceil(math.log(len(X1))))\n",
    "nbrs = NearestNeighbors(n_neighbors=min_samples_set).fit(X1)\n",
    "distances, indices = nbrs.kneighbors(X1)\n",
    "distanceDec = sorted(distances[:,min_samples_set-1], reverse=True)\n",
    "plt.plot(list(range(1,len(X1) + 1)), distanceDec)"
   ]
  },
  {
   "cell_type": "code",
   "execution_count": 71,
   "id": "36cc8dab-1ad0-4b2d-bdd5-855b549049df",
   "metadata": {},
   "outputs": [
    {
     "name": "stdout",
     "output_type": "stream",
     "text": [
      "[-1  0  1  2  3  4  5  6  7  8  9 10 11 12 13 14 15 16 17 18 19 20 21 22\n",
      " 23 24 25 26 27 28 29 30 31 32 33 34 35 36 37 38 39 40 41 42 43 44 45 46\n",
      " 47 48 49 50 51 52 53 54 55 56 57 58 59 60 61 62 63 64 65 66 67 68 69 70\n",
      " 71 72 73 74 75 76]\n"
     ]
    },
    {
     "data": {
      "text/plain": [
       "<matplotlib.collections.PathCollection at 0x7f385fd47f10>"
      ]
     },
     "execution_count": 72,
     "metadata": {},
     "output_type": "execute_result"
    },
    {
     "data": {
      "image/png": "[encoded data removed]",
      "text/plain": [
       "<Figure size 432x288 with 1 Axes>"
      ]
     },
     "metadata": {
      "needs_background": "light"
     },
     "output_type": "display_data"
    }
   ],
   "source": [
    "min_samples_set = int(math.ceil(math.log(len(X1))))\n",
    "db = DBSCAN(eps=1.3, min_samples=min_samples_set).fit(X1)\n",
    "labels = db.labels_\n",
    "svd = TruncatedSVD(n_components = 2)\n",
    "reduced_data_1 = svd.fit_transform(X1)\n",
    "print(np.unique(labels))\n",
    "plt.scatter(reduced_data_1[:,0], reduced_data_1[:,1], c=[plt.cm.spectral(float(i) /10) for i in labels])"
   ]
  },
  {
   "cell_type": "code",
   "execution_count": null,
   "id": "42eb1785-a87c-4290-889c-f3258404d20f",
   "metadata": {},
   "outputs": [],
   "source": [
    "# Dividing based on DB Scan\n",
    "df_1 =  df_1[:-1]\n",
    "df_1['DBScan_Labels'] = labels\n",
    "\n",
    "df_1_0 = df_1[df_1.DBScan_Labels == 0]\n",
    "temp_1_0 = pd.DataFrame(pd.Series(' '.join(df_1_0['Cleaned_Email']).split()).value_counts()[:20].sort_values())\n",
    "\n",
    "df_1_1 = df_1[df_1.DBScan_Labels == 1]\n",
    "temp_1_1 = pd.DataFrame(pd.Series(' '.join(df_1_1['Cleaned_Email']).split()).value_counts()[:20].sort_values())\n",
    "\n",
    "df_1_2 = df_1[df_1.DBScan_Labels == 2]\n",
    "temp_1_2 = pd.DataFrame(pd.Series(' '.join(df_1_2['Cleaned_Email']).split()).value_counts()[:20].sort_values())\n",
    "\n",
    "df_1_3 = df_1[df_1.DBScan_Labels == 3]\n",
    "temp_1_3 = pd.DataFrame(pd.Series(' '.join(df_1_3['Cleaned_Email']).split()).value_counts()[:20].sort_values())\n"
   ]
  }
 ],
 "metadata": {
  "kernelspec": {
   "display_name": "Python 3 (ipykernel)",
   "language": "python",
   "name": "python3"
  },
  "language_info": {
   "codemirror_mode": {
    "name": "ipython",
    "version": 3
   },
   "file_extension": ".py",
   "mimetype": "text/x-python",
   "name": "python",
   "nbconvert_exporter": "python",
   "pygments_lexer": "ipython3",
   "version": "3.9.12"
  }
 },
 "nbformat": 4,
 "nbformat_minor": 5
}
