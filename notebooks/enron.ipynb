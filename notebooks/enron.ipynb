{
 "cells": [
  {
   "cell_type": "code",
   "execution_count": 2,
   "id": "01e3247b-f436-4a54-bdeb-933114ba7743",
   "metadata": {},
   "outputs": [],
   "source": [
    "import email\n",
    "import re\n",
    "\n",
    "from pathlib import Path\n",
    "from collections import Counter"
   ]
  },
  {
   "cell_type": "code",
   "execution_count": 3,
   "id": "7d90233d-c8ce-4bdf-aaba-db894695e2c8",
   "metadata": {},
   "outputs": [],
   "source": [
    "email_dir = Path(Path.cwd().parent, Path('data/raw/maildir'))"
   ]
  },
  {
   "cell_type": "code",
   "execution_count": 7,
   "id": "0189ca1f-0c69-4d1e-a943-5b38c97bb441",
   "metadata": {},
   "outputs": [],
   "source": [
    "def get_emails_list(dir_path):\n",
    "    clean_emails = []\n",
    "    for path in dir_path.rglob('*.'):\n",
    "        if 'all_documents' not in str(path.parent) and 'discussion_threads' not in str(path.parent):\n",
    "            clean_emails.append(path)\n",
    "    return clean_emails\n",
    "\n",
    "\n",
    "def parse_emails(path):\n",
    "    with open(path, 'r', encoding='windows-1252') as f:\n",
    "        parsed_email = email.message_from_file(f)\n",
    "    return parsed_email\n",
    "\n",
    "\n",
    "def load_emails(dir_path):\n",
    "    parsed_emails = []\n",
    "    clean_emails = get_emails_list(dir_path)\n",
    "    for i, path in enumerate(clean_emails):\n",
    "        parsed_emails.append((i,parse_emails(path)))\n",
    "    return parsed_emails\n",
    "\n",
    "\n",
    "def preprocess_message(text):\n",
    "    msg_end_pattern = re.compile('_{4,}.*|\\n{3,}|<[^>]*>|-{4,}(.*)(\\d{2}:\\d{2}:\\d{2})\\s*(PM|AM)', re.MULTILINE)\n",
    "    try:\n",
    "        msg_end_iter = msg_end_pattern.search(text).start()\n",
    "        # print('end of line:', msg_end_iter)\n",
    "        message = text[:msg_end_iter]\n",
    "    except AttributeError: # not a reply\n",
    "        message = text\n",
    "    return message"
   ]
  },
  {
   "cell_type": "code",
   "execution_count": 8,
   "id": "1ab583a8-c52a-48a9-81a2-da7c9b724b71",
   "metadata": {},
   "outputs": [],
   "source": [
    "parsed_emails = load_emails(email_dir)"
   ]
  },
  {
   "cell_type": "code",
   "execution_count": 10,
   "id": "5b09fc08-b337-48ee-b25e-121c6350181d",
   "metadata": {},
   "outputs": [
    {
     "data": {
      "text/plain": [
       "[(283840, '<24675364.1075840403182.JavaMail.evans@thyme>', 2011422),\n",
       " (258598, '<404977.1075840712968.JavaMail.evans@thyme>', 1697165),\n",
       " (9281, '<30250907.1075852373160.JavaMail.evans@thyme>', 1621936),\n",
       " (211173, '<12090449.1075863678315.JavaMail.evans@thyme>', 1371385),\n",
       " (296093, '<13839356.1075862344682.JavaMail.evans@thyme>', 820853),\n",
       " (249493, '<9344275.1075845036063.JavaMail.evans@thyme>', 537014),\n",
       " (107812, '<28543449.1075841171541.JavaMail.evans@thyme>', 392883),\n",
       " (107383, '<30853644.1075841127218.JavaMail.evans@thyme>', 329948),\n",
       " (313851, '<5645767.1075852257668.JavaMail.evans@thyme>', 322266),\n",
       " (108000, '<3540098.1075841167699.JavaMail.evans@thyme>', 304544)]"
      ]
     },
     "execution_count": 10,
     "metadata": {},
     "output_type": "execute_result"
    }
   ],
   "source": [
    "lengths = [(text[0], text[1]['message-id'],len(text[1].get_payload())) for text in parsed_emails]\n",
    "large_emails = sorted(lengths, key=lambda l: l[2], reverse=True)[:10]\n",
    "large_emails"
   ]
  },
  {
   "cell_type": "code",
   "execution_count": 19,
   "id": "645f47fd-d560-4336-8024-f5d9adf9c372",
   "metadata": {},
   "outputs": [
    {
     "data": {
      "text/plain": [
       "[(235016, '<26331558.1075841479333.JavaMail.evans@thyme>', 248665),\n",
       " (216429, '<12793391.1075840062316.JavaMail.evans@thyme>', 210700),\n",
       " (95399, '<16931220.1075843756579.JavaMail.evans@thyme>', 208766),\n",
       " (97025, '<10915312.1075843742937.JavaMail.evans@thyme>', 185780),\n",
       " (140462, '<1288782.1075840360512.JavaMail.evans@thyme>', 174478),\n",
       " (224255, '<26457604.1075840175257.JavaMail.evans@thyme>', 174478),\n",
       " (140323, '<17960685.1075840362627.JavaMail.evans@thyme>', 174230),\n",
       " (140366, '<9576844.1075840364730.JavaMail.evans@thyme>', 173427),\n",
       " (224471, '<5953458.1075840189268.JavaMail.evans@thyme>', 173427),\n",
       " (295160, '<23957807.1075860995169.JavaMail.evans@thyme>', 85504)]"
      ]
     },
     "execution_count": 19,
     "metadata": {},
     "output_type": "execute_result"
    }
   ],
   "source": [
    "lengths = [(text[0], text[1]['message-id'], len(preprocess_message(text[1].get_payload()))) for text in parsed_emails]\n",
    "large_emails = sorted(lengths, key=lambda l: l[2], reverse=True)[:10]\n",
    "large_emails"
   ]
  }
 ],
 "metadata": {
  "kernelspec": {
   "display_name": "tfm",
   "language": "python",
   "name": "tfm"
  },
  "language_info": {
   "codemirror_mode": {
    "name": "ipython",
    "version": 3
   },
   "file_extension": ".py",
   "mimetype": "text/x-python",
   "name": "python",
   "nbconvert_exporter": "python",
   "pygments_lexer": "ipython3",
   "version": "3.9.13"
  }
 },
 "nbformat": 4,
 "nbformat_minor": 5
}
