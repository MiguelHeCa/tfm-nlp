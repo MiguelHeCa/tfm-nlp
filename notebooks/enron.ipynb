{
 "cells": [
  {
   "cell_type": "code",
   "execution_count": 1,
   "id": "86965aa6-ef5a-4ea6-b40a-71fe67039cf1",
   "metadata": {},
   "outputs": [],
   "source": [
    "import email\n",
    "from pathlib import Path"
   ]
  },
  {
   "cell_type": "code",
   "execution_count": 2,
   "id": "78db7a1f-244d-40d9-9a1f-5dc57e57f3fa",
   "metadata": {},
   "outputs": [],
   "source": [
    "email_dir = Path(Path.cwd().parent, Path('data/raw/maildir'))\n",
    "ign_dir = sorted(sorted(email_dir.glob('**/discussion_threads')) + sorted(email_dir.glob('**/all_documents')))"
   ]
  },
  {
   "cell_type": "code",
   "execution_count": 3,
   "id": "3ef2a440-882c-4825-9be6-a3610694c09a",
   "metadata": {},
   "outputs": [],
   "source": [
    "emails = sorted(email_dir.rglob(\"*.\"))"
   ]
  },
  {
   "cell_type": "code",
   "execution_count": 4,
   "id": "752571f5-372c-4cdc-8308-6bdc4b22d26f",
   "metadata": {},
   "outputs": [
    {
     "data": {
      "text/plain": [
       "517401"
      ]
     },
     "execution_count": 4,
     "metadata": {},
     "output_type": "execute_result"
    }
   ],
   "source": [
    "len(emails)"
   ]
  },
  {
   "cell_type": "code",
   "execution_count": 5,
   "id": "ff66d395-4040-457a-a5c4-08b7b2ec70c2",
   "metadata": {},
   "outputs": [],
   "source": [
    "clean_emails = [path for path in email_dir.rglob('*.') if 'discussion_threads' not in str(path.parent)]"
   ]
  },
  {
   "cell_type": "code",
   "execution_count": 6,
   "id": "86d21b9b-5d5f-4f47-8c19-a9dd07cc29a8",
   "metadata": {},
   "outputs": [
    {
     "data": {
      "text/plain": [
       "458792"
      ]
     },
     "execution_count": 6,
     "metadata": {},
     "output_type": "execute_result"
    }
   ],
   "source": [
    "len(clean_emails)"
   ]
  },
  {
   "cell_type": "code",
   "execution_count": 7,
   "id": "7dafe3d9-1dfc-42c3-8235-ab1f1fb2a0e6",
   "metadata": {},
   "outputs": [
    {
     "data": {
      "text/plain": [
       "58609"
      ]
     },
     "execution_count": 7,
     "metadata": {},
     "output_type": "execute_result"
    }
   ],
   "source": [
    "len(emails) - len(clean_emails)"
   ]
  },
  {
   "cell_type": "code",
   "execution_count": 8,
   "id": "df4f721f-8de9-42ad-a00f-65eb4b5743e7",
   "metadata": {},
   "outputs": [],
   "source": [
    "clean_emails = [path for path in email_dir.rglob('*.') if 'all_documents' not in str(path.parent)]"
   ]
  },
  {
   "cell_type": "code",
   "execution_count": 9,
   "id": "d1835416-6fae-468f-acdc-e56bb5026add",
   "metadata": {},
   "outputs": [
    {
     "data": {
      "text/plain": [
       "389298"
      ]
     },
     "execution_count": 9,
     "metadata": {},
     "output_type": "execute_result"
    }
   ],
   "source": [
    "len(clean_emails)"
   ]
  },
  {
   "cell_type": "code",
   "execution_count": 10,
   "id": "4020538f-8a11-441a-9e94-2b1d495c02be",
   "metadata": {},
   "outputs": [
    {
     "data": {
      "text/plain": [
       "128103"
      ]
     },
     "execution_count": 10,
     "metadata": {},
     "output_type": "execute_result"
    }
   ],
   "source": [
    "len(emails) - len(clean_emails)"
   ]
  },
  {
   "cell_type": "code",
   "execution_count": 11,
   "id": "c6fdcdc6-fc91-40d2-b452-3208c446a8d2",
   "metadata": {},
   "outputs": [],
   "source": [
    "clean_emails = []\n",
    "for path in email_dir.rglob('*.'):\n",
    "    if 'all_documents' not in str(path.parent) and 'discussion_threads' not in str(path.parent) and 'discussion_threads' not in str(path.parent):\n",
    "        clean_emails.append(path)"
   ]
  },
  {
   "cell_type": "code",
   "execution_count": 12,
   "id": "545f3e04-b673-4126-9d4c-b5b6ed3361a4",
   "metadata": {},
   "outputs": [
    {
     "data": {
      "text/plain": [
       "330689"
      ]
     },
     "execution_count": 12,
     "metadata": {},
     "output_type": "execute_result"
    }
   ],
   "source": [
    "len(clean_emails)"
   ]
  },
  {
   "cell_type": "code",
   "execution_count": 13,
   "id": "ed43781a-aea0-4087-8099-5cda148c685a",
   "metadata": {},
   "outputs": [
    {
     "data": {
      "text/plain": [
       "186712"
      ]
     },
     "execution_count": 13,
     "metadata": {},
     "output_type": "execute_result"
    }
   ],
   "source": [
    "len(emails) - len(clean_emails)"
   ]
  },
  {
   "cell_type": "code",
   "execution_count": 14,
   "id": "e22667e4-d85e-4a88-b99a-c80322aa7618",
   "metadata": {},
   "outputs": [],
   "source": [
    "def parse_emails(path):\n",
    "    with open(path, 'r', encoding='windows-1252') as f:\n",
    "        parsed_email = email.message_from_file(f)\n",
    "    return parsed_email"
   ]
  },
  {
   "cell_type": "code",
   "execution_count": 15,
   "id": "cb029868-4195-4737-9cad-0c4d72b4070c",
   "metadata": {},
   "outputs": [],
   "source": [
    "parsed_emails = []\n",
    "for i, path in enumerate(clean_emails):\n",
    "    parsed_emails.append((i,parse_emails(path)))"
   ]
  },
  {
   "cell_type": "code",
   "execution_count": 16,
   "id": "e8607559-7d2b-4374-a1f5-052904ee1ee4",
   "metadata": {},
   "outputs": [
    {
     "data": {
      "text/plain": [
       "330689"
      ]
     },
     "execution_count": 16,
     "metadata": {},
     "output_type": "execute_result"
    }
   ],
   "source": [
    "len(parsed_emails)"
   ]
  },
  {
   "cell_type": "code",
   "execution_count": 17,
   "id": "4ba18743-dd05-4c8f-a9e9-e099ab8ae220",
   "metadata": {},
   "outputs": [
    {
     "data": {
      "text/plain": [
       "[('Message-ID', '<32259334.1075852468311.JavaMail.evans@thyme>'),\n",
       " ('Date', 'Thu, 4 Oct 2001 15:05:17 -0700 (PDT)'),\n",
       " ('From', 'john.shelk@enron.com'),\n",
       " ('To',\n",
       "  'richard.shapiro@enron.com, linda.robertson@enron.com, j..kean@enron.com, \\n\\tlisa.yoho@enron.com, sarah.novosel@enron.com, l..nicolay@enron.com, \\n\\tcarin.nersesian@enron.com, pat.shortridge@enron.com, \\n\\td..steffes@enron.com, stacey.bolton@enron.com, \\n\\tjennifer.thome@enron.com, sue.nord@enron.com, m..landwehr@enron.com, \\n\\tdaniel.allegretti@enron.com, a..hueter@enron.com'),\n",
       " ('Subject', 'Summary of Administration Comments on Bingaman Bill'),\n",
       " ('Mime-Version', '1.0'),\n",
       " ('Content-Type', 'text/plain; charset=us-ascii'),\n",
       " ('Content-Transfer-Encoding', '7bit'),\n",
       " ('X-From', 'Shelk, John </O=ENRON/OU=NA/CN=RECIPIENTS/CN=JSHELK>'),\n",
       " ('X-To',\n",
       "  'Shapiro, Richard </O=ENRON/OU=NA/CN=RECIPIENTS/CN=Rshapiro>, Robertson, Linda </O=ENRON/OU=NA/CN=RECIPIENTS/CN=Lrobert3>, Kean, Steven J. </O=ENRON/OU=NA/CN=RECIPIENTS/CN=Skean>, Yoho, Lisa </O=ENRON/OU=NA/CN=RECIPIENTS/CN=Lyoho>, Novosel, Sarah </O=ENRON/OU=NA/CN=RECIPIENTS/CN=Snovose>, Nicolay, Christi L. </O=ENRON/OU=NA/CN=RECIPIENTS/CN=Cnicola>, Nersesian, Carin </O=ENRON/OU=NA/CN=RECIPIENTS/CN=Cnersesi>, Shortridge, Pat </O=ENRON/OU=NA/CN=RECIPIENTS/CN=Pshortri>, Steffes, James D. </O=ENRON/OU=NA/CN=RECIPIENTS/CN=Jsteffe>, Bolton, Stacey </O=ENRON/OU=NA/CN=RECIPIENTS/CN=Sbolton>, Thome, Jennifer </O=ENRON/OU=NA/CN=RECIPIENTS/CN=Jthome>, Nord, Sue </O=ENRON/OU=NA/CN=RECIPIENTS/CN=Snord>, Landwehr, Susan M. </O=ENRON/OU=NA/CN=RECIPIENTS/CN=Slandweh>, Allegretti, Daniel </O=ENRON/OU=NA/CN=RECIPIENTS/CN=Dallegre>, Hueter, Barbara A. </O=ENRON/OU=NA/CN=RECIPIENTS/CN=Bhueter>'),\n",
       " ('X-cc', ''),\n",
       " ('X-bcc', ''),\n",
       " ('X-Folder', '\\\\JSTEFFE (Non-Privileged)\\\\Steffes, James D.\\\\Congress'),\n",
       " ('X-Origin', 'Steffes-J'),\n",
       " ('X-FileName', 'JSTEFFE (Non-Privileged).pst')]"
      ]
     },
     "execution_count": 17,
     "metadata": {},
     "output_type": "execute_result"
    }
   ],
   "source": [
    "parsed_emails[0][1].items()"
   ]
  },
  {
   "cell_type": "code",
   "execution_count": 18,
   "id": "0628d1a8-d11b-417d-a5b1-3694fd4e81d6",
   "metadata": {},
   "outputs": [],
   "source": [
    "lengths = [(text[0], text[1]['message-id'],len(text[1].get_payload())) for text in parsed_emails]"
   ]
  },
  {
   "cell_type": "code",
   "execution_count": 19,
   "id": "3d12fedc-c06b-4998-bf74-aec99e9d8bed",
   "metadata": {},
   "outputs": [
    {
     "data": {
      "text/plain": [
       "[(100420, '<24675364.1075840403182.JavaMail.evans@thyme>', 2011422),\n",
       " (140362, '<404977.1075840712968.JavaMail.evans@thyme>', 1697165),\n",
       " (206130, '<30250907.1075852373160.JavaMail.evans@thyme>', 1621936),\n",
       " (160620, '<12090449.1075863678315.JavaMail.evans@thyme>', 1371385),\n",
       " (245513, '<13839356.1075862344682.JavaMail.evans@thyme>', 820853),\n",
       " (198373, '<9344275.1075845036063.JavaMail.evans@thyme>', 537014),\n",
       " (220282, '<28543449.1075841171541.JavaMail.evans@thyme>', 392883),\n",
       " (219491, '<30853644.1075841127218.JavaMail.evans@thyme>', 329948),\n",
       " (128322, '<5645767.1075852257668.JavaMail.evans@thyme>', 322266),\n",
       " (220323, '<3540098.1075841167699.JavaMail.evans@thyme>', 304544)]"
      ]
     },
     "execution_count": 19,
     "metadata": {},
     "output_type": "execute_result"
    }
   ],
   "source": [
    "large_emails = sorted(lengths, key=lambda l: l[2], reverse=True)[:10]\n",
    "large_emails"
   ]
  },
  {
   "cell_type": "code",
   "execution_count": 20,
   "id": "6fa8e805-5d4d-4269-8485-2586367f3efc",
   "metadata": {},
   "outputs": [],
   "source": [
    "l_ids = list(zip(*large_emails))[0]"
   ]
  },
  {
   "cell_type": "code",
   "execution_count": 21,
   "id": "d7842be8-44d1-4e67-9f82-2e6a8185dad2",
   "metadata": {},
   "outputs": [
    {
     "name": "stdout",
     "output_type": "stream",
     "text": [
      "/home/miguel/Projects/tfm-nlp/data/raw/maildir/dorland-c/deleted_items/20.\n",
      "/home/miguel/Projects/tfm-nlp/data/raw/maildir/guzman-m/notes_inbox/841.\n",
      "/home/miguel/Projects/tfm-nlp/data/raw/maildir/forney-j/sent_items/158.\n",
      "/home/miguel/Projects/tfm-nlp/data/raw/maildir/presto-k/sent_items/1103.\n",
      "/home/miguel/Projects/tfm-nlp/data/raw/maildir/kean-s/deleted_items/434.\n",
      "/home/miguel/Projects/tfm-nlp/data/raw/maildir/haedicke-m/notes_inbox/13.\n",
      "/home/miguel/Projects/tfm-nlp/data/raw/maildir/martin-t/inbox/98.\n",
      "/home/miguel/Projects/tfm-nlp/data/raw/maildir/martin-t/deleted_items/64.\n",
      "/home/miguel/Projects/tfm-nlp/data/raw/maildir/quigley-d/sent_items/37.\n",
      "/home/miguel/Projects/tfm-nlp/data/raw/maildir/martin-t/inbox/94.\n"
     ]
    }
   ],
   "source": [
    "for i in l_ids:\n",
    "    print(clean_emails[i])"
   ]
  },
  {
   "cell_type": "code",
   "execution_count": 22,
   "id": "13c608a9-364f-49a7-b833-2addee5c54b2",
   "metadata": {},
   "outputs": [
    {
     "data": {
      "text/plain": [
       "'steffes-j'"
      ]
     },
     "execution_count": 22,
     "metadata": {},
     "output_type": "execute_result"
    }
   ],
   "source": [
    "str(clean_emails[0].parents[1]).split('/')[-1]"
   ]
  },
  {
   "cell_type": "code",
   "execution_count": 23,
   "id": "0e61020a-5e2e-4726-9630-fc232ae4c62a",
   "metadata": {},
   "outputs": [],
   "source": [
    "people = [str(email.parent).split('/')[8] for email in clean_emails]"
   ]
  },
  {
   "cell_type": "code",
   "execution_count": 24,
   "id": "6bba74e0-b665-4a13-b295-dc0ba0e4f706",
   "metadata": {},
   "outputs": [
    {
     "data": {
      "text/plain": [
       "150"
      ]
     },
     "execution_count": 24,
     "metadata": {},
     "output_type": "execute_result"
    }
   ],
   "source": [
    "len(set(people))"
   ]
  },
  {
   "cell_type": "code",
   "execution_count": 25,
   "id": "e89b2697-601d-402e-ac42-5e7395d2b29b",
   "metadata": {},
   "outputs": [],
   "source": [
    "people = [str(email.parent).split('/')[8] for email in emails]"
   ]
  },
  {
   "cell_type": "code",
   "execution_count": 26,
   "id": "adcfdf14-c19c-49d6-9ca2-634e89bdb970",
   "metadata": {},
   "outputs": [
    {
     "data": {
      "text/plain": [
       "150"
      ]
     },
     "execution_count": 26,
     "metadata": {},
     "output_type": "execute_result"
    }
   ],
   "source": [
    "len(set(people))"
   ]
  },
  {
   "cell_type": "code",
   "execution_count": 33,
   "id": "a83ca87f-2abf-409e-8131-180c13d47e00",
   "metadata": {},
   "outputs": [
    {
     "data": {
      "text/plain": [
       "'richard.shapiro@enron.com, linda.robertson@enron.com, j..kean@enron.com, \\n\\tlisa.yoho@enron.com, sarah.novosel@enron.com, l..nicolay@enron.com, \\n\\tcarin.nersesian@enron.com, pat.shortridge@enron.com, \\n\\td..steffes@enron.com, stacey.bolton@enron.com, \\n\\tjennifer.thome@enron.com, sue.nord@enron.com, m..landwehr@enron.com, \\n\\tdaniel.allegretti@enron.com, a..hueter@enron.com'"
      ]
     },
     "execution_count": 33,
     "metadata": {},
     "output_type": "execute_result"
    }
   ],
   "source": [
    "parsed_emails[0][1]['to']"
   ]
  },
  {
   "cell_type": "code",
   "execution_count": 35,
   "id": "de6fe5b5-a788-4e41-976e-6925ed1e6c9a",
   "metadata": {},
   "outputs": [
    {
     "data": {
      "text/plain": [
       "[('Message-ID', '<32259334.1075852468311.JavaMail.evans@thyme>'),\n",
       " ('Date', 'Thu, 4 Oct 2001 15:05:17 -0700 (PDT)'),\n",
       " ('From', 'john.shelk@enron.com'),\n",
       " ('To',\n",
       "  'richard.shapiro@enron.com, linda.robertson@enron.com, j..kean@enron.com, \\n\\tlisa.yoho@enron.com, sarah.novosel@enron.com, l..nicolay@enron.com, \\n\\tcarin.nersesian@enron.com, pat.shortridge@enron.com, \\n\\td..steffes@enron.com, stacey.bolton@enron.com, \\n\\tjennifer.thome@enron.com, sue.nord@enron.com, m..landwehr@enron.com, \\n\\tdaniel.allegretti@enron.com, a..hueter@enron.com'),\n",
       " ('Subject', 'Summary of Administration Comments on Bingaman Bill'),\n",
       " ('Mime-Version', '1.0'),\n",
       " ('Content-Type', 'text/plain; charset=us-ascii'),\n",
       " ('Content-Transfer-Encoding', '7bit'),\n",
       " ('X-From', 'Shelk, John </O=ENRON/OU=NA/CN=RECIPIENTS/CN=JSHELK>'),\n",
       " ('X-To',\n",
       "  'Shapiro, Richard </O=ENRON/OU=NA/CN=RECIPIENTS/CN=Rshapiro>, Robertson, Linda </O=ENRON/OU=NA/CN=RECIPIENTS/CN=Lrobert3>, Kean, Steven J. </O=ENRON/OU=NA/CN=RECIPIENTS/CN=Skean>, Yoho, Lisa </O=ENRON/OU=NA/CN=RECIPIENTS/CN=Lyoho>, Novosel, Sarah </O=ENRON/OU=NA/CN=RECIPIENTS/CN=Snovose>, Nicolay, Christi L. </O=ENRON/OU=NA/CN=RECIPIENTS/CN=Cnicola>, Nersesian, Carin </O=ENRON/OU=NA/CN=RECIPIENTS/CN=Cnersesi>, Shortridge, Pat </O=ENRON/OU=NA/CN=RECIPIENTS/CN=Pshortri>, Steffes, James D. </O=ENRON/OU=NA/CN=RECIPIENTS/CN=Jsteffe>, Bolton, Stacey </O=ENRON/OU=NA/CN=RECIPIENTS/CN=Sbolton>, Thome, Jennifer </O=ENRON/OU=NA/CN=RECIPIENTS/CN=Jthome>, Nord, Sue </O=ENRON/OU=NA/CN=RECIPIENTS/CN=Snord>, Landwehr, Susan M. </O=ENRON/OU=NA/CN=RECIPIENTS/CN=Slandweh>, Allegretti, Daniel </O=ENRON/OU=NA/CN=RECIPIENTS/CN=Dallegre>, Hueter, Barbara A. </O=ENRON/OU=NA/CN=RECIPIENTS/CN=Bhueter>'),\n",
       " ('X-cc', ''),\n",
       " ('X-bcc', ''),\n",
       " ('X-Folder', '\\\\JSTEFFE (Non-Privileged)\\\\Steffes, James D.\\\\Congress'),\n",
       " ('X-Origin', 'Steffes-J'),\n",
       " ('X-FileName', 'JSTEFFE (Non-Privileged).pst')]"
      ]
     },
     "execution_count": 35,
     "metadata": {},
     "output_type": "execute_result"
    }
   ],
   "source": [
    "parsed_emails[0][1].items()"
   ]
  },
  {
   "cell_type": "code",
   "execution_count": 36,
   "id": "b909f117-a92b-4ed4-b72e-c69c9ca620c5",
   "metadata": {},
   "outputs": [
    {
     "data": {
      "text/plain": [
       "<email.message.Message at 0x7f15a2ebef40>"
      ]
     },
     "execution_count": 36,
     "metadata": {},
     "output_type": "execute_result"
    }
   ],
   "source": [
    "parsed_emails[0][1]"
   ]
  },
  {
   "cell_type": "code",
   "execution_count": 37,
   "id": "3d929f85-66eb-412e-8578-07f2f6632db7",
   "metadata": {},
   "outputs": [
    {
     "data": {
      "text/plain": [
       "(0, <email.message.Message at 0x7f15a2ebef40>)"
      ]
     },
     "execution_count": 37,
     "metadata": {},
     "output_type": "execute_result"
    }
   ],
   "source": [
    "parsed_emails[0]"
   ]
  },
  {
   "cell_type": "code",
   "execution_count": 38,
   "id": "01279e36-959d-4cb7-b3e7-a88330707fdf",
   "metadata": {},
   "outputs": [
    {
     "data": {
      "text/plain": [
       "PosixPath('/home/miguel/Projects/tfm-nlp/data/raw/maildir/steffes-j/congress/3.')"
      ]
     },
     "execution_count": 38,
     "metadata": {},
     "output_type": "execute_result"
    }
   ],
   "source": [
    "clean_emails[0]"
   ]
  },
  {
   "cell_type": "code",
   "execution_count": 44,
   "id": "061f605a-9793-44d9-af3f-e0f535619f14",
   "metadata": {},
   "outputs": [
    {
     "data": {
      "text/plain": [
       "'Steffes-J'"
      ]
     },
     "execution_count": 44,
     "metadata": {},
     "output_type": "execute_result"
    }
   ],
   "source": [
    "parsed_emails[0][1]['X-Origin']"
   ]
  },
  {
   "cell_type": "code",
   "execution_count": 76,
   "id": "1b856e5f-632b-417a-b6ff-3e3139403a5c",
   "metadata": {},
   "outputs": [],
   "source": [
    "origins = [email[1]['X-Origin'] for email in parsed_emails]"
   ]
  },
  {
   "cell_type": "code",
   "execution_count": 83,
   "id": "e409f68b-5e8d-4af4-818a-fa779f5b9c59",
   "metadata": {},
   "outputs": [],
   "source": [
    "orig = []\n",
    "for origin in origins:\n",
    "    if origin is not None:\n",
    "        orig.append(origin.lower())\n",
    "    else:\n",
    "        orig.append(origin)"
   ]
  },
  {
   "cell_type": "code",
   "execution_count": 84,
   "id": "c343709e-46f0-445e-9251-e501dd634d77",
   "metadata": {},
   "outputs": [
    {
     "data": {
      "text/plain": [
       "158"
      ]
     },
     "execution_count": 84,
     "metadata": {},
     "output_type": "execute_result"
    }
   ],
   "source": [
    "len(set(orig))"
   ]
  },
  {
   "cell_type": "code",
   "execution_count": 85,
   "id": "f992ca5a-6e39-49af-a5d4-4528e35eec8c",
   "metadata": {},
   "outputs": [
    {
     "data": {
      "text/plain": [
       "{None,\n",
       " 'allen-p',\n",
       " 'arnold-j',\n",
       " 'arora-h',\n",
       " 'badeer-r',\n",
       " 'bailey-s',\n",
       " 'bass-e',\n",
       " 'baughman-d',\n",
       " 'baughman-e',\n",
       " 'beck-s',\n",
       " 'benson-r',\n",
       " 'blair-l',\n",
       " 'brawner-s',\n",
       " 'buy-r',\n",
       " 'campbell-l',\n",
       " 'carson-m',\n",
       " 'cash-m',\n",
       " 'causholli-m',\n",
       " 'corman-s',\n",
       " 'crandell-s',\n",
       " 'cuilla-m',\n",
       " 'dasovich-j',\n",
       " 'davis-d',\n",
       " 'dean-c',\n",
       " 'delainey-d',\n",
       " 'derrick-j',\n",
       " 'dickson-s',\n",
       " 'donoho-l',\n",
       " 'donohoe-t',\n",
       " 'dorland-c',\n",
       " 'ermis-f',\n",
       " 'farmer-d',\n",
       " 'fischer-m',\n",
       " 'forney-j',\n",
       " 'fossum-d',\n",
       " 'gang-l',\n",
       " 'gay-r',\n",
       " 'geaccone-t',\n",
       " 'germany-c',\n",
       " 'gilbertsmith-d',\n",
       " 'giron-d',\n",
       " 'griffith-j',\n",
       " 'grigsby-m',\n",
       " 'guzman-m',\n",
       " 'haedicke-m',\n",
       " 'hain-m',\n",
       " 'harris-s',\n",
       " 'hayslett-r',\n",
       " 'heard-m',\n",
       " 'hendrickson-s',\n",
       " 'hernandez-j',\n",
       " 'hodge-j',\n",
       " 'holst-k',\n",
       " 'horton-s',\n",
       " 'hyatt-k',\n",
       " 'hyvl-d',\n",
       " 'jones-t',\n",
       " 'kaminski-v',\n",
       " 'kean-s',\n",
       " 'keavey-p',\n",
       " 'keiser-k',\n",
       " 'king-j',\n",
       " 'kitchen-l',\n",
       " 'kuykendall-t',\n",
       " 'lavorado-j',\n",
       " 'lavorato-j',\n",
       " 'lay-k',\n",
       " 'lenhart-m',\n",
       " 'lewis-a',\n",
       " 'linder-e',\n",
       " 'lokay-m',\n",
       " 'lokey-t',\n",
       " 'love-p',\n",
       " 'lucci-p',\n",
       " 'luchi-p',\n",
       " 'maggi-m',\n",
       " 'mann-k',\n",
       " 'martin-t',\n",
       " 'may-l',\n",
       " 'mccarty-d',\n",
       " 'mcconnell-m',\n",
       " 'mckay-b',\n",
       " 'mckay-j',\n",
       " 'mclaughlin-e',\n",
       " 'merriss-s',\n",
       " 'meyers-a',\n",
       " 'mims-p',\n",
       " 'mims-thurston-p',\n",
       " 'motley-m',\n",
       " 'neal-s',\n",
       " 'nemec-g',\n",
       " 'panus-s',\n",
       " 'parks-j',\n",
       " 'pereira-s',\n",
       " 'perlingiere-d',\n",
       " 'phanis-s',\n",
       " 'pimenov-v',\n",
       " 'platter-p',\n",
       " 'presto-k',\n",
       " 'quenet-j',\n",
       " 'quigley-d',\n",
       " 'rapp-b',\n",
       " 'reitmeyer-j',\n",
       " 'richey-c',\n",
       " 'ring-a',\n",
       " 'ring-r',\n",
       " 'rodrique-r',\n",
       " 'rogers-b',\n",
       " 'ruscitti-k',\n",
       " 'sager-e',\n",
       " 'saibi-e',\n",
       " 'salisbury-h',\n",
       " 'sanchez-m',\n",
       " 'sanders-r',\n",
       " 'scholtes-d',\n",
       " 'schoolcraft-d',\n",
       " 'schwieger-j',\n",
       " 'scott-s',\n",
       " 'semperger-c',\n",
       " 'shackleton-s',\n",
       " 'shankman-j',\n",
       " 'shapiro-r',\n",
       " 'shively-h',\n",
       " 'skilling-j',\n",
       " 'slinger-r',\n",
       " 'smith-m',\n",
       " 'solberg-g',\n",
       " 'south-s',\n",
       " 'staab-t',\n",
       " 'stclair-c',\n",
       " 'steffes-j',\n",
       " 'stepenovitch-j',\n",
       " 'stokley-c',\n",
       " 'storey-g',\n",
       " 'sturm-f',\n",
       " 'swerzbin-m',\n",
       " 'symes-k',\n",
       " 'taylor-m',\n",
       " 'tholt-j',\n",
       " 'thomas-p',\n",
       " 'townsend-j',\n",
       " 'tycholiz-b',\n",
       " 'ward-k',\n",
       " 'watson-k',\n",
       " 'weldon-c',\n",
       " 'weldon-v',\n",
       " 'whalley-g',\n",
       " 'whalley-l',\n",
       " 'wheldon-c',\n",
       " 'white-s',\n",
       " 'whitt-m',\n",
       " 'williams-b',\n",
       " 'williams-j',\n",
       " 'williams-w3',\n",
       " 'wolfe-j',\n",
       " 'ybarbo-p',\n",
       " 'zipper-a',\n",
       " 'zufferli-j'}"
      ]
     },
     "execution_count": 85,
     "metadata": {},
     "output_type": "execute_result"
    }
   ],
   "source": [
    "set(orig)"
   ]
  },
  {
   "cell_type": "code",
   "execution_count": 73,
   "id": "1d33c726-1087-482f-98a5-3b07b620f6c5",
   "metadata": {},
   "outputs": [
    {
     "data": {
      "text/plain": [
       "'steffes-j'"
      ]
     },
     "execution_count": 73,
     "metadata": {},
     "output_type": "execute_result"
    }
   ],
   "source": [
    "origins[0].lower()"
   ]
  },
  {
   "cell_type": "code",
   "execution_count": 48,
   "id": "9733a321-4ab4-4c73-b028-c372ed16030e",
   "metadata": {},
   "outputs": [
    {
     "data": {
      "text/plain": [
       "257"
      ]
     },
     "execution_count": 48,
     "metadata": {},
     "output_type": "execute_result"
    }
   ],
   "source": [
    "len(set(origins))"
   ]
  },
  {
   "cell_type": "code",
   "execution_count": 81,
   "id": "4004ea09-612f-4e14-ab04-55d3d0eafc0e",
   "metadata": {},
   "outputs": [
    {
     "data": {
      "text/plain": [
       "{'ARNOLD-J',\n",
       " 'ARORA-H',\n",
       " 'Allen-P',\n",
       " 'Arnold-J',\n",
       " 'Arora-H',\n",
       " 'BAILEY-S',\n",
       " 'BASS-E',\n",
       " 'BAUGHMAN-D',\n",
       " 'BAUGHMAN-E',\n",
       " 'BECK-S',\n",
       " 'BENSON-R',\n",
       " 'BRAWNER-S',\n",
       " 'BUY-R',\n",
       " 'Badeer-R',\n",
       " 'Bailey-S',\n",
       " 'Bass-E',\n",
       " 'Baughman-D',\n",
       " 'Baughman-E',\n",
       " 'Beck-S',\n",
       " 'Benson-R',\n",
       " 'Blair-L',\n",
       " 'Brawner-S',\n",
       " 'Buy-R',\n",
       " 'CAMPBELL-L',\n",
       " 'CARSON-M',\n",
       " 'CORMAN-S',\n",
       " 'CRANDELL-S',\n",
       " 'CUILLA-M',\n",
       " 'Campbell-L',\n",
       " 'Carson-M',\n",
       " 'Cash-M',\n",
       " 'Causholli-M',\n",
       " 'Corman-S',\n",
       " 'Cuilla-M',\n",
       " 'DASOVICH-J',\n",
       " 'DAVIS-D',\n",
       " 'DEAN-C',\n",
       " 'DERRICK-J',\n",
       " 'DONOHOE-T',\n",
       " 'DORLAND-C',\n",
       " 'Dasovich-J',\n",
       " 'Davis-D',\n",
       " 'Dean-C',\n",
       " 'Delainey-D',\n",
       " 'Derrick-J',\n",
       " 'Dickson-S',\n",
       " 'Donoho-L',\n",
       " 'Donohoe-T',\n",
       " 'Dorland-C',\n",
       " 'ERMIS-F',\n",
       " 'Ermis-F',\n",
       " 'FARMER-D',\n",
       " 'FISCHER-M',\n",
       " 'FORNEY-J',\n",
       " 'FOSSUM-D',\n",
       " 'Farmer-D',\n",
       " 'Fischer-M',\n",
       " 'Forney-J',\n",
       " 'Fossum-D',\n",
       " 'GANG-L',\n",
       " 'GAY-R',\n",
       " 'GERMANY-C',\n",
       " 'GILBERTSMITH-D',\n",
       " 'GIRON-D',\n",
       " 'GRIFFITH-J',\n",
       " 'GUZMAN-M',\n",
       " 'Gay-R',\n",
       " 'Geaccone-T',\n",
       " 'Germany-C',\n",
       " 'Giron-D',\n",
       " 'Griffith-J',\n",
       " 'Grigsby-M',\n",
       " 'HAEDICKE-M',\n",
       " 'HAYSLETT-R',\n",
       " 'HENDRICKSON-S',\n",
       " 'HERNANDEZ-J',\n",
       " 'HODGE-J',\n",
       " 'HORTON-S',\n",
       " 'HYVL-D',\n",
       " 'Haedicke-M',\n",
       " 'Hain-M',\n",
       " 'Harris-S',\n",
       " 'Hayslett-R',\n",
       " 'Heard-M',\n",
       " 'Hendrickson-S',\n",
       " 'Hernandez-J',\n",
       " 'Hodge-J',\n",
       " 'Holst-K',\n",
       " 'Horton-S',\n",
       " 'Hyatt-K',\n",
       " 'Hyvl-D',\n",
       " 'JONES-T',\n",
       " 'Jones-T',\n",
       " 'KAMINSKI-V',\n",
       " 'KEAN-S',\n",
       " 'KEAVEY-P',\n",
       " 'KEISER-K',\n",
       " 'KING-J',\n",
       " 'KITCHEN-L',\n",
       " 'KUYKENDALL-T',\n",
       " 'Kaminski-V',\n",
       " 'Kean-S',\n",
       " 'Keavey-P',\n",
       " 'King-J',\n",
       " 'Kitchen-L',\n",
       " 'Kuykendall-T',\n",
       " 'LAVORATO-J',\n",
       " 'LAY-K',\n",
       " 'LENHART-M',\n",
       " 'LEWIS-A',\n",
       " 'LINDER-E',\n",
       " 'LOKAY-M',\n",
       " 'LOVE-P',\n",
       " 'Lavorado-J',\n",
       " 'Lavorato-J',\n",
       " 'Lay-K',\n",
       " 'Lenhart-M',\n",
       " 'Lewis-A',\n",
       " 'Lokay-M',\n",
       " 'Lokey-T',\n",
       " 'Love-P',\n",
       " 'Lucci-P',\n",
       " 'Luchi-P',\n",
       " 'MAGGI-M',\n",
       " 'MANN-K',\n",
       " 'MARTIN-T',\n",
       " 'MAY-L',\n",
       " 'MCCARTY-D',\n",
       " 'MCCONNELL-M',\n",
       " 'MCKAY-B',\n",
       " 'MCKAY-J',\n",
       " 'MCLAUGHLIN-E',\n",
       " 'MERRISS-S',\n",
       " 'MEYERS-A',\n",
       " 'MIMS-P',\n",
       " 'MOTLEY-M',\n",
       " 'Maggi-M',\n",
       " 'Mann-K',\n",
       " 'Martin-T',\n",
       " 'May-L',\n",
       " 'McCarty-D',\n",
       " 'McConnell-M',\n",
       " 'McKay-B',\n",
       " 'McKay-J',\n",
       " 'McLaughlin-E',\n",
       " 'Mckay-B',\n",
       " 'Mckay-J',\n",
       " 'Mims-Thurston-P',\n",
       " 'NEAL-S',\n",
       " 'NEMEC-G',\n",
       " 'Neal-S',\n",
       " 'Nemec-G',\n",
       " None,\n",
       " 'PARKS-J',\n",
       " 'PERLINGIERE-D',\n",
       " 'PIMENOV-V',\n",
       " 'PLATTER-P',\n",
       " 'PRESTO-K',\n",
       " 'Panus-S',\n",
       " 'Parks-J',\n",
       " 'Pereira-S',\n",
       " 'Perlingiere-D',\n",
       " 'Phanis-S',\n",
       " 'Pimenov-V',\n",
       " 'Presto-K',\n",
       " 'QUIGLEY-D',\n",
       " 'Quenet-J',\n",
       " 'Quigley-D',\n",
       " 'RAPP-B',\n",
       " 'REITMEYER-J',\n",
       " 'RICHEY-C',\n",
       " 'RING-A',\n",
       " 'ROGERS-B',\n",
       " 'RUSCITTI-K',\n",
       " 'Rapp-B',\n",
       " 'Reitmeyer-J',\n",
       " 'Ring-A',\n",
       " 'Ring-R',\n",
       " 'Rodrique-R',\n",
       " 'Rogers-B',\n",
       " 'Ruscitti-K',\n",
       " 'SAGER-E',\n",
       " 'SAIBI-E',\n",
       " 'SALISBURY-H',\n",
       " 'SANCHEZ-M',\n",
       " 'SCHOLTES-D',\n",
       " 'SCHOOLCRAFT-D',\n",
       " 'SCHWIEGER-J',\n",
       " 'SCOTT-S',\n",
       " 'SEMPERGER-C',\n",
       " 'SHACKLETON-S',\n",
       " 'SHANKMAN-J',\n",
       " 'SHAPIRO-R',\n",
       " 'SHIVELY-H',\n",
       " 'SKILLING-J',\n",
       " 'SLINGER-R',\n",
       " 'SMITH-M',\n",
       " 'SOLBERG-G',\n",
       " 'SOUTH-S',\n",
       " 'STCLAIR-C',\n",
       " 'STOREY-G',\n",
       " 'STURM-F',\n",
       " 'SWERZBIN-M',\n",
       " 'SYMES-K',\n",
       " 'Sager-E',\n",
       " 'Saibi-E',\n",
       " 'Sanchez-M',\n",
       " 'Sanders-R',\n",
       " 'Scholtes-D',\n",
       " 'Schoolcraft-D',\n",
       " 'Schwieger-J',\n",
       " 'Scott-S',\n",
       " 'Shackleton-S',\n",
       " 'Shankman-J',\n",
       " 'Shapiro-R',\n",
       " 'Shively-H',\n",
       " 'Skilling-J',\n",
       " 'Smith-M',\n",
       " 'StClair-C',\n",
       " 'Staab-T',\n",
       " 'Steffes-J',\n",
       " 'Stepenovitch-J',\n",
       " 'Stokley-C',\n",
       " 'Storey-G',\n",
       " 'Sturm-F',\n",
       " 'THOLT-J',\n",
       " 'THOMAS-P',\n",
       " 'TOWNSEND-J',\n",
       " 'TYCHOLIZ-B',\n",
       " 'Taylor-M',\n",
       " 'Tholt-J',\n",
       " 'Thomas-P',\n",
       " 'Townsend-J',\n",
       " 'Tycholiz-B',\n",
       " 'WARD-K',\n",
       " 'WELDON-V',\n",
       " 'WHALLEY-G',\n",
       " 'WHELDON-C',\n",
       " 'WHITE-S',\n",
       " 'WILLIAMS-J',\n",
       " 'WILLIAMS-W3',\n",
       " 'WOLFE-J',\n",
       " 'Ward-K',\n",
       " 'Watson-K',\n",
       " 'Weldon-C',\n",
       " 'Whalley-G',\n",
       " 'Whalley-L',\n",
       " 'White-S',\n",
       " 'Whitt-M',\n",
       " 'Williams-B',\n",
       " 'Williams-J',\n",
       " 'Wolfe-J',\n",
       " 'YBARBO-P',\n",
       " 'Ybarbo-P',\n",
       " 'ZIPPER-A',\n",
       " 'ZUFFERLI-J',\n",
       " 'Zipper-A'}"
      ]
     },
     "execution_count": 81,
     "metadata": {},
     "output_type": "execute_result"
    }
   ],
   "source": [
    "set(origins)"
   ]
  },
  {
   "cell_type": "code",
   "execution_count": 86,
   "id": "f605db6e-ec1c-4207-9833-c46835a2c210",
   "metadata": {},
   "outputs": [],
   "source": [
    "from collections import Counter"
   ]
  },
  {
   "cell_type": "code",
   "execution_count": 90,
   "id": "7d9456fb-5ce3-4587-abe6-d2f3fe0b106d",
   "metadata": {},
   "outputs": [
    {
     "data": {
      "text/plain": [
       "[('kean-s', 17127),\n",
       " ('dasovich-j', 16604),\n",
       " ('kaminski-v', 15739),\n",
       " ('mann-k', 11769),\n",
       " ('jones-t', 10646),\n",
       " ('shackleton-s', 10529),\n",
       " ('taylor-m', 8646),\n",
       " ('germany-c', 7417),\n",
       " ('nemec-g', 6424),\n",
       " ('beck-s', 6063),\n",
       " ('farmer-d', 5985),\n",
       " ('kitchen-l', 5545),\n",
       " ('scott-s', 4579),\n",
       " ('symes-k', 4541),\n",
       " ('bass-e', 4400),\n",
       " ('sanders-r', 4294),\n",
       " ('rogers-b', 3951),\n",
       " ('lay-k', 3900),\n",
       " ('shapiro-r', 3666),\n",
       " ('arnold-j', 3450),\n",
       " ('blair-l', 3415),\n",
       " ('love-p', 3389),\n",
       " ('lenhart-m', 3348),\n",
       " ('steffes-j', 3331),\n",
       " ('lokay-m', 3331),\n",
       " ('sager-e', 3283),\n",
       " ('campbell-l', 3206),\n",
       " ('haedicke-m', 3104),\n",
       " ('watson-k', 2950),\n",
       " ('white-s', 2927),\n",
       " ('perlingiere-d', 2873),\n",
       " ('giron-d', 2735),\n",
       " ('mcconnell-m', 2695),\n",
       " ('skilling-j', 2570),\n",
       " ('williams-w3', 2418),\n",
       " ('fossum-d', 2411),\n",
       " ('parks-j', 2284),\n",
       " ('cash-m', 2243),\n",
       " ('neal-s', 2209),\n",
       " ('lavorato-j', 2176),\n",
       " ('presto-k', 2133),\n",
       " ('shankman-j', 2121),\n",
       " ('mclaughlin-e', 2066),\n",
       " ('buy-r', 2062),\n",
       " ('guzman-m', 2060),\n",
       " ('ward-k', 2038),\n",
       " ('allen-p', 1994),\n",
       " ('corman-s', 1982),\n",
       " ('maggi-m', 1915),\n",
       " ('griffith-j', 1873),\n",
       " ('delainey-d', 1871),\n",
       " ('schoolcraft-d', 1859),\n",
       " ('lewis-a', 1803),\n",
       " ('hyatt-k', 1794),\n",
       " ('dean-c', 1789),\n",
       " ('hayslett-r', 1737),\n",
       " ('salisbury-h', 1632),\n",
       " ('heard-m', 1621),\n",
       " ('geaccone-t', 1591),\n",
       " ('hernandez-j', 1590),\n",
       " ('hyvl-d', 1583),\n",
       " ('quigley-d', 1568),\n",
       " ('whalley-g', 1557),\n",
       " ('rodrique-r', 1540),\n",
       " ('stclair-c', 1507),\n",
       " ('shively-h', 1500),\n",
       " ('derrick-j', 1476),\n",
       " ('grigsby-m', 1454),\n",
       " ('zipper-a', 1441),\n",
       " ('dorland-c', 1417),\n",
       " ('hodge-j', 1345),\n",
       " ('davis-d', 1344),\n",
       " ('smith-m', 1311),\n",
       " ('horton-s', 1308),\n",
       " ('keavey-p', 1308),\n",
       " ('thomas-p', 1293),\n",
       " ('may-l', 1286),\n",
       " ('tholt-j', 1267),\n",
       " ('stokley-c', 1252),\n",
       " ('hain-m', 1243),\n",
       " ('lavorado-j', 1240),\n",
       " ('wolfe-j', 1194),\n",
       " ('tycholiz-b', 1174),\n",
       " ('lokey-t', 1154),\n",
       " ('ybarbo-p', 1115),\n",
       " ('keiser-k', 1113),\n",
       " ('carson-m', 1105),\n",
       " ('meyers-a', 1099),\n",
       " ('saibi-e', 1090),\n",
       " ('mims-thurston-p', 1081),\n",
       " ('solberg-g', 1081),\n",
       " ('donoho-l', 1045),\n",
       " ('ruscitti-k', 1039),\n",
       " ('williams-b', 1022),\n",
       " ('baughman-e', 1004),\n",
       " ('mckay-j', 998),\n",
       " ('ring-r', 994),\n",
       " ('martin-t', 987),\n",
       " ('baughman-d', 978),\n",
       " ('williams-j', 971),\n",
       " ('whalley-l', 963),\n",
       " ('causholli-m', 943),\n",
       " ('linder-e', 941),\n",
       " ('storey-g', 894),\n",
       " ('sturm-f', 873),\n",
       " ('whitt-m', 807),\n",
       " ('stepenovitch-j', 803),\n",
       " ('cuilla-m', 778),\n",
       " ('gay-r', 762),\n",
       " ('kuykendall-t', 761),\n",
       " ('brawner-s', 740),\n",
       " ('fischer-m', 730),\n",
       " ('forney-j', 729),\n",
       " ('lucci-p', 724),\n",
       " ('semperger-c', 721),\n",
       " ('mccarty-d', 691),\n",
       " ('mims-p', 667),\n",
       " ('donohoe-t', 653),\n",
       " ('scholtes-d', 647),\n",
       " ('pimenov-v', 640),\n",
       " ('ermis-f', 622),\n",
       " ('staab-t', 621),\n",
       " ('weldon-v', 620),\n",
       " ('benson-r', 606),\n",
       " ('gang-l', 590),\n",
       " ('richey-c', 582),\n",
       " ('platter-p', 574),\n",
       " ('schwieger-j', 567),\n",
       " ('rapp-b', 563),\n",
       " ('harris-s', 562),\n",
       " ('mckay-b', 562),\n",
       " ('zufferli-j', 553),\n",
       " ('merriss-s', 548),\n",
       " ('pereira-s', 541),\n",
       " ('arora-h', 532),\n",
       " ('crandell-s', 519),\n",
       " ('reitmeyer-j', 498),\n",
       " ('ring-a', 494),\n",
       " ('townsend-j', 492),\n",
       " ('holst-k', 463),\n",
       " ('bailey-s', 462),\n",
       " ('hendrickson-s', 458),\n",
       " ('gilbertsmith-d', 446),\n",
       " ('panus-s', 435),\n",
       " ('motley-m', 378),\n",
       " ('swerzbin-m', 355),\n",
       " ('king-j', 348),\n",
       " ('wheldon-c', 307),\n",
       " ('badeer-r', 301),\n",
       " ('quenet-j', 297),\n",
       " ('luchi-p', 273),\n",
       " ('sanchez-m', 248),\n",
       " ('dickson-s', 196),\n",
       " ('weldon-c', 136),\n",
       " ('slinger-r', 132),\n",
       " ('south-s', 89),\n",
       " ('phanis-s', 35),\n",
       " (None, 29)]"
      ]
     },
     "execution_count": 90,
     "metadata": {},
     "output_type": "execute_result"
    }
   ],
   "source": [
    "Counter(orig).most_common()"
   ]
  },
  {
   "cell_type": "code",
   "execution_count": null,
   "id": "2f9f6144-a3ac-45d0-a7ce-b1ef066f90a1",
   "metadata": {},
   "outputs": [],
   "source": []
  }
 ],
 "metadata": {
  "kernelspec": {
   "display_name": "Python 3 (ipykernel)",
   "language": "python",
   "name": "python3"
  },
  "language_info": {
   "codemirror_mode": {
    "name": "ipython",
    "version": 3
   },
   "file_extension": ".py",
   "mimetype": "text/x-python",
   "name": "python",
   "nbconvert_exporter": "python",
   "pygments_lexer": "ipython3",
   "version": "3.9.12"
  }
 },
 "nbformat": 4,
 "nbformat_minor": 5
}
