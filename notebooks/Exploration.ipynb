{
 "cells": [
  {
   "cell_type": "code",
   "execution_count": 1,
   "id": "4b0ed231-e573-4f38-b47d-a32fcee5333a",
   "metadata": {},
   "outputs": [],
   "source": [
    "import pickle as pkl\n",
    "\n",
    "import matplotlib.pyplot as plt\n",
    "import numpy as np\n",
    "import pandas as pd\n",
    "import seaborn as sns\n",
    "\n",
    "from pathlib import Path"
   ]
  },
  {
   "cell_type": "code",
   "execution_count": 2,
   "id": "7f3158c2-86f2-4188-8dff-d4974eebf1ac",
   "metadata": {},
   "outputs": [],
   "source": [
    "data_dir = Path(Path.cwd().parent, Path('data/interim'))"
   ]
  },
  {
   "cell_type": "code",
   "execution_count": 3,
   "id": "8a62c613-024a-4a5a-9e36-73838a7a20b2",
   "metadata": {},
   "outputs": [
    {
     "data": {
      "text/plain": [
       "[PosixPath('/Users/mhc/MIRI/Q4/TFM/tfm-nlp/data/interim/parsed_emails_chains_all.pkl'),\n",
       " PosixPath('/Users/mhc/MIRI/Q4/TFM/tfm-nlp/data/interim/parsed_emails_chains_gt_1.pkl'),\n",
       " PosixPath('/Users/mhc/MIRI/Q4/TFM/tfm-nlp/data/interim/parsed_emails_chains_replies.pkl')]"
      ]
     },
     "execution_count": 3,
     "metadata": {},
     "output_type": "execute_result"
    }
   ],
   "source": [
    "sorted(data_dir.glob('*.pkl'))"
   ]
  },
  {
   "cell_type": "code",
   "execution_count": 4,
   "id": "0a2d4536-66ab-4499-b9c1-79dc2cf54ce4",
   "metadata": {},
   "outputs": [],
   "source": [
    "df = pd.read_pickle(Path(data_dir, 'parsed_emails_chains_all.pkl'))"
   ]
  },
  {
   "cell_type": "code",
   "execution_count": 5,
   "id": "0ad759a2-735b-4085-b4ef-25d07d22e606",
   "metadata": {},
   "outputs": [
    {
     "data": {
      "text/html": [
       "<div>\n",
       "<style scoped>\n",
       "    .dataframe tbody tr th:only-of-type {\n",
       "        vertical-align: middle;\n",
       "    }\n",
       "\n",
       "    .dataframe tbody tr th {\n",
       "        vertical-align: top;\n",
       "    }\n",
       "\n",
       "    .dataframe thead th {\n",
       "        text-align: right;\n",
       "    }\n",
       "</style>\n",
       "<table border=\"1\" class=\"dataframe\">\n",
       "  <thead>\n",
       "    <tr style=\"text-align: right;\">\n",
       "      <th></th>\n",
       "      <th>Message</th>\n",
       "      <th>Reply</th>\n",
       "      <th>Chain</th>\n",
       "      <th>Chain_len</th>\n",
       "      <th>Subject</th>\n",
       "      <th>Sender</th>\n",
       "      <th>Recipients</th>\n",
       "      <th>Timestamp</th>\n",
       "    </tr>\n",
       "  </thead>\n",
       "  <tbody>\n",
       "    <tr>\n",
       "      <th>0</th>\n",
       "      <td>The Enron government affairs group has been ac...</td>\n",
       "      <td>False</td>\n",
       "      <td>130993</td>\n",
       "      <td>1</td>\n",
       "      <td></td>\n",
       "      <td>maureen.mcvicker@enron.com</td>\n",
       "      <td></td>\n",
       "      <td>315532800</td>\n",
       "    </tr>\n",
       "    <tr>\n",
       "      <th>1</th>\n",
       "      <td>Currently an announcement is scheduled for mid...</td>\n",
       "      <td>True</td>\n",
       "      <td>13930</td>\n",
       "      <td>1</td>\n",
       "      <td>Re: Annual Meeting Q&amp;A</td>\n",
       "      <td>steven.kean@enron.com</td>\n",
       "      <td>mary.clark@enron.com</td>\n",
       "      <td>315532800</td>\n",
       "    </tr>\n",
       "    <tr>\n",
       "      <th>2</th>\n",
       "      <td>Summary of what we discussed the other night:\\...</td>\n",
       "      <td>False</td>\n",
       "      <td>207930</td>\n",
       "      <td>1</td>\n",
       "      <td>california energy prices</td>\n",
       "      <td>steven.kean@enron.com</td>\n",
       "      <td></td>\n",
       "      <td>315532800</td>\n",
       "    </tr>\n",
       "    <tr>\n",
       "      <th>3</th>\n",
       "      <td>- PRINCIPLES 4 with notes.doc\\n</td>\n",
       "      <td>False</td>\n",
       "      <td>130994</td>\n",
       "      <td>1</td>\n",
       "      <td></td>\n",
       "      <td>maureen.mcvicker@enron.com</td>\n",
       "      <td></td>\n",
       "      <td>315532800</td>\n",
       "    </tr>\n",
       "    <tr>\n",
       "      <th>4</th>\n",
       "      <td>Nigeria - Lagos State Project Phase II Signin...</td>\n",
       "      <td>False</td>\n",
       "      <td>15038</td>\n",
       "      <td>1</td>\n",
       "      <td>Archive Log for 7/10/2001 10:54:42 AM</td>\n",
       "      <td>archiving@enron.com</td>\n",
       "      <td></td>\n",
       "      <td>315532800</td>\n",
       "    </tr>\n",
       "    <tr>\n",
       "      <th>...</th>\n",
       "      <td>...</td>\n",
       "      <td>...</td>\n",
       "      <td>...</td>\n",
       "      <td>...</td>\n",
       "      <td>...</td>\n",
       "      <td>...</td>\n",
       "      <td>...</td>\n",
       "      <td>...</td>\n",
       "    </tr>\n",
       "    <tr>\n",
       "      <th>251063</th>\n",
       "      <td>\\n\\nUntitled Document\\n\\n\\n\\n\\nEducate yoursel...</td>\n",
       "      <td>False</td>\n",
       "      <td>1609</td>\n",
       "      <td>1</td>\n",
       "      <td>(None)</td>\n",
       "      <td>pse6yl706@aloha.net</td>\n",
       "      <td></td>\n",
       "      <td>1716720597</td>\n",
       "    </tr>\n",
       "    <tr>\n",
       "      <th>251064</th>\n",
       "      <td>\\nHappy New Year !\\n - marks.xls</td>\n",
       "      <td>False</td>\n",
       "      <td>213847</td>\n",
       "      <td>1</td>\n",
       "      <td>marks.xls</td>\n",
       "      <td>cramer@cadvision.com</td>\n",
       "      <td>linsider.jed@enron.com, john.zufferli@enron.co...</td>\n",
       "      <td>2334944052</td>\n",
       "    </tr>\n",
       "    <tr>\n",
       "      <th>251065</th>\n",
       "      <td>\\nfeb dec trades 37.5 \\nfeb dec LL went out 20...</td>\n",
       "      <td>False</td>\n",
       "      <td>218943</td>\n",
       "      <td>1</td>\n",
       "      <td>trades jan 2002</td>\n",
       "      <td>cramer@cadvision.com</td>\n",
       "      <td>john.zufferli@enron.com</td>\n",
       "      <td>2335391160</td>\n",
       "    </tr>\n",
       "    <tr>\n",
       "      <th>251066</th>\n",
       "      <td>\\nBOM  5th to 31st traded 34, 33.5 , 33.5 and ...</td>\n",
       "      <td>False</td>\n",
       "      <td>187755</td>\n",
       "      <td>2</td>\n",
       "      <td>Trades</td>\n",
       "      <td>cramer@cadvision.com</td>\n",
       "      <td>john.zufferli@enron.com</td>\n",
       "      <td>2335539586</td>\n",
       "    </tr>\n",
       "    <tr>\n",
       "      <th>251067</th>\n",
       "      <td>\\nHowdy, \\nbom went out 35 at 35.5 \\nFeb trade...</td>\n",
       "      <td>False</td>\n",
       "      <td>218948</td>\n",
       "      <td>1</td>\n",
       "      <td>trades</td>\n",
       "      <td>cramer@cadvision.com</td>\n",
       "      <td>john.zufferli@enron.com</td>\n",
       "      <td>2335560538</td>\n",
       "    </tr>\n",
       "  </tbody>\n",
       "</table>\n",
       "<p>251068 rows × 8 columns</p>\n",
       "</div>"
      ],
      "text/plain": [
       "                                                  Message  Reply   Chain  \\\n",
       "0       The Enron government affairs group has been ac...  False  130993   \n",
       "1       Currently an announcement is scheduled for mid...   True   13930   \n",
       "2       Summary of what we discussed the other night:\\...  False  207930   \n",
       "3                         - PRINCIPLES 4 with notes.doc\\n  False  130994   \n",
       "4        Nigeria - Lagos State Project Phase II Signin...  False   15038   \n",
       "...                                                   ...    ...     ...   \n",
       "251063  \\n\\nUntitled Document\\n\\n\\n\\n\\nEducate yoursel...  False    1609   \n",
       "251064                  \\nHappy New Year !\\n - marks.xls   False  213847   \n",
       "251065  \\nfeb dec trades 37.5 \\nfeb dec LL went out 20...  False  218943   \n",
       "251066  \\nBOM  5th to 31st traded 34, 33.5 , 33.5 and ...  False  187755   \n",
       "251067  \\nHowdy, \\nbom went out 35 at 35.5 \\nFeb trade...  False  218948   \n",
       "\n",
       "       Chain_len                                Subject  \\\n",
       "0              1                                          \n",
       "1              1                 Re: Annual Meeting Q&A   \n",
       "2              1               california energy prices   \n",
       "3              1                                          \n",
       "4              1  Archive Log for 7/10/2001 10:54:42 AM   \n",
       "...          ...                                    ...   \n",
       "251063         1                                 (None)   \n",
       "251064         1                              marks.xls   \n",
       "251065         1                        trades jan 2002   \n",
       "251066         2                                 Trades   \n",
       "251067         1                                 trades   \n",
       "\n",
       "                            Sender  \\\n",
       "0       maureen.mcvicker@enron.com   \n",
       "1            steven.kean@enron.com   \n",
       "2            steven.kean@enron.com   \n",
       "3       maureen.mcvicker@enron.com   \n",
       "4              archiving@enron.com   \n",
       "...                            ...   \n",
       "251063         pse6yl706@aloha.net   \n",
       "251064        cramer@cadvision.com   \n",
       "251065        cramer@cadvision.com   \n",
       "251066        cramer@cadvision.com   \n",
       "251067        cramer@cadvision.com   \n",
       "\n",
       "                                               Recipients   Timestamp  \n",
       "0                                                           315532800  \n",
       "1                                    mary.clark@enron.com   315532800  \n",
       "2                                                           315532800  \n",
       "3                                                           315532800  \n",
       "4                                                           315532800  \n",
       "...                                                   ...         ...  \n",
       "251063                                                     1716720597  \n",
       "251064  linsider.jed@enron.com, john.zufferli@enron.co...  2334944052  \n",
       "251065                            john.zufferli@enron.com  2335391160  \n",
       "251066                            john.zufferli@enron.com  2335539586  \n",
       "251067                            john.zufferli@enron.com  2335560538  \n",
       "\n",
       "[251068 rows x 8 columns]"
      ]
     },
     "execution_count": 5,
     "metadata": {},
     "output_type": "execute_result"
    }
   ],
   "source": [
    "df"
   ]
  },
  {
   "cell_type": "code",
   "execution_count": 36,
   "id": "a36fc43d-9a41-4273-bf40-b70a32513192",
   "metadata": {},
   "outputs": [
    {
     "data": {
      "text/plain": [
       "251068"
      ]
     },
     "execution_count": 36,
     "metadata": {},
     "output_type": "execute_result"
    }
   ],
   "source": [
    "len(df['Message'])"
   ]
  },
  {
   "cell_type": "code",
   "execution_count": null,
   "id": "2475c563-2a50-471e-ba72-43535b530a9f",
   "metadata": {},
   "outputs": [],
   "source": []
  },
  {
   "cell_type": "code",
   "execution_count": 39,
   "id": "eace54ea-f46b-49d4-bd84-a4e9bbf937ea",
   "metadata": {},
   "outputs": [
    {
     "data": {
      "text/plain": [
       "119647"
      ]
     },
     "execution_count": 39,
     "metadata": {},
     "output_type": "execute_result"
    }
   ],
   "source": [
    "len(df[['Sender','Recipients']].drop_duplicates())"
   ]
  },
  {
   "cell_type": "code",
   "execution_count": 41,
   "id": "ff9adf86-5387-426d-8237-cf43c4824467",
   "metadata": {},
   "outputs": [
    {
     "data": {
      "text/plain": [
       "19993"
      ]
     },
     "execution_count": 41,
     "metadata": {},
     "output_type": "execute_result"
    }
   ],
   "source": [
    "len(df['Sender'].unique())"
   ]
  },
  {
   "cell_type": "code",
   "execution_count": 16,
   "id": "846c32a1-cd8b-4713-9551-0ba85496db53",
   "metadata": {},
   "outputs": [
    {
     "data": {
      "text/plain": [
       "131203    798\n",
       "126965    290\n",
       "122336    233\n",
       "122191    123\n",
       "130942    122\n",
       "         ... \n",
       "119978      1\n",
       "33353       1\n",
       "34006       1\n",
       "33350       1\n",
       "218948      1\n",
       "Name: Chain, Length: 220309, dtype: int64"
      ]
     },
     "execution_count": 17,
     "metadata": {},
     "output_type": "execute_result"
    }
   ],
   "source": [
    "df['Chain'].value_counts().reset_index(drop=True)"
   ]
  },
  {
   "cell_type": "code",
   "execution_count": 45,
   "id": "d367ce3f-ea06-4d0b-ac5c-f05bce3ffecb",
   "metadata": {},
   "outputs": [
    {
     "data": {
      "text/plain": [
       "5.0636002995204485"
      ]
     },
     "execution_count": 45,
     "metadata": {},
     "output_type": "execute_result"
    }
   ],
   "source": [
    "df['Chain_len'].mean()"
   ]
  },
  {
   "cell_type": "code",
   "execution_count": 59,
   "id": "bd6fafd2-4485-450a-a108-e09894145713",
   "metadata": {},
   "outputs": [
    {
     "data": {
      "text/plain": [
       "12.557795228329915"
      ]
     },
     "execution_count": 59,
     "metadata": {},
     "output_type": "execute_result"
    }
   ],
   "source": [
    "X1.mean()"
   ]
  },
  {
   "cell_type": "code",
   "execution_count": 8,
   "id": "4a17eaf6-ffd0-4af7-b2d2-65f1e9ed46a1",
   "metadata": {},
   "outputs": [
    {
     "data": {
      "image/png": "[encoded data removed]",
      "text/plain": [
       "<Figure size 640x480 with 2 Axes>"
      ]
     },
     "metadata": {},
     "output_type": "display_data"
    }
   ],
   "source": [
    "X1 = df['Sender'].value_counts().reset_index(drop=True)\n",
    "X2 = df['Chain'].value_counts().reset_index(drop=True)\n",
    "\n",
    "fig, (ax1, ax2) = plt.subplots(2, 1)\n",
    "\n",
    "ax1.loglog(X1)\n",
    "ax1.hlines(X1.mean(),0,len(X1), color='red')\n",
    "ax1.set_xlabel('Number of Senders')\n",
    "ax1.set_ylabel('Number of Messages')\n",
    "\n",
    "ax2.loglog(X2)\n",
    "ax2.hlines(df['Chain_len'].mean(),0,len(X2), color='red')\n",
    "ax2.set_xlabel('Number of threads')\n",
    "ax2.set_ylabel('Number of Messages')\n",
    "\n",
    "fig.tight_layout()\n",
    "plt.savefig(Path('../img','senders_and_threads.png'),format='png')\n",
    "plt.show()"
   ]
  },
  {
   "cell_type": "code",
   "execution_count": null,
   "id": "b968ce98-f7b3-48a8-8412-584357d3df28",
   "metadata": {},
   "outputs": [],
   "source": []
  }
 ],
 "metadata": {
  "kernelspec": {
   "display_name": "Python 3 (ipykernel)",
   "language": "python",
   "name": "python3"
  },
  "language_info": {
   "codemirror_mode": {
    "name": "ipython",
    "version": 3
   },
   "file_extension": ".py",
   "mimetype": "text/x-python",
   "name": "python",
   "nbconvert_exporter": "python",
   "pygments_lexer": "ipython3",
   "version": "3.9.13"
  }
 },
 "nbformat": 4,
 "nbformat_minor": 5
}
