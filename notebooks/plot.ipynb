{
 "cells": [
  {
   "cell_type": "code",
   "execution_count": 1,
   "id": "1b9843c7",
   "metadata": {},
   "outputs": [
    {
     "data": {
      "text/html": [
       "<div id=\"mynetwork\"></div>\n"
      ],
      "text/plain": [
       "<IPython.core.display.HTML object>"
      ]
     },
     "metadata": {},
     "output_type": "display_data"
    }
   ],
   "source": [
    "%%HTML\n",
    "<div id=\"mynetwork\"></div>"
   ]
  },
  {
   "cell_type": "code",
   "execution_count": 2,
   "id": "e3f14b59",
   "metadata": {},
   "outputs": [],
   "source": [
    "html_template = \"\"\"\n",
    "<div id=\"%(name)s\"></div>\n",
    "<script>\n",
    "require.config({\n",
    "    paths: {\n",
    "        vis: '//unpkg.com/vis-network/standalone/umd/vis-network.min'\n",
    "    }\n",
    "});\n",
    "require(['vis'], function(vis){\n",
    "var nodes = %(nodes)s;\n",
    "var edges = %(edges)s;\n",
    "var data= {\n",
    "    nodes: nodes,\n",
    "    edges: edges,\n",
    "};\n",
    "var options = %(options)s;\n",
    "var container = document.getElementById('%(name)s');\n",
    "var network = new vis.Network(container, data, options);\n",
    "});\n",
    "</script>\n",
    "\"\"\""
   ]
  },
  {
   "cell_type": "code",
   "execution_count": 3,
   "id": "a53bfbb3",
   "metadata": {},
   "outputs": [],
   "source": [
    "from IPython.display import HTML, display\n",
    "import uuid, json\n",
    "def vis_graph(nodes=None, edges=None, options=None, template=html_template):\n",
    "    name = str(uuid.uuid4())\n",
    "    if nodes is None:\n",
    "        nodes = [{'id': 0}, {'id': 1}]\n",
    "    if edges is None:\n",
    "        edges = [{'from': 0, 'to': 1}]\n",
    "    if options is None:\n",
    "        options=dict()\n",
    "    options.setdefault('width', '800px')\n",
    "    options.setdefault('height', '600px')\n",
    "    dic = {'name': name, 'nodes': json.dumps(nodes), 'edges': json.dumps(edges), 'options': json.dumps(options)}\n",
    "    display(HTML(template % dic))\n"
   ]
  },
  {
   "cell_type": "code",
   "execution_count": 4,
   "id": "dd6923ea",
   "metadata": {},
   "outputs": [],
   "source": [
    "with open('output/nodes.json', 'r') as f:\n",
    "    nodes = json.load(f)\n",
    "\n",
    "with open('output/edges.json', 'r') as f:\n",
    "    edges = json.load(f)\n",
    "\n",
    "for k in edges:\n",
    "    k['arrows'] = 'to'"
   ]
  },
  {
   "cell_type": "code",
   "execution_count": 5,
   "id": "a685288e",
   "metadata": {},
   "outputs": [],
   "source": [
    "options = {\n",
    "    'groups': {\n",
    "        \"source1\": {\n",
    "            'color': {\n",
    "                'background': 'red',\n",
    "                'border': 'maroon'\n",
    "            },\n",
    "            'shadow': {\n",
    "                'enabled': True,\n",
    "                'color': 'rgba(0,0,0,0.5)',\n",
    "                'x': 6,\n",
    "                'y': 6\n",
    "            }\n",
    "        },\n",
    "        \"source2\": {\n",
    "            'color': {\n",
    "                'background': 'blue',\n",
    "                'border': 'navy'\n",
    "            },\n",
    "            'shadow': {\n",
    "                'enabled': True,\n",
    "                'color': 'rgba(0,0,0,0.5)',\n",
    "                'x': 6,\n",
    "                'y': 6\n",
    "            }\n",
    "        },\n",
    "        \"word\": {\n",
    "            'color': {\n",
    "                'background': 'white',\n",
    "                'border': 'darkGreen'\n",
    "            },\n",
    "            'shadow': {\n",
    "                'enabled': True,\n",
    "                'color': 'rgba(0,0,0,0.5)',\n",
    "                'x': 6,\n",
    "                'y': 6\n",
    "            }\n",
    "        },\n",
    "        \"person\": {\n",
    "            'color': {\n",
    "                'background': 'gold',\n",
    "                'border': 'brown'\n",
    "            },\n",
    "            'font': { 'color': 'black', 'size': 14 },\n",
    "            'shadow': {\n",
    "                'enabled': True,\n",
    "                'color': 'rgba(0,0,0,0.5)',\n",
    "                'x': 6,\n",
    "                'y': 6\n",
    "            }\n",
    "        }\n",
    "    }\n",
    "}"
   ]
  },
  {
   "cell_type": "code",
   "execution_count": 11,
   "id": "f95fa506",
   "metadata": {},
   "outputs": [
    {
     "data": {
      "text/html": [
       "\n",
       "<div id=\"4e39acd9-9b36-46ba-8cba-51447d190d87\"></div>\n",
       "<script>\n",
       "require.config({\n",
       "    paths: {\n",
       "        vis: '//unpkg.com/vis-network/standalone/umd/vis-network.min'\n",
       "    }\n",
       "});\n",
       "require(['vis'], function(vis){\n",
       "var nodes = [{\"id\": 0, \"label\": \"chris.germany@enron.com\", \"group\": \"person\"}, {\"id\": 1, \"label\": \"debra.perlingiere@enron.com\", \"group\": \"person\"}, {\"id\": 2, \"label\": \"drew.fossum@enron.com\", \"group\": \"person\"}, {\"id\": 3, \"label\": \"enron.announcements@enron.com\", \"group\": \"person\"}, {\"id\": 4, \"label\": \"eric.bass@enron.com\", \"group\": \"person\"}, {\"id\": 5, \"label\": \"gerald.nemec@enron.com\", \"group\": \"person\"}, {\"id\": 6, \"label\": \"jeff.dasovich@enron.com\", \"group\": \"person\"}, {\"id\": 7, \"label\": \"john.arnold@enron.com\", \"group\": \"person\"}, {\"id\": 8, \"label\": \"kate.symes@enron.com\", \"group\": \"person\"}, {\"id\": 9, \"label\": \"kay.mann@enron.com\", \"group\": \"person\"}, {\"id\": 10, \"label\": \"mark.taylor@enron.com\", \"group\": \"person\"}, {\"id\": 11, \"label\": \"matthew.lenhart@enron.com\", \"group\": \"person\"}, {\"id\": 12, \"label\": \"no.address@enron.com\", \"group\": \"person\"}, {\"id\": 13, \"label\": \"other\", \"group\": \"person\"}, {\"id\": 14, \"label\": \"pete.davis@enron.com\", \"group\": \"person\"}, {\"id\": 15, \"label\": \"sally.beck@enron.com\", \"group\": \"person\"}, {\"id\": 16, \"label\": \"sara.shackleton@enron.com\", \"group\": \"person\"}, {\"id\": 17, \"label\": \"steven.kean@enron.com\", \"group\": \"person\"}, {\"id\": 18, \"label\": \"susan.scott@enron.com\", \"group\": \"person\"}, {\"id\": 19, \"label\": \"tana.jones@enron.com\", \"group\": \"person\"}, {\"id\": 20, \"label\": \"vince.kaminski@enron.com\", \"group\": \"person\"}, {\"id\": 21, \"label\": \"HOU\", \"group\": \"word\"}, {\"id\": 22, \"label\": \"Enron\", \"group\": \"word\"}, {\"id\": 23, \"label\": \"Chris Germany\", \"group\": \"word\"}, {\"id\": 24, \"label\": \"ENRON\", \"group\": \"word\"}, {\"id\": 25, \"label\": \"GE Power Systems\", \"group\": \"word\"}, {\"id\": 26, \"label\": \"Corp\", \"group\": \"word\"}, {\"id\": 27, \"label\": \"Chris\", \"group\": \"word\"}, {\"id\": 28, \"label\": \"Germany\", \"group\": \"word\"}, {\"id\": 29, \"label\": \"ENA\", \"group\": \"word\"}, {\"id\": 30, \"label\": \"Think\", \"group\": \"word\"}, {\"id\": 31, \"label\": \"CES\", \"group\": \"word\"}, {\"id\": 32, \"label\": \"Atlanta\", \"group\": \"word\"}, {\"id\": 33, \"label\": null, \"group\": \"word\"}, {\"id\": 34, \"label\": \"Dominion\", \"group\": \"word\"}, {\"id\": 35, \"label\": \"Energy\", \"group\": \"word\"}, {\"id\": 36, \"label\": \"Debra Perlingiere\", \"group\": \"word\"}, {\"id\": 37, \"label\": \"Houston , Texas\", \"group\": \"word\"}, {\"id\": 38, \"label\": \"Debra Perlingiere Enron North America Corp . Legal\", \"group\": \"word\"}, {\"id\": 39, \"label\": \"Debra\", \"group\": \"word\"}, {\"id\": 40, \"label\": \"enron\", \"group\": \"word\"}, {\"id\": 41, \"label\": \"America\", \"group\": \"word\"}, {\"id\": 42, \"label\": \"Perlingiere\", \"group\": \"word\"}, {\"id\": 43, \"label\": \"Debra Perlingiere Enron North America Corp\", \"group\": \"word\"}, {\"id\": 44, \"label\": \"Judy\", \"group\": \"word\"}, {\"id\": 45, \"label\": \"Lora\", \"group\": \"word\"}, {\"id\": 46, \"label\": \"Enron Corp\", \"group\": \"word\"}, {\"id\": 47, \"label\": \"Drew Fossum\", \"group\": \"word\"}, {\"id\": 48, \"label\": \"Mary Kay Miller\", \"group\": \"word\"}, {\"id\": 49, \"label\": \"Sierra Pacific Resources\", \"group\": \"word\"}, {\"id\": 50, \"label\": \"Drew\", \"group\": \"word\"}, {\"id\": 51, \"label\": \"Portland\", \"group\": \"word\"}, {\"id\": 52, \"label\": \"Mike\", \"group\": \"word\"}, {\"id\": 53, \"label\": \"TW\", \"group\": \"word\"}, {\"id\": 54, \"label\": \"Steven Harris\", \"group\": \"word\"}, {\"id\": 55, \"label\": \"California\", \"group\": \"word\"}, {\"id\": 56, \"label\": \"Glen Hass\", \"group\": \"word\"}, {\"id\": 57, \"label\": \"ETS\", \"group\": \"word\"}, {\"id\": 58, \"label\": \"Houston\", \"group\": \"word\"}, {\"id\": 59, \"label\": \"London\", \"group\": \"word\"}, {\"id\": 60, \"label\": \"Jeff\", \"group\": \"word\"}, {\"id\": 61, \"label\": \"Japan\", \"group\": \"word\"}, {\"id\": 62, \"label\": \"Europe\", \"group\": \"word\"}, {\"id\": 63, \"label\": \"North America\", \"group\": \"word\"}, {\"id\": 64, \"label\": \"Enron Global Assets\", \"group\": \"word\"}, {\"id\": 65, \"label\": \"EIM\", \"group\": \"word\"}, {\"id\": 66, \"label\": \"Sun\", \"group\": \"word\"}, {\"id\": 67, \"label\": \"Malcolm Wells\", \"group\": \"word\"}, {\"id\": 68, \"label\": \"AMERICAN\", \"group\": \"word\"}, {\"id\": 69, \"label\": \"Eric Bass\", \"group\": \"word\"}, {\"id\": 70, \"label\": \"Eric\", \"group\": \"word\"}, {\"id\": 71, \"label\": \"Jason\", \"group\": \"word\"}, {\"id\": 72, \"label\": \"Larry W\", \"group\": \"word\"}, {\"id\": 73, \"label\": \"I've\", \"group\": \"word\"}, {\"id\": 74, \"label\": \"Texas\", \"group\": \"word\"}, {\"id\": 75, \"label\": \"David Baumbach\", \"group\": \"word\"}, {\"id\": 76, \"label\": \"Enron Communications\", \"group\": \"word\"}, {\"id\": 77, \"label\": \"Brian Hoskins\", \"group\": \"word\"}, {\"id\": 78, \"label\": \"Enron North America Corp\", \"group\": \"word\"}, {\"id\": 79, \"label\": \"Gerald Nemec\", \"group\": \"word\"}, {\"id\": 80, \"label\": \"Gerald\", \"group\": \"word\"}, {\"id\": 81, \"label\": \"Nemec\", \"group\": \"word\"}, {\"id\": 82, \"label\": \"Gallup\", \"group\": \"word\"}, {\"id\": 83, \"label\": \"Mary\", \"group\": \"word\"}, {\"id\": 84, \"label\": \"Inc\", \"group\": \"word\"}, {\"id\": 85, \"label\": \"Mary Jo Johnson\", \"group\": \"word\"}, {\"id\": 86, \"label\": \"AEC\", \"group\": \"word\"}, {\"id\": 87, \"label\": \"Brian\", \"group\": \"word\"}, {\"id\": 88, \"label\": \"Jeff Dasovich\", \"group\": \"word\"}, {\"id\": 89, \"label\": \"PUC\", \"group\": \"word\"}, {\"id\": 90, \"label\": \"Edison\", \"group\": \"word\"}, {\"id\": 91, \"label\": \"Davis\", \"group\": \"word\"}, {\"id\": 92, \"label\": \"Susan J Mara\", \"group\": \"word\"}, {\"id\": 93, \"label\": \"DWR\", \"group\": \"word\"}, {\"id\": 94, \"label\": \"Paul Kaufman\", \"group\": \"word\"}, {\"id\": 95, \"label\": \"Freeman\", \"group\": \"word\"}, {\"id\": 96, \"label\": \"John\", \"group\": \"word\"}, {\"id\": 97, \"label\": \"John Arnold\", \"group\": \"word\"}, {\"id\": 98, \"label\": \"Arnold\", \"group\": \"word\"}, {\"id\": 99, \"label\": \"CN\", \"group\": \"word\"}, {\"id\": 100, \"label\": \"OU\", \"group\": \"word\"}, {\"id\": 101, \"label\": \"Margaret\", \"group\": \"word\"}, {\"id\": 102, \"label\": \"Kevin M Presto\", \"group\": \"word\"}, {\"id\": 103, \"label\": \"Allen\", \"group\": \"word\"}, {\"id\": 104, \"label\": \"Jennifer\", \"group\": \"word\"}, {\"id\": 105, \"label\": \"BNP\", \"group\": \"word\"}, {\"id\": 106, \"label\": \"BlackBerry\", \"group\": \"word\"}, {\"id\": 107, \"label\": \"Kate Symes\", \"group\": \"word\"}, {\"id\": 108, \"label\": \"Kate\", \"group\": \"word\"}, {\"id\": 109, \"label\": \"Kate Evelyn Metoyer\", \"group\": \"word\"}, {\"id\": 110, \"label\": \"Kerri Thompson\", \"group\": \"word\"}, {\"id\": 111, \"label\": \"Mike Swerzbin\", \"group\": \"word\"}, {\"id\": 112, \"label\": \"Evelyn Metoyer\", \"group\": \"word\"}, {\"id\": 113, \"label\": \"Kate Kerri Thompson\", \"group\": \"word\"}, {\"id\": 114, \"label\": \"It's\", \"group\": \"word\"}, {\"id\": 115, \"label\": \"Rhonda L Denton\", \"group\": \"word\"}, {\"id\": 116, \"label\": \"Jeff Richter\", \"group\": \"word\"}, {\"id\": 117, \"label\": \"Kay Mann\", \"group\": \"word\"}, {\"id\": 118, \"label\": \"Kay\", \"group\": \"word\"}, {\"id\": 119, \"label\": \"GE\", \"group\": \"word\"}, {\"id\": 120, \"label\": \"Ben Jacoby\", \"group\": \"word\"}, {\"id\": 121, \"label\": \"Ben\", \"group\": \"word\"}, {\"id\": 122, \"label\": \"ABB\", \"group\": \"word\"}, {\"id\": 123, \"label\": \"Chris Booth\", \"group\": \"word\"}, {\"id\": 124, \"label\": \"Suzanne Adams\", \"group\": \"word\"}, {\"id\": 125, \"label\": \"Mann\", \"group\": \"word\"}, {\"id\": 126, \"label\": \"Mark Taylor\", \"group\": \"word\"}, {\"id\": 127, \"label\": \"LON\", \"group\": \"word\"}, {\"id\": 128, \"label\": \"Mark\", \"group\": \"word\"}, {\"id\": 129, \"label\": \"Taylor\", \"group\": \"word\"}, {\"id\": 130, \"label\": \"William S Bradford\", \"group\": \"word\"}, {\"id\": 131, \"label\": \"Dale Neuner\", \"group\": \"word\"}, {\"id\": 132, \"label\": \"Justin Boyd\", \"group\": \"word\"}, {\"id\": 133, \"label\": \"David Forster\", \"group\": \"word\"}, {\"id\": 134, \"label\": \"Tana Jones\", \"group\": \"word\"}, {\"id\": 135, \"label\": \"Carol St Clair\", \"group\": \"word\"}, {\"id\": 136, \"label\": \"Bank of Nova Scotia\", \"group\": \"word\"}, {\"id\": 137, \"label\": \"Matthew\", \"group\": \"word\"}, {\"id\": 138, \"label\": \"Lenhart\", \"group\": \"word\"}, {\"id\": 139, \"label\": \"Erin Richardson\", \"group\": \"word\"}, {\"id\": 140, \"label\": \"Matthew Lenhart\", \"group\": \"word\"}, {\"id\": 141, \"label\": \"MILLER\", \"group\": \"word\"}, {\"id\": 142, \"label\": \"Florida\", \"group\": \"word\"}, {\"id\": 143, \"label\": \"MICHAELS\", \"group\": \"word\"}, {\"id\": 144, \"label\": \"Charles H Otto\", \"group\": \"word\"}, {\"id\": 145, \"label\": \"matt\", \"group\": \"word\"}, {\"id\": 146, \"label\": \"Chris Gaskill\", \"group\": \"word\"}, {\"id\": 147, \"label\": \"Ross Prevatt\", \"group\": \"word\"}, {\"id\": 148, \"label\": \"ISC\", \"group\": \"word\"}, {\"id\": 149, \"label\": \"ARDMORE\", \"group\": \"word\"}, {\"id\": 150, \"label\": \"OSS\", \"group\": \"word\"}, {\"id\": 151, \"label\": \"Management\", \"group\": \"word\"}, {\"id\": 152, \"label\": \"Nexis\", \"group\": \"word\"}, {\"id\": 153, \"label\": \"Big E Caf\", \"group\": \"word\"}, {\"id\": 154, \"label\": \"Canada\", \"group\": \"word\"}, {\"id\": 155, \"label\": \"Dow Jones\", \"group\": \"word\"}, {\"id\": 156, \"label\": \"txt\", \"group\": \"word\"}, {\"id\": 157, \"label\": \"EPMI\", \"group\": \"word\"}, {\"id\": 158, \"label\": \"SC\", \"group\": \"word\"}, {\"id\": 159, \"label\": \"ENRJ\", \"group\": \"word\"}, {\"id\": 160, \"label\": \"EPPS\", \"group\": \"word\"}, {\"id\": 161, \"label\": \"HARBGN_7_UNITS\", \"group\": \"word\"}, {\"id\": 162, \"label\": \"NFRM\", \"group\": \"word\"}, {\"id\": 163, \"label\": \"CALGEN_1_UNITS\", \"group\": \"word\"}, {\"id\": 164, \"label\": \"Bill\", \"group\": \"word\"}, {\"id\": 165, \"label\": \"BADLND_7_PL1X2\", \"group\": \"word\"}, {\"id\": 166, \"label\": \"Pete\", \"group\": \"word\"}, {\"id\": 167, \"label\": \"ARCO MKT_TYPE\", \"group\": \"word\"}, {\"id\": 168, \"label\": \"Bill Williams\", \"group\": \"word\"}, {\"id\": 169, \"label\": \"Sally Beck\", \"group\": \"word\"}, {\"id\": 170, \"label\": \"Sally\", \"group\": \"word\"}, {\"id\": 171, \"label\": \"James\", \"group\": \"word\"}, {\"id\": 172, \"label\": \"Ted\", \"group\": \"word\"}, {\"id\": 173, \"label\": \"Patti Thompson\", \"group\": \"word\"}, {\"id\": 174, \"label\": \"Sara Shackleton\", \"group\": \"word\"}, {\"id\": 175, \"label\": \"Sara\", \"group\": \"word\"}, {\"id\": 176, \"label\": \"Sara Shackleton Enron North America Corp\", \"group\": \"word\"}, {\"id\": 177, \"label\": \"Sara Shackleton Enron\", \"group\": \"word\"}, {\"id\": 178, \"label\": \"Brazil\", \"group\": \"word\"}, {\"id\": 179, \"label\": \"Steven J Kean\", \"group\": \"word\"}, {\"id\": 180, \"label\": \"Richard Shapiro\", \"group\": \"word\"}, {\"id\": 181, \"label\": \"billings\", \"group\": \"word\"}, {\"id\": 182, \"label\": \"FERC\", \"group\": \"word\"}, {\"id\": 183, \"label\": \"Gray Davis\", \"group\": \"word\"}, {\"id\": 184, \"label\": \"Omaha\", \"group\": \"word\"}, {\"id\": 185, \"label\": \"Susan M Scott\", \"group\": \"word\"}, {\"id\": 186, \"label\": \"Susan Scott\", \"group\": \"word\"}, {\"id\": 187, \"label\": \"Susan\", \"group\": \"word\"}, {\"id\": 188, \"label\": \"El Paso\", \"group\": \"word\"}, {\"id\": 189, \"label\": \"Tana\", \"group\": \"word\"}, {\"id\": 190, \"label\": \"Tom Moran\", \"group\": \"word\"}, {\"id\": 191, \"label\": \"Samuel Schott\", \"group\": \"word\"}, {\"id\": 192, \"label\": \"Karen Lambert\", \"group\": \"word\"}, {\"id\": 193, \"label\": \"Mark Greenberg\", \"group\": \"word\"}, {\"id\": 194, \"label\": \"Vince J Kaminski\", \"group\": \"word\"}, {\"id\": 195, \"label\": \"Vince\", \"group\": \"word\"}, {\"id\": 196, \"label\": \"Shirley\", \"group\": \"word\"}, {\"id\": 197, \"label\": \"Shirley Crenshaw\", \"group\": \"word\"}, {\"id\": 198, \"label\": \"Vince Kaminski\", \"group\": \"word\"}, {\"id\": 199, \"label\": \"Stinson\", \"group\": \"word\"}];\n",
       "var edges = [{\"from\": 0, \"to\": 21, \"arrows\": \"to\"}, {\"from\": 1, \"to\": 21, \"arrows\": \"to\"}, {\"from\": 2, \"to\": 21, \"arrows\": \"to\"}, {\"from\": 4, \"to\": 21, \"arrows\": \"to\"}, {\"from\": 5, \"to\": 21, \"arrows\": \"to\"}, {\"from\": 6, \"to\": 21, \"arrows\": \"to\"}, {\"from\": 7, \"to\": 21, \"arrows\": \"to\"}, {\"from\": 8, \"to\": 21, \"arrows\": \"to\"}, {\"from\": 9, \"to\": 21, \"arrows\": \"to\"}, {\"from\": 10, \"to\": 21, \"arrows\": \"to\"}, {\"from\": 11, \"to\": 21, \"arrows\": \"to\"}, {\"from\": 13, \"to\": 21, \"arrows\": \"to\"}, {\"from\": 15, \"to\": 21, \"arrows\": \"to\"}, {\"from\": 16, \"to\": 21, \"arrows\": \"to\"}, {\"from\": 17, \"to\": 21, \"arrows\": \"to\"}, {\"from\": 18, \"to\": 21, \"arrows\": \"to\"}, {\"from\": 19, \"to\": 21, \"arrows\": \"to\"}, {\"from\": 20, \"to\": 21, \"arrows\": \"to\"}, {\"from\": 0, \"to\": 22, \"arrows\": \"to\"}, {\"from\": 1, \"to\": 22, \"arrows\": \"to\"}, {\"from\": 2, \"to\": 22, \"arrows\": \"to\"}, {\"from\": 3, \"to\": 22, \"arrows\": \"to\"}, {\"from\": 4, \"to\": 22, \"arrows\": \"to\"}, {\"from\": 5, \"to\": 22, \"arrows\": \"to\"}, {\"from\": 6, \"to\": 22, \"arrows\": \"to\"}, {\"from\": 7, \"to\": 22, \"arrows\": \"to\"}, {\"from\": 8, \"to\": 22, \"arrows\": \"to\"}, {\"from\": 9, \"to\": 22, \"arrows\": \"to\"}, {\"from\": 10, \"to\": 22, \"arrows\": \"to\"}, {\"from\": 11, \"to\": 22, \"arrows\": \"to\"}, {\"from\": 12, \"to\": 22, \"arrows\": \"to\"}, {\"from\": 13, \"to\": 22, \"arrows\": \"to\"}, {\"from\": 15, \"to\": 22, \"arrows\": \"to\"}, {\"from\": 16, \"to\": 22, \"arrows\": \"to\"}, {\"from\": 17, \"to\": 22, \"arrows\": \"to\"}, {\"from\": 18, \"to\": 22, \"arrows\": \"to\"}, {\"from\": 19, \"to\": 22, \"arrows\": \"to\"}, {\"from\": 20, \"to\": 22, \"arrows\": \"to\"}, {\"from\": 0, \"to\": 23, \"arrows\": \"to\"}, {\"from\": 0, \"to\": 24, \"arrows\": \"to\"}, {\"from\": 1, \"to\": 24, \"arrows\": \"to\"}, {\"from\": 2, \"to\": 24, \"arrows\": \"to\"}, {\"from\": 4, \"to\": 24, \"arrows\": \"to\"}, {\"from\": 5, \"to\": 24, \"arrows\": \"to\"}, {\"from\": 6, \"to\": 24, \"arrows\": \"to\"}, {\"from\": 7, \"to\": 24, \"arrows\": \"to\"}, {\"from\": 8, \"to\": 24, \"arrows\": \"to\"}, {\"from\": 9, \"to\": 24, \"arrows\": \"to\"}, {\"from\": 10, \"to\": 24, \"arrows\": \"to\"}, {\"from\": 11, \"to\": 24, \"arrows\": \"to\"}, {\"from\": 12, \"to\": 24, \"arrows\": \"to\"}, {\"from\": 13, \"to\": 24, \"arrows\": \"to\"}, {\"from\": 15, \"to\": 24, \"arrows\": \"to\"}, {\"from\": 16, \"to\": 24, \"arrows\": \"to\"}, {\"from\": 17, \"to\": 24, \"arrows\": \"to\"}, {\"from\": 18, \"to\": 24, \"arrows\": \"to\"}, {\"from\": 19, \"to\": 24, \"arrows\": \"to\"}, {\"from\": 20, \"to\": 24, \"arrows\": \"to\"}, {\"from\": 0, \"to\": 25, \"arrows\": \"to\"}, {\"from\": 0, \"to\": 26, \"arrows\": \"to\"}, {\"from\": 2, \"to\": 26, \"arrows\": \"to\"}, {\"from\": 4, \"to\": 26, \"arrows\": \"to\"}, {\"from\": 5, \"to\": 26, \"arrows\": \"to\"}, {\"from\": 6, \"to\": 26, \"arrows\": \"to\"}, {\"from\": 7, \"to\": 26, \"arrows\": \"to\"}, {\"from\": 8, \"to\": 26, \"arrows\": \"to\"}, {\"from\": 9, \"to\": 26, \"arrows\": \"to\"}, {\"from\": 10, \"to\": 26, \"arrows\": \"to\"}, {\"from\": 13, \"to\": 26, \"arrows\": \"to\"}, {\"from\": 15, \"to\": 26, \"arrows\": \"to\"}, {\"from\": 16, \"to\": 26, \"arrows\": \"to\"}, {\"from\": 17, \"to\": 26, \"arrows\": \"to\"}, {\"from\": 18, \"to\": 26, \"arrows\": \"to\"}, {\"from\": 19, \"to\": 26, \"arrows\": \"to\"}, {\"from\": 20, \"to\": 26, \"arrows\": \"to\"}, {\"from\": 0, \"to\": 27, \"arrows\": \"to\"}, {\"from\": 5, \"to\": 27, \"arrows\": \"to\"}, {\"from\": 0, \"to\": 28, \"arrows\": \"to\"}, {\"from\": 0, \"to\": 29, \"arrows\": \"to\"}, {\"from\": 1, \"to\": 29, \"arrows\": \"to\"}, {\"from\": 3, \"to\": 29, \"arrows\": \"to\"}, {\"from\": 9, \"to\": 29, \"arrows\": \"to\"}, {\"from\": 13, \"to\": 29, \"arrows\": \"to\"}, {\"from\": 15, \"to\": 29, \"arrows\": \"to\"}, {\"from\": 16, \"to\": 29, \"arrows\": \"to\"}, {\"from\": 0, \"to\": 30, \"arrows\": \"to\"}, {\"from\": 0, \"to\": 31, \"arrows\": \"to\"}, {\"from\": 0, \"to\": 32, \"arrows\": \"to\"}, {\"from\": 0, \"to\": 33, \"arrows\": \"to\"}, {\"from\": 4, \"to\": 33, \"arrows\": \"to\"}, {\"from\": 6, \"to\": 33, \"arrows\": \"to\"}, {\"from\": 9, \"to\": 33, \"arrows\": \"to\"}, {\"from\": 13, \"to\": 33, \"arrows\": \"to\"}, {\"from\": 15, \"to\": 33, \"arrows\": \"to\"}, {\"from\": 16, \"to\": 33, \"arrows\": \"to\"}, {\"from\": 17, \"to\": 33, \"arrows\": \"to\"}, {\"from\": 18, \"to\": 33, \"arrows\": \"to\"}, {\"from\": 19, \"to\": 33, \"arrows\": \"to\"}, {\"from\": 20, \"to\": 33, \"arrows\": \"to\"}, {\"from\": 0, \"to\": 34, \"arrows\": \"to\"}, {\"from\": 0, \"to\": 35, \"arrows\": \"to\"}, {\"from\": 14, \"to\": 35, \"arrows\": \"to\"}, {\"from\": 1, \"to\": 36, \"arrows\": \"to\"}, {\"from\": 1, \"to\": 37, \"arrows\": \"to\"}, {\"from\": 16, \"to\": 37, \"arrows\": \"to\"}, {\"from\": 1, \"to\": 38, \"arrows\": \"to\"}, {\"from\": 1, \"to\": 39, \"arrows\": \"to\"}, {\"from\": 1, \"to\": 40, \"arrows\": \"to\"}, {\"from\": 1, \"to\": 41, \"arrows\": \"to\"}, {\"from\": 3, \"to\": 41, \"arrows\": \"to\"}, {\"from\": 1, \"to\": 42, \"arrows\": \"to\"}, {\"from\": 1, \"to\": 43, \"arrows\": \"to\"}, {\"from\": 1, \"to\": 44, \"arrows\": \"to\"}, {\"from\": 1, \"to\": 45, \"arrows\": \"to\"}, {\"from\": 1, \"to\": 46, \"arrows\": \"to\"}, {\"from\": 3, \"to\": 46, \"arrows\": \"to\"}, {\"from\": 11, \"to\": 46, \"arrows\": \"to\"}, {\"from\": 13, \"to\": 46, \"arrows\": \"to\"}, {\"from\": 16, \"to\": 46, \"arrows\": \"to\"}, {\"from\": 2, \"to\": 47, \"arrows\": \"to\"}, {\"from\": 18, \"to\": 47, \"arrows\": \"to\"}, {\"from\": 2, \"to\": 48, \"arrows\": \"to\"}, {\"from\": 2, \"to\": 49, \"arrows\": \"to\"}, {\"from\": 2, \"to\": 50, \"arrows\": \"to\"}, {\"from\": 2, \"to\": 51, \"arrows\": \"to\"}, {\"from\": 2, \"to\": 52, \"arrows\": \"to\"}, {\"from\": 13, \"to\": 52, \"arrows\": \"to\"}, {\"from\": 15, \"to\": 52, \"arrows\": \"to\"}, {\"from\": 2, \"to\": 53, \"arrows\": \"to\"}, {\"from\": 2, \"to\": 54, \"arrows\": \"to\"}, {\"from\": 2, \"to\": 55, \"arrows\": \"to\"}, {\"from\": 6, \"to\": 55, \"arrows\": \"to\"}, {\"from\": 13, \"to\": 55, \"arrows\": \"to\"}, {\"from\": 14, \"to\": 55, \"arrows\": \"to\"}, {\"from\": 17, \"to\": 55, \"arrows\": \"to\"}, {\"from\": 18, \"to\": 55, \"arrows\": \"to\"}, {\"from\": 20, \"to\": 55, \"arrows\": \"to\"}, {\"from\": 2, \"to\": 56, \"arrows\": \"to\"}, {\"from\": 2, \"to\": 57, \"arrows\": \"to\"}, {\"from\": 3, \"to\": 58, \"arrows\": \"to\"}, {\"from\": 12, \"to\": 58, \"arrows\": \"to\"}, {\"from\": 13, \"to\": 58, \"arrows\": \"to\"}, {\"from\": 15, \"to\": 58, \"arrows\": \"to\"}, {\"from\": 16, \"to\": 58, \"arrows\": \"to\"}, {\"from\": 18, \"to\": 58, \"arrows\": \"to\"}, {\"from\": 20, \"to\": 58, \"arrows\": \"to\"}, {\"from\": 3, \"to\": 59, \"arrows\": \"to\"}, {\"from\": 12, \"to\": 59, \"arrows\": \"to\"}, {\"from\": 15, \"to\": 59, \"arrows\": \"to\"}, {\"from\": 20, \"to\": 59, \"arrows\": \"to\"}, {\"from\": 3, \"to\": 60, \"arrows\": \"to\"}, {\"from\": 6, \"to\": 60, \"arrows\": \"to\"}, {\"from\": 3, \"to\": 61, \"arrows\": \"to\"}, {\"from\": 3, \"to\": 62, \"arrows\": \"to\"}, {\"from\": 12, \"to\": 62, \"arrows\": \"to\"}, {\"from\": 3, \"to\": 63, \"arrows\": \"to\"}, {\"from\": 3, \"to\": 64, \"arrows\": \"to\"}, {\"from\": 3, \"to\": 65, \"arrows\": \"to\"}, {\"from\": 3, \"to\": 66, \"arrows\": \"to\"}, {\"from\": 12, \"to\": 66, \"arrows\": \"to\"}, {\"from\": 3, \"to\": 67, \"arrows\": \"to\"}, {\"from\": 12, \"to\": 67, \"arrows\": \"to\"}, {\"from\": 3, \"to\": 68, \"arrows\": \"to\"}, {\"from\": 12, \"to\": 68, \"arrows\": \"to\"}, {\"from\": 4, \"to\": 69, \"arrows\": \"to\"}, {\"from\": 4, \"to\": 70, \"arrows\": \"to\"}, {\"from\": 4, \"to\": 71, \"arrows\": \"to\"}, {\"from\": 4, \"to\": 72, \"arrows\": \"to\"}, {\"from\": 4, \"to\": 73, \"arrows\": \"to\"}, {\"from\": 8, \"to\": 73, \"arrows\": \"to\"}, {\"from\": 18, \"to\": 73, \"arrows\": \"to\"}, {\"from\": 4, \"to\": 74, \"arrows\": \"to\"}, {\"from\": 5, \"to\": 74, \"arrows\": \"to\"}, {\"from\": 13, \"to\": 74, \"arrows\": \"to\"}, {\"from\": 4, \"to\": 75, \"arrows\": \"to\"}, {\"from\": 4, \"to\": 76, \"arrows\": \"to\"}, {\"from\": 13, \"to\": 76, \"arrows\": \"to\"}, {\"from\": 15, \"to\": 76, \"arrows\": \"to\"}, {\"from\": 18, \"to\": 76, \"arrows\": \"to\"}, {\"from\": 19, \"to\": 76, \"arrows\": \"to\"}, {\"from\": 20, \"to\": 76, \"arrows\": \"to\"}, {\"from\": 4, \"to\": 77, \"arrows\": \"to\"}, {\"from\": 4, \"to\": 78, \"arrows\": \"to\"}, {\"from\": 5, \"to\": 79, \"arrows\": \"to\"}, {\"from\": 5, \"to\": 80, \"arrows\": \"to\"}, {\"from\": 5, \"to\": 81, \"arrows\": \"to\"}, {\"from\": 5, \"to\": 82, \"arrows\": \"to\"}, {\"from\": 5, \"to\": 83, \"arrows\": \"to\"}, {\"from\": 5, \"to\": 84, \"arrows\": \"to\"}, {\"from\": 13, \"to\": 84, \"arrows\": \"to\"}, {\"from\": 16, \"to\": 84, \"arrows\": \"to\"}, {\"from\": 19, \"to\": 84, \"arrows\": \"to\"}, {\"from\": 5, \"to\": 85, \"arrows\": \"to\"}, {\"from\": 5, \"to\": 86, \"arrows\": \"to\"}, {\"from\": 5, \"to\": 87, \"arrows\": \"to\"}, {\"from\": 6, \"to\": 88, \"arrows\": \"to\"}, {\"from\": 6, \"to\": 89, \"arrows\": \"to\"}, {\"from\": 6, \"to\": 90, \"arrows\": \"to\"}, {\"from\": 17, \"to\": 90, \"arrows\": \"to\"}, {\"from\": 6, \"to\": 91, \"arrows\": \"to\"}, {\"from\": 17, \"to\": 91, \"arrows\": \"to\"}, {\"from\": 6, \"to\": 92, \"arrows\": \"to\"}, {\"from\": 6, \"to\": 93, \"arrows\": \"to\"}, {\"from\": 6, \"to\": 94, \"arrows\": \"to\"}, {\"from\": 6, \"to\": 95, \"arrows\": \"to\"}, {\"from\": 7, \"to\": 96, \"arrows\": \"to\"}, {\"from\": 13, \"to\": 96, \"arrows\": \"to\"}, {\"from\": 7, \"to\": 97, \"arrows\": \"to\"}, {\"from\": 7, \"to\": 98, \"arrows\": \"to\"}, {\"from\": 7, \"to\": 99, \"arrows\": \"to\"}, {\"from\": 7, \"to\": 100, \"arrows\": \"to\"}, {\"from\": 7, \"to\": 101, \"arrows\": \"to\"}, {\"from\": 7, \"to\": 102, \"arrows\": \"to\"}, {\"from\": 7, \"to\": 103, \"arrows\": \"to\"}, {\"from\": 7, \"to\": 104, \"arrows\": \"to\"}, {\"from\": 7, \"to\": 105, \"arrows\": \"to\"}, {\"from\": 7, \"to\": 106, \"arrows\": \"to\"}, {\"from\": 8, \"to\": 107, \"arrows\": \"to\"}, {\"from\": 8, \"to\": 108, \"arrows\": \"to\"}, {\"from\": 8, \"to\": 109, \"arrows\": \"to\"}, {\"from\": 8, \"to\": 110, \"arrows\": \"to\"}, {\"from\": 8, \"to\": 111, \"arrows\": \"to\"}, {\"from\": 8, \"to\": 112, \"arrows\": \"to\"}, {\"from\": 8, \"to\": 113, \"arrows\": \"to\"}, {\"from\": 8, \"to\": 114, \"arrows\": \"to\"}, {\"from\": 8, \"to\": 115, \"arrows\": \"to\"}, {\"from\": 8, \"to\": 116, \"arrows\": \"to\"}, {\"from\": 9, \"to\": 117, \"arrows\": \"to\"}, {\"from\": 9, \"to\": 118, \"arrows\": \"to\"}, {\"from\": 9, \"to\": 119, \"arrows\": \"to\"}, {\"from\": 9, \"to\": 120, \"arrows\": \"to\"}, {\"from\": 9, \"to\": 121, \"arrows\": \"to\"}, {\"from\": 9, \"to\": 122, \"arrows\": \"to\"}, {\"from\": 9, \"to\": 123, \"arrows\": \"to\"}, {\"from\": 9, \"to\": 124, \"arrows\": \"to\"}, {\"from\": 9, \"to\": 125, \"arrows\": \"to\"}, {\"from\": 10, \"to\": 126, \"arrows\": \"to\"}, {\"from\": 19, \"to\": 126, \"arrows\": \"to\"}, {\"from\": 10, \"to\": 127, \"arrows\": \"to\"}, {\"from\": 17, \"to\": 127, \"arrows\": \"to\"}, {\"from\": 19, \"to\": 127, \"arrows\": \"to\"}, {\"from\": 10, \"to\": 128, \"arrows\": \"to\"}, {\"from\": 10, \"to\": 129, \"arrows\": \"to\"}, {\"from\": 10, \"to\": 130, \"arrows\": \"to\"}, {\"from\": 10, \"to\": 131, \"arrows\": \"to\"}, {\"from\": 10, \"to\": 132, \"arrows\": \"to\"}, {\"from\": 10, \"to\": 133, \"arrows\": \"to\"}, {\"from\": 10, \"to\": 134, \"arrows\": \"to\"}, {\"from\": 19, \"to\": 134, \"arrows\": \"to\"}, {\"from\": 10, \"to\": 135, \"arrows\": \"to\"}, {\"from\": 10, \"to\": 136, \"arrows\": \"to\"}, {\"from\": 11, \"to\": 137, \"arrows\": \"to\"}, {\"from\": 11, \"to\": 138, \"arrows\": \"to\"}, {\"from\": 11, \"to\": 139, \"arrows\": \"to\"}, {\"from\": 11, \"to\": 140, \"arrows\": \"to\"}, {\"from\": 11, \"to\": 141, \"arrows\": \"to\"}, {\"from\": 11, \"to\": 142, \"arrows\": \"to\"}, {\"from\": 11, \"to\": 143, \"arrows\": \"to\"}, {\"from\": 11, \"to\": 144, \"arrows\": \"to\"}, {\"from\": 11, \"to\": 145, \"arrows\": \"to\"}, {\"from\": 11, \"to\": 146, \"arrows\": \"to\"}, {\"from\": 11, \"to\": 147, \"arrows\": \"to\"}, {\"from\": 12, \"to\": 148, \"arrows\": \"to\"}, {\"from\": 12, \"to\": 149, \"arrows\": \"to\"}, {\"from\": 12, \"to\": 150, \"arrows\": \"to\"}, {\"from\": 12, \"to\": 151, \"arrows\": \"to\"}, {\"from\": 12, \"to\": 152, \"arrows\": \"to\"}, {\"from\": 12, \"to\": 153, \"arrows\": \"to\"}, {\"from\": 12, \"to\": 154, \"arrows\": \"to\"}, {\"from\": 13, \"to\": 155, \"arrows\": \"to\"}, {\"from\": 14, \"to\": 156, \"arrows\": \"to\"}, {\"from\": 14, \"to\": 157, \"arrows\": \"to\"}, {\"from\": 14, \"to\": 158, \"arrows\": \"to\"}, {\"from\": 14, \"to\": 159, \"arrows\": \"to\"}, {\"from\": 14, \"to\": 160, \"arrows\": \"to\"}, {\"from\": 14, \"to\": 161, \"arrows\": \"to\"}, {\"from\": 14, \"to\": 162, \"arrows\": \"to\"}, {\"from\": 14, \"to\": 163, \"arrows\": \"to\"}, {\"from\": 14, \"to\": 164, \"arrows\": \"to\"}, {\"from\": 14, \"to\": 165, \"arrows\": \"to\"}, {\"from\": 14, \"to\": 166, \"arrows\": \"to\"}, {\"from\": 14, \"to\": 167, \"arrows\": \"to\"}, {\"from\": 14, \"to\": 168, \"arrows\": \"to\"}, {\"from\": 15, \"to\": 169, \"arrows\": \"to\"}, {\"from\": 15, \"to\": 170, \"arrows\": \"to\"}, {\"from\": 15, \"to\": 171, \"arrows\": \"to\"}, {\"from\": 15, \"to\": 172, \"arrows\": \"to\"}, {\"from\": 15, \"to\": 173, \"arrows\": \"to\"}, {\"from\": 16, \"to\": 174, \"arrows\": \"to\"}, {\"from\": 16, \"to\": 175, \"arrows\": \"to\"}, {\"from\": 16, \"to\": 176, \"arrows\": \"to\"}, {\"from\": 16, \"to\": 177, \"arrows\": \"to\"}, {\"from\": 16, \"to\": 178, \"arrows\": \"to\"}, {\"from\": 17, \"to\": 179, \"arrows\": \"to\"}, {\"from\": 17, \"to\": 180, \"arrows\": \"to\"}, {\"from\": 17, \"to\": 181, \"arrows\": \"to\"}, {\"from\": 17, \"to\": 182, \"arrows\": \"to\"}, {\"from\": 18, \"to\": 182, \"arrows\": \"to\"}, {\"from\": 17, \"to\": 183, \"arrows\": \"to\"}, {\"from\": 17, \"to\": 184, \"arrows\": \"to\"}, {\"from\": 18, \"to\": 185, \"arrows\": \"to\"}, {\"from\": 18, \"to\": 186, \"arrows\": \"to\"}, {\"from\": 18, \"to\": 187, \"arrows\": \"to\"}, {\"from\": 18, \"to\": 188, \"arrows\": \"to\"}, {\"from\": 19, \"to\": 189, \"arrows\": \"to\"}, {\"from\": 19, \"to\": 190, \"arrows\": \"to\"}, {\"from\": 19, \"to\": 191, \"arrows\": \"to\"}, {\"from\": 19, \"to\": 192, \"arrows\": \"to\"}, {\"from\": 19, \"to\": 193, \"arrows\": \"to\"}, {\"from\": 20, \"to\": 194, \"arrows\": \"to\"}, {\"from\": 20, \"to\": 195, \"arrows\": \"to\"}, {\"from\": 20, \"to\": 196, \"arrows\": \"to\"}, {\"from\": 20, \"to\": 197, \"arrows\": \"to\"}, {\"from\": 20, \"to\": 198, \"arrows\": \"to\"}, {\"from\": 20, \"to\": 199, \"arrows\": \"to\"}];\n",
       "var data= {\n",
       "    nodes: nodes,\n",
       "    edges: edges,\n",
       "};\n",
       "var options = {\"groups\": {\"source1\": {\"color\": {\"background\": \"red\", \"border\": \"maroon\"}, \"shadow\": {\"enabled\": true, \"color\": \"rgba(0,0,0,0.5)\", \"x\": 6, \"y\": 6}}, \"source2\": {\"color\": {\"background\": \"blue\", \"border\": \"navy\"}, \"shadow\": {\"enabled\": true, \"color\": \"rgba(0,0,0,0.5)\", \"x\": 6, \"y\": 6}}, \"word\": {\"color\": {\"background\": \"white\", \"border\": \"darkGreen\"}, \"shadow\": {\"enabled\": true, \"color\": \"rgba(0,0,0,0.5)\", \"x\": 6, \"y\": 6}}, \"person\": {\"color\": {\"background\": \"gold\", \"border\": \"brown\"}, \"font\": {\"color\": \"black\", \"size\": 14}, \"shadow\": {\"enabled\": true, \"color\": \"rgba(0,0,0,0.5)\", \"x\": 6, \"y\": 6}}}, \"width\": \"800px\", \"height\": \"600px\"};\n",
       "var container = document.getElementById('4e39acd9-9b36-46ba-8cba-51447d190d87');\n",
       "var network = new vis.Network(container, data, options);\n",
       "});\n",
       "</script>\n"
      ],
      "text/plain": [
       "<IPython.core.display.HTML object>"
      ]
     },
     "metadata": {},
     "output_type": "display_data"
    }
   ],
   "source": [
    "vis_graph(nodes=nodes, edges=edges, options=options)"
   ]
  },
  {
   "cell_type": "code",
   "execution_count": 12,
   "id": "02df1683",
   "metadata": {},
   "outputs": [],
   "source": [
    "with open('output/nodes_year.json', 'r') as f:\n",
    "    nodes = json.load(f)\n",
    "\n",
    "with open('output/edges_year.json', 'r') as f:\n",
    "    edges = json.load(f)\n",
    "\n",
    "for k in edges:\n",
    "    k['arrows'] = 'to'"
   ]
  },
  {
   "cell_type": "code",
   "execution_count": 13,
   "id": "21157301",
   "metadata": {},
   "outputs": [
    {
     "data": {
      "text/html": [
       "\n",
       "<div id=\"db22c437-8048-4ff1-a6ae-df360eadaba1\"></div>\n",
       "<script>\n",
       "require.config({\n",
       "    paths: {\n",
       "        vis: '//unpkg.com/vis-network/standalone/umd/vis-network.min'\n",
       "    }\n",
       "});\n",
       "require(['vis'], function(vis){\n",
       "var nodes = [{\"id\": 0, \"label\": \"0\", \"group\": \"Year_\"}, {\"id\": 1, \"label\": \"1997\", \"group\": \"Year_\"}, {\"id\": 2, \"label\": \"1998\", \"group\": \"Year_\"}, {\"id\": 3, \"label\": \"1999\", \"group\": \"Year_\"}, {\"id\": 4, \"label\": \"2000\", \"group\": \"Year_\"}, {\"id\": 5, \"label\": \"2001\", \"group\": \"Year_\"}, {\"id\": 6, \"label\": \"2002\", \"group\": \"Year_\"}, {\"id\": 7, \"label\": \"Enron\", \"group\": \"word\"}, {\"id\": 8, \"label\": \"HOU\", \"group\": \"word\"}, {\"id\": 9, \"label\": \"John Sherriff\", \"group\": \"word\"}, {\"id\": 10, \"label\": \"Rick\", \"group\": \"word\"}, {\"id\": 11, \"label\": \"Spain\", \"group\": \"word\"}, {\"id\": 12, \"label\": \"Avista\", \"group\": \"word\"}, {\"id\": 13, \"label\": \"Avista Energy\", \"group\": \"word\"}, {\"id\": 14, \"label\": \"Blair Strong\", \"group\": \"word\"}, {\"id\": 15, \"label\": \"Vince J Kaminski\", \"group\": \"word\"}, {\"id\": 16, \"label\": \"Joe Gold\", \"group\": \"word\"}, {\"id\": 17, \"label\": \"Rick Buy\", \"group\": \"word\"}, {\"id\": 18, \"label\": \"Nigeria\", \"group\": \"word\"}, {\"id\": 19, \"label\": \"Nolan Steiner\", \"group\": \"word\"}, {\"id\": 20, \"label\": \"PGET\", \"group\": \"word\"}, {\"id\": 21, \"label\": \"Pierre\", \"group\": \"word\"}, {\"id\": 22, \"label\": \"Malcolm\", \"group\": \"word\"}, {\"id\": 23, \"label\": \"John Henderson\", \"group\": \"word\"}, {\"id\": 24, \"label\": \"Dave Duran\", \"group\": \"word\"}, {\"id\": 25, \"label\": \"Marty Sunde\", \"group\": \"word\"}, {\"id\": 26, \"label\": \"Jim Fallon\", \"group\": \"word\"}, {\"id\": 27, \"label\": \"Sean Holmes\", \"group\": \"word\"}, {\"id\": 28, \"label\": \"Dave Parquet\", \"group\": \"word\"}, {\"id\": 29, \"label\": \"Lou Pai\", \"group\": \"word\"}, {\"id\": 30, \"label\": \"Cynthia\", \"group\": \"word\"}, {\"id\": 31, \"label\": \"Cannon\", \"group\": \"word\"}, {\"id\": 32, \"label\": \"Tim Vail\", \"group\": \"word\"}, {\"id\": 33, \"label\": \"Tim Brown\", \"group\": \"word\"}, {\"id\": 34, \"label\": \"MCI we'll\", \"group\": \"word\"}, {\"id\": 35, \"label\": \"Pallone\", \"group\": \"word\"}, {\"id\": 36, \"label\": \"New York\", \"group\": \"word\"}, {\"id\": 37, \"label\": \"HOUSTON\", \"group\": \"word\"}, {\"id\": 38, \"label\": \"COLO SPRINGS COLO\", \"group\": \"word\"}, {\"id\": 39, \"label\": \"Taylor\", \"group\": \"word\"}, {\"id\": 40, \"label\": \"Continental\", \"group\": \"word\"}, {\"id\": 41, \"label\": \"Continental Airlines\", \"group\": \"word\"}, {\"id\": 42, \"label\": \"Jennifer Sabine\", \"group\": \"word\"}, {\"id\": 43, \"label\": \"Randy\", \"group\": \"word\"}, {\"id\": 44, \"label\": \"Indemnification\", \"group\": \"word\"}, {\"id\": 45, \"label\": \"Party\", \"group\": \"word\"}, {\"id\": 46, \"label\": \"Miles Debited\", \"group\": \"word\"}, {\"id\": 47, \"label\": \"Michelle Cash\", \"group\": \"word\"}, {\"id\": 48, \"label\": \"Mark\", \"group\": \"word\"}, {\"id\": 49, \"label\": \"SC471253\", \"group\": \"word\"}, {\"id\": 50, \"label\": \"South America\", \"group\": \"word\"}, {\"id\": 51, \"label\": \"ENRON\", \"group\": \"word\"}, {\"id\": 52, \"label\": \"Sara Shackleton\", \"group\": \"word\"}, {\"id\": 53, \"label\": \"Corp\", \"group\": \"word\"}, {\"id\": 54, \"label\": \"Tana Jones\", \"group\": \"word\"}, {\"id\": 55, \"label\": \"Brazil\", \"group\": \"word\"}, {\"id\": 56, \"label\": \"LON\", \"group\": \"word\"}, {\"id\": 57, \"label\": \"Sara\", \"group\": \"word\"}, {\"id\": 58, \"label\": \"Inc\", \"group\": \"word\"}, {\"id\": 59, \"label\": \"El Paso\", \"group\": \"word\"}, {\"id\": 60, \"label\": \"Enron North America Corp\", \"group\": \"word\"}, {\"id\": 61, \"label\": \"Brent Hendry\", \"group\": \"word\"}, {\"id\": 62, \"label\": \"Enron Communications\", \"group\": \"word\"}, {\"id\": 63, \"label\": \"nan\", \"group\": \"word\"}, {\"id\": 64, \"label\": \"California\", \"group\": \"word\"}, {\"id\": 65, \"label\": \"ENA\", \"group\": \"word\"}, {\"id\": 66, \"label\": \"Houston\", \"group\": \"word\"}, {\"id\": 67, \"label\": \"Vince\", \"group\": \"word\"}, {\"id\": 68, \"label\": \"Jeff\", \"group\": \"word\"}, {\"id\": 69, \"label\": \"Kay Mann\", \"group\": \"word\"}, {\"id\": 70, \"label\": \"Kay\", \"group\": \"word\"}, {\"id\": 71, \"label\": \"Davis\", \"group\": \"word\"}, {\"id\": 72, \"label\": \"Enron Corp\", \"group\": \"word\"}, {\"id\": 73, \"label\": \"John\", \"group\": \"word\"}, {\"id\": 74, \"label\": \"Energy\", \"group\": \"word\"}, {\"id\": 75, \"label\": \"Texas\", \"group\": \"word\"}, {\"id\": 76, \"label\": \"Mike\", \"group\": \"word\"}, {\"id\": 77, \"label\": \"Andersen\", \"group\": \"word\"}, {\"id\": 78, \"label\": \"Maggi\", \"group\": \"word\"}, {\"id\": 79, \"label\": \"Dow Jones\", \"group\": \"word\"}, {\"id\": 80, \"label\": \"Dow Jones & Company\", \"group\": \"word\"}, {\"id\": 81, \"label\": \"UBS\", \"group\": \"word\"}, {\"id\": 82, \"label\": \"Amanda\", \"group\": \"word\"}, {\"id\": 83, \"label\": \"Duncan\", \"group\": \"word\"}, {\"id\": 84, \"label\": \"GE Power Systems\", \"group\": \"word\"}];\n",
       "var edges = [{\"from\": 0, \"to\": 7, \"arrows\": \"to\"}, {\"from\": 3, \"to\": 7, \"arrows\": \"to\"}, {\"from\": 4, \"to\": 7, \"arrows\": \"to\"}, {\"from\": 5, \"to\": 7, \"arrows\": \"to\"}, {\"from\": 6, \"to\": 7, \"arrows\": \"to\"}, {\"from\": 0, \"to\": 8, \"arrows\": \"to\"}, {\"from\": 2, \"to\": 8, \"arrows\": \"to\"}, {\"from\": 3, \"to\": 8, \"arrows\": \"to\"}, {\"from\": 4, \"to\": 8, \"arrows\": \"to\"}, {\"from\": 5, \"to\": 8, \"arrows\": \"to\"}, {\"from\": 0, \"to\": 9, \"arrows\": \"to\"}, {\"from\": 0, \"to\": 10, \"arrows\": \"to\"}, {\"from\": 0, \"to\": 11, \"arrows\": \"to\"}, {\"from\": 0, \"to\": 12, \"arrows\": \"to\"}, {\"from\": 0, \"to\": 13, \"arrows\": \"to\"}, {\"from\": 0, \"to\": 14, \"arrows\": \"to\"}, {\"from\": 0, \"to\": 15, \"arrows\": \"to\"}, {\"from\": 4, \"to\": 15, \"arrows\": \"to\"}, {\"from\": 0, \"to\": 16, \"arrows\": \"to\"}, {\"from\": 0, \"to\": 17, \"arrows\": \"to\"}, {\"from\": 0, \"to\": 18, \"arrows\": \"to\"}, {\"from\": 0, \"to\": 19, \"arrows\": \"to\"}, {\"from\": 0, \"to\": 20, \"arrows\": \"to\"}, {\"from\": 0, \"to\": 21, \"arrows\": \"to\"}, {\"from\": 1, \"to\": 22, \"arrows\": \"to\"}, {\"from\": 1, \"to\": 23, \"arrows\": \"to\"}, {\"from\": 1, \"to\": 24, \"arrows\": \"to\"}, {\"from\": 1, \"to\": 25, \"arrows\": \"to\"}, {\"from\": 1, \"to\": 26, \"arrows\": \"to\"}, {\"from\": 1, \"to\": 27, \"arrows\": \"to\"}, {\"from\": 1, \"to\": 28, \"arrows\": \"to\"}, {\"from\": 1, \"to\": 29, \"arrows\": \"to\"}, {\"from\": 1, \"to\": 30, \"arrows\": \"to\"}, {\"from\": 1, \"to\": 31, \"arrows\": \"to\"}, {\"from\": 1, \"to\": 32, \"arrows\": \"to\"}, {\"from\": 1, \"to\": 33, \"arrows\": \"to\"}, {\"from\": 1, \"to\": 34, \"arrows\": \"to\"}, {\"from\": 1, \"to\": 35, \"arrows\": \"to\"}, {\"from\": 1, \"to\": 36, \"arrows\": \"to\"}, {\"from\": 2, \"to\": 37, \"arrows\": \"to\"}, {\"from\": 2, \"to\": 38, \"arrows\": \"to\"}, {\"from\": 2, \"to\": 39, \"arrows\": \"to\"}, {\"from\": 3, \"to\": 39, \"arrows\": \"to\"}, {\"from\": 2, \"to\": 40, \"arrows\": \"to\"}, {\"from\": 2, \"to\": 41, \"arrows\": \"to\"}, {\"from\": 2, \"to\": 42, \"arrows\": \"to\"}, {\"from\": 2, \"to\": 43, \"arrows\": \"to\"}, {\"from\": 2, \"to\": 44, \"arrows\": \"to\"}, {\"from\": 2, \"to\": 45, \"arrows\": \"to\"}, {\"from\": 2, \"to\": 46, \"arrows\": \"to\"}, {\"from\": 2, \"to\": 47, \"arrows\": \"to\"}, {\"from\": 2, \"to\": 48, \"arrows\": \"to\"}, {\"from\": 3, \"to\": 48, \"arrows\": \"to\"}, {\"from\": 2, \"to\": 49, \"arrows\": \"to\"}, {\"from\": 2, \"to\": 50, \"arrows\": \"to\"}, {\"from\": 3, \"to\": 51, \"arrows\": \"to\"}, {\"from\": 4, \"to\": 51, \"arrows\": \"to\"}, {\"from\": 5, \"to\": 51, \"arrows\": \"to\"}, {\"from\": 6, \"to\": 51, \"arrows\": \"to\"}, {\"from\": 3, \"to\": 52, \"arrows\": \"to\"}, {\"from\": 3, \"to\": 53, \"arrows\": \"to\"}, {\"from\": 4, \"to\": 53, \"arrows\": \"to\"}, {\"from\": 5, \"to\": 53, \"arrows\": \"to\"}, {\"from\": 3, \"to\": 54, \"arrows\": \"to\"}, {\"from\": 3, \"to\": 55, \"arrows\": \"to\"}, {\"from\": 3, \"to\": 56, \"arrows\": \"to\"}, {\"from\": 4, \"to\": 56, \"arrows\": \"to\"}, {\"from\": 3, \"to\": 57, \"arrows\": \"to\"}, {\"from\": 3, \"to\": 58, \"arrows\": \"to\"}, {\"from\": 5, \"to\": 58, \"arrows\": \"to\"}, {\"from\": 6, \"to\": 58, \"arrows\": \"to\"}, {\"from\": 3, \"to\": 59, \"arrows\": \"to\"}, {\"from\": 3, \"to\": 60, \"arrows\": \"to\"}, {\"from\": 3, \"to\": 61, \"arrows\": \"to\"}, {\"from\": 4, \"to\": 62, \"arrows\": \"to\"}, {\"from\": 4, \"to\": 64, \"arrows\": \"to\"}, {\"from\": 5, \"to\": 64, \"arrows\": \"to\"}, {\"from\": 6, \"to\": 64, \"arrows\": \"to\"}, {\"from\": 4, \"to\": 65, \"arrows\": \"to\"}, {\"from\": 5, \"to\": 65, \"arrows\": \"to\"}, {\"from\": 4, \"to\": 66, \"arrows\": \"to\"}, {\"from\": 5, \"to\": 66, \"arrows\": \"to\"}, {\"from\": 6, \"to\": 66, \"arrows\": \"to\"}, {\"from\": 4, \"to\": 67, \"arrows\": \"to\"}, {\"from\": 4, \"to\": 68, \"arrows\": \"to\"}, {\"from\": 5, \"to\": 68, \"arrows\": \"to\"}, {\"from\": 4, \"to\": 69, \"arrows\": \"to\"}, {\"from\": 4, \"to\": 70, \"arrows\": \"to\"}, {\"from\": 5, \"to\": 71, \"arrows\": \"to\"}, {\"from\": 5, \"to\": 72, \"arrows\": \"to\"}, {\"from\": 6, \"to\": 72, \"arrows\": \"to\"}, {\"from\": 5, \"to\": 73, \"arrows\": \"to\"}, {\"from\": 5, \"to\": 74, \"arrows\": \"to\"}, {\"from\": 5, \"to\": 75, \"arrows\": \"to\"}, {\"from\": 6, \"to\": 76, \"arrows\": \"to\"}, {\"from\": 6, \"to\": 77, \"arrows\": \"to\"}, {\"from\": 6, \"to\": 78, \"arrows\": \"to\"}, {\"from\": 6, \"to\": 79, \"arrows\": \"to\"}, {\"from\": 6, \"to\": 80, \"arrows\": \"to\"}, {\"from\": 6, \"to\": 81, \"arrows\": \"to\"}, {\"from\": 6, \"to\": 82, \"arrows\": \"to\"}, {\"from\": 6, \"to\": 83, \"arrows\": \"to\"}, {\"from\": 6, \"to\": 84, \"arrows\": \"to\"}];\n",
       "var data= {\n",
       "    nodes: nodes,\n",
       "    edges: edges,\n",
       "};\n",
       "var options = {\"groups\": {\"source1\": {\"color\": {\"background\": \"red\", \"border\": \"maroon\"}, \"shadow\": {\"enabled\": true, \"color\": \"rgba(0,0,0,0.5)\", \"x\": 6, \"y\": 6}}, \"source2\": {\"color\": {\"background\": \"blue\", \"border\": \"navy\"}, \"shadow\": {\"enabled\": true, \"color\": \"rgba(0,0,0,0.5)\", \"x\": 6, \"y\": 6}}, \"word\": {\"color\": {\"background\": \"white\", \"border\": \"darkGreen\"}, \"shadow\": {\"enabled\": true, \"color\": \"rgba(0,0,0,0.5)\", \"x\": 6, \"y\": 6}}, \"person\": {\"color\": {\"background\": \"gold\", \"border\": \"brown\"}, \"font\": {\"color\": \"black\", \"size\": 14}, \"shadow\": {\"enabled\": true, \"color\": \"rgba(0,0,0,0.5)\", \"x\": 6, \"y\": 6}}}, \"width\": \"800px\", \"height\": \"600px\"};\n",
       "var container = document.getElementById('db22c437-8048-4ff1-a6ae-df360eadaba1');\n",
       "var network = new vis.Network(container, data, options);\n",
       "});\n",
       "</script>\n"
      ],
      "text/plain": [
       "<IPython.core.display.HTML object>"
      ]
     },
     "metadata": {},
     "output_type": "display_data"
    }
   ],
   "source": [
    "vis_graph(nodes=nodes, edges=edges, options=options)"
   ]
  },
  {
   "cell_type": "code",
   "execution_count": 14,
   "id": "b4ce8013",
   "metadata": {},
   "outputs": [],
   "source": [
    "with open('output/nodes_monthyear.json', 'r') as f:\n",
    "    nodes = json.load(f)\n",
    "\n",
    "with open('output/edges_monthyear.json', 'r') as f:\n",
    "    edges = json.load(f)\n",
    "\n",
    "for k in edges:\n",
    "    k['arrows'] = 'to'"
   ]
  },
  {
   "cell_type": "code",
   "execution_count": 15,
   "id": "93adf9c9",
   "metadata": {},
   "outputs": [
    {
     "data": {
      "text/html": [
       "\n",
       "<div id=\"7ffdddfb-57d3-4c9d-8bb2-8db7e3d46434\"></div>\n",
       "<script>\n",
       "require.config({\n",
       "    paths: {\n",
       "        vis: '//unpkg.com/vis-network/standalone/umd/vis-network.min'\n",
       "    }\n",
       "});\n",
       "require(['vis'], function(vis){\n",
       "var nodes = [{\"id\": 0, \"label\": \"2000-10-01 00:00:00\", \"group\": \"MonthYear_\"}, {\"id\": 1, \"label\": \"2000-11-01 00:00:00\", \"group\": \"MonthYear_\"}, {\"id\": 2, \"label\": \"2000-12-01 00:00:00\", \"group\": \"MonthYear_\"}, {\"id\": 3, \"label\": \"2001-01-01 00:00:00\", \"group\": \"MonthYear_\"}, {\"id\": 4, \"label\": \"2001-02-01 00:00:00\", \"group\": \"MonthYear_\"}, {\"id\": 5, \"label\": \"2001-03-01 00:00:00\", \"group\": \"MonthYear_\"}, {\"id\": 6, \"label\": \"2001-04-01 00:00:00\", \"group\": \"MonthYear_\"}, {\"id\": 7, \"label\": \"2001-05-01 00:00:00\", \"group\": \"MonthYear_\"}, {\"id\": 8, \"label\": \"2001-10-01 00:00:00\", \"group\": \"MonthYear_\"}, {\"id\": 9, \"label\": \"2001-11-01 00:00:00\", \"group\": \"MonthYear_\"}, {\"id\": 10, \"label\": \"other\", \"group\": \"MonthYear_\"}, {\"id\": 11, \"label\": \"Enron\", \"group\": \"word\"}, {\"id\": 12, \"label\": \"HOU\", \"group\": \"word\"}, {\"id\": 13, \"label\": \"ENRON\", \"group\": \"word\"}, {\"id\": 14, \"label\": \"Corp\", \"group\": \"word\"}, {\"id\": 15, \"label\": \"Enron Communications\", \"group\": \"word\"}, {\"id\": 16, \"label\": \"nan\", \"group\": \"word\"}, {\"id\": 17, \"label\": \"Houston\", \"group\": \"word\"}, {\"id\": 18, \"label\": \"ENA\", \"group\": \"word\"}, {\"id\": 19, \"label\": \"Kay Mann\", \"group\": \"word\"}, {\"id\": 20, \"label\": \"California\", \"group\": \"word\"}, {\"id\": 21, \"label\": \"Texas\", \"group\": \"word\"}, {\"id\": 22, \"label\": \"Jeff\", \"group\": \"word\"}, {\"id\": 23, \"label\": \"LON\", \"group\": \"word\"}, {\"id\": 24, \"label\": \"Kay\", \"group\": \"word\"}, {\"id\": 25, \"label\": \"Vince J Kaminski\", \"group\": \"word\"}, {\"id\": 26, \"label\": \"FERC\", \"group\": \"word\"}, {\"id\": 27, \"label\": \"Mr\", \"group\": \"word\"}, {\"id\": 28, \"label\": \"Inc\", \"group\": \"word\"}, {\"id\": 29, \"label\": \"Florida\", \"group\": \"word\"}, {\"id\": 30, \"label\": \"Staff\", \"group\": \"word\"}, {\"id\": 31, \"label\": \"London\", \"group\": \"word\"}, {\"id\": 32, \"label\": \"BROWNSVILLE\", \"group\": \"word\"}, {\"id\": 33, \"label\": \"CHINCOTEAGUE\", \"group\": \"word\"}, {\"id\": 34, \"label\": \"MISSISSIPPI\", \"group\": \"word\"}, {\"id\": 35, \"label\": \"APALACHICOLA\", \"group\": \"word\"}, {\"id\": 36, \"label\": \"PANAMA\", \"group\": \"word\"}, {\"id\": 37, \"label\": \"PENSACOLA\", \"group\": \"word\"}, {\"id\": 38, \"label\": \"VIRGINIA\", \"group\": \"word\"}, {\"id\": 39, \"label\": \"AK\", \"group\": \"word\"}, {\"id\": 40, \"label\": \"Energy\", \"group\": \"word\"}, {\"id\": 41, \"label\": \"Jeff Dasovich\", \"group\": \"word\"}, {\"id\": 42, \"label\": \"Davis\", \"group\": \"word\"}, {\"id\": 43, \"label\": \"Kate Symes\", \"group\": \"word\"}, {\"id\": 44, \"label\": \"Freeman\", \"group\": \"word\"}, {\"id\": 45, \"label\": \"Sara Shackleton\", \"group\": \"word\"}, {\"id\": 46, \"label\": \"Edison\", \"group\": \"word\"}, {\"id\": 47, \"label\": \"SCE\", \"group\": \"word\"}, {\"id\": 48, \"label\": \"PUC\", \"group\": \"word\"}, {\"id\": 49, \"label\": \"Enron Corp\", \"group\": \"word\"}, {\"id\": 50, \"label\": \"John\", \"group\": \"word\"}, {\"id\": 51, \"label\": \"Dow Jones\", \"group\": \"word\"}, {\"id\": 52, \"label\": \"Dow Jones & Company\", \"group\": \"word\"}, {\"id\": 53, \"label\": \"Lay\", \"group\": \"word\"}, {\"id\": 54, \"label\": \"Mike\", \"group\": \"word\"}, {\"id\": 55, \"label\": \"Skilling\", \"group\": \"word\"}, {\"id\": 56, \"label\": \"Dynegy\", \"group\": \"word\"}, {\"id\": 57, \"label\": \"Michelle\", \"group\": \"word\"}, {\"id\": 58, \"label\": \"Nelson\", \"group\": \"word\"}, {\"id\": 59, \"label\": \"Dow\", \"group\": \"word\"}, {\"id\": 60, \"label\": \"Maggi\", \"group\": \"word\"}, {\"id\": 61, \"label\": \"Chris\", \"group\": \"word\"}, {\"id\": 62, \"label\": \"Vince\", \"group\": \"word\"}];\n",
       "var edges = [{\"from\": 0, \"to\": 11, \"arrows\": \"to\"}, {\"from\": 1, \"to\": 11, \"arrows\": \"to\"}, {\"from\": 2, \"to\": 11, \"arrows\": \"to\"}, {\"from\": 3, \"to\": 11, \"arrows\": \"to\"}, {\"from\": 4, \"to\": 11, \"arrows\": \"to\"}, {\"from\": 5, \"to\": 11, \"arrows\": \"to\"}, {\"from\": 6, \"to\": 11, \"arrows\": \"to\"}, {\"from\": 7, \"to\": 11, \"arrows\": \"to\"}, {\"from\": 8, \"to\": 11, \"arrows\": \"to\"}, {\"from\": 9, \"to\": 11, \"arrows\": \"to\"}, {\"from\": 10, \"to\": 11, \"arrows\": \"to\"}, {\"from\": 0, \"to\": 12, \"arrows\": \"to\"}, {\"from\": 1, \"to\": 12, \"arrows\": \"to\"}, {\"from\": 2, \"to\": 12, \"arrows\": \"to\"}, {\"from\": 3, \"to\": 12, \"arrows\": \"to\"}, {\"from\": 4, \"to\": 12, \"arrows\": \"to\"}, {\"from\": 5, \"to\": 12, \"arrows\": \"to\"}, {\"from\": 6, \"to\": 12, \"arrows\": \"to\"}, {\"from\": 7, \"to\": 12, \"arrows\": \"to\"}, {\"from\": 10, \"to\": 12, \"arrows\": \"to\"}, {\"from\": 0, \"to\": 13, \"arrows\": \"to\"}, {\"from\": 1, \"to\": 13, \"arrows\": \"to\"}, {\"from\": 2, \"to\": 13, \"arrows\": \"to\"}, {\"from\": 3, \"to\": 13, \"arrows\": \"to\"}, {\"from\": 4, \"to\": 13, \"arrows\": \"to\"}, {\"from\": 5, \"to\": 13, \"arrows\": \"to\"}, {\"from\": 6, \"to\": 13, \"arrows\": \"to\"}, {\"from\": 7, \"to\": 13, \"arrows\": \"to\"}, {\"from\": 8, \"to\": 13, \"arrows\": \"to\"}, {\"from\": 9, \"to\": 13, \"arrows\": \"to\"}, {\"from\": 10, \"to\": 13, \"arrows\": \"to\"}, {\"from\": 0, \"to\": 14, \"arrows\": \"to\"}, {\"from\": 1, \"to\": 14, \"arrows\": \"to\"}, {\"from\": 2, \"to\": 14, \"arrows\": \"to\"}, {\"from\": 3, \"to\": 14, \"arrows\": \"to\"}, {\"from\": 4, \"to\": 14, \"arrows\": \"to\"}, {\"from\": 5, \"to\": 14, \"arrows\": \"to\"}, {\"from\": 6, \"to\": 14, \"arrows\": \"to\"}, {\"from\": 7, \"to\": 14, \"arrows\": \"to\"}, {\"from\": 10, \"to\": 14, \"arrows\": \"to\"}, {\"from\": 0, \"to\": 15, \"arrows\": \"to\"}, {\"from\": 1, \"to\": 15, \"arrows\": \"to\"}, {\"from\": 2, \"to\": 15, \"arrows\": \"to\"}, {\"from\": 3, \"to\": 15, \"arrows\": \"to\"}, {\"from\": 4, \"to\": 15, \"arrows\": \"to\"}, {\"from\": 5, \"to\": 15, \"arrows\": \"to\"}, {\"from\": 6, \"to\": 15, \"arrows\": \"to\"}, {\"from\": 7, \"to\": 15, \"arrows\": \"to\"}, {\"from\": 10, \"to\": 15, \"arrows\": \"to\"}, {\"from\": 0, \"to\": 17, \"arrows\": \"to\"}, {\"from\": 1, \"to\": 17, \"arrows\": \"to\"}, {\"from\": 3, \"to\": 17, \"arrows\": \"to\"}, {\"from\": 4, \"to\": 17, \"arrows\": \"to\"}, {\"from\": 5, \"to\": 17, \"arrows\": \"to\"}, {\"from\": 6, \"to\": 17, \"arrows\": \"to\"}, {\"from\": 7, \"to\": 17, \"arrows\": \"to\"}, {\"from\": 8, \"to\": 17, \"arrows\": \"to\"}, {\"from\": 9, \"to\": 17, \"arrows\": \"to\"}, {\"from\": 10, \"to\": 17, \"arrows\": \"to\"}, {\"from\": 0, \"to\": 18, \"arrows\": \"to\"}, {\"from\": 1, \"to\": 18, \"arrows\": \"to\"}, {\"from\": 3, \"to\": 18, \"arrows\": \"to\"}, {\"from\": 4, \"to\": 18, \"arrows\": \"to\"}, {\"from\": 5, \"to\": 18, \"arrows\": \"to\"}, {\"from\": 6, \"to\": 18, \"arrows\": \"to\"}, {\"from\": 10, \"to\": 18, \"arrows\": \"to\"}, {\"from\": 0, \"to\": 19, \"arrows\": \"to\"}, {\"from\": 5, \"to\": 19, \"arrows\": \"to\"}, {\"from\": 7, \"to\": 19, \"arrows\": \"to\"}, {\"from\": 0, \"to\": 20, \"arrows\": \"to\"}, {\"from\": 1, \"to\": 20, \"arrows\": \"to\"}, {\"from\": 2, \"to\": 20, \"arrows\": \"to\"}, {\"from\": 3, \"to\": 20, \"arrows\": \"to\"}, {\"from\": 4, \"to\": 20, \"arrows\": \"to\"}, {\"from\": 5, \"to\": 20, \"arrows\": \"to\"}, {\"from\": 6, \"to\": 20, \"arrows\": \"to\"}, {\"from\": 7, \"to\": 20, \"arrows\": \"to\"}, {\"from\": 8, \"to\": 20, \"arrows\": \"to\"}, {\"from\": 10, \"to\": 20, \"arrows\": \"to\"}, {\"from\": 0, \"to\": 21, \"arrows\": \"to\"}, {\"from\": 3, \"to\": 21, \"arrows\": \"to\"}, {\"from\": 7, \"to\": 21, \"arrows\": \"to\"}, {\"from\": 8, \"to\": 21, \"arrows\": \"to\"}, {\"from\": 0, \"to\": 22, \"arrows\": \"to\"}, {\"from\": 2, \"to\": 22, \"arrows\": \"to\"}, {\"from\": 4, \"to\": 22, \"arrows\": \"to\"}, {\"from\": 6, \"to\": 22, \"arrows\": \"to\"}, {\"from\": 0, \"to\": 23, \"arrows\": \"to\"}, {\"from\": 0, \"to\": 24, \"arrows\": \"to\"}, {\"from\": 7, \"to\": 24, \"arrows\": \"to\"}, {\"from\": 0, \"to\": 25, \"arrows\": \"to\"}, {\"from\": 3, \"to\": 25, \"arrows\": \"to\"}, {\"from\": 10, \"to\": 25, \"arrows\": \"to\"}, {\"from\": 1, \"to\": 26, \"arrows\": \"to\"}, {\"from\": 5, \"to\": 26, \"arrows\": \"to\"}, {\"from\": 8, \"to\": 26, \"arrows\": \"to\"}, {\"from\": 1, \"to\": 27, \"arrows\": \"to\"}, {\"from\": 1, \"to\": 28, \"arrows\": \"to\"}, {\"from\": 3, \"to\": 28, \"arrows\": \"to\"}, {\"from\": 7, \"to\": 28, \"arrows\": \"to\"}, {\"from\": 8, \"to\": 28, \"arrows\": \"to\"}, {\"from\": 9, \"to\": 28, \"arrows\": \"to\"}, {\"from\": 10, \"to\": 28, \"arrows\": \"to\"}, {\"from\": 1, \"to\": 29, \"arrows\": \"to\"}, {\"from\": 1, \"to\": 30, \"arrows\": \"to\"}, {\"from\": 1, \"to\": 31, \"arrows\": \"to\"}, {\"from\": 8, \"to\": 31, \"arrows\": \"to\"}, {\"from\": 2, \"to\": 32, \"arrows\": \"to\"}, {\"from\": 2, \"to\": 33, \"arrows\": \"to\"}, {\"from\": 2, \"to\": 34, \"arrows\": \"to\"}, {\"from\": 2, \"to\": 35, \"arrows\": \"to\"}, {\"from\": 2, \"to\": 36, \"arrows\": \"to\"}, {\"from\": 2, \"to\": 37, \"arrows\": \"to\"}, {\"from\": 2, \"to\": 38, \"arrows\": \"to\"}, {\"from\": 3, \"to\": 39, \"arrows\": \"to\"}, {\"from\": 3, \"to\": 40, \"arrows\": \"to\"}, {\"from\": 4, \"to\": 40, \"arrows\": \"to\"}, {\"from\": 5, \"to\": 40, \"arrows\": \"to\"}, {\"from\": 6, \"to\": 40, \"arrows\": \"to\"}, {\"from\": 7, \"to\": 40, \"arrows\": \"to\"}, {\"from\": 3, \"to\": 41, \"arrows\": \"to\"}, {\"from\": 4, \"to\": 41, \"arrows\": \"to\"}, {\"from\": 5, \"to\": 41, \"arrows\": \"to\"}, {\"from\": 4, \"to\": 42, \"arrows\": \"to\"}, {\"from\": 6, \"to\": 42, \"arrows\": \"to\"}, {\"from\": 7, \"to\": 42, \"arrows\": \"to\"}, {\"from\": 4, \"to\": 43, \"arrows\": \"to\"}, {\"from\": 5, \"to\": 43, \"arrows\": \"to\"}, {\"from\": 4, \"to\": 44, \"arrows\": \"to\"}, {\"from\": 5, \"to\": 45, \"arrows\": \"to\"}, {\"from\": 6, \"to\": 46, \"arrows\": \"to\"}, {\"from\": 6, \"to\": 47, \"arrows\": \"to\"}, {\"from\": 6, \"to\": 48, \"arrows\": \"to\"}, {\"from\": 7, \"to\": 48, \"arrows\": \"to\"}, {\"from\": 8, \"to\": 49, \"arrows\": \"to\"}, {\"from\": 9, \"to\": 49, \"arrows\": \"to\"}, {\"from\": 10, \"to\": 49, \"arrows\": \"to\"}, {\"from\": 8, \"to\": 50, \"arrows\": \"to\"}, {\"from\": 9, \"to\": 50, \"arrows\": \"to\"}, {\"from\": 10, \"to\": 50, \"arrows\": \"to\"}, {\"from\": 8, \"to\": 51, \"arrows\": \"to\"}, {\"from\": 9, \"to\": 51, \"arrows\": \"to\"}, {\"from\": 8, \"to\": 52, \"arrows\": \"to\"}, {\"from\": 9, \"to\": 52, \"arrows\": \"to\"}, {\"from\": 8, \"to\": 53, \"arrows\": \"to\"}, {\"from\": 9, \"to\": 53, \"arrows\": \"to\"}, {\"from\": 8, \"to\": 54, \"arrows\": \"to\"}, {\"from\": 9, \"to\": 54, \"arrows\": \"to\"}, {\"from\": 10, \"to\": 54, \"arrows\": \"to\"}, {\"from\": 8, \"to\": 55, \"arrows\": \"to\"}, {\"from\": 9, \"to\": 56, \"arrows\": \"to\"}, {\"from\": 9, \"to\": 57, \"arrows\": \"to\"}, {\"from\": 9, \"to\": 58, \"arrows\": \"to\"}, {\"from\": 9, \"to\": 59, \"arrows\": \"to\"}, {\"from\": 9, \"to\": 60, \"arrows\": \"to\"}, {\"from\": 10, \"to\": 61, \"arrows\": \"to\"}, {\"from\": 10, \"to\": 62, \"arrows\": \"to\"}];\n",
       "var data= {\n",
       "    nodes: nodes,\n",
       "    edges: edges,\n",
       "};\n",
       "var options = {\"groups\": {\"source1\": {\"color\": {\"background\": \"red\", \"border\": \"maroon\"}, \"shadow\": {\"enabled\": true, \"color\": \"rgba(0,0,0,0.5)\", \"x\": 6, \"y\": 6}}, \"source2\": {\"color\": {\"background\": \"blue\", \"border\": \"navy\"}, \"shadow\": {\"enabled\": true, \"color\": \"rgba(0,0,0,0.5)\", \"x\": 6, \"y\": 6}}, \"word\": {\"color\": {\"background\": \"white\", \"border\": \"darkGreen\"}, \"shadow\": {\"enabled\": true, \"color\": \"rgba(0,0,0,0.5)\", \"x\": 6, \"y\": 6}}, \"person\": {\"color\": {\"background\": \"gold\", \"border\": \"brown\"}, \"font\": {\"color\": \"black\", \"size\": 14}, \"shadow\": {\"enabled\": true, \"color\": \"rgba(0,0,0,0.5)\", \"x\": 6, \"y\": 6}}}, \"width\": \"800px\", \"height\": \"600px\"};\n",
       "var container = document.getElementById('7ffdddfb-57d3-4c9d-8bb2-8db7e3d46434');\n",
       "var network = new vis.Network(container, data, options);\n",
       "});\n",
       "</script>\n"
      ],
      "text/plain": [
       "<IPython.core.display.HTML object>"
      ]
     },
     "metadata": {},
     "output_type": "display_data"
    }
   ],
   "source": [
    "vis_graph(nodes=nodes, edges=edges, options=options)"
   ]
  },
  {
   "cell_type": "code",
   "execution_count": null,
   "id": "ce306195",
   "metadata": {},
   "outputs": [],
   "source": []
  }
 ],
 "metadata": {
  "kernelspec": {
   "display_name": "Python [conda env:tfm] *",
   "language": "python",
   "name": "conda-env-tfm-py"
  },
  "language_info": {
   "codemirror_mode": {
    "name": "ipython",
    "version": 3
   },
   "file_extension": ".py",
   "mimetype": "text/x-python",
   "name": "python",
   "nbconvert_exporter": "python",
   "pygments_lexer": "ipython3",
   "version": "3.9.12"
  }
 },
 "nbformat": 4,
 "nbformat_minor": 5
}
