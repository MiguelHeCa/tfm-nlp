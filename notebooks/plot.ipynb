{
 "cells": [
  {
   "cell_type": "code",
   "execution_count": 1,
   "id": "1b9843c7",
   "metadata": {},
   "outputs": [
    {
     "data": {
      "text/html": [
       "<div id=\"mynetwork\"></div>\n"
      ],
      "text/plain": [
       "<IPython.core.display.HTML object>"
      ]
     },
     "metadata": {},
     "output_type": "display_data"
    }
   ],
   "source": [
    "%%HTML\n",
    "<div id=\"mynetwork\"></div>"
   ]
  },
  {
   "cell_type": "code",
   "execution_count": 2,
   "id": "e3f14b59",
   "metadata": {},
   "outputs": [],
   "source": [
    "html_template = \"\"\"\n",
    "<div id=\"%(name)s\"></div>\n",
    "<script>\n",
    "require.config({\n",
    "    paths: {\n",
    "        vis: '//unpkg.com/vis-network/standalone/umd/vis-network.min'\n",
    "    }\n",
    "});\n",
    "require(['vis'], function(vis){\n",
    "var nodes = %(nodes)s;\n",
    "var edges = %(edges)s;\n",
    "var data= {\n",
    "    nodes: nodes,\n",
    "    edges: edges,\n",
    "};\n",
    "var options = %(options)s;\n",
    "var container = document.getElementById('%(name)s');\n",
    "var network = new vis.Network(container, data, options);\n",
    "});\n",
    "</script>\n",
    "\"\"\""
   ]
  },
  {
   "cell_type": "code",
   "execution_count": 3,
   "id": "a53bfbb3",
   "metadata": {},
   "outputs": [],
   "source": [
    "from IPython.display import HTML, display\n",
    "import uuid, json\n",
    "def vis_graph(nodes=None, edges=None, options=None, template=html_template):\n",
    "    name = str(uuid.uuid4())\n",
    "    if nodes is None:\n",
    "        nodes = [{'id': 0}, {'id': 1}]\n",
    "    if edges is None:\n",
    "        edges = [{'from': 0, 'to': 1}]\n",
    "    if options is None:\n",
    "        options=dict()\n",
    "    options.setdefault('width', '800px')\n",
    "    options.setdefault('height', '600px')\n",
    "    dic = {'name': name, 'nodes': json.dumps(nodes), 'edges': json.dumps(edges), 'options': json.dumps(options)}\n",
    "    display(HTML(template % dic))\n"
   ]
  },
  {
   "cell_type": "code",
   "execution_count": 4,
   "id": "dd6923ea",
   "metadata": {},
   "outputs": [
    {
     "ename": "FileNotFoundError",
     "evalue": "[Errno 2] No such file or directory: 'output/nodes.json'",
     "output_type": "error",
     "traceback": [
      "\u001b[0;31m---------------------------------------------------------------------------\u001b[0m",
      "\u001b[0;31mFileNotFoundError\u001b[0m                         Traceback (most recent call last)",
      "Input \u001b[0;32mIn [4]\u001b[0m, in \u001b[0;36m<cell line: 1>\u001b[0;34m()\u001b[0m\n\u001b[0;32m----> 1\u001b[0m \u001b[38;5;28;01mwith\u001b[39;00m \u001b[38;5;28;43mopen\u001b[39;49m\u001b[43m(\u001b[49m\u001b[38;5;124;43m'\u001b[39;49m\u001b[38;5;124;43moutput/nodes.json\u001b[39;49m\u001b[38;5;124;43m'\u001b[39;49m\u001b[43m,\u001b[49m\u001b[43m \u001b[49m\u001b[38;5;124;43m'\u001b[39;49m\u001b[38;5;124;43mr\u001b[39;49m\u001b[38;5;124;43m'\u001b[39;49m\u001b[43m)\u001b[49m \u001b[38;5;28;01mas\u001b[39;00m f:\n\u001b[1;32m      2\u001b[0m     nodes \u001b[38;5;241m=\u001b[39m json\u001b[38;5;241m.\u001b[39mload(f)\n\u001b[1;32m      4\u001b[0m \u001b[38;5;28;01mwith\u001b[39;00m \u001b[38;5;28mopen\u001b[39m(\u001b[38;5;124m'\u001b[39m\u001b[38;5;124moutput/edges.json\u001b[39m\u001b[38;5;124m'\u001b[39m, \u001b[38;5;124m'\u001b[39m\u001b[38;5;124mr\u001b[39m\u001b[38;5;124m'\u001b[39m) \u001b[38;5;28;01mas\u001b[39;00m f:\n",
      "\u001b[0;31mFileNotFoundError\u001b[0m: [Errno 2] No such file or directory: 'output/nodes.json'"
     ]
    }
   ],
   "source": [
    "with open('output/nodes.json', 'r') as f:\n",
    "    nodes = json.load(f)\n",
    "\n",
    "with open('output/edges.json', 'r') as f:\n",
    "    edges = json.load(f)\n",
    "\n",
    "for k in edges:\n",
    "    k['arrows'] = 'to'"
   ]
  },
  {
   "cell_type": "code",
   "execution_count": 5,
   "id": "a685288e",
   "metadata": {},
   "outputs": [],
   "source": [
    "options = {\n",
    "    'groups': {\n",
    "        \"source1\": {\n",
    "            'color': {\n",
    "                'background': 'red',\n",
    "                'border': 'maroon'\n",
    "            },\n",
    "            'shadow': {\n",
    "                'enabled': True,\n",
    "                'color': 'rgba(0,0,0,0.5)',\n",
    "                'x': 6,\n",
    "                'y': 6\n",
    "            }\n",
    "        },\n",
    "        \"source2\": {\n",
    "            'color': {\n",
    "                'background': 'blue',\n",
    "                'border': 'navy'\n",
    "            },\n",
    "            'shadow': {\n",
    "                'enabled': True,\n",
    "                'color': 'rgba(0,0,0,0.5)',\n",
    "                'x': 6,\n",
    "                'y': 6\n",
    "            }\n",
    "        },\n",
    "        \"word\": {\n",
    "            'color': {\n",
    "                'background': 'white',\n",
    "                'border': 'darkGreen'\n",
    "            },\n",
    "            'shadow': {\n",
    "                'enabled': True,\n",
    "                'color': 'rgba(0,0,0,0.5)',\n",
    "                'x': 6,\n",
    "                'y': 6\n",
    "            }\n",
    "        },\n",
    "        \"person\": {\n",
    "            'color': {\n",
    "                'background': 'gold',\n",
    "                'border': 'brown'\n",
    "            },\n",
    "            'font': { 'color': 'black', 'size': 14 },\n",
    "            'shadow': {\n",
    "                'enabled': True,\n",
    "                'color': 'rgba(0,0,0,0.5)',\n",
    "                'x': 6,\n",
    "                'y': 6\n",
    "            }\n",
    "        }\n",
    "    }\n",
    "}"
   ]
  },
  {
   "cell_type": "code",
   "execution_count": 6,
   "id": "f95fa506",
   "metadata": {},
   "outputs": [
    {
     "ename": "NameError",
     "evalue": "name 'nodes' is not defined",
     "output_type": "error",
     "traceback": [
      "\u001b[0;31m---------------------------------------------------------------------------\u001b[0m",
      "\u001b[0;31mNameError\u001b[0m                                 Traceback (most recent call last)",
      "Input \u001b[0;32mIn [6]\u001b[0m, in \u001b[0;36m<cell line: 1>\u001b[0;34m()\u001b[0m\n\u001b[0;32m----> 1\u001b[0m vis_graph(nodes\u001b[38;5;241m=\u001b[39m\u001b[43mnodes\u001b[49m, edges\u001b[38;5;241m=\u001b[39medges, options\u001b[38;5;241m=\u001b[39moptions)\n",
      "\u001b[0;31mNameError\u001b[0m: name 'nodes' is not defined"
     ]
    }
   ],
   "source": [
    "vis_graph(nodes=nodes, edges=edges, options=options)"
   ]
  },
  {
   "cell_type": "code",
   "execution_count": 12,
   "id": "02df1683",
   "metadata": {},
   "outputs": [],
   "source": [
    "with open('output/nodes_year.json', 'r') as f:\n",
    "    nodes = json.load(f)\n",
    "\n",
    "with open('output/edges_year.json', 'r') as f:\n",
    "    edges = json.load(f)\n",
    "\n",
    "for k in edges:\n",
    "    k['arrows'] = 'to'"
   ]
  },
  {
   "cell_type": "code",
   "execution_count": 13,
   "id": "21157301",
   "metadata": {},
   "outputs": [
    {
     "data": {
      "text/html": [
       "\n",
       "<div id=\"db22c437-8048-4ff1-a6ae-df360eadaba1\"></div>\n",
       "<script>\n",
       "require.config({\n",
       "    paths: {\n",
       "        vis: '//unpkg.com/vis-network/standalone/umd/vis-network.min'\n",
       "    }\n",
       "});\n",
       "require(['vis'], function(vis){\n",
       "var nodes = [{\"id\": 0, \"label\": \"0\", \"group\": \"Year_\"}, {\"id\": 1, \"label\": \"1997\", \"group\": \"Year_\"}, {\"id\": 2, \"label\": \"1998\", \"group\": \"Year_\"}, {\"id\": 3, \"label\": \"1999\", \"group\": \"Year_\"}, {\"id\": 4, \"label\": \"2000\", \"group\": \"Year_\"}, {\"id\": 5, \"label\": \"2001\", \"group\": \"Year_\"}, {\"id\": 6, \"label\": \"2002\", \"group\": \"Year_\"}, {\"id\": 7, \"label\": \"Enron\", \"group\": \"word\"}, {\"id\": 8, \"label\": \"HOU\", \"group\": \"word\"}, {\"id\": 9, \"label\": \"John Sherriff\", \"group\": \"word\"}, {\"id\": 10, \"label\": \"Rick\", \"group\": \"word\"}, {\"id\": 11, \"label\": \"Spain\", \"group\": \"word\"}, {\"id\": 12, \"label\": \"Avista\", \"group\": \"word\"}, {\"id\": 13, \"label\": \"Avista Energy\", \"group\": \"word\"}, {\"id\": 14, \"label\": \"Blair Strong\", \"group\": \"word\"}, {\"id\": 15, \"label\": \"Vince J Kaminski\", \"group\": \"word\"}, {\"id\": 16, \"label\": \"Joe Gold\", \"group\": \"word\"}, {\"id\": 17, \"label\": \"Rick Buy\", \"group\": \"word\"}, {\"id\": 18, \"label\": \"Nigeria\", \"group\": \"word\"}, {\"id\": 19, \"label\": \"Nolan Steiner\", \"group\": \"word\"}, {\"id\": 20, \"label\": \"PGET\", \"group\": \"word\"}, {\"id\": 21, \"label\": \"Pierre\", \"group\": \"word\"}, {\"id\": 22, \"label\": \"Malcolm\", \"group\": \"word\"}, {\"id\": 23, \"label\": \"John Henderson\", \"group\": \"word\"}, {\"id\": 24, \"label\": \"Dave Duran\", \"group\": \"word\"}, {\"id\": 25, \"label\": \"Marty Sunde\", \"group\": \"word\"}, {\"id\": 26, \"label\": \"Jim Fallon\", \"group\": \"word\"}, {\"id\": 27, \"label\": \"Sean Holmes\", \"group\": \"word\"}, {\"id\": 28, \"label\": \"Dave Parquet\", \"group\": \"word\"}, {\"id\": 29, \"label\": \"Lou Pai\", \"group\": \"word\"}, {\"id\": 30, \"label\": \"Cynthia\", \"group\": \"word\"}, {\"id\": 31, \"label\": \"Cannon\", \"group\": \"word\"}, {\"id\": 32, \"label\": \"Tim Vail\", \"group\": \"word\"}, {\"id\": 33, \"label\": \"Tim Brown\", \"group\": \"word\"}, {\"id\": 34, \"label\": \"MCI we'll\", \"group\": \"word\"}, {\"id\": 35, \"label\": \"Pallone\", \"group\": \"word\"}, {\"id\": 36, \"label\": \"New York\", \"group\": \"word\"}, {\"id\": 37, \"label\": \"HOUSTON\", \"group\": \"word\"}, {\"id\": 38, \"label\": \"COLO SPRINGS COLO\", \"group\": \"word\"}, {\"id\": 39, \"label\": \"Taylor\", \"group\": \"word\"}, {\"id\": 40, \"label\": \"Continental\", \"group\": \"word\"}, {\"id\": 41, \"label\": \"Continental Airlines\", \"group\": \"word\"}, {\"id\": 42, \"label\": \"Jennifer Sabine\", \"group\": \"word\"}, {\"id\": 43, \"label\": \"Randy\", \"group\": \"word\"}, {\"id\": 44, \"label\": \"Indemnification\", \"group\": \"word\"}, {\"id\": 45, \"label\": \"Party\", \"group\": \"word\"}, {\"id\": 46, \"label\": \"Miles Debited\", \"group\": \"word\"}, {\"id\": 47, \"label\": \"Michelle Cash\", \"group\": \"word\"}, {\"id\": 48, \"label\": \"Mark\", \"group\": \"word\"}, {\"id\": 49, \"label\": \"SC471253\", \"group\": \"word\"}, {\"id\": 50, \"label\": \"South America\", \"group\": \"word\"}, {\"id\": 51, \"label\": \"ENRON\", \"group\": \"word\"}, {\"id\": 52, \"label\": \"Sara Shackleton\", \"group\": \"word\"}, {\"id\": 53, \"label\": \"Corp\", \"group\": \"word\"}, {\"id\": 54, \"label\": \"Tana Jones\", \"group\": \"word\"}, {\"id\": 55, \"label\": \"Brazil\", \"group\": \"word\"}, {\"id\": 56, \"label\": \"LON\", \"group\": \"word\"}, {\"id\": 57, \"label\": \"Sara\", \"group\": \"word\"}, {\"id\": 58, \"label\": \"Inc\", \"group\": \"word\"}, {\"id\": 59, \"label\": \"El Paso\", \"group\": \"word\"}, {\"id\": 60, \"label\": \"Enron North America Corp\", \"group\": \"word\"}, {\"id\": 61, \"label\": \"Brent Hendry\", \"group\": \"word\"}, {\"id\": 62, \"label\": \"Enron Communications\", \"group\": \"word\"}, {\"id\": 63, \"label\": \"nan\", \"group\": \"word\"}, {\"id\": 64, \"label\": \"California\", \"group\": \"word\"}, {\"id\": 65, \"label\": \"ENA\", \"group\": \"word\"}, {\"id\": 66, \"label\": \"Houston\", \"group\": \"word\"}, {\"id\": 67, \"label\": \"Vince\", \"group\": \"word\"}, {\"id\": 68, \"label\": \"Jeff\", \"group\": \"word\"}, {\"id\": 69, \"label\": \"Kay Mann\", \"group\": \"word\"}, {\"id\": 70, \"label\": \"Kay\", \"group\": \"word\"}, {\"id\": 71, \"label\": \"Davis\", \"group\": \"word\"}, {\"id\": 72, \"label\": \"Enron Corp\", \"group\": \"word\"}, {\"id\": 73, \"label\": \"John\", \"group\": \"word\"}, {\"id\": 74, \"label\": \"Energy\", \"group\": \"word\"}, {\"id\": 75, \"label\": \"Texas\", \"group\": \"word\"}, {\"id\": 76, \"label\": \"Mike\", \"group\": \"word\"}, {\"id\": 77, \"label\": \"Andersen\", \"group\": \"word\"}, {\"id\": 78, \"label\": \"Maggi\", \"group\": \"word\"}, {\"id\": 79, \"label\": \"Dow Jones\", \"group\": \"word\"}, {\"id\": 80, \"label\": \"Dow Jones & Company\", \"group\": \"word\"}, {\"id\": 81, \"label\": \"UBS\", \"group\": \"word\"}, {\"id\": 82, \"label\": \"Amanda\", \"group\": \"word\"}, {\"id\": 83, \"label\": \"Duncan\", \"group\": \"word\"}, {\"id\": 84, \"label\": \"GE Power Systems\", \"group\": \"word\"}];\n",
       "var edges = [{\"from\": 0, \"to\": 7, \"arrows\": \"to\"}, {\"from\": 3, \"to\": 7, \"arrows\": \"to\"}, {\"from\": 4, \"to\": 7, \"arrows\": \"to\"}, {\"from\": 5, \"to\": 7, \"arrows\": \"to\"}, {\"from\": 6, \"to\": 7, \"arrows\": \"to\"}, {\"from\": 0, \"to\": 8, \"arrows\": \"to\"}, {\"from\": 2, \"to\": 8, \"arrows\": \"to\"}, {\"from\": 3, \"to\": 8, \"arrows\": \"to\"}, {\"from\": 4, \"to\": 8, \"arrows\": \"to\"}, {\"from\": 5, \"to\": 8, \"arrows\": \"to\"}, {\"from\": 0, \"to\": 9, \"arrows\": \"to\"}, {\"from\": 0, \"to\": 10, \"arrows\": \"to\"}, {\"from\": 0, \"to\": 11, \"arrows\": \"to\"}, {\"from\": 0, \"to\": 12, \"arrows\": \"to\"}, {\"from\": 0, \"to\": 13, \"arrows\": \"to\"}, {\"from\": 0, \"to\": 14, \"arrows\": \"to\"}, {\"from\": 0, \"to\": 15, \"arrows\": \"to\"}, {\"from\": 4, \"to\": 15, \"arrows\": \"to\"}, {\"from\": 0, \"to\": 16, \"arrows\": \"to\"}, {\"from\": 0, \"to\": 17, \"arrows\": \"to\"}, {\"from\": 0, \"to\": 18, \"arrows\": \"to\"}, {\"from\": 0, \"to\": 19, \"arrows\": \"to\"}, {\"from\": 0, \"to\": 20, \"arrows\": \"to\"}, {\"from\": 0, \"to\": 21, \"arrows\": \"to\"}, {\"from\": 1, \"to\": 22, \"arrows\": \"to\"}, {\"from\": 1, \"to\": 23, \"arrows\": \"to\"}, {\"from\": 1, \"to\": 24, \"arrows\": \"to\"}, {\"from\": 1, \"to\": 25, \"arrows\": \"to\"}, {\"from\": 1, \"to\": 26, \"arrows\": \"to\"}, {\"from\": 1, \"to\": 27, \"arrows\": \"to\"}, {\"from\": 1, \"to\": 28, \"arrows\": \"to\"}, {\"from\": 1, \"to\": 29, \"arrows\": \"to\"}, {\"from\": 1, \"to\": 30, \"arrows\": \"to\"}, {\"from\": 1, \"to\": 31, \"arrows\": \"to\"}, {\"from\": 1, \"to\": 32, \"arrows\": \"to\"}, {\"from\": 1, \"to\": 33, \"arrows\": \"to\"}, {\"from\": 1, \"to\": 34, \"arrows\": \"to\"}, {\"from\": 1, \"to\": 35, \"arrows\": \"to\"}, {\"from\": 1, \"to\": 36, \"arrows\": \"to\"}, {\"from\": 2, \"to\": 37, \"arrows\": \"to\"}, {\"from\": 2, \"to\": 38, \"arrows\": \"to\"}, {\"from\": 2, \"to\": 39, \"arrows\": \"to\"}, {\"from\": 3, \"to\": 39, \"arrows\": \"to\"}, {\"from\": 2, \"to\": 40, \"arrows\": \"to\"}, {\"from\": 2, \"to\": 41, \"arrows\": \"to\"}, {\"from\": 2, \"to\": 42, \"arrows\": \"to\"}, {\"from\": 2, \"to\": 43, \"arrows\": \"to\"}, {\"from\": 2, \"to\": 44, \"arrows\": \"to\"}, {\"from\": 2, \"to\": 45, \"arrows\": \"to\"}, {\"from\": 2, \"to\": 46, \"arrows\": \"to\"}, {\"from\": 2, \"to\": 47, \"arrows\": \"to\"}, {\"from\": 2, \"to\": 48, \"arrows\": \"to\"}, {\"from\": 3, \"to\": 48, \"arrows\": \"to\"}, {\"from\": 2, \"to\": 49, \"arrows\": \"to\"}, {\"from\": 2, \"to\": 50, \"arrows\": \"to\"}, {\"from\": 3, \"to\": 51, \"arrows\": \"to\"}, {\"from\": 4, \"to\": 51, \"arrows\": \"to\"}, {\"from\": 5, \"to\": 51, \"arrows\": \"to\"}, {\"from\": 6, \"to\": 51, \"arrows\": \"to\"}, {\"from\": 3, \"to\": 52, \"arrows\": \"to\"}, {\"from\": 3, \"to\": 53, \"arrows\": \"to\"}, {\"from\": 4, \"to\": 53, \"arrows\": \"to\"}, {\"from\": 5, \"to\": 53, \"arrows\": \"to\"}, {\"from\": 3, \"to\": 54, \"arrows\": \"to\"}, {\"from\": 3, \"to\": 55, \"arrows\": \"to\"}, {\"from\": 3, \"to\": 56, \"arrows\": \"to\"}, {\"from\": 4, \"to\": 56, \"arrows\": \"to\"}, {\"from\": 3, \"to\": 57, \"arrows\": \"to\"}, {\"from\": 3, \"to\": 58, \"arrows\": \"to\"}, {\"from\": 5, \"to\": 58, \"arrows\": \"to\"}, {\"from\": 6, \"to\": 58, \"arrows\": \"to\"}, {\"from\": 3, \"to\": 59, \"arrows\": \"to\"}, {\"from\": 3, \"to\": 60, \"arrows\": \"to\"}, {\"from\": 3, \"to\": 61, \"arrows\": \"to\"}, {\"from\": 4, \"to\": 62, \"arrows\": \"to\"}, {\"from\": 4, \"to\": 64, \"arrows\": \"to\"}, {\"from\": 5, \"to\": 64, \"arrows\": \"to\"}, {\"from\": 6, \"to\": 64, \"arrows\": \"to\"}, {\"from\": 4, \"to\": 65, \"arrows\": \"to\"}, {\"from\": 5, \"to\": 65, \"arrows\": \"to\"}, {\"from\": 4, \"to\": 66, \"arrows\": \"to\"}, {\"from\": 5, \"to\": 66, \"arrows\": \"to\"}, {\"from\": 6, \"to\": 66, \"arrows\": \"to\"}, {\"from\": 4, \"to\": 67, \"arrows\": \"to\"}, {\"from\": 4, \"to\": 68, \"arrows\": \"to\"}, {\"from\": 5, \"to\": 68, \"arrows\": \"to\"}, {\"from\": 4, \"to\": 69, \"arrows\": \"to\"}, {\"from\": 4, \"to\": 70, \"arrows\": \"to\"}, {\"from\": 5, \"to\": 71, \"arrows\": \"to\"}, {\"from\": 5, \"to\": 72, \"arrows\": \"to\"}, {\"from\": 6, \"to\": 72, \"arrows\": \"to\"}, {\"from\": 5, \"to\": 73, \"arrows\": \"to\"}, {\"from\": 5, \"to\": 74, \"arrows\": \"to\"}, {\"from\": 5, \"to\": 75, \"arrows\": \"to\"}, {\"from\": 6, \"to\": 76, \"arrows\": \"to\"}, {\"from\": 6, \"to\": 77, \"arrows\": \"to\"}, {\"from\": 6, \"to\": 78, \"arrows\": \"to\"}, {\"from\": 6, \"to\": 79, \"arrows\": \"to\"}, {\"from\": 6, \"to\": 80, \"arrows\": \"to\"}, {\"from\": 6, \"to\": 81, \"arrows\": \"to\"}, {\"from\": 6, \"to\": 82, \"arrows\": \"to\"}, {\"from\": 6, \"to\": 83, \"arrows\": \"to\"}, {\"from\": 6, \"to\": 84, \"arrows\": \"to\"}];\n",
       "var data= {\n",
       "    nodes: nodes,\n",
       "    edges: edges,\n",
       "};\n",
       "var options = {\"groups\": {\"source1\": {\"color\": {\"background\": \"red\", \"border\": \"maroon\"}, \"shadow\": {\"enabled\": true, \"color\": \"rgba(0,0,0,0.5)\", \"x\": 6, \"y\": 6}}, \"source2\": {\"color\": {\"background\": \"blue\", \"border\": \"navy\"}, \"shadow\": {\"enabled\": true, \"color\": \"rgba(0,0,0,0.5)\", \"x\": 6, \"y\": 6}}, \"word\": {\"color\": {\"background\": \"white\", \"border\": \"darkGreen\"}, \"shadow\": {\"enabled\": true, \"color\": \"rgba(0,0,0,0.5)\", \"x\": 6, \"y\": 6}}, \"person\": {\"color\": {\"background\": \"gold\", \"border\": \"brown\"}, \"font\": {\"color\": \"black\", \"size\": 14}, \"shadow\": {\"enabled\": true, \"color\": \"rgba(0,0,0,0.5)\", \"x\": 6, \"y\": 6}}}, \"width\": \"800px\", \"height\": \"600px\"};\n",
       "var container = document.getElementById('db22c437-8048-4ff1-a6ae-df360eadaba1');\n",
       "var network = new vis.Network(container, data, options);\n",
       "});\n",
       "</script>\n"
      ],
      "text/plain": [
       "<IPython.core.display.HTML object>"
      ]
     },
     "metadata": {},
     "output_type": "display_data"
    }
   ],
   "source": [
    "vis_graph(nodes=nodes, edges=edges, options=options)"
   ]
  },
  {
   "cell_type": "code",
   "execution_count": 14,
   "id": "b4ce8013",
   "metadata": {},
   "outputs": [],
   "source": [
    "with open('output/nodes_monthyear.json', 'r') as f:\n",
    "    nodes = json.load(f)\n",
    "\n",
    "with open('output/edges_monthyear.json', 'r') as f:\n",
    "    edges = json.load(f)\n",
    "\n",
    "for k in edges:\n",
    "    k['arrows'] = 'to'"
   ]
  },
  {
   "cell_type": "code",
   "execution_count": 15,
   "id": "93adf9c9",
   "metadata": {},
   "outputs": [
    {
     "data": {
      "text/html": [
       "\n",
       "<div id=\"7ffdddfb-57d3-4c9d-8bb2-8db7e3d46434\"></div>\n",
       "<script>\n",
       "require.config({\n",
       "    paths: {\n",
       "        vis: '//unpkg.com/vis-network/standalone/umd/vis-network.min'\n",
       "    }\n",
       "});\n",
       "require(['vis'], function(vis){\n",
       "var nodes = [{\"id\": 0, \"label\": \"2000-10-01 00:00:00\", \"group\": \"MonthYear_\"}, {\"id\": 1, \"label\": \"2000-11-01 00:00:00\", \"group\": \"MonthYear_\"}, {\"id\": 2, \"label\": \"2000-12-01 00:00:00\", \"group\": \"MonthYear_\"}, {\"id\": 3, \"label\": \"2001-01-01 00:00:00\", \"group\": \"MonthYear_\"}, {\"id\": 4, \"label\": \"2001-02-01 00:00:00\", \"group\": \"MonthYear_\"}, {\"id\": 5, \"label\": \"2001-03-01 00:00:00\", \"group\": \"MonthYear_\"}, {\"id\": 6, \"label\": \"2001-04-01 00:00:00\", \"group\": \"MonthYear_\"}, {\"id\": 7, \"label\": \"2001-05-01 00:00:00\", \"group\": \"MonthYear_\"}, {\"id\": 8, \"label\": \"2001-10-01 00:00:00\", \"group\": \"MonthYear_\"}, {\"id\": 9, \"label\": \"2001-11-01 00:00:00\", \"group\": \"MonthYear_\"}, {\"id\": 10, \"label\": \"other\", \"group\": \"MonthYear_\"}, {\"id\": 11, \"label\": \"Enron\", \"group\": \"word\"}, {\"id\": 12, \"label\": \"HOU\", \"group\": \"word\"}, {\"id\": 13, \"label\": \"ENRON\", \"group\": \"word\"}, {\"id\": 14, \"label\": \"Corp\", \"group\": \"word\"}, {\"id\": 15, \"label\": \"Enron Communications\", \"group\": \"word\"}, {\"id\": 16, \"label\": \"nan\", \"group\": \"word\"}, {\"id\": 17, \"label\": \"Houston\", \"group\": \"word\"}, {\"id\": 18, \"label\": \"ENA\", \"group\": \"word\"}, {\"id\": 19, \"label\": \"Kay Mann\", \"group\": \"word\"}, {\"id\": 20, \"label\": \"California\", \"group\": \"word\"}, {\"id\": 21, \"label\": \"Texas\", \"group\": \"word\"}, {\"id\": 22, \"label\": \"Jeff\", \"group\": \"word\"}, {\"id\": 23, \"label\": \"LON\", \"group\": \"word\"}, {\"id\": 24, \"label\": \"Kay\", \"group\": \"word\"}, {\"id\": 25, \"label\": \"Vince J Kaminski\", \"group\": \"word\"}, {\"id\": 26, \"label\": \"FERC\", \"group\": \"word\"}, {\"id\": 27, \"label\": \"Mr\", \"group\": \"word\"}, {\"id\": 28, \"label\": \"Inc\", \"group\": \"word\"}, {\"id\": 29, \"label\": \"Florida\", \"group\": \"word\"}, {\"id\": 30, \"label\": \"Staff\", \"group\": \"word\"}, {\"id\": 31, \"label\": \"London\", \"group\": \"word\"}, {\"id\": 32, \"label\": \"BROWNSVILLE\", \"group\": \"word\"}, {\"id\": 33, \"label\": \"CHINCOTEAGUE\", \"group\": \"word\"}, {\"id\": 34, \"label\": \"MISSISSIPPI\", \"group\": \"word\"}, {\"id\": 35, \"label\": \"APALACHICOLA\", \"group\": \"word\"}, {\"id\": 36, \"label\": \"PANAMA\", \"group\": \"word\"}, {\"id\": 37, \"label\": \"PENSACOLA\", \"group\": \"word\"}, {\"id\": 38, \"label\": \"VIRGINIA\", \"group\": \"word\"}, {\"id\": 39, \"label\": \"AK\", \"group\": \"word\"}, {\"id\": 40, \"label\": \"Energy\", \"group\": \"word\"}, {\"id\": 41, \"label\": \"Jeff Dasovich\", \"group\": \"word\"}, {\"id\": 42, \"label\": \"Davis\", \"group\": \"word\"}, {\"id\": 43, \"label\": \"Kate Symes\", \"group\": \"word\"}, {\"id\": 44, \"label\": \"Freeman\", \"group\": \"word\"}, {\"id\": 45, \"label\": \"Sara Shackleton\", \"group\": \"word\"}, {\"id\": 46, \"label\": \"Edison\", \"group\": \"word\"}, {\"id\": 47, \"label\": \"SCE\", \"group\": \"word\"}, {\"id\": 48, \"label\": \"PUC\", \"group\": \"word\"}, {\"id\": 49, \"label\": \"Enron Corp\", \"group\": \"word\"}, {\"id\": 50, \"label\": \"John\", \"group\": \"word\"}, {\"id\": 51, \"label\": \"Dow Jones\", \"group\": \"word\"}, {\"id\": 52, \"label\": \"Dow Jones & Company\", \"group\": \"word\"}, {\"id\": 53, \"label\": \"Lay\", \"group\": \"word\"}, {\"id\": 54, \"label\": \"Mike\", \"group\": \"word\"}, {\"id\": 55, \"label\": \"Skilling\", \"group\": \"word\"}, {\"id\": 56, \"label\": \"Dynegy\", \"group\": \"word\"}, {\"id\": 57, \"label\": \"Michelle\", \"group\": \"word\"}, {\"id\": 58, \"label\": \"Nelson\", \"group\": \"word\"}, {\"id\": 59, \"label\": \"Dow\", \"group\": \"word\"}, {\"id\": 60, \"label\": \"Maggi\", \"group\": \"word\"}, {\"id\": 61, \"label\": \"Chris\", \"group\": \"word\"}, {\"id\": 62, \"label\": \"Vince\", \"group\": \"word\"}];\n",
       "var edges = [{\"from\": 0, \"to\": 11, \"arrows\": \"to\"}, {\"from\": 1, \"to\": 11, \"arrows\": \"to\"}, {\"from\": 2, \"to\": 11, \"arrows\": \"to\"}, {\"from\": 3, \"to\": 11, \"arrows\": \"to\"}, {\"from\": 4, \"to\": 11, \"arrows\": \"to\"}, {\"from\": 5, \"to\": 11, \"arrows\": \"to\"}, {\"from\": 6, \"to\": 11, \"arrows\": \"to\"}, {\"from\": 7, \"to\": 11, \"arrows\": \"to\"}, {\"from\": 8, \"to\": 11, \"arrows\": \"to\"}, {\"from\": 9, \"to\": 11, \"arrows\": \"to\"}, {\"from\": 10, \"to\": 11, \"arrows\": \"to\"}, {\"from\": 0, \"to\": 12, \"arrows\": \"to\"}, {\"from\": 1, \"to\": 12, \"arrows\": \"to\"}, {\"from\": 2, \"to\": 12, \"arrows\": \"to\"}, {\"from\": 3, \"to\": 12, \"arrows\": \"to\"}, {\"from\": 4, \"to\": 12, \"arrows\": \"to\"}, {\"from\": 5, \"to\": 12, \"arrows\": \"to\"}, {\"from\": 6, \"to\": 12, \"arrows\": \"to\"}, {\"from\": 7, \"to\": 12, \"arrows\": \"to\"}, {\"from\": 10, \"to\": 12, \"arrows\": \"to\"}, {\"from\": 0, \"to\": 13, \"arrows\": \"to\"}, {\"from\": 1, \"to\": 13, \"arrows\": \"to\"}, {\"from\": 2, \"to\": 13, \"arrows\": \"to\"}, {\"from\": 3, \"to\": 13, \"arrows\": \"to\"}, {\"from\": 4, \"to\": 13, \"arrows\": \"to\"}, {\"from\": 5, \"to\": 13, \"arrows\": \"to\"}, {\"from\": 6, \"to\": 13, \"arrows\": \"to\"}, {\"from\": 7, \"to\": 13, \"arrows\": \"to\"}, {\"from\": 8, \"to\": 13, \"arrows\": \"to\"}, {\"from\": 9, \"to\": 13, \"arrows\": \"to\"}, {\"from\": 10, \"to\": 13, \"arrows\": \"to\"}, {\"from\": 0, \"to\": 14, \"arrows\": \"to\"}, {\"from\": 1, \"to\": 14, \"arrows\": \"to\"}, {\"from\": 2, \"to\": 14, \"arrows\": \"to\"}, {\"from\": 3, \"to\": 14, \"arrows\": \"to\"}, {\"from\": 4, \"to\": 14, \"arrows\": \"to\"}, {\"from\": 5, \"to\": 14, \"arrows\": \"to\"}, {\"from\": 6, \"to\": 14, \"arrows\": \"to\"}, {\"from\": 7, \"to\": 14, \"arrows\": \"to\"}, {\"from\": 10, \"to\": 14, \"arrows\": \"to\"}, {\"from\": 0, \"to\": 15, \"arrows\": \"to\"}, {\"from\": 1, \"to\": 15, \"arrows\": \"to\"}, {\"from\": 2, \"to\": 15, \"arrows\": \"to\"}, {\"from\": 3, \"to\": 15, \"arrows\": \"to\"}, {\"from\": 4, \"to\": 15, \"arrows\": \"to\"}, {\"from\": 5, \"to\": 15, \"arrows\": \"to\"}, {\"from\": 6, \"to\": 15, \"arrows\": \"to\"}, {\"from\": 7, \"to\": 15, \"arrows\": \"to\"}, {\"from\": 10, \"to\": 15, \"arrows\": \"to\"}, {\"from\": 0, \"to\": 17, \"arrows\": \"to\"}, {\"from\": 1, \"to\": 17, \"arrows\": \"to\"}, {\"from\": 3, \"to\": 17, \"arrows\": \"to\"}, {\"from\": 4, \"to\": 17, \"arrows\": \"to\"}, {\"from\": 5, \"to\": 17, \"arrows\": \"to\"}, {\"from\": 6, \"to\": 17, \"arrows\": \"to\"}, {\"from\": 7, \"to\": 17, \"arrows\": \"to\"}, {\"from\": 8, \"to\": 17, \"arrows\": \"to\"}, {\"from\": 9, \"to\": 17, \"arrows\": \"to\"}, {\"from\": 10, \"to\": 17, \"arrows\": \"to\"}, {\"from\": 0, \"to\": 18, \"arrows\": \"to\"}, {\"from\": 1, \"to\": 18, \"arrows\": \"to\"}, {\"from\": 3, \"to\": 18, \"arrows\": \"to\"}, {\"from\": 4, \"to\": 18, \"arrows\": \"to\"}, {\"from\": 5, \"to\": 18, \"arrows\": \"to\"}, {\"from\": 6, \"to\": 18, \"arrows\": \"to\"}, {\"from\": 10, \"to\": 18, \"arrows\": \"to\"}, {\"from\": 0, \"to\": 19, \"arrows\": \"to\"}, {\"from\": 5, \"to\": 19, \"arrows\": \"to\"}, {\"from\": 7, \"to\": 19, \"arrows\": \"to\"}, {\"from\": 0, \"to\": 20, \"arrows\": \"to\"}, {\"from\": 1, \"to\": 20, \"arrows\": \"to\"}, {\"from\": 2, \"to\": 20, \"arrows\": \"to\"}, {\"from\": 3, \"to\": 20, \"arrows\": \"to\"}, {\"from\": 4, \"to\": 20, \"arrows\": \"to\"}, {\"from\": 5, \"to\": 20, \"arrows\": \"to\"}, {\"from\": 6, \"to\": 20, \"arrows\": \"to\"}, {\"from\": 7, \"to\": 20, \"arrows\": \"to\"}, {\"from\": 8, \"to\": 20, \"arrows\": \"to\"}, {\"from\": 10, \"to\": 20, \"arrows\": \"to\"}, {\"from\": 0, \"to\": 21, \"arrows\": \"to\"}, {\"from\": 3, \"to\": 21, \"arrows\": \"to\"}, {\"from\": 7, \"to\": 21, \"arrows\": \"to\"}, {\"from\": 8, \"to\": 21, \"arrows\": \"to\"}, {\"from\": 0, \"to\": 22, \"arrows\": \"to\"}, {\"from\": 2, \"to\": 22, \"arrows\": \"to\"}, {\"from\": 4, \"to\": 22, \"arrows\": \"to\"}, {\"from\": 6, \"to\": 22, \"arrows\": \"to\"}, {\"from\": 0, \"to\": 23, \"arrows\": \"to\"}, {\"from\": 0, \"to\": 24, \"arrows\": \"to\"}, {\"from\": 7, \"to\": 24, \"arrows\": \"to\"}, {\"from\": 0, \"to\": 25, \"arrows\": \"to\"}, {\"from\": 3, \"to\": 25, \"arrows\": \"to\"}, {\"from\": 10, \"to\": 25, \"arrows\": \"to\"}, {\"from\": 1, \"to\": 26, \"arrows\": \"to\"}, {\"from\": 5, \"to\": 26, \"arrows\": \"to\"}, {\"from\": 8, \"to\": 26, \"arrows\": \"to\"}, {\"from\": 1, \"to\": 27, \"arrows\": \"to\"}, {\"from\": 1, \"to\": 28, \"arrows\": \"to\"}, {\"from\": 3, \"to\": 28, \"arrows\": \"to\"}, {\"from\": 7, \"to\": 28, \"arrows\": \"to\"}, {\"from\": 8, \"to\": 28, \"arrows\": \"to\"}, {\"from\": 9, \"to\": 28, \"arrows\": \"to\"}, {\"from\": 10, \"to\": 28, \"arrows\": \"to\"}, {\"from\": 1, \"to\": 29, \"arrows\": \"to\"}, {\"from\": 1, \"to\": 30, \"arrows\": \"to\"}, {\"from\": 1, \"to\": 31, \"arrows\": \"to\"}, {\"from\": 8, \"to\": 31, \"arrows\": \"to\"}, {\"from\": 2, \"to\": 32, \"arrows\": \"to\"}, {\"from\": 2, \"to\": 33, \"arrows\": \"to\"}, {\"from\": 2, \"to\": 34, \"arrows\": \"to\"}, {\"from\": 2, \"to\": 35, \"arrows\": \"to\"}, {\"from\": 2, \"to\": 36, \"arrows\": \"to\"}, {\"from\": 2, \"to\": 37, \"arrows\": \"to\"}, {\"from\": 2, \"to\": 38, \"arrows\": \"to\"}, {\"from\": 3, \"to\": 39, \"arrows\": \"to\"}, {\"from\": 3, \"to\": 40, \"arrows\": \"to\"}, {\"from\": 4, \"to\": 40, \"arrows\": \"to\"}, {\"from\": 5, \"to\": 40, \"arrows\": \"to\"}, {\"from\": 6, \"to\": 40, \"arrows\": \"to\"}, {\"from\": 7, \"to\": 40, \"arrows\": \"to\"}, {\"from\": 3, \"to\": 41, \"arrows\": \"to\"}, {\"from\": 4, \"to\": 41, \"arrows\": \"to\"}, {\"from\": 5, \"to\": 41, \"arrows\": \"to\"}, {\"from\": 4, \"to\": 42, \"arrows\": \"to\"}, {\"from\": 6, \"to\": 42, \"arrows\": \"to\"}, {\"from\": 7, \"to\": 42, \"arrows\": \"to\"}, {\"from\": 4, \"to\": 43, \"arrows\": \"to\"}, {\"from\": 5, \"to\": 43, \"arrows\": \"to\"}, {\"from\": 4, \"to\": 44, \"arrows\": \"to\"}, {\"from\": 5, \"to\": 45, \"arrows\": \"to\"}, {\"from\": 6, \"to\": 46, \"arrows\": \"to\"}, {\"from\": 6, \"to\": 47, \"arrows\": \"to\"}, {\"from\": 6, \"to\": 48, \"arrows\": \"to\"}, {\"from\": 7, \"to\": 48, \"arrows\": \"to\"}, {\"from\": 8, \"to\": 49, \"arrows\": \"to\"}, {\"from\": 9, \"to\": 49, \"arrows\": \"to\"}, {\"from\": 10, \"to\": 49, \"arrows\": \"to\"}, {\"from\": 8, \"to\": 50, \"arrows\": \"to\"}, {\"from\": 9, \"to\": 50, \"arrows\": \"to\"}, {\"from\": 10, \"to\": 50, \"arrows\": \"to\"}, {\"from\": 8, \"to\": 51, \"arrows\": \"to\"}, {\"from\": 9, \"to\": 51, \"arrows\": \"to\"}, {\"from\": 8, \"to\": 52, \"arrows\": \"to\"}, {\"from\": 9, \"to\": 52, \"arrows\": \"to\"}, {\"from\": 8, \"to\": 53, \"arrows\": \"to\"}, {\"from\": 9, \"to\": 53, \"arrows\": \"to\"}, {\"from\": 8, \"to\": 54, \"arrows\": \"to\"}, {\"from\": 9, \"to\": 54, \"arrows\": \"to\"}, {\"from\": 10, \"to\": 54, \"arrows\": \"to\"}, {\"from\": 8, \"to\": 55, \"arrows\": \"to\"}, {\"from\": 9, \"to\": 56, \"arrows\": \"to\"}, {\"from\": 9, \"to\": 57, \"arrows\": \"to\"}, {\"from\": 9, \"to\": 58, \"arrows\": \"to\"}, {\"from\": 9, \"to\": 59, \"arrows\": \"to\"}, {\"from\": 9, \"to\": 60, \"arrows\": \"to\"}, {\"from\": 10, \"to\": 61, \"arrows\": \"to\"}, {\"from\": 10, \"to\": 62, \"arrows\": \"to\"}];\n",
       "var data= {\n",
       "    nodes: nodes,\n",
       "    edges: edges,\n",
       "};\n",
       "var options = {\"groups\": {\"source1\": {\"color\": {\"background\": \"red\", \"border\": \"maroon\"}, \"shadow\": {\"enabled\": true, \"color\": \"rgba(0,0,0,0.5)\", \"x\": 6, \"y\": 6}}, \"source2\": {\"color\": {\"background\": \"blue\", \"border\": \"navy\"}, \"shadow\": {\"enabled\": true, \"color\": \"rgba(0,0,0,0.5)\", \"x\": 6, \"y\": 6}}, \"word\": {\"color\": {\"background\": \"white\", \"border\": \"darkGreen\"}, \"shadow\": {\"enabled\": true, \"color\": \"rgba(0,0,0,0.5)\", \"x\": 6, \"y\": 6}}, \"person\": {\"color\": {\"background\": \"gold\", \"border\": \"brown\"}, \"font\": {\"color\": \"black\", \"size\": 14}, \"shadow\": {\"enabled\": true, \"color\": \"rgba(0,0,0,0.5)\", \"x\": 6, \"y\": 6}}}, \"width\": \"800px\", \"height\": \"600px\"};\n",
       "var container = document.getElementById('7ffdddfb-57d3-4c9d-8bb2-8db7e3d46434');\n",
       "var network = new vis.Network(container, data, options);\n",
       "});\n",
       "</script>\n"
      ],
      "text/plain": [
       "<IPython.core.display.HTML object>"
      ]
     },
     "metadata": {},
     "output_type": "display_data"
    }
   ],
   "source": [
    "vis_graph(nodes=nodes, edges=edges, options=options)"
   ]
  },
  {
   "cell_type": "code",
   "execution_count": null,
   "id": "ce306195",
   "metadata": {},
   "outputs": [],
   "source": []
  }
 ],
 "metadata": {
  "kernelspec": {
   "display_name": "Python 3 (ipykernel)",
   "language": "python",
   "name": "python3"
  },
  "language_info": {
   "codemirror_mode": {
    "name": "ipython",
    "version": 3
   },
   "file_extension": ".py",
   "mimetype": "text/x-python",
   "name": "python",
   "nbconvert_exporter": "python",
   "pygments_lexer": "ipython3",
   "version": "3.9.12"
  }
 },
 "nbformat": 4,
 "nbformat_minor": 5
}
