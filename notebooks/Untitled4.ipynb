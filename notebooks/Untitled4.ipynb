{
 "cells": [
  {
   "cell_type": "code",
   "execution_count": 46,
   "id": "f631d56c-1fd5-4990-bde4-3eed33f85669",
   "metadata": {},
   "outputs": [],
   "source": [
    "import pickle as pkl\n",
    "\n",
    "import matplotlib\n",
    "import matplotlib.pyplot as plt\n",
    "import numpy as np\n",
    "import pandas as pd\n",
    "\n",
    "from pathlib import Path\n",
    "\n",
    "from gensim.models.doc2vec import Doc2Vec\n",
    "from hdbscan import HDBSCAN\n",
    "from sklearn.decomposition import PCA, TruncatedSVD\n",
    "from scipy.spatial.distance import pdist, cosine\n",
    "\n",
    "plt.rcParams['figure.dpi'] = 100\n",
    "plt.rcParams[\"figure.autolayout\"] = True"
   ]
  },
  {
   "cell_type": "code",
   "execution_count": 2,
   "id": "9e4d6590-dd08-4b4d-baa1-951dfdc0e406",
   "metadata": {},
   "outputs": [],
   "source": [
    "data_dir = Path(Path.cwd().parent, 'data/interim')\n",
    "labels_dir = Path(data_dir, 'labels_0')\n",
    "models_dir = Path(Path.cwd().parent, 'models')"
   ]
  },
  {
   "cell_type": "code",
   "execution_count": 13,
   "id": "09b101e7-ff9e-44b6-982e-107cc026fcfc",
   "metadata": {},
   "outputs": [],
   "source": [
    "vectors = {path.stem[4:]:Doc2Vec.load(str(path)).dv.vectors for path in models_dir.glob('d2v*.model')}"
   ]
  },
  {
   "cell_type": "code",
   "execution_count": 6,
   "id": "7e35f1d6-79ee-4df7-9c55-4eed1364d257",
   "metadata": {},
   "outputs": [],
   "source": [
    "best_km_sl_names = ['labels_km_chains_eq_3_300_02_euclidean',\n",
    " 'labels_km_chains_ge_10_50_02_euclidean',\n",
    " 'labels_km_chains_eq_3_50_02_euclidean',\n",
    " 'labels_km_chains_ge_4_lt_10_300_02_euclidean',\n",
    " 'labels_km_chains_ge_10_300_02_euclidean',\n",
    " 'labels_km_chains_ge_4_lt_10_50_02_euclidean']"
   ]
  },
  {
   "cell_type": "code",
   "execution_count": 28,
   "id": "2a3726f1-8141-4b8e-81a9-a30bf51ff8f1",
   "metadata": {},
   "outputs": [],
   "source": [
    "def read_pickle(path):\n",
    "    with open(path, 'rb') as handle:\n",
    "        file = pkl.load(handle)\n",
    "    return np.asarray(file)"
   ]
  },
  {
   "cell_type": "code",
   "execution_count": 29,
   "id": "dff6ec51-6c89-4d60-92e1-4ab21552a26e",
   "metadata": {},
   "outputs": [],
   "source": [
    "clusters = {'_'.join(path.stem.split('_')[2:-2]):read_pickle(path) for path in labels_dir.iterdir() if path.stem in best_km_sl_names}"
   ]
  },
  {
   "cell_type": "code",
   "execution_count": 35,
   "id": "60470959-6797-4da3-99b4-74c41969e9df",
   "metadata": {},
   "outputs": [],
   "source": [
    "n_clusters = set(clusters['chains_eq_3_50'])\n",
    "clustered = {}\n",
    "for i in range(len(vectors['chains_eq_3_50'])):\n",
    "    if clusters['chains_eq_3_50'][i] in clustered:\n",
    "        clustered[clusters['chains_eq_3_50'][i]].append(vectors['chains_eq_3_50'][i])\n",
    "    else:\n",
    "        clustered[clusters['chains_eq_3_50'][i]] = [vectors['chains_eq_3_50'][i]]"
   ]
  },
  {
   "cell_type": "code",
   "execution_count": 57,
   "id": "2171fa28-cfda-4545-a44f-cc495400bbfb",
   "metadata": {},
   "outputs": [],
   "source": [
    "emails_list = [pd.read_pickle(path) for path in data_dir.glob('parsed_emails*')]"
   ]
  },
  {
   "cell_type": "code",
   "execution_count": 76,
   "id": "9e79865a-2fa1-471d-a19a-df50a4ae37d8",
   "metadata": {},
   "outputs": [],
   "source": [
    "emails = {path.stem[14:]+s:pd.read_pickle(path) for path in data_dir.glob('parsed_emails*') for s in ['_50','_300']}"
   ]
  },
  {
   "cell_type": "code",
   "execution_count": 83,
   "id": "d5260eed-def9-4f2e-8309-144605c0e1f7",
   "metadata": {},
   "outputs": [],
   "source": [
    "for k, v in clusters.items():\n",
    "    emails[k]['clusters'] = v"
   ]
  },
  {
   "cell_type": "code",
   "execution_count": 88,
   "id": "10ef1603-c189-49c6-aa70-65361038e3c9",
   "metadata": {},
   "outputs": [
    {
     "data": {
      "text/html": [
       "<div>\n",
       "<style scoped>\n",
       "    .dataframe tbody tr th:only-of-type {\n",
       "        vertical-align: middle;\n",
       "    }\n",
       "\n",
       "    .dataframe tbody tr th {\n",
       "        vertical-align: top;\n",
       "    }\n",
       "\n",
       "    .dataframe thead th {\n",
       "        text-align: right;\n",
       "    }\n",
       "</style>\n",
       "<table border=\"1\" class=\"dataframe\">\n",
       "  <thead>\n",
       "    <tr style=\"text-align: right;\">\n",
       "      <th></th>\n",
       "      <th>Message</th>\n",
       "      <th>Reply</th>\n",
       "      <th>Chain</th>\n",
       "      <th>Chain_len</th>\n",
       "      <th>Subject</th>\n",
       "      <th>Sender</th>\n",
       "      <th>Recipients</th>\n",
       "      <th>Timestamp</th>\n",
       "      <th>clusters</th>\n",
       "    </tr>\n",
       "  </thead>\n",
       "  <tbody>\n",
       "    <tr>\n",
       "      <th>142</th>\n",
       "      <td>\\nHey Paul, how is it going??  Attached you'll...</td>\n",
       "      <td>False</td>\n",
       "      <td>87415</td>\n",
       "      <td>3</td>\n",
       "      <td>How are you?</td>\n",
       "      <td>educanto@msn.com</td>\n",
       "      <td>d..thomas@enron.com</td>\n",
       "      <td>883935960</td>\n",
       "      <td>1</td>\n",
       "    </tr>\n",
       "    <tr>\n",
       "      <th>421</th>\n",
       "      <td>Maria,\\n\\nThe Clearing docs we got in from the...</td>\n",
       "      <td>True</td>\n",
       "      <td>49280</td>\n",
       "      <td>3</td>\n",
       "      <td>Re: Documentation from OM</td>\n",
       "      <td>mark.elliott@enron.com</td>\n",
       "      <td>maria.nartey@enron.com, richard.sage@enron.com...</td>\n",
       "      <td>925474740</td>\n",
       "      <td>1</td>\n",
       "    </tr>\n",
       "    <tr>\n",
       "      <th>424</th>\n",
       "      <td>Mark,\\n\\nDoes this mean that you would prefer ...</td>\n",
       "      <td>True</td>\n",
       "      <td>49280</td>\n",
       "      <td>3</td>\n",
       "      <td>Re: Documentation from OM</td>\n",
       "      <td>maria.nartey@enron.com</td>\n",
       "      <td>mark.elliott@enron.com, richard.sage@enron.com...</td>\n",
       "      <td>925482120</td>\n",
       "      <td>1</td>\n",
       "    </tr>\n",
       "    <tr>\n",
       "      <th>425</th>\n",
       "      <td>Maria,\\n\\nNot necessarily - it is just that th...</td>\n",
       "      <td>True</td>\n",
       "      <td>49280</td>\n",
       "      <td>3</td>\n",
       "      <td>Re: Documentation from OM</td>\n",
       "      <td>mark.elliott@enron.com</td>\n",
       "      <td>maria.nartey@enron.com, richard.sage@enron.com...</td>\n",
       "      <td>925485840</td>\n",
       "      <td>1</td>\n",
       "    </tr>\n",
       "    <tr>\n",
       "      <th>503</th>\n",
       "      <td>Wow - that is one nasty looking storm out ther...</td>\n",
       "      <td>False</td>\n",
       "      <td>112512</td>\n",
       "      <td>3</td>\n",
       "      <td>Morning!</td>\n",
       "      <td>mark.taylor@enron.com</td>\n",
       "      <td>marc.r.cutler@bankamerica.com</td>\n",
       "      <td>926502600</td>\n",
       "      <td>1</td>\n",
       "    </tr>\n",
       "    <tr>\n",
       "      <th>...</th>\n",
       "      <td>...</td>\n",
       "      <td>...</td>\n",
       "      <td>...</td>\n",
       "      <td>...</td>\n",
       "      <td>...</td>\n",
       "      <td>...</td>\n",
       "      <td>...</td>\n",
       "      <td>...</td>\n",
       "      <td>...</td>\n",
       "    </tr>\n",
       "    <tr>\n",
       "      <th>250676</th>\n",
       "      <td>She is going to print all the Appalachian Prod...</td>\n",
       "      <td>True</td>\n",
       "      <td>16029</td>\n",
       "      <td>3</td>\n",
       "      <td>RE: Assistant to print contracts</td>\n",
       "      <td>chris.germany@enron.com</td>\n",
       "      <td>ed.mcmichael@enron.com, ruth.concannon@enron.com</td>\n",
       "      <td>1024576950</td>\n",
       "      <td>0</td>\n",
       "    </tr>\n",
       "    <tr>\n",
       "      <th>250686</th>\n",
       "      <td>OK to both.  Let's use Heather Choate too if i...</td>\n",
       "      <td>True</td>\n",
       "      <td>16029</td>\n",
       "      <td>3</td>\n",
       "      <td>RE: Assistant to print contracts</td>\n",
       "      <td>ed.mcmichael@enron.com</td>\n",
       "      <td>chris.germany@enron.com, ruth.concannon@enron.com</td>\n",
       "      <td>1024588182</td>\n",
       "      <td>0</td>\n",
       "    </tr>\n",
       "    <tr>\n",
       "      <th>250700</th>\n",
       "      <td>does that mean i need to cover\\n \\n\\n</td>\n",
       "      <td>True</td>\n",
       "      <td>80624</td>\n",
       "      <td>3</td>\n",
       "      <td>RE: Go Baby!</td>\n",
       "      <td>joe.parks@enron.com</td>\n",
       "      <td>'fenner@enron.com, chet_fenner@bmc.com</td>\n",
       "      <td>1024602537</td>\n",
       "      <td>0</td>\n",
       "    </tr>\n",
       "    <tr>\n",
       "      <th>250703</th>\n",
       "      <td>9369 TOMORROW\\n\\n</td>\n",
       "      <td>True</td>\n",
       "      <td>80624</td>\n",
       "      <td>3</td>\n",
       "      <td>RE: Go Baby!</td>\n",
       "      <td>joe.parks@enron.com</td>\n",
       "      <td>'fenner@enron.com, chet_fenner@bmc.com</td>\n",
       "      <td>1024602851</td>\n",
       "      <td>0</td>\n",
       "    </tr>\n",
       "    <tr>\n",
       "      <th>250705</th>\n",
       "      <td>CHANGE YOUR FONT, ITS FAGGIE\\n\\n</td>\n",
       "      <td>True</td>\n",
       "      <td>80624</td>\n",
       "      <td>3</td>\n",
       "      <td>RE: Go Baby!</td>\n",
       "      <td>joe.parks@enron.com</td>\n",
       "      <td>'fenner@enron.com, chet_fenner@bmc.com</td>\n",
       "      <td>1024602963</td>\n",
       "      <td>0</td>\n",
       "    </tr>\n",
       "  </tbody>\n",
       "</table>\n",
       "<p>8769 rows × 9 columns</p>\n",
       "</div>"
      ],
      "text/plain": [
       "                                                  Message  Reply   Chain  \\\n",
       "142     \\nHey Paul, how is it going??  Attached you'll...  False   87415   \n",
       "421     Maria,\\n\\nThe Clearing docs we got in from the...   True   49280   \n",
       "424     Mark,\\n\\nDoes this mean that you would prefer ...   True   49280   \n",
       "425     Maria,\\n\\nNot necessarily - it is just that th...   True   49280   \n",
       "503     Wow - that is one nasty looking storm out ther...  False  112512   \n",
       "...                                                   ...    ...     ...   \n",
       "250676  She is going to print all the Appalachian Prod...   True   16029   \n",
       "250686  OK to both.  Let's use Heather Choate too if i...   True   16029   \n",
       "250700              does that mean i need to cover\\n \\n\\n   True   80624   \n",
       "250703                                  9369 TOMORROW\\n\\n   True   80624   \n",
       "250705                   CHANGE YOUR FONT, ITS FAGGIE\\n\\n   True   80624   \n",
       "\n",
       "       Chain_len                           Subject                   Sender  \\\n",
       "142            3                      How are you?         educanto@msn.com   \n",
       "421            3         Re: Documentation from OM   mark.elliott@enron.com   \n",
       "424            3         Re: Documentation from OM   maria.nartey@enron.com   \n",
       "425            3         Re: Documentation from OM   mark.elliott@enron.com   \n",
       "503            3                          Morning!    mark.taylor@enron.com   \n",
       "...          ...                               ...                      ...   \n",
       "250676         3  RE: Assistant to print contracts  chris.germany@enron.com   \n",
       "250686         3  RE: Assistant to print contracts   ed.mcmichael@enron.com   \n",
       "250700         3                      RE: Go Baby!      joe.parks@enron.com   \n",
       "250703         3                      RE: Go Baby!      joe.parks@enron.com   \n",
       "250705         3                      RE: Go Baby!      joe.parks@enron.com   \n",
       "\n",
       "                                               Recipients   Timestamp  \\\n",
       "142                                   d..thomas@enron.com   883935960   \n",
       "421     maria.nartey@enron.com, richard.sage@enron.com...   925474740   \n",
       "424     mark.elliott@enron.com, richard.sage@enron.com...   925482120   \n",
       "425     maria.nartey@enron.com, richard.sage@enron.com...   925485840   \n",
       "503                         marc.r.cutler@bankamerica.com   926502600   \n",
       "...                                                   ...         ...   \n",
       "250676   ed.mcmichael@enron.com, ruth.concannon@enron.com  1024576950   \n",
       "250686  chris.germany@enron.com, ruth.concannon@enron.com  1024588182   \n",
       "250700             'fenner@enron.com, chet_fenner@bmc.com  1024602537   \n",
       "250703             'fenner@enron.com, chet_fenner@bmc.com  1024602851   \n",
       "250705             'fenner@enron.com, chet_fenner@bmc.com  1024602963   \n",
       "\n",
       "        clusters  \n",
       "142            1  \n",
       "421            1  \n",
       "424            1  \n",
       "425            1  \n",
       "503            1  \n",
       "...          ...  \n",
       "250676         0  \n",
       "250686         0  \n",
       "250700         0  \n",
       "250703         0  \n",
       "250705         0  \n",
       "\n",
       "[8769 rows x 9 columns]"
      ]
     },
     "execution_count": 88,
     "metadata": {},
     "output_type": "execute_result"
    }
   ],
   "source": [
    "emails['chains_eq_3_50']"
   ]
  },
  {
   "cell_type": "code",
   "execution_count": 89,
   "id": "6ff878a1-cef4-4667-9d96-a25d707306d0",
   "metadata": {},
   "outputs": [
    {
     "data": {
      "text/plain": [
       "['parsed_emails_chains_replies.pkl',\n",
       " 'parsed_emails_chains_all.pkl',\n",
       " 'parsed_emails_chains_split_0.pkl',\n",
       " 'parsed_emails_chains_gt_1.pkl',\n",
       " 'parsed_emails_chains_split_3.pkl',\n",
       " 'parsed_emails_chains_split_2.pkl',\n",
       " 'parsed_emails_chains_split_1.pkl']"
      ]
     },
     "execution_count": 89,
     "metadata": {},
     "output_type": "execute_result"
    }
   ],
   "source": [
    "[path.name for path in Path(data_dir, 'big').glob('*.pkl')]"
   ]
  },
  {
   "cell_type": "code",
   "execution_count": 240,
   "id": "6b6cb201-7b6e-439f-83ff-e7dc4c99c105",
   "metadata": {},
   "outputs": [],
   "source": [
    "df_all = pd.read_pickle(Path(data_dir, 'big', 'parsed_emails_chains_all.pkl'))\n",
    "# df_all = df_all.dropna(subset='Message')\n",
    "\n",
    "chains_count = df_all['Chain_len'].value_counts()/df_all['Chain_len'].value_counts().index\n",
    "df_ct = chains_count.astype(int).reset_index().sort_values([0,'index'], ascending=[False, True]).set_index('index')"
   ]
  },
  {
   "cell_type": "code",
   "execution_count": 241,
   "id": "d232bdab-539e-41af-812a-0c82400916d4",
   "metadata": {},
   "outputs": [
    {
     "data": {
      "text/plain": [
       "[203172, 24018, 8838, 9708, 5332]"
      ]
     },
     "execution_count": 241,
     "metadata": {},
     "output_type": "execute_result"
    }
   ],
   "source": [
    "[\n",
    "    len(df_all[df_all['Chain_len'] == 1]),\n",
    "    len(df_all[df_all['Chain_len'] == 2]),\n",
    "    len(df_all[df_all['Chain_len'] == 3]),\n",
    "    len(df_all[(df_all['Chain_len'] >= 4) & (df_all['Chain_len'] < 10)]),\n",
    "    len(df_all[df_all['Chain_len'] >= 10])\n",
    "]"
   ]
  },
  {
   "cell_type": "code",
   "execution_count": 239,
   "id": "ef646fe0-2abd-4359-bc35-c2456a65c222",
   "metadata": {},
   "outputs": [
    {
     "data": {
      "text/plain": [
       "[196212, 23841, 8769, 9676, 5324]"
      ]
     },
     "execution_count": 239,
     "metadata": {},
     "output_type": "execute_result"
    }
   ],
   "source": [
    "[\n",
    "    len(df_all[df_all['Chain_len'] == 1]),\n",
    "    len(df_all[df_all['Chain_len'] == 2]),\n",
    "    len(df_all[df_all['Chain_len'] == 3]),\n",
    "    len(df_all[(df_all['Chain_len'] >= 4) & (df_all['Chain_len'] < 10)]),\n",
    "    len(df_all[df_all['Chain_len'] >= 10])\n",
    "]"
   ]
  },
  {
   "cell_type": "code",
   "execution_count": 247,
   "id": "4a4d9488-2245-4365-bd15-fb489d445043",
   "metadata": {},
   "outputs": [],
   "source": [
    "n_msg_cln = [196212, 23841, 8769, 9676, 5324]\n",
    "n_msg_raw = [203172, 24018, 8838, 9708, 5332]"
   ]
  },
  {
   "cell_type": "code",
   "execution_count": 255,
   "id": "43fb1121-1f19-4be2-b97e-23a5679c38dc",
   "metadata": {},
   "outputs": [
    {
     "name": "stdout",
     "output_type": "stream",
     "text": [
      "3.4000000000000004\n",
      "0.7000000000000001\n",
      "0.8\n",
      "0.3\n",
      "0.2\n"
     ]
    }
   ],
   "source": [
    "for i in range(len(n_msg_raw)):\n",
    "    print(round(1-(n_msg_cln[i] / n_msg_raw[i]),3)*100)"
   ]
  },
  {
   "cell_type": "code",
   "execution_count": 199,
   "id": "0d1afc53-9567-4fb9-93bf-ed13fc602052",
   "metadata": {},
   "outputs": [
    {
     "data": {
      "text/plain": [
       "196212"
      ]
     },
     "execution_count": 199,
     "metadata": {},
     "output_type": "execute_result"
    }
   ],
   "source": [
    "len(df_all[df_all['Chain_len'] == 1])"
   ]
  },
  {
   "cell_type": "code",
   "execution_count": 232,
   "id": "c351ff08-f8f0-4cc2-bf07-02eae03cfd64",
   "metadata": {},
   "outputs": [
    {
     "data": {
      "text/plain": [
       "4892"
      ]
     },
     "execution_count": 232,
     "metadata": {},
     "output_type": "execute_result"
    }
   ],
   "source": [
    "sum(df_ct.reset_index().loc[10:,'index'] * df_ct.reset_index().loc[10:,0])"
   ]
  },
  {
   "cell_type": "code",
   "execution_count": 230,
   "id": "3cd015d0-bfdc-4aa5-9047-10cd1c5f283c",
   "metadata": {},
   "outputs": [
    {
     "data": {
      "text/html": [
       "<div>\n",
       "<style scoped>\n",
       "    .dataframe tbody tr th:only-of-type {\n",
       "        vertical-align: middle;\n",
       "    }\n",
       "\n",
       "    .dataframe tbody tr th {\n",
       "        vertical-align: top;\n",
       "    }\n",
       "\n",
       "    .dataframe thead th {\n",
       "        text-align: right;\n",
       "    }\n",
       "</style>\n",
       "<table border=\"1\" class=\"dataframe\">\n",
       "  <thead>\n",
       "    <tr style=\"text-align: right;\">\n",
       "      <th></th>\n",
       "      <th>0</th>\n",
       "    </tr>\n",
       "    <tr>\n",
       "      <th>index</th>\n",
       "      <th></th>\n",
       "    </tr>\n",
       "  </thead>\n",
       "  <tbody>\n",
       "    <tr>\n",
       "      <th>1</th>\n",
       "      <td>203172</td>\n",
       "    </tr>\n",
       "    <tr>\n",
       "      <th>2</th>\n",
       "      <td>12009</td>\n",
       "    </tr>\n",
       "    <tr>\n",
       "      <th>3</th>\n",
       "      <td>2946</td>\n",
       "    </tr>\n",
       "    <tr>\n",
       "      <th>4</th>\n",
       "      <td>1077</td>\n",
       "    </tr>\n",
       "    <tr>\n",
       "      <th>5</th>\n",
       "      <td>463</td>\n",
       "    </tr>\n",
       "    <tr>\n",
       "      <th>6</th>\n",
       "      <td>222</td>\n",
       "    </tr>\n",
       "    <tr>\n",
       "      <th>7</th>\n",
       "      <td>116</td>\n",
       "    </tr>\n",
       "    <tr>\n",
       "      <th>8</th>\n",
       "      <td>67</td>\n",
       "    </tr>\n",
       "    <tr>\n",
       "      <th>9</th>\n",
       "      <td>45</td>\n",
       "    </tr>\n",
       "  </tbody>\n",
       "</table>\n",
       "</div>"
      ],
      "text/plain": [
       "            0\n",
       "index        \n",
       "1      203172\n",
       "2       12009\n",
       "3        2946\n",
       "4        1077\n",
       "5         463\n",
       "6         222\n",
       "7         116\n",
       "8          67\n",
       "9          45"
      ]
     },
     "execution_count": 230,
     "metadata": {},
     "output_type": "execute_result"
    }
   ],
   "source": [
    "df_ct.loc[:9]"
   ]
  },
  {
   "cell_type": "code",
   "execution_count": 231,
   "id": "b2f43027-af26-41f3-a044-7c15704257fe",
   "metadata": {},
   "outputs": [
    {
     "data": {
      "text/html": [
       "<div>\n",
       "<style scoped>\n",
       "    .dataframe tbody tr th:only-of-type {\n",
       "        vertical-align: middle;\n",
       "    }\n",
       "\n",
       "    .dataframe tbody tr th {\n",
       "        vertical-align: top;\n",
       "    }\n",
       "\n",
       "    .dataframe thead th {\n",
       "        text-align: right;\n",
       "    }\n",
       "</style>\n",
       "<table border=\"1\" class=\"dataframe\">\n",
       "  <thead>\n",
       "    <tr style=\"text-align: right;\">\n",
       "      <th></th>\n",
       "      <th>0</th>\n",
       "    </tr>\n",
       "    <tr>\n",
       "      <th>index</th>\n",
       "      <th></th>\n",
       "    </tr>\n",
       "  </thead>\n",
       "  <tbody>\n",
       "    <tr>\n",
       "      <th>122</th>\n",
       "      <td>1</td>\n",
       "    </tr>\n",
       "    <tr>\n",
       "      <th>123</th>\n",
       "      <td>1</td>\n",
       "    </tr>\n",
       "    <tr>\n",
       "      <th>233</th>\n",
       "      <td>1</td>\n",
       "    </tr>\n",
       "    <tr>\n",
       "      <th>290</th>\n",
       "      <td>1</td>\n",
       "    </tr>\n",
       "    <tr>\n",
       "      <th>798</th>\n",
       "      <td>1</td>\n",
       "    </tr>\n",
       "  </tbody>\n",
       "</table>\n",
       "</div>"
      ],
      "text/plain": [
       "       0\n",
       "index   \n",
       "122    1\n",
       "123    1\n",
       "233    1\n",
       "290    1\n",
       "798    1"
      ]
     },
     "execution_count": 231,
     "metadata": {},
     "output_type": "execute_result"
    }
   ],
   "source": [
    "df_ct.tail(5)"
   ]
  },
  {
   "cell_type": "code",
   "execution_count": 94,
   "id": "f4cb7c6e-a083-4ee9-97de-67e0f726a6a8",
   "metadata": {},
   "outputs": [
    {
     "data": {
      "text/plain": [
       "220309"
      ]
     },
     "execution_count": 94,
     "metadata": {},
     "output_type": "execute_result"
    }
   ],
   "source": [
    "df_all"
   ]
  },
  {
   "cell_type": "code",
   "execution_count": 190,
   "id": "9ac82415-1d54-4a21-b49a-929d009d7588",
   "metadata": {},
   "outputs": [
    {
     "data": {
      "text/plain": [
       "11920.5"
      ]
     },
     "execution_count": 190,
     "metadata": {},
     "output_type": "execute_result"
    }
   ],
   "source": [
    "len(emails['chains_eq_2_50'].dropna(subset='Message'))/2"
   ]
  },
  {
   "cell_type": "code",
   "execution_count": 186,
   "id": "857e35ce-5ba1-4a42-ba28-279298e49c47",
   "metadata": {},
   "outputs": [
    {
     "name": "stdout",
     "output_type": "stream",
     "text": [
      "chains_eq_2_50 23841\n",
      "chains_eq_2_300 23841\n",
      "chains_ge_10_50 5324\n",
      "chains_ge_10_300 5324\n",
      "chains_ge_4_lt_10_50 9676\n",
      "chains_ge_4_lt_10_300 9676\n",
      "chains_eq_3_50 8769\n",
      "chains_eq_3_300 8769\n"
     ]
    }
   ],
   "source": [
    "for k,v in emails.items():\n",
    "    print(k, len(v.))"
   ]
  },
  {
   "cell_type": "code",
   "execution_count": 177,
   "id": "fbcca276-029d-44e7-a70f-43e7ba21f52a",
   "metadata": {},
   "outputs": [
    {
     "data": {
      "text/plain": [
       "['parsed_emails_chains_eq_2',\n",
       " 'parsed_emails_chains_ge_10',\n",
       " 'parsed_emails_chains_ge_4_lt_10',\n",
       " 'parsed_emails_chains_eq_3']"
      ]
     },
     "execution_count": 177,
     "metadata": {},
     "output_type": "execute_result"
    }
   ],
   "source": [
    "[path.stem for path in data_dir.glob('parsed*')]"
   ]
  },
  {
   "cell_type": "code",
   "execution_count": 17,
   "id": "2c4c5014-a569-413e-9d7a-2f08d139c113",
   "metadata": {},
   "outputs": [
    {
     "data": {
      "text/plain": [
       "0.06073138676583767"
      ]
     },
     "execution_count": 17,
     "metadata": {},
     "output_type": "execute_result"
    }
   ],
   "source": [
    "pca = PCA(n_components=2)\n",
    "X = pca.fit_transform(d2vec)\n",
    "sum(pca.explained_variance_ratio_)"
   ]
  },
  {
   "cell_type": "code",
   "execution_count": 21,
   "id": "9c35d3c6-a6e2-4b9c-aae1-f8ffcfb1b4fa",
   "metadata": {},
   "outputs": [
    {
     "data": {
      "text/plain": [
       "256.4158363714814"
      ]
     },
     "execution_count": 21,
     "metadata": {},
     "output_type": "execute_result"
    }
   ],
   "source": [
    "pca = PCA()\n",
    "X = pca.fit_transform(d2vec)\n",
    "sum(pca.explained_variance_ratio_)"
   ]
  },
  {
   "cell_type": "code",
   "execution_count": null,
   "id": "1e10ed02-409d-43d3-81c6-ff2a8f2a4c90",
   "metadata": {},
   "outputs": [],
   "source": []
  },
  {
   "cell_type": "code",
   "execution_count": 18,
   "id": "5b898abf-0b77-47c7-bb7d-d59e0be227be",
   "metadata": {},
   "outputs": [
    {
     "data": {
      "text/plain": [
       "0.06014697067439556"
      ]
     },
     "execution_count": 18,
     "metadata": {},
     "output_type": "execute_result"
    }
   ],
   "source": [
    "tsvd = TruncatedSVD(n_components=2)\n",
    "Y = tsvd.fit_transform(d2vec)\n",
    "sum(tsvd.explained_variance_ratio_)"
   ]
  },
  {
   "cell_type": "code",
   "execution_count": null,
   "id": "7b72a1ab-1095-40be-983c-072c8baddf99",
   "metadata": {},
   "outputs": [],
   "source": []
  }
 ],
 "metadata": {
  "kernelspec": {
   "display_name": "Python 3 (ipykernel)",
   "language": "python",
   "name": "python3"
  },
  "language_info": {
   "codemirror_mode": {
    "name": "ipython",
    "version": 3
   },
   "file_extension": ".py",
   "mimetype": "text/x-python",
   "name": "python",
   "nbconvert_exporter": "python",
   "pygments_lexer": "ipython3",
   "version": "3.9.13"
  }
 },
 "nbformat": 4,
 "nbformat_minor": 5
}
