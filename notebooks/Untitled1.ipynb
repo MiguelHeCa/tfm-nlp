{
 "cells": [
  {
   "cell_type": "code",
   "execution_count": 2,
   "id": "9f7a02c8-c2e9-437d-b339-78d2a913aaa4",
   "metadata": {},
   "outputs": [],
   "source": [
    "import csv\n",
    "import pickle as pkl\n",
    "\n",
    "import numpy as np\n",
    "import pandas as pd\n",
    "\n",
    "from collections import Counter\n",
    "from pathlib import Path\n",
    "\n",
    "from gensim.models.doc2vec import Doc2Vec"
   ]
  },
  {
   "cell_type": "code",
   "execution_count": 3,
   "id": "63755c67-f085-40ef-9478-163a70d929ef",
   "metadata": {},
   "outputs": [],
   "source": [
    "data_dir = Path(Path.cwd().parent, 'data/interim')\n",
    "models_dir = Path(Path.cwd().parent, 'models')"
   ]
  },
  {
   "cell_type": "code",
   "execution_count": 4,
   "id": "fe64ae72-0e62-400a-bf3a-19795a0e1def",
   "metadata": {},
   "outputs": [],
   "source": [
    "mod_paths = sorted([str(mod_path) for mod_path in Path(models_dir).glob('*.model')])[1:] # removing 1e5 model\n",
    "mod_sizes = [mod_name.split('_')[2] for mod_name in mod_paths]"
   ]
  },
  {
   "cell_type": "code",
   "execution_count": 5,
   "id": "a80fcc89-1f55-42c9-9cae-d31d3dc947fc",
   "metadata": {},
   "outputs": [
    {
     "data": {
      "text/plain": [
       "['/home/miguel/Projects/tfm-nlp/models/dv_42_10000_300_15_1_20_1e-5.model',\n",
       " '/home/miguel/Projects/tfm-nlp/models/dv_42_15000_300_15_1_20_1e-5.model',\n",
       " '/home/miguel/Projects/tfm-nlp/models/dv_42_20000_300_15_1_20_1e-5.model',\n",
       " '/home/miguel/Projects/tfm-nlp/models/dv_42_25000_300_15_1_20_1e-5.model',\n",
       " '/home/miguel/Projects/tfm-nlp/models/dv_42_30000_300_15_1_20_1e-5.model',\n",
       " '/home/miguel/Projects/tfm-nlp/models/dv_42_35000_300_15_1_20_1e-5.model',\n",
       " '/home/miguel/Projects/tfm-nlp/models/dv_42_40000_300_15_1_20_1e-5.model',\n",
       " '/home/miguel/Projects/tfm-nlp/models/dv_42_45000_300_15_1_20_1e-5.model',\n",
       " '/home/miguel/Projects/tfm-nlp/models/dv_42_50000_300_15_1_20_1e-5.model',\n",
       " '/home/miguel/Projects/tfm-nlp/models/dv_42_55000_300_15_1_20_1e-5.model',\n",
       " '/home/miguel/Projects/tfm-nlp/models/dv_42_60000_300_15_1_20_1e-5.model',\n",
       " '/home/miguel/Projects/tfm-nlp/models/dv_42_65000_300_15_1_20_1e-5.model',\n",
       " '/home/miguel/Projects/tfm-nlp/models/dv_42_70000_300_15_1_20_1e-5.model',\n",
       " '/home/miguel/Projects/tfm-nlp/models/dv_42_75000_300_15_1_20_1e-5.model',\n",
       " '/home/miguel/Projects/tfm-nlp/models/dv_42_80000_300_15_1_20_1e-5.model',\n",
       " '/home/miguel/Projects/tfm-nlp/models/dv_42_85000_300_15_1_20_1e-5.model',\n",
       " '/home/miguel/Projects/tfm-nlp/models/dv_42_90000_300_15_1_20_1e-5.model',\n",
       " '/home/miguel/Projects/tfm-nlp/models/dv_42_95000_300_15_1_20_1e-5.model']"
      ]
     },
     "execution_count": 5,
     "metadata": {},
     "output_type": "execute_result"
    }
   ],
   "source": [
    "mod_paths"
   ]
  },
  {
   "cell_type": "code",
   "execution_count": 7,
   "id": "be91af17-5c92-4833-a131-aa30923f01a2",
   "metadata": {},
   "outputs": [
    {
     "data": {
      "text/plain": [
       "['/home/miguel/Projects/tfm-nlp/models/dv_42_30000_300_15_1_20_1e-5.model',\n",
       " '/home/miguel/Projects/tfm-nlp/models/dv_42_35000_300_15_1_20_1e-5.model',\n",
       " '/home/miguel/Projects/tfm-nlp/models/dv_42_40000_300_15_1_20_1e-5.model',\n",
       " '/home/miguel/Projects/tfm-nlp/models/dv_42_45000_300_15_1_20_1e-5.model',\n",
       " '/home/miguel/Projects/tfm-nlp/models/dv_42_50000_300_15_1_20_1e-5.model',\n",
       " '/home/miguel/Projects/tfm-nlp/models/dv_42_55000_300_15_1_20_1e-5.model',\n",
       " '/home/miguel/Projects/tfm-nlp/models/dv_42_60000_300_15_1_20_1e-5.model']"
      ]
     },
     "execution_count": 7,
     "metadata": {},
     "output_type": "execute_result"
    }
   ],
   "source": [
    "mod_paths[4:11]"
   ]
  },
  {
   "cell_type": "code",
   "execution_count": 8,
   "id": "eae6340a-9f41-4905-bfb8-bc52f5b8dde9",
   "metadata": {},
   "outputs": [
    {
     "data": {
      "text/plain": [
       "['/home/miguel/Projects/tfm-nlp/models/dv_42_65000_300_15_1_20_1e-5.model',\n",
       " '/home/miguel/Projects/tfm-nlp/models/dv_42_70000_300_15_1_20_1e-5.model',\n",
       " '/home/miguel/Projects/tfm-nlp/models/dv_42_75000_300_15_1_20_1e-5.model',\n",
       " '/home/miguel/Projects/tfm-nlp/models/dv_42_80000_300_15_1_20_1e-5.model',\n",
       " '/home/miguel/Projects/tfm-nlp/models/dv_42_85000_300_15_1_20_1e-5.model',\n",
       " '/home/miguel/Projects/tfm-nlp/models/dv_42_90000_300_15_1_20_1e-5.model',\n",
       " '/home/miguel/Projects/tfm-nlp/models/dv_42_95000_300_15_1_20_1e-5.model']"
      ]
     },
     "execution_count": 8,
     "metadata": {},
     "output_type": "execute_result"
    }
   ],
   "source": [
    "mod_paths[11:]"
   ]
  },
  {
   "cell_type": "code",
   "execution_count": null,
   "id": "f5d42b64-33c4-4590-a68e-988e1d249167",
   "metadata": {},
   "outputs": [],
   "source": []
  }
 ],
 "metadata": {
  "kernelspec": {
   "display_name": "Python 3 (ipykernel)",
   "language": "python",
   "name": "python3"
  },
  "language_info": {
   "codemirror_mode": {
    "name": "ipython",
    "version": 3
   },
   "file_extension": ".py",
   "mimetype": "text/x-python",
   "name": "python",
   "nbconvert_exporter": "python",
   "pygments_lexer": "ipython3",
   "version": "3.9.12"
  }
 },
 "nbformat": 4,
 "nbformat_minor": 5
}
