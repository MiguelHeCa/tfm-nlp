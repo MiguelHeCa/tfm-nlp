{
 "cells": [
  {
   "cell_type": "markdown",
   "id": "3c53bf4e-01bc-4410-95fd-e0e4d7829368",
   "metadata": {},
   "source": [
    "# Word Mover's Distance"
   ]
  },
  {
   "cell_type": "code",
   "execution_count": 16,
   "id": "39856d08-95ec-451c-ab4d-219bc203f561",
   "metadata": {},
   "outputs": [],
   "source": [
    "import csv\n",
    "import pickle as pkl\n",
    "\n",
    "import numpy as np\n",
    "import pandas as pd\n",
    "\n",
    "from collections import Counter\n",
    "from datetime import datetime\n",
    "from pathlib import Path\n",
    "\n",
    "from gensim.models.doc2vec import Doc2Vec\n",
    "# from hdbscan import HDBSCAN\n",
    "from cuml.cluster import HDBSCAN, DBSCAN, KMeans\n",
    "# from sklearn.decomposition import TruncatedSVD \n",
    "# from sklearn.neighbors import NearestNeighbors\n",
    "from sklearn.metrics import pairwise_distances, silhouette_score, calinski_harabasz_score, davies_bouldin_score\n",
    "from cuml.metrics.cluster.silhouette_score import cython_silhouette_score\n",
    "from cuml.metrics.cluster.entropy import cython_entropy"
   ]
  },
  {
   "cell_type": "code",
   "execution_count": 6,
   "id": "f62092d2-64a5-42de-9308-9a3a104f52da",
   "metadata": {},
   "outputs": [],
   "source": [
    "data_dir = Path(Path.cwd().parent, 'data/interim')\n",
    "labels_dir = Path(data_dir, 'labels')\n",
    "models_dir = Path(Path.cwd().parent, 'models')\n",
    "mod_paths = sorted([mod_path for mod_path in Path(models_dir).glob('d2v*.model')])"
   ]
  },
  {
   "cell_type": "code",
   "execution_count": 18,
   "id": "03706376-8223-46d5-8e96-a3dd592168fb",
   "metadata": {},
   "outputs": [],
   "source": [
    "df = pd.read_pickle(Path(data_dir, 'parsed_emails_chains_ge_4_lt_10.pkl'))"
   ]
  },
  {
   "cell_type": "code",
   "execution_count": 26,
   "id": "66d95519-0fdf-43f7-b7bc-515084236e61",
   "metadata": {},
   "outputs": [],
   "source": [
    "messages = df['Message'].to_numpy()"
   ]
  },
  {
   "cell_type": "code",
   "execution_count": 30,
   "id": "b0394b36-cb89-44c3-a34f-fc41b747fc7e",
   "metadata": {},
   "outputs": [],
   "source": [
    "num_docs = len(messages)"
   ]
  },
  {
   "cell_type": "code",
   "execution_count": 31,
   "id": "03da4927-3164-45f9-a397-480f410bc8b3",
   "metadata": {},
   "outputs": [],
   "source": [
    "mat = np.zeros((num_docs, num_docs))"
   ]
  },
  {
   "cell_type": "code",
   "execution_count": 32,
   "id": "f9871edf-a8a4-4141-8ff0-540cc43a87a2",
   "metadata": {},
   "outputs": [
    {
     "data": {
      "text/plain": [
       "(9676, 9676)"
      ]
     },
     "execution_count": 32,
     "metadata": {},
     "output_type": "execute_result"
    }
   ],
   "source": [
    "mat.shape"
   ]
  },
  {
   "cell_type": "code",
   "execution_count": 7,
   "id": "f330d951-ef45-4063-a1be-bad02588efa3",
   "metadata": {},
   "outputs": [
    {
     "data": {
      "text/plain": [
       "[PosixPath('/home/miguel/Projects/tfm-nlp/models/d2v_chains_all_300.model'),\n",
       " PosixPath('/home/miguel/Projects/tfm-nlp/models/d2v_chains_all_50.model'),\n",
       " PosixPath('/home/miguel/Projects/tfm-nlp/models/d2v_chains_eq_2_300.model'),\n",
       " PosixPath('/home/miguel/Projects/tfm-nlp/models/d2v_chains_eq_3_300.model'),\n",
       " PosixPath('/home/miguel/Projects/tfm-nlp/models/d2v_chains_ge_10_300.model'),\n",
       " PosixPath('/home/miguel/Projects/tfm-nlp/models/d2v_chains_ge_4_lt_10_300.model'),\n",
       " PosixPath('/home/miguel/Projects/tfm-nlp/models/d2v_chains_gt_1_300.model'),\n",
       " PosixPath('/home/miguel/Projects/tfm-nlp/models/d2v_chains_gt_1_50.model'),\n",
       " PosixPath('/home/miguel/Projects/tfm-nlp/models/d2v_chains_replies_300.model'),\n",
       " PosixPath('/home/miguel/Projects/tfm-nlp/models/d2v_chains_replies_50.model'),\n",
       " PosixPath('/home/miguel/Projects/tfm-nlp/models/d2v_chains_split_0_300.model'),\n",
       " PosixPath('/home/miguel/Projects/tfm-nlp/models/d2v_chains_split_0_50.model'),\n",
       " PosixPath('/home/miguel/Projects/tfm-nlp/models/d2v_chains_split_1_300.model'),\n",
       " PosixPath('/home/miguel/Projects/tfm-nlp/models/d2v_chains_split_1_50.model'),\n",
       " PosixPath('/home/miguel/Projects/tfm-nlp/models/d2v_chains_split_2_300.model'),\n",
       " PosixPath('/home/miguel/Projects/tfm-nlp/models/d2v_chains_split_2_50.model'),\n",
       " PosixPath('/home/miguel/Projects/tfm-nlp/models/d2v_chains_split_3_300.model'),\n",
       " PosixPath('/home/miguel/Projects/tfm-nlp/models/d2v_chains_split_3_50.model')]"
      ]
     },
     "execution_count": 7,
     "metadata": {},
     "output_type": "execute_result"
    }
   ],
   "source": [
    "mod_paths"
   ]
  },
  {
   "cell_type": "code",
   "execution_count": null,
   "id": "bcf46a10-c555-4486-af6a-c74175142efa",
   "metadata": {},
   "outputs": [],
   "source": [
    "docs = messages\n",
    "m = []\n",
    "for doc1 in docs:\n",
    "    row = []\n",
    "    for doc2 in docs:\n",
    "        # if distance is similarity function\n",
    "        row.append(model.dv.wmdistance(doc1, doc2))\n",
    "    m.append(row)\n",
    "\n",
    "result = np.matrix(m)"
   ]
  },
  {
   "cell_type": "code",
   "execution_count": null,
   "id": "e94a9c1e-f78f-447b-b52b-d7bde77f3d91",
   "metadata": {},
   "outputs": [],
   "source": [
    "mat = pairwise_distances(messages, metric=model.dv.wmdistance)"
   ]
  },
  {
   "cell_type": "code",
   "execution_count": 9,
   "id": "7764e104-daf5-4f7e-a4d3-2fcdb2ffc9d7",
   "metadata": {},
   "outputs": [
    {
     "data": {
      "text/plain": [
       "PosixPath('/home/miguel/Projects/tfm-nlp/models/d2v_chains_ge_4_lt_10_300.model')"
      ]
     },
     "execution_count": 9,
     "metadata": {},
     "output_type": "execute_result"
    }
   ],
   "source": [
    "path = mod_paths[5]\n",
    "path"
   ]
  },
  {
   "cell_type": "code",
   "execution_count": 10,
   "id": "6a635200-d02a-4ca8-ae02-c937cfb2bf25",
   "metadata": {},
   "outputs": [],
   "source": [
    "model = Doc2Vec.load(str(path))\n",
    "data = model.dv.vectors"
   ]
  },
  {
   "cell_type": "code",
   "execution_count": 1,
   "id": "df63c0e5-8ce0-4347-b8a7-f0e69f4d3819",
   "metadata": {},
   "outputs": [],
   "source": [
    "import csv\n",
    "import pickle as pkl\n",
    "\n",
    "import numpy as np\n",
    "import pandas as pd\n",
    "from sklearn.cluster import DBSCAN\n",
    "from sklearn.metrics import pairwise_distances\n",
    "from sklearn.metrics.pairwise import pairwise_kernels\n",
    "\n",
    "from collections import Counter\n",
    "from datetime import datetime\n",
    "from pathlib import Path\n",
    "\n",
    "from scipy.stats import wasserstein_distance\n",
    "from gensim.models.doc2vec import Doc2Vec, TaggedDocument\n",
    "from gensim.utils import simple_preprocess"
   ]
  },
  {
   "cell_type": "code",
   "execution_count": 6,
   "id": "489a14a9-5957-4943-ae39-7ed33906fc26",
   "metadata": {},
   "outputs": [],
   "source": [
    "data_dir = Path(Path.cwd().parent, 'data/interim')\n",
    "labels_dir = Path(data_dir, 'labels')\n",
    "models_dir = Path(Path.cwd().parent, 'models')\n",
    "mod_paths = sorted([mod_path for mod_path in Path(models_dir).glob('d2v*.model')])[2:]\n",
    "data_paths = sorted(data_dir.glob('parsed_emails*.pkl'))"
   ]
  },
  {
   "cell_type": "code",
   "execution_count": 8,
   "id": "181a4663-9485-4d6e-ae58-ccabfe0bfde8",
   "metadata": {},
   "outputs": [
    {
     "data": {
      "text/plain": [
       "PosixPath('/home/miguel/Projects/tfm-nlp/data/interim/parsed_emails_chains_gt_1.pkl')"
      ]
     },
     "execution_count": 8,
     "metadata": {},
     "output_type": "execute_result"
    }
   ],
   "source": [
    "data_paths[1]"
   ]
  },
  {
   "cell_type": "code",
   "execution_count": 3,
   "id": "6714a9e7-cbc4-417a-bc26-fc60b1565eac",
   "metadata": {},
   "outputs": [
    {
     "data": {
      "text/plain": [
       "PosixPath('/home/miguel/Projects/tfm-nlp/models/d2v_chains_gt_1_50.model')"
      ]
     },
     "execution_count": 3,
     "metadata": {},
     "output_type": "execute_result"
    }
   ],
   "source": [
    "mod_paths[1]\n"
   ]
  },
  {
   "cell_type": "code",
   "execution_count": 17,
   "id": "72455c40-7c74-41e5-a72f-1111c0193b84",
   "metadata": {},
   "outputs": [],
   "source": [
    "df_ = pd.read_pickle(data_paths[1])"
   ]
  },
  {
   "cell_type": "code",
   "execution_count": 18,
   "id": "b91d2a5c-1262-4a60-8af9-b20fb9a505a8",
   "metadata": {},
   "outputs": [],
   "source": [
    "df = df_[df_['Chain_len'] == 16]"
   ]
  },
  {
   "cell_type": "code",
   "execution_count": 20,
   "id": "30382915-f880-4a27-b5b1-3617197b9b14",
   "metadata": {},
   "outputs": [
    {
     "data": {
      "text/html": [
       "<div>\n",
       "<style scoped>\n",
       "    .dataframe tbody tr th:only-of-type {\n",
       "        vertical-align: middle;\n",
       "    }\n",
       "\n",
       "    .dataframe tbody tr th {\n",
       "        vertical-align: top;\n",
       "    }\n",
       "\n",
       "    .dataframe thead th {\n",
       "        text-align: right;\n",
       "    }\n",
       "</style>\n",
       "<table border=\"1\" class=\"dataframe\">\n",
       "  <thead>\n",
       "    <tr style=\"text-align: right;\">\n",
       "      <th></th>\n",
       "      <th>Message</th>\n",
       "      <th>Reply</th>\n",
       "      <th>Chain</th>\n",
       "      <th>Chain_len</th>\n",
       "      <th>Subject</th>\n",
       "      <th>Sender</th>\n",
       "      <th>Recipients</th>\n",
       "      <th>Timestamp</th>\n",
       "    </tr>\n",
       "  </thead>\n",
       "  <tbody>\n",
       "    <tr>\n",
       "      <th>90560</th>\n",
       "      <td>For your viewing pleasure . . .\\n-------------...</td>\n",
       "      <td>False</td>\n",
       "      <td>126828</td>\n",
       "      <td>16</td>\n",
       "      <td></td>\n",
       "      <td>eric.bass@enron.com</td>\n",
       "      <td>lwbthemarine@bigplanet.com</td>\n",
       "      <td>985038720</td>\n",
       "    </tr>\n",
       "    <tr>\n",
       "      <th>104474</th>\n",
       "      <td>kate,\\n\\ni did not get to check out mike s. de...</td>\n",
       "      <td>False</td>\n",
       "      <td>218484</td>\n",
       "      <td>16</td>\n",
       "      <td>tfs</td>\n",
       "      <td>kerri.thompson@enron.com</td>\n",
       "      <td>kate.symes@enron.com</td>\n",
       "      <td>988045500</td>\n",
       "    </tr>\n",
       "    <tr>\n",
       "      <th>123035</th>\n",
       "      <td>hi matt....\\n\\n-cori\\n(hopefully you remeber me)</td>\n",
       "      <td>False</td>\n",
       "      <td>124316</td>\n",
       "      <td>16</td>\n",
       "      <td></td>\n",
       "      <td>ccates@mail.lbjs.com</td>\n",
       "      <td>matthew.lenhart@enron.com</td>\n",
       "      <td>991155350</td>\n",
       "    </tr>\n",
       "    <tr>\n",
       "      <th>128118</th>\n",
       "      <td>Hi\\n\\nCan you can hit on Wed (lunch or afterno...</td>\n",
       "      <td>False</td>\n",
       "      <td>214079</td>\n",
       "      <td>16</td>\n",
       "      <td>meeting</td>\n",
       "      <td>elizabeth.sager@enron.com</td>\n",
       "      <td>drusso@reliantenergy.com</td>\n",
       "      <td>991781220</td>\n",
       "    </tr>\n",
       "  </tbody>\n",
       "</table>\n",
       "</div>"
      ],
      "text/plain": [
       "                                                  Message  Reply   Chain  \\\n",
       "90560   For your viewing pleasure . . .\\n-------------...  False  126828   \n",
       "104474  kate,\\n\\ni did not get to check out mike s. de...  False  218484   \n",
       "123035   hi matt....\\n\\n-cori\\n(hopefully you remeber me)  False  124316   \n",
       "128118  Hi\\n\\nCan you can hit on Wed (lunch or afterno...  False  214079   \n",
       "\n",
       "       Chain_len  Subject                     Sender  \\\n",
       "90560         16                 eric.bass@enron.com   \n",
       "104474        16      tfs   kerri.thompson@enron.com   \n",
       "123035        16                ccates@mail.lbjs.com   \n",
       "128118        16  meeting  elizabeth.sager@enron.com   \n",
       "\n",
       "                        Recipients  Timestamp  \n",
       "90560   lwbthemarine@bigplanet.com  985038720  \n",
       "104474        kate.symes@enron.com  988045500  \n",
       "123035   matthew.lenhart@enron.com  991155350  \n",
       "128118    drusso@reliantenergy.com  991781220  "
      ]
     },
     "execution_count": 20,
     "metadata": {},
     "output_type": "execute_result"
    }
   ],
   "source": [
    "df[~df['Reply']]"
   ]
  },
  {
   "cell_type": "code",
   "execution_count": 21,
   "id": "98292d69-840f-4dae-bc78-835632f56b83",
   "metadata": {},
   "outputs": [],
   "source": [
    "\n",
    "messages = df['Message'].dropna().to_numpy()\n",
    "tokenized_docs = [simple_preprocess(msg) for msg in messages]\n",
    "corpus = [TaggedDocument(doc, [i]) for i, doc in enumerate(tokenized_docs)]"
   ]
  },
  {
   "cell_type": "code",
   "execution_count": 25,
   "id": "96196566-f2ea-4eef-90b8-61f9c8929700",
   "metadata": {},
   "outputs": [],
   "source": [
    "vector_size = 50\n",
    "window_size = 15\n",
    "min_count = 1\n",
    "train_epoch = 20\n",
    "alpha = 0.25\n",
    "min_alpha = 1e-5\n",
    "model = Doc2Vec(vector_size=vector_size,\n",
    "                window=window_size,\n",
    "                alpha=alpha, \n",
    "                min_alpha=min_alpha,\n",
    "                min_count=min_count,\n",
    "                epochs=train_epoch,\n",
    "                dm=0)\n",
    "model.build_vocab(corpus)\n",
    "model.train(corpus, total_examples=model.corpus_count, epochs=model.epochs)"
   ]
  },
  {
   "cell_type": "code",
   "execution_count": 26,
   "id": "2e498e27-c09d-42e2-a67d-950986925972",
   "metadata": {},
   "outputs": [],
   "source": [
    "# model = Doc2Vec.load(str(mod_paths[1]))\n",
    "data = model.dv.vectors"
   ]
  },
  {
   "cell_type": "code",
   "execution_count": 27,
   "id": "47f2d395-61d3-4503-9c15-a47039a9d0f7",
   "metadata": {},
   "outputs": [
    {
     "data": {
      "text/plain": [
       "(112, 50)"
      ]
     },
     "execution_count": 27,
     "metadata": {},
     "output_type": "execute_result"
    }
   ],
   "source": [
    "data.shape"
   ]
  },
  {
   "cell_type": "code",
   "execution_count": 28,
   "id": "1ec9f5d2-d1f6-4884-8776-9854158bd0aa",
   "metadata": {},
   "outputs": [],
   "source": [
    "db = DBSCAN(eps=0.3, min_samples=10, metric='cosine').fit(data)\n",
    "labels = db.labels_"
   ]
  },
  {
   "cell_type": "code",
   "execution_count": 30,
   "id": "56f70dc2-47da-44be-966a-adf1c3f54e89",
   "metadata": {},
   "outputs": [
    {
     "data": {
      "text/plain": [
       "Counter({-1: 100, 0: 12})"
      ]
     },
     "execution_count": 30,
     "metadata": {},
     "output_type": "execute_result"
    }
   ],
   "source": [
    "Counter(labels)"
   ]
  },
  {
   "cell_type": "code",
   "execution_count": 31,
   "id": "ed255991-82b5-4d2a-a717-b13be7779ccb",
   "metadata": {},
   "outputs": [],
   "source": [
    "dist_cosine = pairwise_distances(data, metric='cosine')"
   ]
  },
  {
   "cell_type": "code",
   "execution_count": 32,
   "id": "eaee3305-378f-479b-a00b-e194d876e293",
   "metadata": {},
   "outputs": [
    {
     "data": {
      "text/plain": [
       "Counter({-1: 100, 0: 12})"
      ]
     },
     "execution_count": 32,
     "metadata": {},
     "output_type": "execute_result"
    }
   ],
   "source": [
    "db = DBSCAN(eps=0.3, min_samples=10, metric='precomputed').fit(dist_cosine)\n",
    "labels = db.labels_\n",
    "Counter(labels)"
   ]
  },
  {
   "cell_type": "code",
   "execution_count": 38,
   "id": "5c2e3000-076a-454a-ad8a-dd6af60ec224",
   "metadata": {},
   "outputs": [],
   "source": [
    "dist_wsd = np.asarray([[wasserstein_distance(p1, p2) for p2 in data] for p1 in data])"
   ]
  },
  {
   "cell_type": "code",
   "execution_count": 40,
   "id": "4530767a-895b-4a9b-8263-4fb2f032fc2d",
   "metadata": {},
   "outputs": [
    {
     "data": {
      "text/plain": [
       "Counter({0: 112})"
      ]
     },
     "execution_count": 40,
     "metadata": {},
     "output_type": "execute_result"
    }
   ],
   "source": [
    "db = DBSCAN(eps=0.3, min_samples=10, metric='precomputed').fit(dist_wsd)\n",
    "labels = db.labels_\n",
    "Counter(labels)"
   ]
  },
  {
   "cell_type": "code",
   "execution_count": null,
   "id": "70046352-4896-4a67-9759-9bd63b0ead24",
   "metadata": {},
   "outputs": [],
   "source": [
    "doclist1 = list(set(document1))\n",
    "doclist2 = list(set(document2))\n",
    "v1 = np.array([self.get_vector(token, norm=norm) for token in doclist1])\n",
    "v2 = np.array([self.get_vector(token, norm=norm) for token in doclist2])\n",
    "doc1_indices = dictionary.doc2idx(doclist1)\n",
    "doc2_indices = dictionary.doc2idx(doclist2)\n",
    "\n",
    "# Compute distance matrix.\n",
    "distance_matrix = zeros((vocab_len, vocab_len), dtype=double)\n",
    "distance_matrix[np.ix_(doc1_indices, doc2_indices)] = cdist(v1, v2)\n",
    "\n",
    "if abs(np_sum(distance_matrix)) < 1e-8:\n",
    "    # `emd` gets stuck if the distance matrix contains only zeros.\n",
    "    logger.info('The distance matrix is all zeros. Aborting (returning inf).')\n",
    "    return float('inf')\n",
    "\n",
    "def nbow(document):\n",
    "    d = zeros(vocab_len, dtype=double)\n",
    "    nbow = dictionary.doc2bow(document)  # Word frequencies.\n",
    "    doc_len = len(document)\n",
    "    for idx, freq in nbow:\n",
    "        d[idx] = freq / float(doc_len)  # Normalized word frequencies.\n",
    "    return d"
   ]
  }
 ],
 "metadata": {
  "kernelspec": {
   "display_name": "Python 3 (ipykernel)",
   "language": "python",
   "name": "python3"
  },
  "language_info": {
   "codemirror_mode": {
    "name": "ipython",
    "version": 3
   },
   "file_extension": ".py",
   "mimetype": "text/x-python",
   "name": "python",
   "nbconvert_exporter": "python",
   "pygments_lexer": "ipython3",
   "version": "3.9.13"
  }
 },
 "nbformat": 4,
 "nbformat_minor": 5
}
