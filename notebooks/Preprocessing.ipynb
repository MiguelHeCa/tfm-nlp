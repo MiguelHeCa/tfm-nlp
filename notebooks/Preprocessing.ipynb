{
 "cells": [
  {
   "cell_type": "markdown",
   "id": "d0988f8a-a49d-4bf0-8eed-4451543582cf",
   "metadata": {},
   "source": [
    "# Preprocessing Enron Emails\n",
    "\n",
    "## Tasks\n",
    "\n",
    "1. Import emails\n",
    "2. Parse them to email format\n",
    "3. Keep only original email\n",
    "4. Remove html noise, detect chains\n",
    "5. Export emails to pickle file"
   ]
  },
  {
   "cell_type": "code",
   "execution_count": 3,
   "id": "ac177da9-6e00-43be-8049-b3dfd632dddd",
   "metadata": {},
   "outputs": [],
   "source": [
    "import email\n",
    "import pickle as pkl\n",
    "import re\n",
    "\n",
    "from collections import Counter\n",
    "from dateutil.parser import parse\n",
    "from pathlib import Path"
   ]
  },
  {
   "cell_type": "markdown",
   "id": "c2ca3ead-5f73-4395-9dff-59218627b4fa",
   "metadata": {},
   "source": [
    "## Extraction\n",
    "\n",
    "### Import emails"
   ]
  },
  {
   "cell_type": "code",
   "execution_count": 4,
   "id": "9ff11ff4-e75b-4b82-80e2-b9c82857e960",
   "metadata": {},
   "outputs": [],
   "source": [
    "email_dir = Path(Path.cwd().parent, Path('data/raw/maildir'))\n",
    "data_dir = Path(Path.cwd().parent, Path('data/interim'))\n",
    "\n",
    "clean_emails = []\n",
    "for path in email_dir.rglob('*.'):\n",
    "    if 'all_documents' not in str(path.parent) and 'discussion_threads' not in str(path.parent):\n",
    "        clean_emails.append(path)\n",
    "\n",
    "\n",
    "def parse_emails(path):\n",
    "    with open(path, 'r', encoding='windows-1252') as f:\n",
    "        parsed_email = email.message_from_file(f)\n",
    "    return parsed_email\n",
    "\n",
    "\n",
    "def get_parsed_emails(paths):\n",
    "    emails = []\n",
    "    for i, path in enumerate(paths):\n",
    "        eml = parse_emails(path)\n",
    "        tms = int(parse(eml['Date']).timestamp())\n",
    "        emails.append((i, eml, tms))\n",
    "    return emails\n",
    "\n",
    "\n",
    "parsed_emails = get_parsed_emails(clean_emails)"
   ]
  },
  {
   "cell_type": "markdown",
   "id": "3ed72546-0815-4cdd-98f9-a28ab74dc346",
   "metadata": {},
   "source": [
    "## Transformation\n"
   ]
  },
  {
   "cell_type": "code",
   "execution_count": 5,
   "id": "90d035ae-78a4-47c9-927a-8dfdba7b44b8",
   "metadata": {},
   "outputs": [],
   "source": [
    "#check to see if an email is part of chain by looking for the '-----Original Message-----' tag\n",
    "#addtionally count the number of times the tag appears to get the depth of the chain\n",
    "def is_chain(payload):\n",
    "    chain_count = 0\n",
    "    is_chain = False\n",
    "    check_value = '-----Original Message-----'\n",
    "    if check_value in payload:\n",
    "        chain_count = payload.count(check_value)\n",
    "        is_chain = True\n",
    "    return (chain_count, is_chain)\n",
    "\n",
    "\n",
    "#check to see if an email is forwarded by looking for 'fw' and 'fwd' tags\n",
    "def is_forwarded(email):\n",
    "    is_forwarded = False\n",
    "    check_values = ['fw:', 'fwd:']\n",
    "    for value in check_values:\n",
    "        if value in email.get_payload().lower() or value in email['Subject'].lower():\n",
    "            is_forwarded = True\n",
    "    return is_forwarded\n",
    "\n",
    "\n",
    "#get only the names from the x-headers in the e-mail\n",
    "def parseXHeaders(header):\n",
    "    if header is not None:\n",
    "        return re.sub(r'(<.*?>,|<.*?>)', '|', header)[:-1]\n",
    "    else:\n",
    "        return header \n",
    "\n",
    "\n",
    "def get_emails_list(dir_path):\n",
    "    clean_emails = []\n",
    "    for path in dir_path.rglob('*.'):\n",
    "        if 'all_documents' not in str(path.parent) and 'discussion_threads' not in str(path.parent):\n",
    "            clean_emails.append(path)\n",
    "    return clean_emails\n",
    "\n",
    "\n",
    "def parse_emails(path):\n",
    "    with open(path, 'r', encoding='windows-1252') as f:\n",
    "        parsed_email = email.message_from_file(f)\n",
    "    return parsed_email\n",
    "\n",
    "\n",
    "def load_emails(dir_path):\n",
    "    parsed_emails = []\n",
    "    clean_emails = get_emails_list(dir_path)\n",
    "    for i, path in enumerate(clean_emails):\n",
    "        parsed_emails.append((i,parse_emails(path)))\n",
    "    return parsed_emails\n",
    "\n",
    "\n",
    "def preprocess_message(text):\n",
    "    msg_end_pattern = re.compile('_{4,}.*|\\n{3,}|<[^>]*>|-{4,}(.*)(\\d{2}:\\d{2}:\\d{2})\\s*(PM|AM)', re.MULTILINE)\n",
    "    try:\n",
    "        msg_end_iter = msg_end_pattern.search(text).start()\n",
    "        # print('end of line:', msg_end_iter)\n",
    "        message = text[:msg_end_iter]\n",
    "    except AttributeError: # not a reply\n",
    "        message = text\n",
    "    return message\n",
    "\n",
    "\n",
    "def remove_spaces(string):\n",
    "    if string is not None:        \n",
    "        string = re.sub('\\s+', ' ', string)\n",
    "        string = string.split(', ')\n",
    "    return string\n",
    "\n",
    "\n",
    "#\n",
    "# Function: get_or_allocated_uid\n",
    "# Arguments: name - string of a user email\n",
    "# Returns: unique integer id\n",
    "#\n",
    "def get_or_allocate_uid(name):\n",
    "     if name not in users:\n",
    "         users[name] = len(users)\n",
    "     return users[name]\n",
    "\n",
    "#\n",
    "# Function: get_or_allocate_tid\n",
    "# Arguments: name - string of email subject line\n",
    "# Returns: unique integer id\n",
    "#\n",
    "def get_or_allocate_tid(name):\n",
    "    parsed_name = re.sub(\"(RE|Re|FWD|Fwd): \", \"\", name)\n",
    "    if parsed_name not in threads:\n",
    "        threads[parsed_name] = len(threads)\n",
    "    return threads[parsed_name]"
   ]
  },
  {
   "cell_type": "code",
   "execution_count": null,
   "id": "6cb9d7b8-fd93-4101-ba75-b36237c1b078",
   "metadata": {},
   "outputs": [],
   "source": [
    "# time = [(email[0], email[1]['Date']) for email in parsed_emails]\n",
    "# subjects = [(email[0], email[1]['Subject']) for email in parsed_emails]\n",
    "# recipients = [(email[0], remove_spaces(email[1]['To'])) for email in parsed_emails]\n",
    "# senders = [(email[0], email[1]['From']) for email in parsed_emails]\n",
    "# ccs = [(email[0], remove_spaces(email[1]['cc'])) for email in parsed_emails]\n",
    "# bccs = [(email[0], remove_spaces(email[1]['bcc'])) for email in parsed_emails]\n",
    "# # idx = [(email[0], email[0]) for email in parsed_emails]\n",
    "# timestamps = [(email[0], email[2]) for email in parsed_emails]\n",
    "# body = [(email[0], email[1].get_payload()) for email in parsed_emails]\n",
    "# message = [(email[0], preprocess_message(email[1].get_payload()), email[2]) for email in parsed_emails]\n",
    "# fwds = [(email[0], is_forwarded(email[1])) for email in parsed_emails]\n",
    "# chains = [(email[0], is_chain(email[1].get_payload())) for email in parsed_emails]"
   ]
  },
  {
   "cell_type": "code",
   "execution_count": null,
   "id": "7adc5619-a9bc-4947-9fad-b1ad291af474",
   "metadata": {},
   "outputs": [],
   "source": [
    "# feeds = []\n",
    "# users = {}\n",
    "# threads = {}\n",
    "# thread_users = {}\n",
    "# user_threads = {}\n",
    "# threads = {}\n",
    "# thread_id = []\n",
    "# for sbj in subject:\n",
    "#     thread_id.append(get_or_allocate_tid(sbj))"
   ]
  },
  {
   "cell_type": "markdown",
   "id": "c9e27032-833b-40a5-b094-11904640e4ee",
   "metadata": {},
   "source": [
    "## Loading\n"
   ]
  },
  {
   "cell_type": "code",
   "execution_count": 9,
   "id": "49ab5235-1a41-4e16-9ee1-9aaf71b6139c",
   "metadata": {},
   "outputs": [],
   "source": [
    "def export_emails(parsed_emails):\n",
    "    try:\n",
    "        with open(Path(data_dir,'time.pkl'), 'wb') as handle:\n",
    "            pkl.dump([(email[0], email[1]['Date']) for email in parsed_emails], handle, protocol=pkl.HIGHEST_PROTOCOL)\n",
    "        with open(Path(data_dir,'subjects.pkl'), 'wb') as handle:\n",
    "            pkl.dump([(email[0], email[1]['Subject']) for email in parsed_emails], handle, protocol=pkl.HIGHEST_PROTOCOL)\n",
    "        with open(Path(data_dir,'recipients.pkl'), 'wb') as handle:\n",
    "            pkl.dump([(email[0], remove_spaces(email[1]['To'])) for email in parsed_emails], handle, protocol=pkl.HIGHEST_PROTOCOL)\n",
    "        with open(Path(data_dir,'senders.pkl'), 'wb') as handle:\n",
    "            pkl.dump([(email[0], email[1]['From']) for email in parsed_emails], handle, protocol=pkl.HIGHEST_PROTOCOL)\n",
    "        with open(Path(data_dir,'ccs.pkl'), 'wb') as handle:\n",
    "            pkl.dump([(email[0], remove_spaces(email[1]['cc'])) for email in parsed_emails], handle, protocol=pkl.HIGHEST_PROTOCOL)\n",
    "        with open(Path(data_dir,'bbcs.pkl'), 'wb') as handle:\n",
    "            pkl.dump([(email[0], remove_spaces(email[1]['bcc'])) for email in parsed_emails], handle, protocol=pkl.HIGHEST_PROTOCOL)\n",
    "        with open(Path(data_dir,'body.pkl'), 'wb') as handle:\n",
    "            pkl.dump([(email[0], email[1].get_payload()) for email in parsed_emails], handle, protocol=pkl.HIGHEST_PROTOCOL)\n",
    "        with open(Path(data_dir,'message.pkl'), 'wb') as handle:\n",
    "            pkl.dump([(email[0], preprocess_message(email[1].get_payload()), email[2]) for email in parsed_emails], handle, protocol=pkl.HIGHEST_PROTOCOL)\n",
    "        with open(Path(data_dir,'fwds.pkl'), 'wb') as handle:\n",
    "            pkl.dump([(email[0], is_forwarded(email[1])) for email in parsed_emails], handle, protocol=pkl.HIGHEST_PROTOCOL)\n",
    "        with open(Path(data_dir,'chains.pkl'), 'wb') as handle:\n",
    "            pkl.dump([(email[0], is_chain(email[1].get_payload())) for email in parsed_emails], handle, protocol=pkl.HIGHEST_PROTOCOL)\n",
    "    except Exception as e:\n",
    "        print(\"caught\", repr(e))"
   ]
  },
  {
   "cell_type": "code",
   "execution_count": 10,
   "id": "fe86bd91-020b-4b65-b1b2-8bbecfebb623",
   "metadata": {},
   "outputs": [
    {
     "name": "stdout",
     "output_type": "stream",
     "text": [
      "CPU times: user 42.9 s, sys: 502 ms, total: 43.4 s\n",
      "Wall time: 43.4 s\n"
     ]
    }
   ],
   "source": [
    "%%time\n",
    "export_emails(parsed_emails)"
   ]
  },
  {
   "cell_type": "code",
   "execution_count": 13,
   "id": "85d284ae-7af7-4bda-8a72-7a7de17fd3a8",
   "metadata": {},
   "outputs": [
    {
     "name": "stdout",
     "output_type": "stream",
     "text": [
      "total 987332\n",
      "-rw-r--r-- 1 miguel miguel  11125929 Aug 29 06:31 bbcs.pkl\n",
      "-rw-r--r-- 1 miguel miguel 638596963 Aug 29 06:31 body.pkl\n",
      "-rw-r--r-- 1 miguel miguel  11125929 Aug 29 06:31 ccs.pkl\n",
      "-rw-r--r-- 1 miguel miguel   3838138 Aug 29 06:31 chains.pkl\n",
      "-rw-r--r-- 1 miguel miguel   2515202 Aug 29 06:31 fwds.pkl\n",
      "-rw-r--r-- 1 miguel miguel 229120164 Aug 29 06:31 message.pkl\n",
      "-rw-r--r-- 1 miguel miguel  52014250 Aug 29 06:31 recipients.pkl\n",
      "-rw-r--r-- 1 miguel miguel  10602343 Aug 29 06:31 senders.pkl\n",
      "-rw-r--r-- 1 miguel miguel  24004915 May  1 01:35 split_emails.csv\n",
      "-rw-r--r-- 1 miguel miguel  12727057 Aug 29 06:31 subjects.pkl\n",
      "-rw-r--r-- 1 miguel miguel  15324139 Aug 29 06:31 time.pkl\n"
     ]
    }
   ],
   "source": [
    " !ls -l ../data/interim"
   ]
  },
  {
   "cell_type": "code",
   "execution_count": null,
   "id": "eac62b40-2828-4c43-97d4-f7f0bfcb0fed",
   "metadata": {},
   "outputs": [],
   "source": []
  }
 ],
 "metadata": {
  "kernelspec": {
   "display_name": "Python 3 (ipykernel)",
   "language": "python",
   "name": "python3"
  },
  "language_info": {
   "codemirror_mode": {
    "name": "ipython",
    "version": 3
   },
   "file_extension": ".py",
   "mimetype": "text/x-python",
   "name": "python",
   "nbconvert_exporter": "python",
   "pygments_lexer": "ipython3",
   "version": "3.9.12"
  }
 },
 "nbformat": 4,
 "nbformat_minor": 5
}
