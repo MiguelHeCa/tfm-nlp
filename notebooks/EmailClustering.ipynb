{
 "cells": [
  {
   "cell_type": "code",
   "execution_count": 1,
   "metadata": {},
   "outputs": [
    {
     "name": "stderr",
     "output_type": "stream",
     "text": [
      "[nltk_data] Downloading package wordnet to /home/miguel/nltk_data...\n",
      "[nltk_data]   Package wordnet is already up-to-date!\n",
      "[nltk_data] Downloading package omw-1.4 to /home/miguel/nltk_data...\n",
      "[nltk_data]   Package omw-1.4 is already up-to-date!\n"
     ]
    },
    {
     "data": {
      "text/plain": [
       "True"
      ]
     },
     "execution_count": 1,
     "metadata": {},
     "output_type": "execute_result"
    }
   ],
   "source": [
    "#importing libraries\n",
    "import numpy as np\n",
    "import pandas as pd\n",
    "import matplotlib.pyplot as plt\n",
    "from sklearn.feature_extraction.text import TfidfVectorizer, ENGLISH_STOP_WORDS\n",
    "from sklearn.pipeline import make_pipeline\n",
    "from sklearn.decomposition import PCA\n",
    "from sklearn.cluster import KMeans, MiniBatchKMeans\n",
    "from sklearn.manifold import TSNE\n",
    "from sklearn.decomposition import TruncatedSVD \n",
    "from sklearn.preprocessing import normalize \n",
    "import nltk.stem.porter\n",
    "porter_stemmer=nltk.stem.porter.PorterStemmer()\n",
    "from nltk.stem import WordNetLemmatizer\n",
    "lemmatizer = WordNetLemmatizer() \n",
    "import nltk\n",
    "from sklearn.metrics.pairwise import linear_kernel\n",
    "\n",
    "from pathlib import Path\n",
    "\n",
    "nltk.download('wordnet')\n",
    "nltk.download('omw-1.4')"
   ]
  },
  {
   "cell_type": "markdown",
   "metadata": {},
   "source": [
    "#### PREPROCESSING"
   ]
  },
  {
   "cell_type": "code",
   "execution_count": 2,
   "metadata": {},
   "outputs": [],
   "source": [
    "#This function will extract raw message from the message object\n",
    "def raw_message(raw_message):\n",
    "    lines = raw_message.split('\\n') #Here, the paragraph contains \"\\n\" indicating the new line. Hence, the sentence tokenizer is not used.\n",
    "    email = {}\n",
    "    message = ''\n",
    "    keys_to_extract = ['from', 'to']\n",
    "    for line in lines:\n",
    "        if ':' not in line:\n",
    "            message += line.strip() #removes all the spaces and appends only the text body to the variable \"message\"\n",
    "            email['body'] = message\n",
    "        else:\n",
    "            pairs = line.split(':') #This enables to divide each sentence into 2 parts\n",
    "            key = pairs[0].lower()\n",
    "            val = pairs[1].strip()\n",
    "            if key in keys_to_extract:\n",
    "                email[key] = val\n",
    "    return email  #returns an array with key-value pairs"
   ]
  },
  {
   "cell_type": "code",
   "execution_count": 3,
   "metadata": {},
   "outputs": [],
   "source": [
    "def parse_into_emails(messages):\n",
    "    emails = [raw_message(message) for message in messages]\n",
    "    return {\n",
    "        'body': map_to_list(emails, 'body'), \n",
    "        'to': map_to_list(emails, 'to'), \n",
    "        'from_': map_to_list(emails, 'from')\n",
    "    }"
   ]
  },
  {
   "cell_type": "code",
   "execution_count": 4,
   "metadata": {},
   "outputs": [],
   "source": [
    "def map_to_list(emails, key):\n",
    "    results = []\n",
    "    for email in emails:\n",
    "        if key not in email:\n",
    "            results.append('')\n",
    "        else:\n",
    "            results.append(email[key])\n",
    "    return results"
   ]
  },
  {
   "cell_type": "code",
   "execution_count": 5,
   "metadata": {},
   "outputs": [],
   "source": [
    "def top_feats_in_doc(X, features, row_id, top_n=25):\n",
    "    row = np.squeeze(X[row_id].toarray())\n",
    "    return top_tfidf_feats(row, features, top_n)"
   ]
  },
  {
   "cell_type": "code",
   "execution_count": 6,
   "metadata": {},
   "outputs": [],
   "source": [
    "def top_tfidf_feats(row, features, top_n=20):\n",
    "    topn_ids = np.argsort(row)[::-1][:top_n]\n",
    "    top_feats = [(features[i], row[i]) for i in topn_ids]\n",
    "    df = pd.DataFrame(top_feats, columns=['features', 'score'])\n",
    "    return df"
   ]
  },
  {
   "cell_type": "code",
   "execution_count": 7,
   "metadata": {},
   "outputs": [],
   "source": [
    "data_dir = Path(Path.cwd().parent, 'data')"
   ]
  },
  {
   "cell_type": "code",
   "execution_count": 8,
   "metadata": {},
   "outputs": [],
   "source": [
    "#reading the dataset\n",
    "# emails1 = pd.read_csv(Path(data_dir, 'interim/split_emails.csv'))\n",
    "emails = pd.read_csv(Path(data_dir,'raw/emails.csv'))\n"
   ]
  },
  {
   "cell_type": "code",
   "execution_count": 9,
   "metadata": {},
   "outputs": [],
   "source": [
    "large_emails = emails.message.apply(len).sort_values(ascending=False).head(6).index\n",
    "emails = emails.loc[~emails.index.isin(large_emails)]\n",
    "emails=emails[:15000]\n",
    "# emails=emails[:200000]"
   ]
  },
  {
   "cell_type": "code",
   "execution_count": null,
   "metadata": {},
   "outputs": [],
   "source": []
  },
  {
   "cell_type": "code",
   "execution_count": 10,
   "metadata": {},
   "outputs": [],
   "source": [
    "#creating a dataframe\n",
    "email_df = pd.DataFrame(parse_into_emails(emails.message))\n"
   ]
  },
  {
   "cell_type": "code",
   "execution_count": 11,
   "metadata": {},
   "outputs": [
    {
     "data": {
      "text/html": [
       "<div>\n",
       "<style scoped>\n",
       "    .dataframe tbody tr th:only-of-type {\n",
       "        vertical-align: middle;\n",
       "    }\n",
       "\n",
       "    .dataframe tbody tr th {\n",
       "        vertical-align: top;\n",
       "    }\n",
       "\n",
       "    .dataframe thead th {\n",
       "        text-align: right;\n",
       "    }\n",
       "</style>\n",
       "<table border=\"1\" class=\"dataframe\">\n",
       "  <thead>\n",
       "    <tr style=\"text-align: right;\">\n",
       "      <th></th>\n",
       "      <th>body</th>\n",
       "      <th>to</th>\n",
       "      <th>from_</th>\n",
       "    </tr>\n",
       "  </thead>\n",
       "  <tbody>\n",
       "    <tr>\n",
       "      <th>0</th>\n",
       "      <td>Here is our forecast</td>\n",
       "      <td>tim.belden@enron.com</td>\n",
       "      <td>phillip.allen@enron.com</td>\n",
       "    </tr>\n",
       "    <tr>\n",
       "      <th>1</th>\n",
       "      <td>Traveling to have a business meeting takes the...</td>\n",
       "      <td>john.lavorato@enron.com</td>\n",
       "      <td>phillip.allen@enron.com</td>\n",
       "    </tr>\n",
       "    <tr>\n",
       "      <th>2</th>\n",
       "      <td>test successful.  way to go!!!</td>\n",
       "      <td>leah.arsdall@enron.com</td>\n",
       "      <td>phillip.allen@enron.com</td>\n",
       "    </tr>\n",
       "    <tr>\n",
       "      <th>3</th>\n",
       "      <td>Randy,Can you send me a schedule of the salary...</td>\n",
       "      <td>randall.gay@enron.com</td>\n",
       "      <td>phillip.allen@enron.com</td>\n",
       "    </tr>\n",
       "    <tr>\n",
       "      <th>4</th>\n",
       "      <td></td>\n",
       "      <td>greg.piper@enron.com</td>\n",
       "      <td>phillip.allen@enron.com</td>\n",
       "    </tr>\n",
       "  </tbody>\n",
       "</table>\n",
       "</div>"
      ],
      "text/plain": [
       "                                                body                       to  \\\n",
       "0                               Here is our forecast     tim.belden@enron.com   \n",
       "1  Traveling to have a business meeting takes the...  john.lavorato@enron.com   \n",
       "2                     test successful.  way to go!!!   leah.arsdall@enron.com   \n",
       "3  Randy,Can you send me a schedule of the salary...    randall.gay@enron.com   \n",
       "4                                                        greg.piper@enron.com   \n",
       "\n",
       "                     from_  \n",
       "0  phillip.allen@enron.com  \n",
       "1  phillip.allen@enron.com  \n",
       "2  phillip.allen@enron.com  \n",
       "3  phillip.allen@enron.com  \n",
       "4  phillip.allen@enron.com  "
      ]
     },
     "execution_count": 11,
     "metadata": {},
     "output_type": "execute_result"
    }
   ],
   "source": [
    "email_df.head()"
   ]
  },
  {
   "cell_type": "code",
   "execution_count": 12,
   "metadata": {},
   "outputs": [],
   "source": [
    "# Drop emails with empty body, to or from_ columns.\n",
    "email_df.drop(email_df.query(\"body == '' | to == '' | from_ == ''\").index, inplace=True)"
   ]
  },
  {
   "cell_type": "code",
   "execution_count": 13,
   "metadata": {},
   "outputs": [],
   "source": [
    "#finding top words\n",
    "stopwords = ENGLISH_STOP_WORDS.union(['ect', 'hou', 'com', 'recipient'])\n",
    "vect = TfidfVectorizer(analyzer='word', stop_words=stopwords, max_df=0.3, min_df=2)\n",
    "# max_df=0.5 means \"ignore all terms that appear in more then 50% of the documents\"\n",
    "# min_df=2 means \"ignore all terms that appear in less then 2 documents\""
   ]
  },
  {
   "cell_type": "code",
   "execution_count": 14,
   "metadata": {},
   "outputs": [
    {
     "data": {
      "text/html": [
       "<div>\n",
       "<style scoped>\n",
       "    .dataframe tbody tr th:only-of-type {\n",
       "        vertical-align: middle;\n",
       "    }\n",
       "\n",
       "    .dataframe tbody tr th {\n",
       "        vertical-align: top;\n",
       "    }\n",
       "\n",
       "    .dataframe thead th {\n",
       "        text-align: right;\n",
       "    }\n",
       "</style>\n",
       "<table border=\"1\" class=\"dataframe\">\n",
       "  <thead>\n",
       "    <tr style=\"text-align: right;\">\n",
       "      <th></th>\n",
       "      <th>body</th>\n",
       "      <th>to</th>\n",
       "      <th>from_</th>\n",
       "    </tr>\n",
       "  </thead>\n",
       "  <tbody>\n",
       "    <tr>\n",
       "      <th>0</th>\n",
       "      <td>Here is our forecast</td>\n",
       "      <td>tim.belden@enron.com</td>\n",
       "      <td>phillip.allen@enron.com</td>\n",
       "    </tr>\n",
       "    <tr>\n",
       "      <th>1</th>\n",
       "      <td>Traveling to have a business meeting takes the...</td>\n",
       "      <td>john.lavorato@enron.com</td>\n",
       "      <td>phillip.allen@enron.com</td>\n",
       "    </tr>\n",
       "    <tr>\n",
       "      <th>2</th>\n",
       "      <td>test successful.  way to go!!!</td>\n",
       "      <td>leah.arsdall@enron.com</td>\n",
       "      <td>phillip.allen@enron.com</td>\n",
       "    </tr>\n",
       "    <tr>\n",
       "      <th>3</th>\n",
       "      <td>Randy,Can you send me a schedule of the salary...</td>\n",
       "      <td>randall.gay@enron.com</td>\n",
       "      <td>phillip.allen@enron.com</td>\n",
       "    </tr>\n",
       "    <tr>\n",
       "      <th>5</th>\n",
       "      <td>Greg,How about either next Tuesday or Thursday...</td>\n",
       "      <td>greg.piper@enron.com</td>\n",
       "      <td>phillip.allen@enron.com</td>\n",
       "    </tr>\n",
       "  </tbody>\n",
       "</table>\n",
       "</div>"
      ],
      "text/plain": [
       "                                                body                       to  \\\n",
       "0                               Here is our forecast     tim.belden@enron.com   \n",
       "1  Traveling to have a business meeting takes the...  john.lavorato@enron.com   \n",
       "2                     test successful.  way to go!!!   leah.arsdall@enron.com   \n",
       "3  Randy,Can you send me a schedule of the salary...    randall.gay@enron.com   \n",
       "5  Greg,How about either next Tuesday or Thursday...     greg.piper@enron.com   \n",
       "\n",
       "                     from_  \n",
       "0  phillip.allen@enron.com  \n",
       "1  phillip.allen@enron.com  \n",
       "2  phillip.allen@enron.com  \n",
       "3  phillip.allen@enron.com  \n",
       "5  phillip.allen@enron.com  "
      ]
     },
     "execution_count": 14,
     "metadata": {},
     "output_type": "execute_result"
    }
   ],
   "source": [
    "email_df.head()"
   ]
  },
  {
   "cell_type": "code",
   "execution_count": 15,
   "metadata": {},
   "outputs": [],
   "source": [
    "#stemming\n",
    "body = email_df.body\n",
    "def stemmingDF(body):\n",
    "    bigl=[]\n",
    "    for string in body:\n",
    "        lis=string.split()\n",
    "        l=[]\n",
    "        for word in lis:\n",
    "            if word.isalpha()==True:                \n",
    "                if word not in stopwords:\n",
    "                    if len(word)!=1:\n",
    "                        word=word.lower()\n",
    "                        word=lemmatizer.lemmatize(word)\n",
    "                        l.append(word)\n",
    "        str1=' '.join(l)\n",
    "        bigl.append(str1)\n",
    "    return bigl\n",
    "\n",
    "email_df[\"body_new\"] = stemmingDF(body)"
   ]
  },
  {
   "cell_type": "code",
   "execution_count": 16,
   "metadata": {},
   "outputs": [
    {
     "data": {
      "text/html": [
       "<div>\n",
       "<style scoped>\n",
       "    .dataframe tbody tr th:only-of-type {\n",
       "        vertical-align: middle;\n",
       "    }\n",
       "\n",
       "    .dataframe tbody tr th {\n",
       "        vertical-align: top;\n",
       "    }\n",
       "\n",
       "    .dataframe thead th {\n",
       "        text-align: right;\n",
       "    }\n",
       "</style>\n",
       "<table border=\"1\" class=\"dataframe\">\n",
       "  <thead>\n",
       "    <tr style=\"text-align: right;\">\n",
       "      <th></th>\n",
       "      <th>body</th>\n",
       "      <th>to</th>\n",
       "      <th>from_</th>\n",
       "      <th>body_new</th>\n",
       "    </tr>\n",
       "  </thead>\n",
       "  <tbody>\n",
       "    <tr>\n",
       "      <th>0</th>\n",
       "      <td>Here is our forecast</td>\n",
       "      <td>tim.belden@enron.com</td>\n",
       "      <td>phillip.allen@enron.com</td>\n",
       "      <td>here forecast</td>\n",
       "    </tr>\n",
       "    <tr>\n",
       "      <th>1</th>\n",
       "      <td>Traveling to have a business meeting takes the...</td>\n",
       "      <td>john.lavorato@enron.com</td>\n",
       "      <td>phillip.allen@enron.com</td>\n",
       "      <td>traveling business meeting take fun especially...</td>\n",
       "    </tr>\n",
       "    <tr>\n",
       "      <th>2</th>\n",
       "      <td>test successful.  way to go!!!</td>\n",
       "      <td>leah.arsdall@enron.com</td>\n",
       "      <td>phillip.allen@enron.com</td>\n",
       "      <td>test way</td>\n",
       "    </tr>\n",
       "    <tr>\n",
       "      <th>3</th>\n",
       "      <td>Randy,Can you send me a schedule of the salary...</td>\n",
       "      <td>randall.gay@enron.com</td>\n",
       "      <td>phillip.allen@enron.com</td>\n",
       "      <td>send schedule salary level thescheduling plus ...</td>\n",
       "    </tr>\n",
       "    <tr>\n",
       "      <th>5</th>\n",
       "      <td>Greg,How about either next Tuesday or Thursday...</td>\n",
       "      <td>greg.piper@enron.com</td>\n",
       "      <td>phillip.allen@enron.com</td>\n",
       "      <td>tuesday</td>\n",
       "    </tr>\n",
       "  </tbody>\n",
       "</table>\n",
       "</div>"
      ],
      "text/plain": [
       "                                                body                       to  \\\n",
       "0                               Here is our forecast     tim.belden@enron.com   \n",
       "1  Traveling to have a business meeting takes the...  john.lavorato@enron.com   \n",
       "2                     test successful.  way to go!!!   leah.arsdall@enron.com   \n",
       "3  Randy,Can you send me a schedule of the salary...    randall.gay@enron.com   \n",
       "5  Greg,How about either next Tuesday or Thursday...     greg.piper@enron.com   \n",
       "\n",
       "                     from_                                           body_new  \n",
       "0  phillip.allen@enron.com                                      here forecast  \n",
       "1  phillip.allen@enron.com  traveling business meeting take fun especially...  \n",
       "2  phillip.allen@enron.com                                           test way  \n",
       "3  phillip.allen@enron.com  send schedule salary level thescheduling plus ...  \n",
       "5  phillip.allen@enron.com                                            tuesday  "
      ]
     },
     "execution_count": 16,
     "metadata": {},
     "output_type": "execute_result"
    }
   ],
   "source": [
    "email_df.head()"
   ]
  },
  {
   "cell_type": "code",
   "execution_count": 17,
   "metadata": {},
   "outputs": [
    {
     "name": "stdout",
     "output_type": "stream",
     "text": [
      "      features     score\n",
      "0     business  0.355043\n",
      "1      meeting  0.269461\n",
      "2         trip  0.241425\n",
      "3   discussion  0.231419\n",
      "4    stimulate  0.193768\n",
      "5          try  0.192422\n",
      "6    presenter  0.191078\n",
      "7       speaks  0.176552\n",
      "8      desired  0.170664\n",
      "9       honest  0.170664\n",
      "10       quiet  0.168676\n",
      "11  productive  0.164354\n",
      "12        boat  0.161403\n",
      "13   traveling  0.152845\n",
      "14      flying  0.151461\n",
      "15        golf  0.145921\n",
      "16         ski  0.144890\n",
      "17     prepare  0.139263\n",
      "18     suggest  0.138743\n",
      "19  suggestion  0.138743\n"
     ]
    }
   ],
   "source": [
    "# print top features\n",
    "X = vect.fit_transform(email_df.body_new)\n",
    "features = vect.get_feature_names_out()\n",
    "print(top_feats_in_doc(X, features, 1, 20))"
   ]
  },
  {
   "cell_type": "code",
   "execution_count": 18,
   "metadata": {},
   "outputs": [
    {
     "name": "stderr",
     "output_type": "stream",
     "text": [
      "/home/miguel/anaconda3/envs/miri/lib/python3.9/site-packages/sklearn/utils/validation.py:727: FutureWarning: np.matrix usage is deprecated in 1.0 and will raise a TypeError in 1.2. Please convert to a numpy array with np.asarray. For more information see: https://numpy.org/doc/stable/reference/generated/numpy.matrix.html\n",
      "  warnings.warn(\n",
      "/home/miguel/anaconda3/envs/miri/lib/python3.9/site-packages/sklearn/utils/validation.py:727: FutureWarning: np.matrix usage is deprecated in 1.0 and will raise a TypeError in 1.2. Please convert to a numpy array with np.asarray. For more information see: https://numpy.org/doc/stable/reference/generated/numpy.matrix.html\n",
      "  warnings.warn(\n",
      "/home/miguel/anaconda3/envs/miri/lib/python3.9/site-packages/sklearn/utils/validation.py:727: FutureWarning: np.matrix usage is deprecated in 1.0 and will raise a TypeError in 1.2. Please convert to a numpy array with np.asarray. For more information see: https://numpy.org/doc/stable/reference/generated/numpy.matrix.html\n",
      "  warnings.warn(\n",
      "/home/miguel/anaconda3/envs/miri/lib/python3.9/site-packages/sklearn/utils/validation.py:727: FutureWarning: np.matrix usage is deprecated in 1.0 and will raise a TypeError in 1.2. Please convert to a numpy array with np.asarray. For more information see: https://numpy.org/doc/stable/reference/generated/numpy.matrix.html\n",
      "  warnings.warn(\n",
      "/home/miguel/anaconda3/envs/miri/lib/python3.9/site-packages/sklearn/utils/validation.py:727: FutureWarning: np.matrix usage is deprecated in 1.0 and will raise a TypeError in 1.2. Please convert to a numpy array with np.asarray. For more information see: https://numpy.org/doc/stable/reference/generated/numpy.matrix.html\n",
      "  warnings.warn(\n"
     ]
    },
    {
     "data": {
      "image/png": "[encoded data removed]",
      "text/plain": [
       "<Figure size 432x288 with 1 Axes>"
      ]
     },
     "metadata": {
      "needs_background": "light"
     },
     "output_type": "display_data"
    }
   ],
   "source": [
    "#kmeans clustering\n",
    "\n",
    "wcss = []\n",
    "for i in range(1, 6):\n",
    "    kmeans = KMeans(n_clusters = i, init = 'k-means++', random_state = 42)\n",
    "    kmeans.fit(X.todense())\n",
    "    wcss.append(kmeans.inertia_)\n",
    "plt.plot(range(1, 6), wcss)\n",
    "plt.title('The Elbow Method')\n",
    "plt.xlabel('Number of clusters')\n",
    "plt.ylabel('WCSS')\n",
    "plt.show()"
   ]
  },
  {
   "cell_type": "code",
   "execution_count": 19,
   "metadata": {},
   "outputs": [],
   "source": [
    "n_clusters = 4\n",
    "clf = KMeans(n_clusters=n_clusters, \n",
    "            max_iter=100, \n",
    "            init='k-means++', \n",
    "            n_init=1)\n",
    "labels = clf.fit_predict(X)"
   ]
  },
  {
   "cell_type": "code",
   "execution_count": 20,
   "metadata": {},
   "outputs": [],
   "source": [
    "def plot_tfidf_classfeats_h(dfs):\n",
    "    fig = plt.figure(figsize=(12, 9), facecolor=\"w\")\n",
    "    x = np.arange(len(dfs[0]))\n",
    "    for i, df in enumerate(dfs):\n",
    "        ax = fig.add_subplot(1, len(dfs), i+1)\n",
    "        ax.spines[\"top\"].set_visible(False)\n",
    "        ax.spines[\"right\"].set_visible(False)\n",
    "        ax.set_frame_on(False)\n",
    "        ax.get_xaxis().tick_bottom()\n",
    "        ax.get_yaxis().tick_left()\n",
    "        ax.set_xlabel(\"Tf-Idf Score\", labelpad=16, fontsize=14)\n",
    "        ax.set_title(\"cluster = \" + str(df.label), fontsize=16)\n",
    "        ax.ticklabel_format(axis='x', style='sci', scilimits=(-2,2))\n",
    "        ax.barh(x, df.score, align='center', color='#7530FF')\n",
    "        ax.set_yticks(x)\n",
    "        ax.set_ylim([-1, x[-1]+1])\n",
    "        yticks = ax.set_yticklabels(df.features)\n",
    "        plt.subplots_adjust(bottom=0.09, right=0.97, left=0.15, top=0.95, wspace=0.52)\n",
    "    plt.show()\n"
   ]
  },
  {
   "cell_type": "code",
   "execution_count": 21,
   "metadata": {},
   "outputs": [],
   "source": [
    "def top_feats_per_cluster(X, y, features, min_tfidf=0.1, top_n=25):\n",
    "    dfs = []\n",
    "\n",
    "    labels = np.unique(y)\n",
    "    for label in labels:\n",
    "        ids = np.where(y==label) \n",
    "        feats_df = top_mean_feats(X, features, ids, min_tfidf=min_tfidf, top_n=top_n)\n",
    "        feats_df.label = label\n",
    "        dfs.append(feats_df)\n",
    "    return dfs"
   ]
  },
  {
   "cell_type": "code",
   "execution_count": 22,
   "metadata": {},
   "outputs": [],
   "source": [
    "def top_mean_feats(X, features, grp_ids=None, min_tfidf=0.1, top_n=25):\n",
    "    if grp_ids:\n",
    "        D = X[grp_ids].toarray()\n",
    "    else:\n",
    "        D = X.toarray()\n",
    "\n",
    "    D[D < min_tfidf] = 0\n",
    "    tfidf_means = np.mean(D, axis=0)\n",
    "    return top_tfidf_feats(tfidf_means, features, top_n)"
   ]
  },
  {
   "cell_type": "code",
   "execution_count": 23,
   "metadata": {},
   "outputs": [
    {
     "name": "stderr",
     "output_type": "stream",
     "text": [
      "/home/miguel/anaconda3/envs/miri/lib/python3.9/site-packages/sklearn/utils/validation.py:727: FutureWarning: np.matrix usage is deprecated in 1.0 and will raise a TypeError in 1.2. Please convert to a numpy array with np.asarray. For more information see: https://numpy.org/doc/stable/reference/generated/numpy.matrix.html\n",
      "  warnings.warn(\n",
      "/home/miguel/anaconda3/envs/miri/lib/python3.9/site-packages/sklearn/utils/validation.py:727: FutureWarning: np.matrix usage is deprecated in 1.0 and will raise a TypeError in 1.2. Please convert to a numpy array with np.asarray. For more information see: https://numpy.org/doc/stable/reference/generated/numpy.matrix.html\n",
      "  warnings.warn(\n"
     ]
    },
    {
     "data": {
      "image/png": "[encoded data removed]",
      "text/plain": [
       "<Figure size 432x288 with 1 Axes>"
      ]
     },
     "metadata": {
      "needs_background": "light"
     },
     "output_type": "display_data"
    },
    {
     "data": {
      "image/png": "[encoded data removed]",
      "text/plain": [
       "<Figure size 864x648 with 4 Axes>"
      ]
     },
     "metadata": {},
     "output_type": "display_data"
    }
   ],
   "source": [
    "X_dense = X.todense()\n",
    "pca = PCA(n_components=2).fit(X_dense)\n",
    "coords = pca.transform(X_dense)\n",
    "\n",
    "# Lets plot it again, but this time we add some color to it.\n",
    "# This array needs to be at least the length of the n_clusters.\n",
    "label_colors = [\"#2AB0E9\", \"#2BAF74\", \"#D7665E\", \"#CCCCCC\", \n",
    "                \"#D2CA0D\", \"#522A64\", \"#A3DB05\", \"#FC6514\"]\n",
    "colors = [label_colors[i] for i in labels]\n",
    "\n",
    "plt.scatter(coords[:, 0], coords[:, 1], c=colors)\n",
    "# Plot the cluster centers\n",
    "centroids = clf.cluster_centers_\n",
    "centroid_coords = pca.transform(centroids)\n",
    "plt.scatter(centroid_coords[:, 0], centroid_coords[:, 1], marker='X', s=200, linewidths=2, c='#444d60')\n",
    "plt.show()\n",
    "\n",
    "#Use this to print the top terms per cluster with matplotlib.\n",
    "plot_tfidf_classfeats_h(top_feats_per_cluster(X, labels, features, 0.1, 10))"
   ]
  },
  {
   "cell_type": "code",
   "execution_count": 24,
   "metadata": {},
   "outputs": [],
   "source": [
    "def cos_score(lst):   \n",
    "    leve_m=np.zeros([10,10])\n",
    "    for i,word1 in enumerate(lst['features']):\n",
    "        for j,word2 in enumerate(lst['features']):\n",
    "            if word1!=word2:\n",
    "                leve_m[i][j]=linear_kernel(lst['score'][i].reshape(-1,1),lst['score'][j].reshape(-1,1)).flatten()\n",
    "    return leve_m.mean()"
   ]
  },
  {
   "cell_type": "code",
   "execution_count": 25,
   "metadata": {},
   "outputs": [],
   "source": [
    "lst0=top_feats_per_cluster(X,labels,features,0.1,10)[0]\n",
    "lst1=top_feats_per_cluster(X,labels,features,0.1,10)[1]\n",
    "lst2=top_feats_per_cluster(X,labels,features,0.1,10)[2]"
   ]
  },
  {
   "cell_type": "code",
   "execution_count": 26,
   "metadata": {},
   "outputs": [],
   "source": [
    "score0=cos_score(lst0)\n",
    "score1=cos_score(lst1)\n",
    "score2=cos_score(lst2)"
   ]
  },
  {
   "cell_type": "code",
   "execution_count": 27,
   "metadata": {},
   "outputs": [
    {
     "name": "stdout",
     "output_type": "stream",
     "text": [
      "0.0007643081491974036\n",
      "0.02555940854483489\n",
      "0.0007072735031234173\n"
     ]
    }
   ],
   "source": [
    "print(score0)\n",
    "print(score1)\n",
    "print(score2)"
   ]
  },
  {
   "cell_type": "code",
   "execution_count": 28,
   "metadata": {},
   "outputs": [],
   "source": [
    "X_new=X.todense()\n",
    "from scipy.cluster import hierarchy\n",
    "Z=hierarchy.linkage(X_new, 'ward')"
   ]
  },
  {
   "cell_type": "code",
   "execution_count": 29,
   "metadata": {},
   "outputs": [
    {
     "data": {
      "image/png": "[encoded data removed]",
      "text/plain": [
       "<Figure size 432x288 with 1 Axes>"
      ]
     },
     "metadata": {
      "needs_background": "light"
     },
     "output_type": "display_data"
    }
   ],
   "source": [
    "dn = hierarchy.dendrogram(Z)\n",
    "#dendrogram=sch.dendrogram(sch,linkage(X,method='ward'))\n",
    "plt.title('Dendrogram')\n",
    "#plt.xlabel('Customers')\n",
    "plt.ylabel('Euclidean distances')\n",
    "\n",
    "plt.xlim(0,5000)\n",
    "plt.ylim(0,15)\n",
    "plt.show()\n"
   ]
  },
  {
   "cell_type": "code",
   "execution_count": 30,
   "metadata": {},
   "outputs": [
    {
     "name": "stderr",
     "output_type": "stream",
     "text": [
      "/home/miguel/anaconda3/envs/miri/lib/python3.9/site-packages/sklearn/utils/validation.py:727: FutureWarning: np.matrix usage is deprecated in 1.0 and will raise a TypeError in 1.2. Please convert to a numpy array with np.asarray. For more information see: https://numpy.org/doc/stable/reference/generated/numpy.matrix.html\n",
      "  warnings.warn(\n"
     ]
    }
   ],
   "source": [
    "from sklearn.cluster import AgglomerativeClustering\n",
    "hc = AgglomerativeClustering(n_clusters = 4, affinity = 'euclidean', linkage = 'ward')\n",
    "y_hc = hc.fit_predict(X_new)"
   ]
  },
  {
   "cell_type": "code",
   "execution_count": 31,
   "metadata": {},
   "outputs": [],
   "source": [
    "y_hc1=y_hc.astype(np.int32)"
   ]
  },
  {
   "cell_type": "code",
   "execution_count": 32,
   "metadata": {},
   "outputs": [],
   "source": [
    "from sklearn.metrics.pairwise import linear_kernel\n",
    "def cos_score(lst):   \n",
    "    leve_m=np.zeros([10,10])\n",
    "    for i,word1 in enumerate(lst['features']):\n",
    "        for j,word2 in enumerate(lst['features']):\n",
    "            if word1!=word2:\n",
    "                leve_m[i][j]=linear_kernel(lst['score'][i].reshape(-1,1),lst['score'][j].reshape(-1,1)).flatten()\n",
    "    return leve_m.mean()"
   ]
  },
  {
   "cell_type": "code",
   "execution_count": 33,
   "metadata": {},
   "outputs": [],
   "source": [
    "lst0=top_feats_per_cluster(X,y_hc1,features,0.1,10)[0]\n",
    "lst1=top_feats_per_cluster(X,y_hc1,features,0.1,10)[1]\n",
    "lst2=top_feats_per_cluster(X,y_hc1,features,0.1,10)[2]\n",
    "lst3=top_feats_per_cluster(X,y_hc1,features,0.1,10)[3]"
   ]
  },
  {
   "cell_type": "code",
   "execution_count": 34,
   "metadata": {},
   "outputs": [],
   "source": [
    "score0=cos_score(lst0)\n",
    "    \n",
    "score1=cos_score(lst1)\n",
    "score2=cos_score(lst2)\n",
    "score3=cos_score(lst3)"
   ]
  },
  {
   "cell_type": "code",
   "execution_count": 35,
   "metadata": {},
   "outputs": [
    {
     "name": "stdout",
     "output_type": "stream",
     "text": [
      "8.102283857295646e-05\n",
      "0.020549867362868818\n",
      "0.041901601658993134\n",
      "0.02555940854483489\n"
     ]
    }
   ],
   "source": [
    "print(score0)\n",
    "print(score1)\n",
    "print(score2)\n",
    "print(score3)"
   ]
  },
  {
   "cell_type": "code",
   "execution_count": null,
   "metadata": {},
   "outputs": [],
   "source": []
  },
  {
   "cell_type": "code",
   "execution_count": null,
   "metadata": {},
   "outputs": [],
   "source": []
  }
 ],
 "metadata": {
  "kernelspec": {
   "display_name": "Python 3 (ipykernel)",
   "language": "python",
   "name": "python3"
  },
  "language_info": {
   "codemirror_mode": {
    "name": "ipython",
    "version": 3
   },
   "file_extension": ".py",
   "mimetype": "text/x-python",
   "name": "python",
   "nbconvert_exporter": "python",
   "pygments_lexer": "ipython3",
   "version": "3.9.12"
  }
 },
 "nbformat": 4,
 "nbformat_minor": 4
}
