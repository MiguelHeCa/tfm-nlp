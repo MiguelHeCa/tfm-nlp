{
 "cells": [
  {
   "cell_type": "code",
   "execution_count": 4,
   "id": "5d9cfd03",
   "metadata": {},
   "outputs": [],
   "source": [
    "# import pickle\n",
    "\n",
    "# import pandas as pd\n",
    "# import matplotlib.pyplot as plt\n",
    "\n",
    "# from pathlib import Path\n",
    "\n",
    "import pickle\n",
    "\n",
    "import gensim\n",
    "import hdbscan\n",
    "import numpy as np\n",
    "import pandas as pd\n",
    "import seaborn as sns\n",
    "\n",
    "from time import time\n",
    "from pathlib import Path\n",
    "\n",
    "from matplotlib import pyplot as plt\n",
    "from scipy.stats import entropy\n",
    "from sklearn import metrics\n",
    "from sklearn.cluster import DBSCAN, KMeans\n",
    "from sklearn.model_selection import train_test_split\n",
    "from sklearn.feature_extraction import DictVectorizer, FeatureHasher\n",
    "from sklearn.metrics import silhouette_samples, silhouette_score\n",
    "from sklearn.metrics.pairwise import pairwise_distances\n",
    "from sklearn.neighbors import NearestNeighbors\n",
    "\n",
    "\n",
    "from collections import defaultdict"
   ]
  },
  {
   "cell_type": "code",
   "execution_count": 5,
   "id": "eb972cca",
   "metadata": {},
   "outputs": [],
   "source": [
    "from scipy.stats import entropy"
   ]
  },
  {
   "cell_type": "markdown",
   "id": "67c59cae",
   "metadata": {},
   "source": [
    "# Clustering by parts"
   ]
  },
  {
   "cell_type": "markdown",
   "id": "42103986",
   "metadata": {},
   "source": [
    "## With NLK"
   ]
  },
  {
   "cell_type": "code",
   "execution_count": 6,
   "id": "701a81e7",
   "metadata": {},
   "outputs": [
    {
     "name": "stdout",
     "output_type": "stream",
     "text": [
      "CPU times: user 12.5 s, sys: 5.03 s, total: 17.6 s\n",
      "Wall time: 34 s\n"
     ]
    }
   ],
   "source": [
    "%%time\n",
    "file = Path('/Volumes', 'tfm', 'processed', 'email_nltk_fq_st_ps_tkn.pkl')\n",
    "df = pd.read_pickle(file)"
   ]
  },
  {
   "cell_type": "code",
   "execution_count": 7,
   "id": "e2dc5250",
   "metadata": {},
   "outputs": [],
   "source": [
    "extreme_vals = [132160, 480942, 337694]"
   ]
  },
  {
   "cell_type": "code",
   "execution_count": 8,
   "id": "9c61ec07",
   "metadata": {},
   "outputs": [
    {
     "data": {
      "text/html": [
       "<div>\n",
       "<style scoped>\n",
       "    .dataframe tbody tr th:only-of-type {\n",
       "        vertical-align: middle;\n",
       "    }\n",
       "\n",
       "    .dataframe tbody tr th {\n",
       "        vertical-align: top;\n",
       "    }\n",
       "\n",
       "    .dataframe thead th {\n",
       "        text-align: right;\n",
       "    }\n",
       "</style>\n",
       "<table border=\"1\" class=\"dataframe\">\n",
       "  <thead>\n",
       "    <tr style=\"text-align: right;\">\n",
       "      <th></th>\n",
       "      <th>id</th>\n",
       "      <th>fq_st_ps_tkn</th>\n",
       "    </tr>\n",
       "  </thead>\n",
       "  <tbody>\n",
       "    <tr>\n",
       "      <th>132160</th>\n",
       "      <td>forney-j/sent_items/158.</td>\n",
       "      <td>{'&lt;': 54316, 'omni': 6274, '&gt;': 53267, 'omnino...</td>\n",
       "    </tr>\n",
       "    <tr>\n",
       "      <th>480942</th>\n",
       "      <td>presto-k/sent_items/1103.</td>\n",
       "      <td>{'&lt;': 44545, 'omni': 5120, '&gt;': 44545, 'omnino...</td>\n",
       "    </tr>\n",
       "    <tr>\n",
       "      <th>337694</th>\n",
       "      <td>quigley-d/sent_items/37.</td>\n",
       "      <td>{'&lt;': 10760, 'omni': 1401, '&gt;': 10519, 'omnino...</td>\n",
       "    </tr>\n",
       "  </tbody>\n",
       "</table>\n",
       "</div>"
      ],
      "text/plain": [
       "                               id  \\\n",
       "132160   forney-j/sent_items/158.   \n",
       "480942  presto-k/sent_items/1103.   \n",
       "337694   quigley-d/sent_items/37.   \n",
       "\n",
       "                                             fq_st_ps_tkn  \n",
       "132160  {'<': 54316, 'omni': 6274, '>': 53267, 'omnino...  \n",
       "480942  {'<': 44545, 'omni': 5120, '>': 44545, 'omnino...  \n",
       "337694  {'<': 10760, 'omni': 1401, '>': 10519, 'omnino...  "
      ]
     },
     "execution_count": 8,
     "metadata": {},
     "output_type": "execute_result"
    }
   ],
   "source": [
    "df.loc[extreme_vals,:]"
   ]
  },
  {
   "cell_type": "code",
   "execution_count": 9,
   "id": "29f345b7",
   "metadata": {},
   "outputs": [],
   "source": [
    "df.drop(extreme_vals, inplace=True)"
   ]
  },
  {
   "cell_type": "code",
   "execution_count": 10,
   "id": "fb5595e6",
   "metadata": {},
   "outputs": [],
   "source": [
    "D = df['fq_st_ps_tkn'].to_list()"
   ]
  },
  {
   "cell_type": "code",
   "execution_count": 11,
   "id": "f9d1fb73",
   "metadata": {},
   "outputs": [],
   "source": [
    "train, test = train_test_split(D, test_size=0.8, random_state=2022)"
   ]
  },
  {
   "cell_type": "markdown",
   "id": "ad5652f1",
   "metadata": {},
   "source": [
    "### DictVectorizer"
   ]
  },
  {
   "cell_type": "code",
   "execution_count": 12,
   "id": "8fdf2124",
   "metadata": {},
   "outputs": [
    {
     "name": "stdout",
     "output_type": "stream",
     "text": [
      "DictVectorizer\n",
      "Found 249928 unique terms\n"
     ]
    }
   ],
   "source": [
    "print(\"DictVectorizer\")\n",
    "t0 = time()\n",
    "vectorizer = DictVectorizer()\n",
    "# vectorizer.fit_transform(tokens)\n",
    "vectorizer.fit_transform(train)\n",
    "X = vectorizer.fit_transform(train).toarray()\n",
    "print(\"Found %d unique terms\" % len(vectorizer.get_feature_names_out()))"
   ]
  },
  {
   "cell_type": "code",
   "execution_count": null,
   "id": "51431a05",
   "metadata": {},
   "outputs": [],
   "source": [
    "pipeline = Pipeline(\n",
    "    [\n",
    "        (\"vect\", CountVectorizer()),\n",
    "        (\"tfidf\", TfidfTransformer()),\n",
    "        (\"clf\", SGDClassifier()),\n",
    "    ]\n",
    ")\n",
    "\n",
    "# uncommenting more parameters will give better exploring power but will\n",
    "# increase processing time in a combinatorial way\n",
    "parameters = {\n",
    "    \"vect__max_df\": (0.5, 0.75, 1.0),\n",
    "    # 'vect__max_features': (None, 5000, 10000, 50000),\n",
    "    \"vect__ngram_range\": ((1, 1), (1, 2)),  # unigrams or bigrams\n",
    "    # 'tfidf__use_idf': (True, False),\n",
    "    # 'tfidf__norm': ('l1', 'l2'),\n",
    "    \"clf__max_iter\": (20,),\n",
    "    \"clf__alpha\": (0.00001, 0.000001),\n",
    "    \"clf__penalty\": (\"l2\", \"elasticnet\"),\n",
    "    # 'clf__max_iter': (10, 50, 80),\n",
    "}\n",
    "\n",
    "if __name__ == \"__main__\":\n",
    "    # multiprocessing requires the fork to happen in a __main__ protected\n",
    "    # block\n",
    "\n",
    "    # find the best parameters for both the feature extraction and the\n",
    "    # classifier\n",
    "    grid_search = GridSearchCV(pipeline, parameters, n_jobs=-1, verbose=1)\n",
    "\n",
    "    print(\"Performing grid search...\")\n",
    "    print(\"pipeline:\", [name for name, _ in pipeline.steps])\n",
    "    print(\"parameters:\")\n",
    "    pprint(parameters)\n",
    "    t0 = time()\n",
    "    grid_search.fit(data.data, data.target)\n",
    "    print(\"done in %0.3fs\" % (time() - t0))\n",
    "    print()\n",
    "\n",
    "    print(\"Best score: %0.3f\" % grid_search.best_score_)\n",
    "    print(\"Best parameters set:\")\n",
    "    best_parameters = grid_search.best_estimator_.get_params()\n",
    "    for param_name in sorted(parameters.keys()):\n",
    "        print(\"\\t%s: %r\" % (param_name, best_parameters[param_name]))"
   ]
  },
  {
   "cell_type": "code",
   "execution_count": null,
   "id": "f1284922",
   "metadata": {},
   "outputs": [],
   "source": [
    "### DBSCAN"
   ]
  },
  {
   "cell_type": "code",
   "execution_count": null,
   "id": "ff228cf5",
   "metadata": {},
   "outputs": [],
   "source": [
    "%%time\n",
    "m = DBSCAN(eps=0.3, min_samples=5)\n",
    "m.fit(X)"
   ]
  },
  {
   "cell_type": "code",
   "execution_count": null,
   "id": "8018b1b9",
   "metadata": {},
   "outputs": [],
   "source": [
    "### HDBSCAN\n",
    "def cluster_results(data):\n",
    "    results = {}\n",
    "    for metric in hdbscan.dist_metrics.METRIC_MAPPING.keys():\n",
    "        try:\n",
    "            if metric == 'minkowski':\n",
    "                clusterer = hdbscan.HDBSCAN(metric=metric, p=0.05)\n",
    "                clusterer.fit(data)\n",
    "            elif metric == 'precomputed':\n",
    "                distance_matrix = pairwise_distances(data)\n",
    "                clusterer = hdbscan.HDBSCAN(metric=metric)\n",
    "                clusterer.fit(distance_matrix)\n",
    "            else:\n",
    "                clusterer = hdbscan.HDBSCAN(metric=metric)\n",
    "                clusterer.fit(data)\n",
    "\n",
    "            results[metric] = entropy(clusterer.probabilities_)\n",
    "        except Exception as e:\n",
    "            print(f'{metric} metric failed: {str(e)}')\n",
    "    \n",
    "\n",
    "    return results"
   ]
  },
  {
   "cell_type": "code",
   "execution_count": null,
   "id": "d1b4470c",
   "metadata": {},
   "outputs": [],
   "source": [
    "## Entropies from different methods\n",
    "{k: v for k, v in sorted(cluster_results(X).items(), key=lambda item: -item[1])}"
   ]
  },
  {
   "cell_type": "code",
   "execution_count": null,
   "id": "ef16abcf",
   "metadata": {},
   "outputs": [],
   "source": [
    "n_features = 2 ** 18\n",
    "\n",
    "def n_nonzero_columns(X):\n",
    "    \"\"\"Returns the number of non-zero columns in a CSR matrix X.\"\"\"\n",
    "    return len(np.unique(X.nonzero()[1]))\n",
    "\n",
    "\n",
    "print(\"FeatureHasher on frequency dicts\")\n",
    "t0 = time()\n",
    "hasher = FeatureHasher(n_features=n_features)\n",
    "X = hasher.transform(train)\n",
    "duration = time() - t0\n",
    "print(\"done in %fs\" % (duration))\n",
    "print(\"Found %d unique terms\" % n_nonzero_columns(X))\n",
    "print()"
   ]
  },
  {
   "cell_type": "markdown",
   "id": "25d19174",
   "metadata": {},
   "source": [
    "## With Spacy"
   ]
  },
  {
   "cell_type": "code",
   "execution_count": null,
   "id": "2e12cc75",
   "metadata": {},
   "outputs": [],
   "source": []
  }
 ],
 "metadata": {
  "kernelspec": {
   "display_name": "Python [conda env:miri] *",
   "language": "python",
   "name": "conda-env-miri-py"
  },
  "language_info": {
   "codemirror_mode": {
    "name": "ipython",
    "version": 3
   },
   "file_extension": ".py",
   "mimetype": "text/x-python",
   "name": "python",
   "nbconvert_exporter": "python",
   "pygments_lexer": "ipython3",
   "version": "3.8.13"
  }
 },
 "nbformat": 4,
 "nbformat_minor": 5
}
