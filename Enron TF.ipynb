{
 "cells": [
  {
   "cell_type": "markdown",
   "id": "ccb41711",
   "metadata": {},
   "source": [
    "# Enron Tensor Flow\n",
    "\n",
    "From [Amunategui](http://amunategui.github.io/office-automation/index.html)\n"
   ]
  },
  {
   "cell_type": "code",
   "execution_count": 1,
   "id": "c7ff3639",
   "metadata": {},
   "outputs": [
    {
     "name": "stderr",
     "output_type": "stream",
     "text": [
      "2022-03-17 16:23:29.618195: W tensorflow/stream_executor/platform/default/dso_loader.cc:64] Could not load dynamic library 'libcudart.so.11.0'; dlerror: libcudart.so.11.0: cannot open shared object file: No such file or directory; LD_LIBRARY_PATH: /home/mhc/Programs/freeling/lib:/home/mhc/Programs/freeling/share/freeling/APIs/python3\n",
      "2022-03-17 16:23:29.618242: I tensorflow/stream_executor/cuda/cudart_stub.cc:29] Ignore above cudart dlerror if you do not have a GPU set up on your machine.\n"
     ]
    }
   ],
   "source": [
    "import tensorflow as tf\n",
    "import collections\n",
    "import os\n",
    "import random\n",
    "import numpy as np\n",
    "from tqdm import tqdm\n",
    "import sys, email\n",
    "import pandas as pd \n",
    "import math\n",
    "from pathlib import Path"
   ]
  },
  {
   "cell_type": "code",
   "execution_count": 2,
   "id": "900c47ea",
   "metadata": {},
   "outputs": [],
   "source": [
    "%%time\n",
    "ENRON_PATH = Path('..','emails.csv')\n",
    "\n",
    "emails_df = pd.read_csv(ENRON_PATH)"
   ]
  },
  {
   "cell_type": "code",
   "execution_count": 3,
   "id": "61fab5d8",
   "metadata": {},
   "outputs": [
    {
     "data": {
      "text/plain": [
       "(517401, 2)"
      ]
     },
     "execution_count": 3,
     "metadata": {},
     "output_type": "execute_result"
    }
   ],
   "source": [
    "emails_df.shape"
   ]
  },
  {
   "cell_type": "code",
   "execution_count": 8,
   "id": "a405a89f",
   "metadata": {},
   "outputs": [],
   "source": [
    "def get_text_from_email(msg):\n",
    "    \"\"\"To get the content from email objects\"\"\"\n",
    "    parts = []\n",
    "    for part in msg.walk():\n",
    "        if part.get_content_type() == 'text/plain':\n",
    "            parts.append(part.get_payload())\n",
    "    \n",
    "    return ''.join(parts)\n",
    "\n",
    "\n",
    "def extract_text(message):\n",
    "    \"\"\"\n",
    "    Parses the last message in case there are multiple replies.\n",
    "    \"\"\"\n",
    "    \n",
    "    msg = email.message_from_string(message)\n",
    "    msg = msg.get_payload()\n",
    "    \n",
    "    return msg\n",
    "\n",
    "\n",
    "def extract_item(message, item):\n",
    "    \"\"\"\n",
    "    Extract message item\n",
    "    \"\"\"\n",
    "    \n",
    "    msg = email.message_from_string(message)\n",
    "    \n",
    "    return msg[item]"
   ]
  },
  {
   "cell_type": "code",
   "execution_count": 7,
   "id": "ff2a3eef",
   "metadata": {},
   "outputs": [
    {
     "name": "stdout",
     "output_type": "stream",
     "text": [
      "CPU times: user 57.7 s, sys: 279 ms, total: 57.9 s\n",
      "Wall time: 57.9 s\n"
     ]
    }
   ],
   "source": [
    "%%time\n",
    "emails_df['content'] = emails_df['message'].apply(extract_text)"
   ]
  },
  {
   "cell_type": "code",
   "execution_count": 10,
   "id": "7d117ccd",
   "metadata": {},
   "outputs": [
    {
     "name": "stdout",
     "output_type": "stream",
     "text": [
      "CPU times: user 1min 55s, sys: 83.6 ms, total: 1min 55s\n",
      "Wall time: 1min 55s\n"
     ]
    }
   ],
   "source": [
    "%%time\n",
    "emails_df['subject'] = emails_df['message'].apply(extract_item, args=('Subject',))\n",
    "emails_df['date'] = emails_df['message'].apply(extract_item, args=('Date',))"
   ]
  },
  {
   "cell_type": "code",
   "execution_count": 12,
   "id": "ea4ec6d5",
   "metadata": {},
   "outputs": [],
   "source": [
    "emails_df.drop('message', axis=1, inplace=True)"
   ]
  },
  {
   "cell_type": "code",
   "execution_count": 15,
   "id": "59877103",
   "metadata": {},
   "outputs": [
    {
     "name": "stderr",
     "output_type": "stream",
     "text": [
      "/tmp/ipykernel_9810/651153915.py:2: FutureWarning: The default value of regex will change from True to False in a future version.\n",
      "  emails_df['content'] = emails_df['content'].str.replace(r'[^a-z]', ' ')\n",
      "/tmp/ipykernel_9810/651153915.py:3: FutureWarning: The default value of regex will change from True to False in a future version.\n",
      "  emails_df['content'] = emails_df['content'].str.replace(r'\\s+', ' ')\n"
     ]
    }
   ],
   "source": [
    "emails_df['content'] = emails_df['content'].str.lower()\n",
    "emails_df['content'] = emails_df['content'].str.replace(r'[^a-z]', ' ')  \n",
    "emails_df['content'] = emails_df['content'].str.replace(r'\\s+', ' ')  "
   ]
  },
  {
   "cell_type": "code",
   "execution_count": 16,
   "id": "9ad2260e",
   "metadata": {},
   "outputs": [
    {
     "data": {
      "text/plain": [
       "0                                     here is our forecast \n",
       "1         traveling to have a business meeting takes the...\n",
       "2                                test successful way to go \n",
       "3         randy can you send me a schedule of the salary...\n",
       "4                               let s shoot for tuesday at \n",
       "                                ...                        \n",
       "517396    this is a trade with oil spec hedge ng john la...\n",
       "517397    some of my position is with the alberta term b...\n",
       "517398     original message from doucet dawn sent wednes...\n",
       "517399    analyst rank stephane brodeur chad clark ian c...\n",
       "517400    i think the ymca has a class that is for peopl...\n",
       "Name: content, Length: 517401, dtype: object"
      ]
     },
     "execution_count": 16,
     "metadata": {},
     "output_type": "execute_result"
    }
   ],
   "source": [
    "emails_df['content']"
   ]
  },
  {
   "cell_type": "code",
   "execution_count": null,
   "id": "9d69170f",
   "metadata": {},
   "outputs": [],
   "source": []
  }
 ],
 "metadata": {
  "kernelspec": {
   "display_name": "Python [conda env:tfm] *",
   "language": "python",
   "name": "conda-env-tfm-py"
  },
  "language_info": {
   "codemirror_mode": {
    "name": "ipython",
    "version": 3
   },
   "file_extension": ".py",
   "mimetype": "text/x-python",
   "name": "python",
   "nbconvert_exporter": "python",
   "pygments_lexer": "ipython3",
   "version": "3.10.2"
  }
 },
 "nbformat": 4,
 "nbformat_minor": 5
}
