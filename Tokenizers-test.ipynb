{
 "cells": [
  {
   "cell_type": "markdown",
   "id": "3c16dac3",
   "metadata": {},
   "source": [
    "# How does tokenizer and lemmas works"
   ]
  },
  {
   "cell_type": "code",
   "execution_count": null,
   "id": "651a973b",
   "metadata": {},
   "outputs": [],
   "source": [
    "import sys\n",
    "import os\n",
    "import io\n",
    "\n",
    "import pyfreeling\n",
    "\n",
    "import os\n",
    "from email.parser import Parser\n",
    "import email.utils\n",
    "\n",
    "import time\n",
    "\n",
    "import re"
   ]
  },
  {
   "cell_type": "code",
   "execution_count": null,
   "id": "b2fe4ff9",
   "metadata": {},
   "outputs": [],
   "source": [
    "basedir = \"../maildir/lay-k\"  # Change root dir to affect how many mails are touched\n",
    "def messageIDtoSubject(mail_dict, messageID):\n",
    "    return mail_dict[messageID][\"subject\"].replace(\" \", \"\")\n",
    "\n",
    "\n",
    "def raw_parse(inputfile, email_list):\n",
    "    with open(inputfile, \"r\",encoding=\"utf-8\",errors=\"ignore\") as f:\n",
    "        data = f.read()\n",
    "    parsedEmail = Parser().parsestr(data)\n",
    "    timestamp = time.mktime(email.utils.parsedate(parsedEmail[\"date\"]))\n",
    "    email_list.append((timestamp, parsedEmail))\n",
    "\n",
    "\n",
    "def obtain_raw_threads(mail_dict, email_list):\n",
    "    subject_dict = {}\n",
    "    rootMailSet = set()\n",
    "    auxiliarRootStructure = {}\n",
    "\n",
    "    for mail in email_list:\n",
    "        actualEmail = mail[1]\n",
    "        true_subject = actualEmail['subject']\n",
    "        true_subject = true_subject.replace(\" \", \"\")\n",
    "        mail_dict[actualEmail[\"message-id\"]] = actualEmail\n",
    "        if \"Re:\" != true_subject[0:3]:\n",
    "            auxiliarRootStructure[true_subject] = actualEmail[\"message-id\"]\n",
    "            if true_subject not in subject_dict:\n",
    "                subject_dict[true_subject] = []\n",
    "        else:\n",
    "            new_subject = true_subject.replace(\"Re:\", \"\")\n",
    "            if new_subject in subject_dict:\n",
    "                subject_dict[new_subject].append(actualEmail[\"message-id\"])\n",
    "                rootMailSet.add(auxiliarRootStructure[new_subject])\n",
    "            subject_dict[true_subject] = []\n",
    "    threads = {}\n",
    "    for mail in rootMailSet:\n",
    "        subject = messageIDtoSubject(mail_dict, mail)\n",
    "        childThread = subject_dict[subject]\n",
    "        threads[mail] = childThread\n",
    "    return threads\n",
    "\n",
    "\n",
    "def preprocess_recipients(recipient):\n",
    "    if recipient is not None:\n",
    "        users = re.sub(r'\\s+', '', recipient).split(',')\n",
    "        if len(users) > 1:\n",
    "            return users\n",
    "        else:\n",
    "            return users[0]\n",
    "    else:\n",
    "        return None\n",
    "\n",
    "\n",
    "def obtain_base_features(mail):\n",
    "    email_dict={}\n",
    "    email_dict[mail['message-id']] = {\n",
    "            'from': mail['from'],\n",
    "            # 'to': preprocess_recipients(mail['to']),\n",
    "            'date': mail['date'],\n",
    "        }\n",
    "    return email_dict"
   ]
  },
  {
   "cell_type": "code",
   "execution_count": null,
   "id": "c7e9e0c8",
   "metadata": {},
   "outputs": [],
   "source": [
    "lang = 'en'\n",
    "\n",
    "if \"FREELINGDIR\" not in os.environ:\n",
    "    if sys.platform == \"win32\" or sys.platform == \"win64\":\n",
    "        os.environ[\"FREELINGDIR\"] = \"C:\\\\Program Files\"\n",
    "    else:\n",
    "        os.environ[\"FREELINGDIR\"] = \"/usr/local\"\n",
    "    print(\n",
    "        \"FREELINGDIR environment variable not defined, trying \",\n",
    "        os.environ[\"FREELINGDIR\"],\n",
    "        file=sys.stderr,\n",
    "    )\n",
    "\n",
    "if not os.path.exists(os.environ[\"FREELINGDIR\"] + \"/share/freeling\"):\n",
    "    print(\n",
    "        \"Folder\",\n",
    "        os.environ[\"FREELINGDIR\"] + \"/share/freeling\",\n",
    "        \"not found.\\n\" +\n",
    "        \"Please set FREELINGDIR environment variable to FreeLing installation directory\",\n",
    "        file=sys.stderr,\n",
    "    )\n",
    "    sys.exit(1)\n",
    "\n",
    "# Location of FreeLing configuration files.\n",
    "DATA = os.environ[\"FREELINGDIR\"] + \"/share/freeling/\"\n",
    "\n",
    "# Init locales\n",
    "pyfreeling.util_init_locale(\"default\")\n",
    "\n",
    "# create language detector. Used just to show it. Results are printed\n",
    "# but ignored (after, it is assumed language is LANG)\n",
    "# la = pyfreeling.lang_ident(DATA + \"common/lang_ident/ident-few.dat\")\n",
    "\n",
    "# create options set for maco analyzer.\n",
    "# Default values are Ok, except for data files.\n",
    "LANG = lang\n",
    "op = pyfreeling.maco_options(LANG)\n",
    "op.set_data_files(\n",
    "    \"\",\n",
    "    DATA + \"common/punct.dat\",\n",
    "    DATA + LANG + \"/dicc.src\",\n",
    "    DATA + LANG + \"/afixos.dat\",\n",
    "    \"\",\n",
    "    DATA + LANG + \"/locucions.dat\",\n",
    "    DATA + LANG + \"/np.dat\",\n",
    "    DATA + LANG + \"/quantities.dat\",\n",
    "    DATA + LANG + \"/probabilitats.dat\",\n",
    ")\n",
    "\n",
    "# create analyzers\n",
    "tk = pyfreeling.tokenizer(DATA + LANG + \"/tokenizer.dat\")\n",
    "sp = pyfreeling.splitter(DATA + LANG + \"/splitter.dat\")\n",
    "sid = sp.open_session()\n",
    "mf = pyfreeling.maco(op)\n",
    "\n",
    "# activate morpho modules to be used in next call\n",
    "mf.set_active_options(\n",
    "    False, # UserMap\n",
    "    True,  # NumbersDetection\n",
    "    True,  # PunctuationDetection\n",
    "    True,  # DatesDetection\n",
    "    True,  # DictionarySearch\n",
    "    True,  # AffixAnalysis\n",
    "    False, # CompoundAnalysis\n",
    "    True,  # RetokContractions\n",
    "    True,  # MultiwordsDetection\n",
    "    True,  # NERecognition\n",
    "    True,  # QuantitiesDetection\n",
    "    True,  # ProbabilityAssignment\n",
    ")\n",
    "# default: all created submodules are used\n",
    "\n",
    "# create tagger, sense anotator, and parsers\n",
    "tg = pyfreeling.hmm_tagger(DATA + LANG + \"/tagger.dat\", True, 2)\n",
    "sen = pyfreeling.senses(DATA + LANG + \"/senses.dat\")\n",
    "dep = pyfreeling.dep_lstm(\n",
    "    DATA + LANG + \"/dep_lstm/params-en.dat\")"
   ]
  },
  {
   "cell_type": "code",
   "execution_count": null,
   "id": "0fc1307e",
   "metadata": {},
   "outputs": [],
   "source": [
    "def obtain_forms(text):\n",
    "    results = {}\n",
    "    for lin in io.StringIO(actualEmail.get_payload()):\n",
    "        if lin.strip():\n",
    "            lw = tk.tokenize(lin)\n",
    "            ls = sp.split(sid, lw, False)\n",
    "            if len(ls) > 0:\n",
    "                ws = ls[0].get_words()\n",
    "                for w in ws:\n",
    "                    key = w.get_form()\n",
    "                    add_to_dict(key, results)\n",
    "    return results\n",
    "\n",
    "def obtain_lemmas(text):\n",
    "    results = {}\n",
    "    for lin in io.StringIO(actualEmail.get_payload()):\n",
    "        if lin.strip():\n",
    "            lw = tk.tokenize(lin)\n",
    "            ls = sp.split(sid, lw, False)\n",
    "            ls = mf.analyze(ls)\n",
    "            if len(ls) > 0:\n",
    "                ws = ls[0].get_words()\n",
    "                for w in ws:\n",
    "                    key = f'{w.get_form()}_{w.get_lemma()}'\n",
    "                    add_to_dict(key, results)\n",
    "    return results\n",
    "\n",
    "def obtain_pos(text):\n",
    "    results = {}\n",
    "    for lin in io.StringIO(actualEmail.get_payload()):\n",
    "        if lin.strip():\n",
    "            lw = tk.tokenize(lin)\n",
    "            ls = sp.split(sid, lw, False)\n",
    "            ls = mf.analyze(ls)\n",
    "            ls = tg.analyze(ls)\n",
    "            ls = sen.analyze(ls)\n",
    "            if len(ls) > 0:\n",
    "                ws = ls[0].get_words()\n",
    "                for w in ws:\n",
    "                    key = f'{w.get_form()}_{w.get_tag()}'\n",
    "                    add_to_dict(key, results)\n",
    "    return results\n",
    "\n",
    "def process(text, token=True, lemma=False, pos=False):\n",
    "    features = {}\n",
    "    if token:\n",
    "        features['forms'] = obtain_forms(text)\n",
    "    if lemma:\n",
    "        features['lemmas'] = obtain_lemmas(text)\n",
    "    if pos:\n",
    "        features['PoS'] = obtain_pos(text)\n",
    "    return features"
   ]
  },
  {
   "cell_type": "code",
   "execution_count": null,
   "id": "92348537",
   "metadata": {},
   "outputs": [],
   "source": [
    "def add_to_dict(key, feature_Dictionary):\n",
    "    if key in feature_Dictionary:\n",
    "        feature_Dictionary[key] += 1\n",
    "    else:\n",
    "        feature_Dictionary[key] = 1\n"
   ]
  },
  {
   "cell_type": "code",
   "execution_count": null,
   "id": "2d8734b9",
   "metadata": {},
   "outputs": [],
   "source": [
    "mail_dict = {}\n",
    "email_list = []\n",
    "\n",
    "for directory, subdirectory, filenames in os.walk(basedir):\n",
    "    for filename in filenames:\n",
    "        raw_parse(os.path.join(directory, filename), email_list)\n",
    "email_list.sort(key=lambda x: x[0])\n",
    "\n",
    "pureThreads = obtain_raw_threads(mail_dict, email_list)"
   ]
  },
  {
   "cell_type": "code",
   "execution_count": null,
   "id": "585aac0d",
   "metadata": {},
   "outputs": [],
   "source": [
    "mailsWithFeatures = {}\n",
    "for mail in email_list[:1]:\n",
    "    actualEmail = mail[1]\n",
    "    mailsWithFeatures[mail] = obtain_base_features(actualEmail)\n",
    "    print(mailsWithFeatures)"
   ]
  },
  {
   "cell_type": "code",
   "execution_count": null,
   "id": "e71edce0",
   "metadata": {},
   "outputs": [],
   "source": [
    "print(email_list[0])"
   ]
  },
  {
   "cell_type": "code",
   "execution_count": null,
   "id": "326f90d7",
   "metadata": {},
   "outputs": [],
   "source": [
    "mailsWithFeatures[mail]"
   ]
  },
  {
   "cell_type": "code",
   "execution_count": null,
   "id": "ce334c08",
   "metadata": {},
   "outputs": [],
   "source": [
    "lw = []\n",
    "for lin in io.StringIO(actualEmail.get_payload()):\n",
    "    if lin.strip():\n",
    "        lw.append(tk.tokenize(lin))\n",
    "#lw"
   ]
  },
  {
   "cell_type": "code",
   "execution_count": null,
   "id": "bba3f7ff",
   "metadata": {},
   "outputs": [],
   "source": [
    "ls = []\n",
    "for l in lw:\n",
    "    ls.append(sp.split(sid, l, False))\n",
    "#ls"
   ]
  },
  {
   "cell_type": "code",
   "execution_count": null,
   "id": "aac3bb98",
   "metadata": {},
   "outputs": [],
   "source": [
    "ws = []\n",
    "for s in ls:\n",
    "    if len(s) > 0:\n",
    "        ws.append(s[0].get_words())\n",
    "#ws"
   ]
  },
  {
   "cell_type": "code",
   "execution_count": null,
   "id": "cb6a4c02",
   "metadata": {},
   "outputs": [],
   "source": [
    "ws = []\n",
    "for s in ls:\n",
    "    if len(s) > 0:\n",
    "        ws.append(s[0].get_words())"
   ]
  },
  {
   "cell_type": "code",
   "execution_count": null,
   "id": "b4f0b5b1",
   "metadata": {},
   "outputs": [],
   "source": [
    "ws[0][0].get_form()"
   ]
  },
  {
   "cell_type": "code",
   "execution_count": null,
   "id": "a26076e8",
   "metadata": {
    "scrolled": true
   },
   "outputs": [],
   "source": [
    "keys = []\n",
    "for w in ws:\n",
    "    for k in w:\n",
    "        keys.append(k.get_form())\n",
    "#keys"
   ]
  },
  {
   "cell_type": "code",
   "execution_count": null,
   "id": "0e7d77cd",
   "metadata": {},
   "outputs": [],
   "source": [
    "results = {}\n",
    "forms = {}\n",
    "for k in keys:\n",
    "    add_to_dict(k, forms)\n",
    "    results['forms'] = forms"
   ]
  },
  {
   "cell_type": "code",
   "execution_count": null,
   "id": "ffffb9b3",
   "metadata": {},
   "outputs": [],
   "source": []
  },
  {
   "cell_type": "code",
   "execution_count": null,
   "id": "664ae633",
   "metadata": {},
   "outputs": [],
   "source": [
    "results = {}\n",
    "for lin in io.StringIO(actualEmail.get_payload()):\n",
    "    if lin.strip():\n",
    "        lw = tk.tokenize(lin)\n",
    "        ls = sp.split(sid, lw, False)\n",
    "        if len(ls) > 0:\n",
    "            ws = ls[0].get_words()\n",
    "            for w in ws:\n",
    "                key = w.get_form()\n",
    "                add_to_dict(key, results)"
   ]
  },
  {
   "cell_type": "code",
   "execution_count": null,
   "id": "f553bc56",
   "metadata": {},
   "outputs": [],
   "source": [
    "results"
   ]
  },
  {
   "cell_type": "code",
   "execution_count": null,
   "id": "b8955374",
   "metadata": {},
   "outputs": [],
   "source": [
    "mailsWithFeatures = {}\n",
    "for mail in email_list[:1]:\n",
    "    actualEmail = mail[1]\n",
    "    mailsWithFeatures[mail] = obtain_base_features(actualEmail)\n",
    "    mailsWithFeatures[mail][actualEmail['message-id']]['forms'] = obtain_forms(actualEmail)"
   ]
  },
  {
   "cell_type": "code",
   "execution_count": null,
   "id": "56c3c072",
   "metadata": {},
   "outputs": [],
   "source": [
    "mailsWithFeatures[mail]"
   ]
  },
  {
   "cell_type": "markdown",
   "id": "19042f14",
   "metadata": {},
   "source": [
    "## Lemma"
   ]
  },
  {
   "cell_type": "code",
   "execution_count": null,
   "id": "5fb421f2",
   "metadata": {},
   "outputs": [],
   "source": [
    "results = {}\n",
    "for lin in io.StringIO(actualEmail.get_payload()):\n",
    "    if lin.strip():\n",
    "        lw = tk.tokenize(lin)\n",
    "        ls = sp.split(sid, lw, False)\n",
    "        ls = mf.analyze(ls)\n",
    "        if len(ls) > 0:\n",
    "            ws = ls[0].get_words()\n",
    "            for w in ws:\n",
    "                key = f'{w.get_form()}_{w.get_lemma()}'\n",
    "                add_to_dict(key, results)"
   ]
  },
  {
   "cell_type": "code",
   "execution_count": null,
   "id": "3db4a730",
   "metadata": {},
   "outputs": [],
   "source": [
    "results"
   ]
  },
  {
   "cell_type": "code",
   "execution_count": null,
   "id": "e16657f7",
   "metadata": {},
   "outputs": [],
   "source": [
    "mailsWithFeatures = {}\n",
    "for mail in email_list[:1]:\n",
    "    actualEmail = mail[1]\n",
    "    mailsWithFeatures[mail] = obtain_base_features(actualEmail)\n",
    "    mailsWithFeatures[mail][actualEmail['message-id']]['lemmas'] = obtain_lemmas(actualEmail)"
   ]
  },
  {
   "cell_type": "code",
   "execution_count": null,
   "id": "fd0c0b02",
   "metadata": {},
   "outputs": [],
   "source": [
    "mailsWithFeatures[mail]"
   ]
  },
  {
   "cell_type": "markdown",
   "id": "74d58fa1",
   "metadata": {},
   "source": [
    "## PoS"
   ]
  },
  {
   "cell_type": "code",
   "execution_count": null,
   "id": "a6d62f1a",
   "metadata": {},
   "outputs": [],
   "source": [
    "mailsWithFeatures = {}\n",
    "for mail in email_list[:1]:\n",
    "    actualEmail = mail[1]\n",
    "    mailsWithFeatures[mail] = obtain_base_features(actualEmail)\n",
    "    mailsWithFeatures[mail][actualEmail['message-id']]['PoS'] = obtain_pos(actualEmail)"
   ]
  },
  {
   "cell_type": "code",
   "execution_count": null,
   "id": "c7ba1b5b",
   "metadata": {},
   "outputs": [],
   "source": [
    "mailsWithFeatures[mail]"
   ]
  },
  {
   "cell_type": "markdown",
   "id": "a5e9f2e0",
   "metadata": {},
   "source": [
    "# All"
   ]
  },
  {
   "cell_type": "code",
   "execution_count": null,
   "id": "84c2cb9d",
   "metadata": {},
   "outputs": [],
   "source": [
    "# Tokens\n",
    "mailsWithFeatures = {}\n",
    "for mail in email_list[:1]:\n",
    "    actualEmail = mail[1]\n",
    "    mailsWithFeatures[mail] = obtain_base_features(actualEmail)\n",
    "    mailsWithFeatures[mail][actualEmail['message-id']].update(process(actualEmail))"
   ]
  },
  {
   "cell_type": "code",
   "execution_count": null,
   "id": "90caff5c",
   "metadata": {},
   "outputs": [],
   "source": [
    "mailsWithFeatures[mail]"
   ]
  },
  {
   "cell_type": "code",
   "execution_count": null,
   "id": "bf9f1343",
   "metadata": {},
   "outputs": [],
   "source": [
    "# Tokens + Lemmas + PoS\n",
    "mailsWithFeatures = {}\n",
    "for mail in email_list[:1]:\n",
    "    actualEmail = mail[1]\n",
    "    mailsWithFeatures[mail] = obtain_base_features(actualEmail)\n",
    "    mailsWithFeatures[mail][actualEmail['message-id']].update(process(actualEmail, lemma=True, pos=True))"
   ]
  },
  {
   "cell_type": "code",
   "execution_count": null,
   "id": "5482af1f",
   "metadata": {},
   "outputs": [],
   "source": [
    "mailsWithFeatures[mail]"
   ]
  },
  {
   "cell_type": "code",
   "execution_count": null,
   "id": "25cbe682",
   "metadata": {},
   "outputs": [],
   "source": [
    "sp.close_session(sid)"
   ]
  },
  {
   "cell_type": "code",
   "execution_count": null,
   "id": "4c6c3500",
   "metadata": {},
   "outputs": [],
   "source": [
    "print(actualEmail.get_payload())"
   ]
  },
  {
   "cell_type": "code",
   "execution_count": null,
   "id": "c9646d88",
   "metadata": {},
   "outputs": [],
   "source": []
  }
 ],
 "metadata": {
  "kernelspec": {
   "display_name": "Python [conda env:tfm] *",
   "language": "python",
   "name": "conda-env-tfm-py"
  },
  "language_info": {
   "codemirror_mode": {
    "name": "ipython",
    "version": 3
   },
   "file_extension": ".py",
   "mimetype": "text/x-python",
   "name": "python",
   "nbconvert_exporter": "python",
   "pygments_lexer": "ipython3",
   "version": "3.10.2"
  }
 },
 "nbformat": 4,
 "nbformat_minor": 5
}
