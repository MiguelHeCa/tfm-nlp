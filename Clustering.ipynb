{
 "cells": [
  {
   "cell_type": "code",
   "execution_count": 1,
   "id": "44748460",
   "metadata": {},
   "outputs": [],
   "source": [
    "import pickle\n",
    "\n",
    "import gensim\n",
    "import analyzer\n",
    "import numpy as np\n",
    "import pandas as pd\n",
    "import matplotlib.pyplot as plt\n",
    "\n",
    "from time import time\n",
    "from pathlib import Path\n",
    "from sklearn.cluster import DBSCAN\n",
    "from sklearn import metrics\n",
    "from sklearn.model_selection import train_test_split\n",
    "from sklearn.feature_extraction import DictVectorizer, FeatureHasher\n",
    "from sklearn.cluster import KMeans\n",
    "from sklearn.metrics import silhouette_samples, silhouette_score\n",
    "from collections import defaultdict"
   ]
  },
  {
   "cell_type": "code",
   "execution_count": 2,
   "id": "b06d7272",
   "metadata": {},
   "outputs": [],
   "source": [
    "emails_path = Path(Path.cwd().parent, 'maildir')"
   ]
  },
  {
   "cell_type": "code",
   "execution_count": 3,
   "id": "7c19a647",
   "metadata": {},
   "outputs": [],
   "source": [
    "df = pd.read_pickle('enron_mails.p')\n",
    "# normally would be 0.4\n",
    "train, test = train_test_split(df, test_size=0.8, random_state=2022)\n"
   ]
  },
  {
   "cell_type": "markdown",
   "id": "0ad065cb",
   "metadata": {},
   "source": [
    "# Pre-processing\n",
    "\n",
    "## Freeling"
   ]
  },
  {
   "cell_type": "code",
   "execution_count": 6,
   "id": "08d4f39b",
   "metadata": {},
   "outputs": [],
   "source": []
  },
  {
   "cell_type": "code",
   "execution_count": 4,
   "id": "9f5a82ac",
   "metadata": {},
   "outputs": [
    {
     "name": "stdout",
     "output_type": "stream",
     "text": [
      "CPU times: user 31.3 s, sys: 668 ms, total: 32 s\n",
      "Wall time: 31.5 s\n"
     ]
    }
   ],
   "source": [
    "%%time\n",
    "flan = analyzer.FreelingAnalyzer(emails_path, 'en')"
   ]
  },
  {
   "cell_type": "code",
   "execution_count": 9,
   "id": "138b0648",
   "metadata": {},
   "outputs": [
    {
     "name": "stderr",
     "output_type": "stream",
     "text": [
      "SPLITTER: Ridiculously long sentence between markers at token ',' at input offset 25.\n",
      "SPLITTER: Ridiculously long sentence between markers at token '/' at input offset 11.\n",
      "SPLITTER: Ridiculously long sentence between markers at token 'A' at input offset 1.\n",
      "SPLITTER: Ridiculously long sentence between markers at token '/' at input offset 11.\n",
      "SPLITTER: Ridiculously long sentence between markers at token 'Enron@EnronXGate' at input offset 13.\n",
      "SPLITTER: Ridiculously long sentence between markers at token 'on' at input offset 13.\n",
      "SPLITTER: Ridiculously long sentence between markers at token '$2.7450' at input offset 25.\n",
      "SPLITTER: Ridiculously long sentence between markers at token 'NY' at input offset 0.\n",
      "SPLITTER: Ridiculously long sentence between markers at token '/' at input offset 15.\n",
      "SPLITTER: Ridiculously long sentence between markers at token '/' at input offset 11.\n",
      "SPLITTER: Ridiculously long sentence between markers at token 'Ask' at input offset 24.\n",
      "SPLITTER: Ridiculously long sentence between markers at token 'A' at input offset 59.\n"
     ]
    },
    {
     "name": "stdout",
     "output_type": "stream",
     "text": [
      "CPU times: user 41min 15s, sys: 3.3 s, total: 41min 19s\n",
      "Wall time: 41min 19s\n"
     ]
    }
   ],
   "source": [
    "%%time\n",
    "tokens = []\n",
    "for _, mail in train['text'].items():\n",
    "    tokens.append(flan.obtain_tokens(mail))"
   ]
  },
  {
   "cell_type": "markdown",
   "id": "f922c51c",
   "metadata": {},
   "source": [
    "See configuration of splitter to deal with `\"`. See `splitter.dat`"
   ]
  },
  {
   "cell_type": "code",
   "execution_count": 11,
   "id": "9800ab5d",
   "metadata": {},
   "outputs": [
    {
     "data": {
      "text/plain": [
       "{'Start': 1,\n",
       " 'Date': 1,\n",
       " ':': 2,\n",
       " '4/30/01': 1,\n",
       " ';': 2,\n",
       " 'HourAhead': 1,\n",
       " 'hour': 1,\n",
       " '11': 1,\n",
       " 'No': 2,\n",
       " 'ancillary': 1,\n",
       " 'schedules': 1,\n",
       " 'awarded': 1,\n",
       " '.': 2,\n",
       " 'variances': 1,\n",
       " 'detected': 1}"
      ]
     },
     "execution_count": 11,
     "metadata": {},
     "output_type": "execute_result"
    }
   ],
   "source": []
  },
  {
   "cell_type": "code",
   "execution_count": null,
   "id": "b831b715",
   "metadata": {},
   "outputs": [],
   "source": []
  },
  {
   "cell_type": "code",
   "execution_count": null,
   "id": "31304ece",
   "metadata": {},
   "outputs": [],
   "source": [
    "\n",
    "#lemmas = train['text'].apply(flan.obtain_lemmas)\n",
    "#lemmas"
   ]
  },
  {
   "cell_type": "markdown",
   "id": "7cc95d16",
   "metadata": {},
   "source": [
    "## Ginsem tokenizer"
   ]
  },
  {
   "cell_type": "code",
   "execution_count": 4,
   "id": "7b58afa5",
   "metadata": {},
   "outputs": [
    {
     "name": "stdout",
     "output_type": "stream",
     "text": [
      "CPU times: user 24.2 s, sys: 343 ms, total: 24.5 s\n",
      "Wall time: 24.6 s\n"
     ]
    }
   ],
   "source": [
    "%%time\n",
    "def create_corpus(input_docs, tokens_only=False):\n",
    "    for i, text in input_docs:\n",
    "        tokens = gensim.utils.simple_preprocess(text)\n",
    "        if tokens_only:\n",
    "            yield tokens\n",
    "        else:\n",
    "            # For training data, add tags\n",
    "            yield gensim.models.doc2vec.TaggedDocument(tokens, [i])\n",
    "\n",
    "            \n",
    "train_corpus = list(create_corpus(train['text'].items(), tokens_only=True))\n",
    "# test_corpus = list(create_corpus(test['text'].items(), tokens_only=True))\n"
   ]
  },
  {
   "cell_type": "code",
   "execution_count": 5,
   "id": "9cf9d29f",
   "metadata": {},
   "outputs": [],
   "source": [
    "def token_freqs(doc):\n",
    "    \"\"\"Extract a dict mapping tokens from doc to their frequencies.\"\"\"\n",
    "    freq = defaultdict(int)\n",
    "    for tok in doc:\n",
    "        freq[tok] += 1\n",
    "    return freq\n"
   ]
  },
  {
   "cell_type": "code",
   "execution_count": 6,
   "id": "a33c445c",
   "metadata": {},
   "outputs": [],
   "source": [
    "data_size_mb = sum(len(s) for s in train_corpus) / 1e6"
   ]
  },
  {
   "cell_type": "code",
   "execution_count": 7,
   "id": "868f6fc4",
   "metadata": {},
   "outputs": [
    {
     "name": "stdout",
     "output_type": "stream",
     "text": [
      "DictVectorizer\n",
      "done in 10.312361s at 1.234MB/s\n",
      "Found 117678 unique terms\n",
      "\n"
     ]
    }
   ],
   "source": [
    "print(\"DictVectorizer\")\n",
    "t0 = time()\n",
    "vectorizer = DictVectorizer()\n",
    "# vectorizer.fit_transform(tokens)\n",
    "vectorizer.fit_transform(token_freqs(d) for d in train_corpus)\n",
    "duration = time() - t0\n",
    "print(\"done in %fs at %0.3fMB/s\" % (duration, data_size_mb / duration))\n",
    "print(\"Found %d unique terms\" % len(vectorizer.get_feature_names_out()))\n",
    "print()\n"
   ]
  },
  {
   "cell_type": "code",
   "execution_count": 8,
   "id": "c894a7bf",
   "metadata": {},
   "outputs": [
    {
     "name": "stdout",
     "output_type": "stream",
     "text": [
      "FeatureHasher on frequency dicts\n",
      "done in 3.661170s at 3.475MB/s\n",
      "Found 94642 unique terms\n",
      "\n"
     ]
    }
   ],
   "source": [
    "n_features = 2 ** 18\n",
    "\n",
    "def n_nonzero_columns(X):\n",
    "    \"\"\"Returns the number of non-zero columns in a CSR matrix X.\"\"\"\n",
    "    return len(np.unique(X.nonzero()[1]))\n",
    "\n",
    "\n",
    "print(\"FeatureHasher on frequency dicts\")\n",
    "t0 = time()\n",
    "hasher = FeatureHasher(n_features=n_features)\n",
    "X = hasher.transform(token_freqs(d) for d in train_corpus)\n",
    "duration = time() - t0\n",
    "print(\"done in %fs at %0.3fMB/s\" % (duration, data_size_mb / duration))\n",
    "print(\"Found %d unique terms\" % n_nonzero_columns(X))\n",
    "print()\n"
   ]
  },
  {
   "cell_type": "markdown",
   "id": "0295b1a1",
   "metadata": {},
   "source": [
    "# DBSCAN"
   ]
  },
  {
   "cell_type": "code",
   "execution_count": 9,
   "id": "7b4104c9",
   "metadata": {},
   "outputs": [
    {
     "name": "stdout",
     "output_type": "stream",
     "text": [
      "Estimated number of clusters: 285\n",
      "Estimated number of noise points: 93032\n"
     ]
    },
    {
     "ename": "NameError",
     "evalue": "name 'labels_true' is not defined",
     "output_type": "error",
     "traceback": [
      "\u001b[0;31m---------------------------------------------------------------------------\u001b[0m",
      "\u001b[0;31mNameError\u001b[0m                                 Traceback (most recent call last)",
      "File \u001b[0;32m<timed exec>:12\u001b[0m, in \u001b[0;36m<module>\u001b[0;34m\u001b[0m\n",
      "\u001b[0;31mNameError\u001b[0m: name 'labels_true' is not defined"
     ]
    }
   ],
   "source": [
    "%%time\n",
    "db = DBSCAN(eps=0.3, min_samples=10).fit(X)\n",
    "core_samples_mask = np.zeros_like(db.labels_, dtype=bool)\n",
    "core_samples_mask[db.core_sample_indices_] = True\n",
    "labels = db.labels_\n"
   ]
  },
  {
   "cell_type": "markdown",
   "id": "7a8da553",
   "metadata": {},
   "source": [
    "See parameters of DBSCAN."
   ]
  },
  {
   "cell_type": "code",
   "execution_count": 10,
   "id": "c7eda4f3",
   "metadata": {},
   "outputs": [
    {
     "name": "stdout",
     "output_type": "stream",
     "text": [
      "Estimated number of clusters: 285\n",
      "Estimated number of noise points: 93032\n",
      "Silhouette Coefficient: -0.436\n"
     ]
    }
   ],
   "source": [
    "%%time\n",
    "# Number of clusters in labels, ignoring noise if present.\n",
    "n_clusters_ = len(set(labels)) - (1 if -1 in labels else 0)\n",
    "n_noise_ = list(labels).count(-1)\n",
    "\n",
    "print(\"Estimated number of clusters: %d\" % n_clusters_)\n",
    "print(\"Estimated number of noise points: %d\" % n_noise_)\n",
    "\n",
    "print(\"Silhouette Coefficient: %0.3f\" % metrics.silhouette_score(X, labels))\n"
   ]
  },
  {
   "cell_type": "markdown",
   "id": "113d9408",
   "metadata": {},
   "source": [
    "print(\"Homogeneity: %0.3f\" % metrics.homogeneity_score(labels_true, labels))\n",
    "print(\"Completeness: %0.3f\" % metrics.completeness_score(labels_true, labels))\n",
    "print(\"V-measure: %0.3f\" % metrics.v_measure_score(labels_true, labels))\n",
    "print(\"Adjusted Rand Index: %0.3f\" % metrics.adjusted_rand_score(labels_true, labels))\n",
    "print(\n",
    "    \"Adjusted Mutual Information: %0.3f\"\n",
    "    % metrics.adjusted_mutual_info_score(labels_true, labels)\n",
    ")"
   ]
  },
  {
   "cell_type": "code",
   "execution_count": null,
   "id": "43f569d1",
   "metadata": {},
   "outputs": [
    {
     "data": {
      "image/png": "[encoded data removed]",
      "text/plain": [
       "<Figure size 432x288 with 1 Axes>"
      ]
     },
     "metadata": {
      "needs_background": "light"
     },
     "output_type": "display_data"
    }
   ],
   "source": [
    "# #############################################################################\n",
    "# Plot result\n",
    "\n",
    "\n",
    "# Black removed and is used for noise instead.\n",
    "unique_labels = set(labels)\n",
    "colors = [plt.cm.Spectral(each) for each in np.linspace(0, 1, len(unique_labels))]\n",
    "for k, col in zip(unique_labels, colors):\n",
    "    if k == -1:\n",
    "        # Black used for noise.\n",
    "        col = [0, 0, 0, 1]\n",
    "\n",
    "    class_member_mask = labels == k\n",
    "\n",
    "    xy = X[class_member_mask & core_samples_mask]\n",
    "    plt.plot(\n",
    "        xy[:, 0],\n",
    "        xy[:, 1],\n",
    "        \"o\",\n",
    "        markerfacecolor=tuple(col),\n",
    "        markeredgecolor=\"k\",\n",
    "        markersize=14,\n",
    "    )\n",
    "\n",
    "    xy = X[class_member_mask & ~core_samples_mask]\n",
    "    plt.plot(\n",
    "        xy[:, 0],\n",
    "        xy[:, 1],\n",
    "        \"o\",\n",
    "        markerfacecolor=tuple(col),\n",
    "        markeredgecolor=\"k\",\n",
    "        markersize=6,\n",
    "    )\n",
    "\n",
    "plt.title(\"Estimated number of clusters: %d\" % n_clusters_)\n",
    "plt.show()"
   ]
  },
  {
   "cell_type": "markdown",
   "id": "8af8f6bd",
   "metadata": {},
   "source": [
    "# LDA "
   ]
  },
  {
   "cell_type": "code",
   "execution_count": null,
   "id": "c7feb6d5",
   "metadata": {},
   "outputs": [],
   "source": [
    "# Train LDA model.\n",
    "from gensim.models import LdaModel\n",
    "\n",
    "# Set training parameters.\n",
    "num_topics = 10\n",
    "chunksize = 2000\n",
    "passes = 20\n",
    "iterations = 400\n",
    "eval_every = None  # Don't evaluate model perplexity, takes too much time.\n",
    "\n",
    "# Make a index to word dictionary.\n",
    "temp = dictionary[0]  # This is only to \"load\" the dictionary.\n",
    "id2word = dictionary.id2token\n",
    "\n",
    "model = LdaModel(\n",
    "    corpus=corpus,\n",
    "    id2word=id2word,\n",
    "    chunksize=chunksize,\n",
    "    alpha='auto',\n",
    "    eta='auto',\n",
    "    iterations=iterations,\n",
    "    num_topics=num_topics,\n",
    "    passes=passes,\n",
    "    eval_every=eval_every\n",
    ")\n"
   ]
  }
 ],
 "metadata": {
  "kernelspec": {
   "display_name": "Python [conda env:miri] *",
   "language": "python",
   "name": "conda-env-miri-py"
  },
  "language_info": {
   "codemirror_mode": {
    "name": "ipython",
    "version": 3
   },
   "file_extension": ".py",
   "mimetype": "text/x-python",
   "name": "python",
   "nbconvert_exporter": "python",
   "pygments_lexer": "ipython3",
   "version": "3.8.13"
  }
 },
 "nbformat": 4,
 "nbformat_minor": 5
}
