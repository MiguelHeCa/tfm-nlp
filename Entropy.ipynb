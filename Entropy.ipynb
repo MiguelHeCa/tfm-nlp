{
 "cells": [
  {
   "cell_type": "markdown",
   "id": "76e7de36",
   "metadata": {},
   "source": [
    "# Entropy"
   ]
  },
  {
   "cell_type": "code",
   "execution_count": 1,
   "id": "1680a573",
   "metadata": {},
   "outputs": [],
   "source": [
    "from scipy.stats import entropy"
   ]
  },
  {
   "cell_type": "markdown",
   "id": "657c2967",
   "metadata": {},
   "source": [
    "$$H(p) = - \\sum_i p_i \\log_2 (p_i)$$"
   ]
  },
  {
   "cell_type": "code",
   "execution_count": 2,
   "id": "b8510fe1",
   "metadata": {},
   "outputs": [
    {
     "data": {
      "text/plain": [
       "1.0"
      ]
     },
     "execution_count": 2,
     "metadata": {},
     "output_type": "execute_result"
    }
   ],
   "source": [
    "entropy([1/2, 1/2], base=2)"
   ]
  },
  {
   "cell_type": "code",
   "execution_count": 3,
   "id": "4b5e2460",
   "metadata": {},
   "outputs": [
    {
     "data": {
      "text/plain": [
       "0.46899559358928117"
      ]
     },
     "execution_count": 3,
     "metadata": {},
     "output_type": "execute_result"
    }
   ],
   "source": [
    "entropy([9/10, 1/10], base=2)"
   ]
  },
  {
   "cell_type": "code",
   "execution_count": 5,
   "id": "8177b1fe",
   "metadata": {},
   "outputs": [
    {
     "data": {
      "text/plain": [
       "1.0893096789558299"
      ]
     },
     "execution_count": 5,
     "metadata": {},
     "output_type": "execute_result"
    }
   ],
   "source": [
    "entropy([6/18,7/18,5/18])"
   ]
  },
  {
   "cell_type": "markdown",
   "id": "0a735e8e",
   "metadata": {},
   "source": [
    "# Purity"
   ]
  },
  {
   "cell_type": "markdown",
   "id": "b41a1c42",
   "metadata": {},
   "source": [
    "# Random Index"
   ]
  },
  {
   "cell_type": "code",
   "execution_count": null,
   "id": "545057a9",
   "metadata": {},
   "outputs": [],
   "source": []
  }
 ],
 "metadata": {
  "kernelspec": {
   "display_name": "Python [conda env:miri] *",
   "language": "python",
   "name": "conda-env-miri-py"
  },
  "language_info": {
   "codemirror_mode": {
    "name": "ipython",
    "version": 3
   },
   "file_extension": ".py",
   "mimetype": "text/x-python",
   "name": "python",
   "nbconvert_exporter": "python",
   "pygments_lexer": "ipython3",
   "version": "3.8.13"
  }
 },
 "nbformat": 4,
 "nbformat_minor": 5
}
