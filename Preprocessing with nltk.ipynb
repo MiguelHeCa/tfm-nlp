{
 "cells": [
  {
   "cell_type": "markdown",
   "id": "0ce47a64",
   "metadata": {},
   "source": [
    "# Converting parsers"
   ]
  },
  {
   "cell_type": "code",
   "execution_count": 51,
   "id": "6bcec8fb",
   "metadata": {},
   "outputs": [],
   "source": [
    "# import re\n",
    "\n",
    "import nltk\n",
    "import pandas as pd\n",
    "\n",
    "from pathlib import Path\n",
    "\n",
    "from nltk import bigrams\n",
    "# from nltk import PorterStemmer as ps\n",
    "# from nltk import SnowballStemmer as ss\n",
    "# from nltk import WordNetLemmatizer as wn\n",
    "from nltk.collocations import BigramCollocationFinder\n",
    "from nltk.collocations import BigramAssocMeasures as bigram_measures\n",
    "from nltk.corpus import wordnet as wn\n",
    "from nltk.probability import FreqDist\n",
    "from nltk.tokenize import word_tokenize, wordpunct_tokenize\n",
    "\n",
    "\n",
    "# nltk.download('punkt')\n",
    "# nltk.download('wordnet')\n",
    "# nltk.download('omw-1.4')"
   ]
  },
  {
   "cell_type": "code",
   "execution_count": 2,
   "id": "5a5614e3",
   "metadata": {},
   "outputs": [
    {
     "name": "stdout",
     "output_type": "stream",
     "text": [
      "CPU times: user 283 ms, sys: 228 ms, total: 511 ms\n",
      "Wall time: 515 ms\n"
     ]
    }
   ],
   "source": [
    "%%time\n",
    "file = Path('input', 'enron_mails.p')\n",
    "df = pd.read_pickle(file)"
   ]
  },
  {
   "cell_type": "code",
   "execution_count": 3,
   "id": "59fb7e14",
   "metadata": {},
   "outputs": [],
   "source": [
    "def get_punct_tokens(text):\n",
    "    tokens = wordpunct_tokenize(text)\n",
    "    \n",
    "    return tokens\n",
    "\n",
    "\n",
    "def get_tokens(text):\n",
    "    tokens = word_tokenize(text)\n",
    "    \n",
    "    return tokens\n",
    "\n",
    "\n",
    "def get_bigrams(text):\n",
    "    bigram = bigrams(text)\n",
    "    \n",
    "    return list(bigram)\n",
    "\n",
    "\n",
    "def get_freqs(text):\n",
    "    freq_dist = FreqDist(word.lower() for word in text)\n",
    "    \n",
    "    return freq_dist\n",
    "\n",
    "\n",
    "def save_data(column):\n",
    "    data_path = Path('output', f'email_nltk_{column}.pkl')\n",
    "    if data_path.is_file():\n",
    "        print('already saved')\n",
    "    else:\n",
    "        print(f'saving {column} ...')\n",
    "        df.loc[:,['id', column]].to_pickle(data_path)"
   ]
  },
  {
   "cell_type": "markdown",
   "id": "e97f4c18",
   "metadata": {},
   "source": [
    "## Wordpunct_tokenize"
   ]
  },
  {
   "cell_type": "code",
   "execution_count": 4,
   "id": "d8bbd550",
   "metadata": {},
   "outputs": [
    {
     "name": "stdout",
     "output_type": "stream",
     "text": [
      "CPU times: user 29.1 s, sys: 1.17 s, total: 30.3 s\n",
      "Wall time: 30.4 s\n"
     ]
    }
   ],
   "source": [
    "%%time\n",
    "df['tkp'] = df['text'].apply(get_punct_tokens)"
   ]
  },
  {
   "cell_type": "markdown",
   "id": "d9a8c53c",
   "metadata": {},
   "source": [
    "## word_tokenize"
   ]
  },
  {
   "cell_type": "code",
   "execution_count": 6,
   "id": "29ce302b",
   "metadata": {},
   "outputs": [
    {
     "name": "stdout",
     "output_type": "stream",
     "text": [
      "CPU times: user 6min 33s, sys: 3.63 s, total: 6min 37s\n",
      "Wall time: 6min 39s\n"
     ]
    }
   ],
   "source": [
    "%%time\n",
    "df['tkn'] = df['text'].apply(get_tokens)"
   ]
  },
  {
   "cell_type": "markdown",
   "id": "da47a7fe",
   "metadata": {},
   "source": [
    "## collocations and bigrams"
   ]
  },
  {
   "cell_type": "code",
   "execution_count": 5,
   "id": "d898afc3",
   "metadata": {},
   "outputs": [
    {
     "name": "stdout",
     "output_type": "stream",
     "text": [
      "CPU times: user 56.3 s, sys: 1.34 s, total: 57.7 s\n",
      "Wall time: 58.1 s\n"
     ]
    }
   ],
   "source": [
    "%%time\n",
    "df['fq_tkp'] = df['tkp'].apply(get_freqs)"
   ]
  },
  {
   "cell_type": "code",
   "execution_count": 7,
   "id": "4a86c180",
   "metadata": {},
   "outputs": [
    {
     "name": "stdout",
     "output_type": "stream",
     "text": [
      "CPU times: user 50.4 s, sys: 1.47 s, total: 51.9 s\n",
      "Wall time: 52.2 s\n"
     ]
    }
   ],
   "source": [
    "%%time\n",
    "df['fq_tkn'] = df['tkn'].apply(get_freqs)"
   ]
  },
  {
   "cell_type": "code",
   "execution_count": 8,
   "id": "30c1a6a5",
   "metadata": {},
   "outputs": [
    {
     "name": "stdout",
     "output_type": "stream",
     "text": [
      "CPU times: user 15.4 s, sys: 4.38 s, total: 19.8 s\n",
      "Wall time: 20.5 s\n"
     ]
    }
   ],
   "source": [
    "%%time\n",
    "df['bg_tkp'] = df['tkp'].apply(get_bigrams)"
   ]
  },
  {
   "cell_type": "code",
   "execution_count": 9,
   "id": "a10b0ec5",
   "metadata": {},
   "outputs": [
    {
     "name": "stdout",
     "output_type": "stream",
     "text": [
      "CPU times: user 19 s, sys: 18 s, total: 37.1 s\n",
      "Wall time: 42 s\n"
     ]
    }
   ],
   "source": [
    "%%time\n",
    "df['bg_tkn'] = df['tkn'].apply(get_bigrams)"
   ]
  },
  {
   "cell_type": "code",
   "execution_count": 10,
   "id": "da4c4015",
   "metadata": {},
   "outputs": [
    {
     "name": "stdout",
     "output_type": "stream",
     "text": [
      "CPU times: user 1min 5s, sys: 1min, total: 2min 5s\n",
      "Wall time: 2min 28s\n"
     ]
    }
   ],
   "source": [
    "%%time\n",
    "df['fq_bg_tkp'] = df['bg_tkp'].apply(FreqDist)"
   ]
  },
  {
   "cell_type": "code",
   "execution_count": 11,
   "id": "903438e1",
   "metadata": {},
   "outputs": [
    {
     "name": "stdout",
     "output_type": "stream",
     "text": [
      "CPU times: user 46.7 s, sys: 8.31 s, total: 55 s\n",
      "Wall time: 1min\n"
     ]
    }
   ],
   "source": [
    "%%time\n",
    "df['fq_bg_tkn'] = df['bg_tkn'].apply(FreqDist)"
   ]
  },
  {
   "cell_type": "code",
   "execution_count": 31,
   "id": "60bab53c",
   "metadata": {},
   "outputs": [
    {
     "name": "stdout",
     "output_type": "stream",
     "text": [
      "CPU times: user 36.2 s, sys: 1min 44s, total: 2min 20s\n",
      "Wall time: 3min 6s\n"
     ]
    }
   ],
   "source": [
    "%%time\n",
    "df['cl_tkp'] = df.apply(lambda row: BigramCollocationFinder(row.fq_tkp, row.fq_bg_tkp), axis=1)"
   ]
  },
  {
   "cell_type": "code",
   "execution_count": 42,
   "id": "b29df15b",
   "metadata": {},
   "outputs": [
    {
     "name": "stdout",
     "output_type": "stream",
     "text": [
      "CPU times: user 32.1 s, sys: 1min 17s, total: 1min 49s\n",
      "Wall time: 2min 13s\n"
     ]
    }
   ],
   "source": [
    "%%time\n",
    "df['cl_tkn'] = df.apply(lambda row: BigramCollocationFinder(row.fq_tkn, row.fq_bg_tkn), axis=1)"
   ]
  },
  {
   "cell_type": "code",
   "execution_count": null,
   "id": "428b8a04",
   "metadata": {},
   "outputs": [],
   "source": [
    "df.drop(columns=['fq_tkp',\n",
    "                 'fq_tkn',\n",
    "                 'bg_tkp',\n",
    "                 'bg_tkn',\n",
    "                 'fq_bg_tkp',\n",
    "                 'fq_bg_tkn',\n",
    "                 'cl_tkp',\n",
    "                 'cl_tkn'\n",
    "                ],\n",
    "        inplace=True)"
   ]
  },
  {
   "cell_type": "markdown",
   "id": "adef22f7",
   "metadata": {},
   "source": [
    "## Lemmas"
   ]
  },
  {
   "cell_type": "code",
   "execution_count": 53,
   "id": "91b9fdfc",
   "metadata": {},
   "outputs": [],
   "source": [
    "wn = nltk.WordNetLemmatizer()"
   ]
  },
  {
   "cell_type": "code",
   "execution_count": 54,
   "id": "16767bd0",
   "metadata": {},
   "outputs": [
    {
     "name": "stdout",
     "output_type": "stream",
     "text": [
      "CPU times: user 4min 38s, sys: 1min 38s, total: 6min 17s\n",
      "Wall time: 6min 54s\n"
     ]
    }
   ],
   "source": [
    "%%time\n",
    "df['lm_wn_tkp'] = df.apply(lambda row: [wn.lemmatize(word) for word in row.tkp], axis=1)"
   ]
  },
  {
   "cell_type": "code",
   "execution_count": 55,
   "id": "5b80205a",
   "metadata": {},
   "outputs": [
    {
     "name": "stdout",
     "output_type": "stream",
     "text": [
      "CPU times: user 3min 51s, sys: 7.94 s, total: 3min 59s\n",
      "Wall time: 4min 4s\n"
     ]
    }
   ],
   "source": [
    "%%time\n",
    "df['lm_wn_tkn'] = df.apply(lambda row: [wn.lemmatize(word) for word in row.tkn], axis=1)"
   ]
  },
  {
   "cell_type": "code",
   "execution_count": 56,
   "id": "24649533",
   "metadata": {},
   "outputs": [
    {
     "name": "stdout",
     "output_type": "stream",
     "text": [
      "CPU times: user 38.6 s, sys: 1.27 s, total: 39.9 s\n",
      "Wall time: 41.7 s\n"
     ]
    }
   ],
   "source": [
    "%%time\n",
    "df['fq_lm_wn_tkp'] = df['lm_wn_tkp'].apply(FreqDist)"
   ]
  },
  {
   "cell_type": "code",
   "execution_count": 57,
   "id": "aa992ed7",
   "metadata": {},
   "outputs": [
    {
     "name": "stdout",
     "output_type": "stream",
     "text": [
      "CPU times: user 1min 2s, sys: 2min 9s, total: 3min 12s\n",
      "Wall time: 4min 1s\n"
     ]
    }
   ],
   "source": [
    "%%time\n",
    "df['fq_lm_wn_tkn'] = df['lm_wn_tkn'].apply(FreqDist)"
   ]
  },
  {
   "cell_type": "code",
   "execution_count": null,
   "id": "fb02a54f",
   "metadata": {},
   "outputs": [],
   "source": [
    "df.drop(columns=['lm_wn_tkp',\n",
    "                 'lm_wn_tkn',\n",
    "                 'fq_lm_wn_tkp',\n",
    "                 'fq_lm_wn_tkn'\n",
    "                ],\n",
    "        inplace=True)"
   ]
  },
  {
   "cell_type": "markdown",
   "id": "f1d1626f",
   "metadata": {},
   "source": [
    "## Stems"
   ]
  },
  {
   "cell_type": "code",
   "execution_count": 58,
   "id": "b7a374dd",
   "metadata": {},
   "outputs": [],
   "source": [
    "ps = nltk.PorterStemmer()\n",
    "ss = nltk.SnowballStemmer(language = 'english')"
   ]
  },
  {
   "cell_type": "code",
   "execution_count": 59,
   "id": "cdcb3d4c",
   "metadata": {},
   "outputs": [
    {
     "name": "stdout",
     "output_type": "stream",
     "text": [
      "CPU times: user 14min 39s, sys: 8.81 s, total: 14min 47s\n",
      "Wall time: 14min 52s\n"
     ]
    }
   ],
   "source": [
    "%%time\n",
    "df['st_ps_tkp'] = df.apply(lambda row: [ps.stem(word) for word in row.tkp], axis=1)"
   ]
  },
  {
   "cell_type": "code",
   "execution_count": 60,
   "id": "2882baae",
   "metadata": {},
   "outputs": [
    {
     "name": "stdout",
     "output_type": "stream",
     "text": [
      "CPU times: user 14min 29s, sys: 16.3 s, total: 14min 46s\n",
      "Wall time: 15min 1s\n"
     ]
    }
   ],
   "source": [
    "%%time\n",
    "df['st_ps_tkn'] = df.apply(lambda row: [ps.stem(word) for word in row.tkn], axis=1)"
   ]
  },
  {
   "cell_type": "code",
   "execution_count": 61,
   "id": "4826ffa5",
   "metadata": {},
   "outputs": [
    {
     "name": "stdout",
     "output_type": "stream",
     "text": [
      "CPU times: user 44.4 s, sys: 6.07 s, total: 50.5 s\n",
      "Wall time: 54 s\n"
     ]
    }
   ],
   "source": [
    "%%time\n",
    "df['fq_st_ps_tkp'] = df['st_ps_tkp'].apply(FreqDist)"
   ]
  },
  {
   "cell_type": "code",
   "execution_count": 62,
   "id": "362a4fbc",
   "metadata": {},
   "outputs": [
    {
     "name": "stdout",
     "output_type": "stream",
     "text": [
      "CPU times: user 1min 20s, sys: 4min, total: 5min 20s\n",
      "Wall time: 7min 3s\n"
     ]
    }
   ],
   "source": [
    "%%time\n",
    "df['fq_st_ps_tkn'] = df['st_ps_tkn'].apply(FreqDist)"
   ]
  },
  {
   "cell_type": "code",
   "execution_count": 63,
   "id": "f3dcb3c6",
   "metadata": {},
   "outputs": [
    {
     "name": "stdout",
     "output_type": "stream",
     "text": [
      "CPU times: user 10min 49s, sys: 15.1 s, total: 11min 5s\n",
      "Wall time: 11min 16s\n"
     ]
    }
   ],
   "source": [
    "%%time\n",
    "df['st_ss_tkp'] = df.apply(lambda row: [ss.stem(word) for word in row.tkp], axis=1)"
   ]
  },
  {
   "cell_type": "code",
   "execution_count": 64,
   "id": "d80a7946",
   "metadata": {},
   "outputs": [
    {
     "name": "stdout",
     "output_type": "stream",
     "text": [
      "CPU times: user 10min 12s, sys: 12.3 s, total: 10min 25s\n",
      "Wall time: 10min 35s\n"
     ]
    }
   ],
   "source": [
    "%%time\n",
    "df['st_ss_tkn'] = df.apply(lambda row: [ss.stem(word) for word in row.tkn], axis=1)"
   ]
  },
  {
   "cell_type": "code",
   "execution_count": 65,
   "id": "7d1e6f39",
   "metadata": {},
   "outputs": [
    {
     "name": "stdout",
     "output_type": "stream",
     "text": [
      "CPU times: user 40.2 s, sys: 2.85 s, total: 43 s\n",
      "Wall time: 44.7 s\n"
     ]
    }
   ],
   "source": [
    "%%time\n",
    "df['fq_st_ss_tkp'] = df['st_ss_tkp'].apply(FreqDist)"
   ]
  },
  {
   "cell_type": "code",
   "execution_count": 66,
   "id": "f41fe341",
   "metadata": {},
   "outputs": [
    {
     "name": "stdout",
     "output_type": "stream",
     "text": [
      "CPU times: user 34.3 s, sys: 1.44 s, total: 35.8 s\n",
      "Wall time: 37 s\n"
     ]
    }
   ],
   "source": [
    "%%time\n",
    "df['fq_st_ss_tkn'] = df['st_ss_tkn'].apply(FreqDist)"
   ]
  },
  {
   "cell_type": "code",
   "execution_count": null,
   "id": "e81c867c",
   "metadata": {},
   "outputs": [],
   "source": [
    "df.drop(columns=['st_ps_tkp',\n",
    "                 'st_ps_tkn',\n",
    "                 'fq_st_ps_tkp',\n",
    "                 'fq_st_ps_tkn',\n",
    "                 'st_ss_tkp',\n",
    "                 'st_ss_tkn',\n",
    "                 'fq_st_ss_tkp',\n",
    "                 'fq_st_ss_tkn'],\n",
    "        inplace=True)"
   ]
  },
  {
   "cell_type": "markdown",
   "id": "27b348df",
   "metadata": {},
   "source": [
    "## Export only "
   ]
  },
  {
   "cell_type": "code",
   "execution_count": 67,
   "id": "ef0e372d",
   "metadata": {},
   "outputs": [
    {
     "name": "stdout",
     "output_type": "stream",
     "text": [
      "saving tkp ...\n",
      "saving fq_tkp ...\n",
      "saving tkn ...\n",
      "saving fq_tkn ...\n",
      "saving bg_tkp ...\n",
      "saving bg_tkn ...\n",
      "saving fq_bg_tkp ...\n",
      "saving fq_bg_tkn ...\n",
      "saving cl_tkp ...\n",
      "saving cl_tkn ...\n",
      "saving lm_wn_tkp ...\n",
      "saving lm_wn_tkn ...\n",
      "saving fq_lm_wn_tkp ...\n",
      "saving fq_lm_wn_tkn ...\n",
      "saving st_ps_tkp ...\n",
      "saving st_ps_tkn ...\n",
      "saving fq_st_ps_tkp ...\n",
      "saving fq_st_ps_tkn ...\n",
      "saving st_ss_tkp ...\n",
      "saving st_ss_tkn ...\n",
      "saving fq_st_ss_tkp ...\n",
      "saving fq_st_ss_tkn ...\n"
     ]
    }
   ],
   "source": [
    "for column in df.columns[2:]:\n",
    "    data_path = Path('output', f'email_nltk_{column}.pkl')\n",
    "    if data_path.is_file():\n",
    "        print('already saved')\n",
    "    else:\n",
    "        print(f'saving {column} ...')\n",
    "        df.loc[:,['id', column]].to_pickle(data_path)"
   ]
  },
  {
   "cell_type": "code",
   "execution_count": null,
   "id": "c66cd594",
   "metadata": {},
   "outputs": [],
   "source": []
  }
 ],
 "metadata": {
  "kernelspec": {
   "display_name": "Python [conda env:miri] *",
   "language": "python",
   "name": "conda-env-miri-py"
  },
  "language_info": {
   "codemirror_mode": {
    "name": "ipython",
    "version": 3
   },
   "file_extension": ".py",
   "mimetype": "text/x-python",
   "name": "python",
   "nbconvert_exporter": "python",
   "pygments_lexer": "ipython3",
   "version": "3.8.13"
  }
 },
 "nbformat": 4,
 "nbformat_minor": 5
}
