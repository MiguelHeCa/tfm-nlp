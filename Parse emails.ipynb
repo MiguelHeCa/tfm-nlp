{
 "cells": [
  {
   "cell_type": "markdown",
   "id": "94225048",
   "metadata": {},
   "source": [
    "# Using csv enron mails\n",
    "\n",
    "[Kaggle dataset](https://www.kaggle.com/ardacandra/enron-email-poi-classifier)\n"
   ]
  },
  {
   "cell_type": "code",
   "execution_count": 89,
   "id": "9d382473",
   "metadata": {},
   "outputs": [],
   "source": [
    "import email\n",
    "import re\n",
    "\n",
    "import numpy as np\n",
    "import pandas as pd\n",
    "\n",
    "\n",
    "from pathlib import Path\n",
    "from email_reply_parser import EmailReplyParser"
   ]
  },
  {
   "cell_type": "code",
   "execution_count": 37,
   "id": "42d1c460",
   "metadata": {},
   "outputs": [],
   "source": [
    "df = pd.read_csv(Path('..','emails.csv'), chunksize=10000)"
   ]
  },
  {
   "cell_type": "code",
   "execution_count": 40,
   "id": "bd174062",
   "metadata": {},
   "outputs": [],
   "source": [
    "df_chunk = next(df)"
   ]
  },
  {
   "cell_type": "code",
   "execution_count": 42,
   "id": "271c0d74",
   "metadata": {},
   "outputs": [
    {
     "data": {
      "text/plain": [
       "0          allen-p/_sent_mail/1.\n",
       "1         allen-p/_sent_mail/10.\n",
       "2        allen-p/_sent_mail/100.\n",
       "3       allen-p/_sent_mail/1000.\n",
       "4       allen-p/_sent_mail/1001.\n",
       "                  ...           \n",
       "9995     bass-e/_sent_mail/1047.\n",
       "9996     bass-e/_sent_mail/1048.\n",
       "9997     bass-e/_sent_mail/1049.\n",
       "9998      bass-e/_sent_mail/105.\n",
       "9999     bass-e/_sent_mail/1050.\n",
       "Name: file, Length: 10000, dtype: object"
      ]
     },
     "execution_count": 42,
     "metadata": {},
     "output_type": "execute_result"
    }
   ],
   "source": [
    "df_chunk.loc[:,'file']"
   ]
  },
  {
   "cell_type": "code",
   "execution_count": 73,
   "id": "94ff834c",
   "metadata": {},
   "outputs": [
    {
     "data": {
      "text/plain": [
       "567    Message-ID: <18435268.1075855378308.JavaMail.e...\n",
       "Name: message, dtype: object"
      ]
     },
     "execution_count": 73,
     "metadata": {},
     "output_type": "execute_result"
    }
   ],
   "source": [
    "df_chunk[df_chunk['file'] == 'allen-p/_sent_mail/7.'].message"
   ]
  },
  {
   "cell_type": "code",
   "execution_count": 50,
   "id": "f01f9b4c",
   "metadata": {},
   "outputs": [
    {
     "name": "stdout",
     "output_type": "stream",
     "text": [
      "Message-ID: <18435268.1075855378308.JavaMail.evans@thyme>\n",
      "Date: Mon, 7 May 2001 12:28:00 -0700 (PDT)\n",
      "From: phillip.allen@enron.com\n",
      "To: matthew.lenhart@enron.com, jay.reitmeyer@enron.com, matt.smith@enron.com\n",
      "Subject: Re: Western Wholesale Activities - Gas & Power Conf. Call\n",
      " Privileged & Confidential Communication Attorney-Client Communication and\n",
      " Attorney Work Product Privileges Asserted\n",
      "Mime-Version: 1.0\n",
      "Content-Type: text/plain; charset=us-ascii\n",
      "Content-Transfer-Encoding: 7bit\n",
      "X-From: Phillip K Allen\n",
      "X-To: Matthew Lenhart <Matthew Lenhart/HOU/ECT@ECT>, Jay Reitmeyer <Jay Reitmeyer/HOU/ECT@ECT>, Matt Smith <Matt Smith/Enron@EnronXGate>\n",
      "X-cc: \n",
      "X-bcc: \n",
      "X-Folder: \\Phillip_Allen_Jan2002_1\\Allen, Phillip K.\\'Sent Mail\n",
      "X-Origin: Allen-P\n",
      "X-FileName: pallen (Non-Privileged).pst\n",
      "\n",
      "Can you guys coordinate to make sure someone listens to this conference call each week.  Tara from the fundamental group was recording these calls when they happened every day.\n",
      "\n",
      "Phillip\n",
      "---------------------- Forwarded by Phillip K Allen/HOU/ECT on 05/07/2001 07:26 AM ---------------------------\n",
      "\n",
      "\n",
      "James D Steffes@ENRON\n",
      "05/03/2001 05:44 AM\n",
      "To:\tPhillip K Allen/HOU/ECT@ECT\n",
      "cc:\t \n",
      "Subject:\tRe: Western Wholesale Activities - Gas & Power Conf. Call\n",
      "Privileged & Confidential Communication\n",
      "Attorney-Client Communication and Attorney Work Product Privileges Asserted\n",
      "\n",
      "Please forward to anyone on your team that wants updates on Western wholesale matters (should also give you an opportunity to raise state matters if you want to discuss).\n",
      "\n",
      "Jim\n",
      "---------------------- Forwarded by James D Steffes/NA/Enron on 05/03/2001 07:42 AM ---------------------------\n",
      "\n",
      "\n",
      "Ray Alvarez\n",
      "05/02/2001 05:40 PM\n",
      "To:\tSteve Walton/HOU/ECT@ECT, Susan J Mara/NA/Enron@ENRON, Alan Comnes/PDX/ECT@ECT, Leslie Lawner/NA/Enron@Enron, Rebecca W Cantrell/HOU/ECT@ECT, Donna Fulton/Corp/Enron@ENRON, Jeff Dasovich/NA/Enron@Enron, Christi L Nicolay/HOU/ECT@ECT, James D Steffes/NA/Enron@Enron, jalexander@gibbs-bruns.com, Phillip K Allen/HOU/ECT@ECT\n",
      "cc:\tLinda J Noske/HOU/ECT@ECT \n",
      "\n",
      "Subject:\tRe: Western Wholesale Activities - Gas & Power Conf. Call\n",
      "Privileged & Confidential Communication\n",
      "Attorney-Client Communication and Attorney Work Product Privileges Asserted\n",
      "\n",
      "Date:\t\t\tEvery Thursday\n",
      "Time: \t\t\t1:00 pm Pacific, 3:00 pm Central, and 4:00 pm Eastern time,\n",
      " Number: \t\t1-888-271-0949, \n",
      " Host Code:\t\t661877, (for Jim only),\n",
      " Participant Code:\t936022, (for everyone else),\n",
      "\n",
      "Attached is the table of the on-going FERC issues and proceedings updated for use on tomorrow's conference call.  It is available to all team members on the O drive. Please feel free to revise/add to/ update this table as appropriate.\n",
      "\n",
      "Proposed agenda for tomorrow:\n",
      "\n",
      "Power-  Discussion of FERC market monitoring and mitigation order in EL00-95-12 and review of upcoming filings\n",
      "Gas-\tResponse to subpoenas of SoCal Edison in RP00-241 and upcoming items\n",
      "Misc.\n",
      "\n",
      "I will be unable to participate in the call tomorrow as I will be attending the Senate Energy and Resource Committee Hearing on the elements of the FERC market monitoring and mitigation order.\n",
      "\n",
      " \n",
      "\n",
      "\n",
      "\n",
      "\n"
     ]
    }
   ],
   "source": [
    "print(df_chunk.loc[567,'message'])"
   ]
  },
  {
   "cell_type": "code",
   "execution_count": 187,
   "id": "aa98a12c",
   "metadata": {},
   "outputs": [],
   "source": [
    "def extract_text(message):\n",
    "    msg = email.message_from_string(message)\n",
    "    msg = msg.get_payload()\n",
    "    return EmailReplyParser.parse_reply(msg)"
   ]
  },
  {
   "cell_type": "code",
   "execution_count": 188,
   "id": "cdabb4b9",
   "metadata": {},
   "outputs": [],
   "source": [
    "df_chunk['text'] = df_chunk['message'].apply(extract_text)"
   ]
  },
  {
   "cell_type": "code",
   "execution_count": 190,
   "id": "b4fc6ebc",
   "metadata": {},
   "outputs": [
    {
     "data": {
      "text/plain": [
       "'Can you guys coordinate to make sure someone listens to this conference call each week.  Tara from the fundamental group was recording these calls when they happened every day.\\n\\nPhillip'"
      ]
     },
     "execution_count": 190,
     "metadata": {},
     "output_type": "execute_result"
    }
   ],
   "source": [
    "df_chunk.loc[567,'text']"
   ]
  },
  {
   "cell_type": "code",
   "execution_count": 160,
   "id": "dc627581",
   "metadata": {},
   "outputs": [],
   "source": [
    "msg = email.message_from_string(df_chunk.loc[567,'message'])\n",
    "txt = msg.get_payload()\n",
    "parsed = EmailReplyParser.parse_reply(txt)"
   ]
  },
  {
   "cell_type": "code",
   "execution_count": 161,
   "id": "fd1693ac",
   "metadata": {
    "scrolled": false
   },
   "outputs": [
    {
     "data": {
      "text/plain": [
       "[('Message-ID', '<18435268.1075855378308.JavaMail.evans@thyme>'),\n",
       " ('Date', 'Mon, 7 May 2001 12:28:00 -0700 (PDT)'),\n",
       " ('From', 'phillip.allen@enron.com'),\n",
       " ('To',\n",
       "  'matthew.lenhart@enron.com, jay.reitmeyer@enron.com, matt.smith@enron.com'),\n",
       " ('Subject',\n",
       "  'Re: Western Wholesale Activities - Gas & Power Conf. Call\\n Privileged & Confidential Communication Attorney-Client Communication and\\n Attorney Work Product Privileges Asserted'),\n",
       " ('Mime-Version', '1.0'),\n",
       " ('Content-Type', 'text/plain; charset=us-ascii'),\n",
       " ('Content-Transfer-Encoding', '7bit'),\n",
       " ('X-From', 'Phillip K Allen'),\n",
       " ('X-To',\n",
       "  'Matthew Lenhart <Matthew Lenhart/HOU/ECT@ECT>, Jay Reitmeyer <Jay Reitmeyer/HOU/ECT@ECT>, Matt Smith <Matt Smith/Enron@EnronXGate>'),\n",
       " ('X-cc', ''),\n",
       " ('X-bcc', ''),\n",
       " ('X-Folder', \"\\\\Phillip_Allen_Jan2002_1\\\\Allen, Phillip K.\\\\'Sent Mail\"),\n",
       " ('X-Origin', 'Allen-P'),\n",
       " ('X-FileName', 'pallen (Non-Privileged).pst')]"
      ]
     },
     "execution_count": 161,
     "metadata": {},
     "output_type": "execute_result"
    }
   ],
   "source": [
    "msg.items()"
   ]
  },
  {
   "cell_type": "code",
   "execution_count": 162,
   "id": "8f519f32",
   "metadata": {},
   "outputs": [
    {
     "data": {
      "text/plain": [
       "\"Can you guys coordinate to make sure someone listens to this conference call each week.  Tara from the fundamental group was recording these calls when they happened every day.\\n\\nPhillip\\n---------------------- Forwarded by Phillip K Allen/HOU/ECT on 05/07/2001 07:26 AM ---------------------------\\n\\n\\nJames D Steffes@ENRON\\n05/03/2001 05:44 AM\\nTo:\\tPhillip K Allen/HOU/ECT@ECT\\ncc:\\t \\nSubject:\\tRe: Western Wholesale Activities - Gas & Power Conf. Call\\nPrivileged & Confidential Communication\\nAttorney-Client Communication and Attorney Work Product Privileges Asserted\\n\\nPlease forward to anyone on your team that wants updates on Western wholesale matters (should also give you an opportunity to raise state matters if you want to discuss).\\n\\nJim\\n---------------------- Forwarded by James D Steffes/NA/Enron on 05/03/2001 07:42 AM ---------------------------\\n\\n\\nRay Alvarez\\n05/02/2001 05:40 PM\\nTo:\\tSteve Walton/HOU/ECT@ECT, Susan J Mara/NA/Enron@ENRON, Alan Comnes/PDX/ECT@ECT, Leslie Lawner/NA/Enron@Enron, Rebecca W Cantrell/HOU/ECT@ECT, Donna Fulton/Corp/Enron@ENRON, Jeff Dasovich/NA/Enron@Enron, Christi L Nicolay/HOU/ECT@ECT, James D Steffes/NA/Enron@Enron, jalexander@gibbs-bruns.com, Phillip K Allen/HOU/ECT@ECT\\ncc:\\tLinda J Noske/HOU/ECT@ECT \\n\\nSubject:\\tRe: Western Wholesale Activities - Gas & Power Conf. Call\\nPrivileged & Confidential Communication\\nAttorney-Client Communication and Attorney Work Product Privileges Asserted\\n\\nDate:\\t\\t\\tEvery Thursday\\nTime: \\t\\t\\t1:00 pm Pacific, 3:00 pm Central, and 4:00 pm Eastern time,\\n Number: \\t\\t1-888-271-0949, \\n Host Code:\\t\\t661877, (for Jim only),\\n Participant Code:\\t936022, (for everyone else),\\n\\nAttached is the table of the on-going FERC issues and proceedings updated for use on tomorrow's conference call.  It is available to all team members on the O drive. Please feel free to revise/add to/ update this table as appropriate.\\n\\nProposed agenda for tomorrow:\\n\\nPower-  Discussion of FERC market monitoring and mitigation order in EL00-95-12 and review of upcoming filings\\nGas-\\tResponse to subpoenas of SoCal Edison in RP00-241 and upcoming items\\nMisc.\\n\\nI will be unable to participate in the call tomorrow as I will be attending the Senate Energy and Resource Committee Hearing on the elements of the FERC market monitoring and mitigation order.\\n\\n \\n\\n\\n\\n\""
      ]
     },
     "execution_count": 162,
     "metadata": {},
     "output_type": "execute_result"
    }
   ],
   "source": [
    "txt"
   ]
  },
  {
   "cell_type": "code",
   "execution_count": 182,
   "id": "4c7888a4",
   "metadata": {},
   "outputs": [
    {
     "data": {
      "text/plain": [
       "'Can you guys coordinate to make sure someone listens to this conference call each week.  Tara from the fundamental group was recording these calls when they happened every day.\\n\\nPhillip'"
      ]
     },
     "execution_count": 182,
     "metadata": {},
     "output_type": "execute_result"
    }
   ],
   "source": [
    "parsed"
   ]
  },
  {
   "cell_type": "code",
   "execution_count": 84,
   "id": "78762bf8",
   "metadata": {},
   "outputs": [],
   "source": []
  },
  {
   "cell_type": "code",
   "execution_count": 52,
   "id": "117e2f3a",
   "metadata": {},
   "outputs": [],
   "source": []
  }
 ],
 "metadata": {
  "kernelspec": {
   "display_name": "Python [conda env:miri] *",
   "language": "python",
   "name": "conda-env-miri-py"
  },
  "language_info": {
   "codemirror_mode": {
    "name": "ipython",
    "version": 3
   },
   "file_extension": ".py",
   "mimetype": "text/x-python",
   "name": "python",
   "nbconvert_exporter": "python",
   "pygments_lexer": "ipython3",
   "version": "3.8.13"
  }
 },
 "nbformat": 4,
 "nbformat_minor": 5
}
